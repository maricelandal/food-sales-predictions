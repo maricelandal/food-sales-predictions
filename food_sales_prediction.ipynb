{
  "nbformat": 4,
  "nbformat_minor": 0,
  "metadata": {
    "colab": {
      "provenance": [],
      "gpuType": "T4",
      "mount_file_id": "1pCPNWovvvQRxptBrMMhfKDySxm-NaYGL",
      "authorship_tag": "ABX9TyNxsbLbm9euRmtz3PYj+zGT",
      "include_colab_link": true
    },
    "kernelspec": {
      "name": "python3",
      "display_name": "Python 3"
    },
    "language_info": {
      "name": "python"
    },
    "accelerator": "GPU"
  },
  "cells": [
    {
      "cell_type": "markdown",
      "metadata": {
        "id": "view-in-github",
        "colab_type": "text"
      },
      "source": [
        "<a href=\"https://colab.research.google.com/github/maricelandal/food-sales-predictions/blob/main/food_sales_prediction.ipynb\" target=\"_parent\"><img src=\"https://colab.research.google.com/assets/colab-badge.svg\" alt=\"Open In Colab\"/></a>"
      ]
    },
    {
      "cell_type": "markdown",
      "source": [
        "# Mount Data"
      ],
      "metadata": {
        "id": "qLqHvpa8r_MM"
      }
    },
    {
      "cell_type": "code",
      "source": [
        "# Mount our Drive\n",
        "from google.colab import drive\n",
        "drive.mount('/content/drive')"
      ],
      "metadata": {
        "colab": {
          "base_uri": "https://localhost:8080/"
        },
        "id": "twC2ttMVtZ66",
        "outputId": "db400836-9f7c-4a4c-f8d8-1f9c9eced2d8"
      },
      "execution_count": 1,
      "outputs": [
        {
          "output_type": "stream",
          "name": "stdout",
          "text": [
            "Drive already mounted at /content/drive; to attempt to forcibly remount, call drive.mount(\"/content/drive\", force_remount=True).\n"
          ]
        }
      ]
    },
    {
      "cell_type": "markdown",
      "source": [
        "# Import Libraries"
      ],
      "metadata": {
        "id": "-kriTtQTu8we"
      }
    },
    {
      "cell_type": "code",
      "source": [
        "# Imports\n",
        "import numpy as np\n",
        "import pandas as pd\n",
        "\n",
        "# pre-processing functions\n",
        "from sklearn.model_selection import train_test_split\n",
        "from sklearn.preprocessing import StandardScaler, OneHotEncoder, OrdinalEncoder\n",
        "from sklearn.compose import make_column_selector, make_column_transformer\n",
        "from sklearn.pipeline import make_pipeline\n",
        "from sklearn.impute import SimpleImputer\n",
        "\n",
        "# models\n",
        "from sklearn.dummy import DummyRegressor # this is for the base model which we will compare our LR model to\n",
        "from sklearn.linear_model import LinearRegression\n",
        "from sklearn.tree import DecisionTreeRegressor\n",
        "\n",
        "# metrics\n",
        "from sklearn.metrics import mean_absolute_error, mean_squared_error, r2_score\n",
        "\n",
        "from sklearn import set_config\n",
        "set_config(display='diagram')\n",
        "\n"
      ],
      "metadata": {
        "id": "ye1VDcvbu7wq"
      },
      "execution_count": 2,
      "outputs": []
    },
    {
      "cell_type": "markdown",
      "source": [
        "# Load Data"
      ],
      "metadata": {
        "id": "KS97T2WwvVM9"
      }
    },
    {
      "cell_type": "code",
      "source": [
        "# Load Data\n",
        "\n",
        "# file = ('/content/drive/MyDrive/Coding Dojo/Week 1/sales_prediction/sales_predictions_2023.csv')\n",
        "\n",
        "# df = pd.read_csv(file)\n",
        "\n",
        "# # Check first 5 rows\n",
        "\n",
        "# df.head()"
      ],
      "metadata": {
        "id": "aQgxzP_IvaF6"
      },
      "execution_count": 3,
      "outputs": []
    },
    {
      "cell_type": "code",
      "source": [
        "file = '/content/drive/MyDrive/Coding Dojo/Week 1/sales_prediction/sales_predictions_2023.csv'\n",
        "\n",
        "df = pd.read_csv(file, usecols = lambda column: column not in ['Item_Identifier', 'Outlet_Identifier'])\n",
        "df.head()\n",
        "\n",
        "# The purpose of our model is to figure out its relationship to the randomness.\n",
        "# So we exclude 'Item_Identifier', 'Outlet_Identifier' because they are irrelevant columns."
      ],
      "metadata": {
        "colab": {
          "base_uri": "https://localhost:8080/",
          "height": 313
        },
        "id": "UWif9uR7_Z1x",
        "outputId": "092c0a59-44a7-446a-efda-04b9e4bed39c"
      },
      "execution_count": 4,
      "outputs": [
        {
          "output_type": "execute_result",
          "data": {
            "text/plain": [
              "   Item_Weight Item_Fat_Content  Item_Visibility              Item_Type  \\\n",
              "0         9.30          Low Fat         0.016047                  Dairy   \n",
              "1         5.92          Regular         0.019278            Soft Drinks   \n",
              "2        17.50          Low Fat         0.016760                   Meat   \n",
              "3        19.20          Regular         0.000000  Fruits and Vegetables   \n",
              "4         8.93          Low Fat         0.000000              Household   \n",
              "\n",
              "   Item_MRP  Outlet_Establishment_Year Outlet_Size Outlet_Location_Type  \\\n",
              "0  249.8092                       1999      Medium               Tier 1   \n",
              "1   48.2692                       2009      Medium               Tier 3   \n",
              "2  141.6180                       1999      Medium               Tier 1   \n",
              "3  182.0950                       1998         NaN               Tier 3   \n",
              "4   53.8614                       1987        High               Tier 3   \n",
              "\n",
              "         Outlet_Type  Item_Outlet_Sales  \n",
              "0  Supermarket Type1          3735.1380  \n",
              "1  Supermarket Type2           443.4228  \n",
              "2  Supermarket Type1          2097.2700  \n",
              "3      Grocery Store           732.3800  \n",
              "4  Supermarket Type1           994.7052  "
            ],
            "text/html": [
              "\n",
              "  <div id=\"df-3e4ff5c6-abb5-4bba-9fdc-1b791ce3af37\" class=\"colab-df-container\">\n",
              "    <div>\n",
              "<style scoped>\n",
              "    .dataframe tbody tr th:only-of-type {\n",
              "        vertical-align: middle;\n",
              "    }\n",
              "\n",
              "    .dataframe tbody tr th {\n",
              "        vertical-align: top;\n",
              "    }\n",
              "\n",
              "    .dataframe thead th {\n",
              "        text-align: right;\n",
              "    }\n",
              "</style>\n",
              "<table border=\"1\" class=\"dataframe\">\n",
              "  <thead>\n",
              "    <tr style=\"text-align: right;\">\n",
              "      <th></th>\n",
              "      <th>Item_Weight</th>\n",
              "      <th>Item_Fat_Content</th>\n",
              "      <th>Item_Visibility</th>\n",
              "      <th>Item_Type</th>\n",
              "      <th>Item_MRP</th>\n",
              "      <th>Outlet_Establishment_Year</th>\n",
              "      <th>Outlet_Size</th>\n",
              "      <th>Outlet_Location_Type</th>\n",
              "      <th>Outlet_Type</th>\n",
              "      <th>Item_Outlet_Sales</th>\n",
              "    </tr>\n",
              "  </thead>\n",
              "  <tbody>\n",
              "    <tr>\n",
              "      <th>0</th>\n",
              "      <td>9.30</td>\n",
              "      <td>Low Fat</td>\n",
              "      <td>0.016047</td>\n",
              "      <td>Dairy</td>\n",
              "      <td>249.8092</td>\n",
              "      <td>1999</td>\n",
              "      <td>Medium</td>\n",
              "      <td>Tier 1</td>\n",
              "      <td>Supermarket Type1</td>\n",
              "      <td>3735.1380</td>\n",
              "    </tr>\n",
              "    <tr>\n",
              "      <th>1</th>\n",
              "      <td>5.92</td>\n",
              "      <td>Regular</td>\n",
              "      <td>0.019278</td>\n",
              "      <td>Soft Drinks</td>\n",
              "      <td>48.2692</td>\n",
              "      <td>2009</td>\n",
              "      <td>Medium</td>\n",
              "      <td>Tier 3</td>\n",
              "      <td>Supermarket Type2</td>\n",
              "      <td>443.4228</td>\n",
              "    </tr>\n",
              "    <tr>\n",
              "      <th>2</th>\n",
              "      <td>17.50</td>\n",
              "      <td>Low Fat</td>\n",
              "      <td>0.016760</td>\n",
              "      <td>Meat</td>\n",
              "      <td>141.6180</td>\n",
              "      <td>1999</td>\n",
              "      <td>Medium</td>\n",
              "      <td>Tier 1</td>\n",
              "      <td>Supermarket Type1</td>\n",
              "      <td>2097.2700</td>\n",
              "    </tr>\n",
              "    <tr>\n",
              "      <th>3</th>\n",
              "      <td>19.20</td>\n",
              "      <td>Regular</td>\n",
              "      <td>0.000000</td>\n",
              "      <td>Fruits and Vegetables</td>\n",
              "      <td>182.0950</td>\n",
              "      <td>1998</td>\n",
              "      <td>NaN</td>\n",
              "      <td>Tier 3</td>\n",
              "      <td>Grocery Store</td>\n",
              "      <td>732.3800</td>\n",
              "    </tr>\n",
              "    <tr>\n",
              "      <th>4</th>\n",
              "      <td>8.93</td>\n",
              "      <td>Low Fat</td>\n",
              "      <td>0.000000</td>\n",
              "      <td>Household</td>\n",
              "      <td>53.8614</td>\n",
              "      <td>1987</td>\n",
              "      <td>High</td>\n",
              "      <td>Tier 3</td>\n",
              "      <td>Supermarket Type1</td>\n",
              "      <td>994.7052</td>\n",
              "    </tr>\n",
              "  </tbody>\n",
              "</table>\n",
              "</div>\n",
              "    <div class=\"colab-df-buttons\">\n",
              "\n",
              "  <div class=\"colab-df-container\">\n",
              "    <button class=\"colab-df-convert\" onclick=\"convertToInteractive('df-3e4ff5c6-abb5-4bba-9fdc-1b791ce3af37')\"\n",
              "            title=\"Convert this dataframe to an interactive table.\"\n",
              "            style=\"display:none;\">\n",
              "\n",
              "  <svg xmlns=\"http://www.w3.org/2000/svg\" height=\"24px\" viewBox=\"0 -960 960 960\">\n",
              "    <path d=\"M120-120v-720h720v720H120Zm60-500h600v-160H180v160Zm220 220h160v-160H400v160Zm0 220h160v-160H400v160ZM180-400h160v-160H180v160Zm440 0h160v-160H620v160ZM180-180h160v-160H180v160Zm440 0h160v-160H620v160Z\"/>\n",
              "  </svg>\n",
              "    </button>\n",
              "\n",
              "  <style>\n",
              "    .colab-df-container {\n",
              "      display:flex;\n",
              "      gap: 12px;\n",
              "    }\n",
              "\n",
              "    .colab-df-convert {\n",
              "      background-color: #E8F0FE;\n",
              "      border: none;\n",
              "      border-radius: 50%;\n",
              "      cursor: pointer;\n",
              "      display: none;\n",
              "      fill: #1967D2;\n",
              "      height: 32px;\n",
              "      padding: 0 0 0 0;\n",
              "      width: 32px;\n",
              "    }\n",
              "\n",
              "    .colab-df-convert:hover {\n",
              "      background-color: #E2EBFA;\n",
              "      box-shadow: 0px 1px 2px rgba(60, 64, 67, 0.3), 0px 1px 3px 1px rgba(60, 64, 67, 0.15);\n",
              "      fill: #174EA6;\n",
              "    }\n",
              "\n",
              "    .colab-df-buttons div {\n",
              "      margin-bottom: 4px;\n",
              "    }\n",
              "\n",
              "    [theme=dark] .colab-df-convert {\n",
              "      background-color: #3B4455;\n",
              "      fill: #D2E3FC;\n",
              "    }\n",
              "\n",
              "    [theme=dark] .colab-df-convert:hover {\n",
              "      background-color: #434B5C;\n",
              "      box-shadow: 0px 1px 3px 1px rgba(0, 0, 0, 0.15);\n",
              "      filter: drop-shadow(0px 1px 2px rgba(0, 0, 0, 0.3));\n",
              "      fill: #FFFFFF;\n",
              "    }\n",
              "  </style>\n",
              "\n",
              "    <script>\n",
              "      const buttonEl =\n",
              "        document.querySelector('#df-3e4ff5c6-abb5-4bba-9fdc-1b791ce3af37 button.colab-df-convert');\n",
              "      buttonEl.style.display =\n",
              "        google.colab.kernel.accessAllowed ? 'block' : 'none';\n",
              "\n",
              "      async function convertToInteractive(key) {\n",
              "        const element = document.querySelector('#df-3e4ff5c6-abb5-4bba-9fdc-1b791ce3af37');\n",
              "        const dataTable =\n",
              "          await google.colab.kernel.invokeFunction('convertToInteractive',\n",
              "                                                    [key], {});\n",
              "        if (!dataTable) return;\n",
              "\n",
              "        const docLinkHtml = 'Like what you see? Visit the ' +\n",
              "          '<a target=\"_blank\" href=https://colab.research.google.com/notebooks/data_table.ipynb>data table notebook</a>'\n",
              "          + ' to learn more about interactive tables.';\n",
              "        element.innerHTML = '';\n",
              "        dataTable['output_type'] = 'display_data';\n",
              "        await google.colab.output.renderOutput(dataTable, element);\n",
              "        const docLink = document.createElement('div');\n",
              "        docLink.innerHTML = docLinkHtml;\n",
              "        element.appendChild(docLink);\n",
              "      }\n",
              "    </script>\n",
              "  </div>\n",
              "\n",
              "\n",
              "<div id=\"df-100d9cd8-a4b0-4869-8fef-a55a1fd7816f\">\n",
              "  <button class=\"colab-df-quickchart\" onclick=\"quickchart('df-100d9cd8-a4b0-4869-8fef-a55a1fd7816f')\"\n",
              "            title=\"Suggest charts.\"\n",
              "            style=\"display:none;\">\n",
              "\n",
              "<svg xmlns=\"http://www.w3.org/2000/svg\" height=\"24px\"viewBox=\"0 0 24 24\"\n",
              "     width=\"24px\">\n",
              "    <g>\n",
              "        <path d=\"M19 3H5c-1.1 0-2 .9-2 2v14c0 1.1.9 2 2 2h14c1.1 0 2-.9 2-2V5c0-1.1-.9-2-2-2zM9 17H7v-7h2v7zm4 0h-2V7h2v10zm4 0h-2v-4h2v4z\"/>\n",
              "    </g>\n",
              "</svg>\n",
              "  </button>\n",
              "\n",
              "<style>\n",
              "  .colab-df-quickchart {\n",
              "      --bg-color: #E8F0FE;\n",
              "      --fill-color: #1967D2;\n",
              "      --hover-bg-color: #E2EBFA;\n",
              "      --hover-fill-color: #174EA6;\n",
              "      --disabled-fill-color: #AAA;\n",
              "      --disabled-bg-color: #DDD;\n",
              "  }\n",
              "\n",
              "  [theme=dark] .colab-df-quickchart {\n",
              "      --bg-color: #3B4455;\n",
              "      --fill-color: #D2E3FC;\n",
              "      --hover-bg-color: #434B5C;\n",
              "      --hover-fill-color: #FFFFFF;\n",
              "      --disabled-bg-color: #3B4455;\n",
              "      --disabled-fill-color: #666;\n",
              "  }\n",
              "\n",
              "  .colab-df-quickchart {\n",
              "    background-color: var(--bg-color);\n",
              "    border: none;\n",
              "    border-radius: 50%;\n",
              "    cursor: pointer;\n",
              "    display: none;\n",
              "    fill: var(--fill-color);\n",
              "    height: 32px;\n",
              "    padding: 0;\n",
              "    width: 32px;\n",
              "  }\n",
              "\n",
              "  .colab-df-quickchart:hover {\n",
              "    background-color: var(--hover-bg-color);\n",
              "    box-shadow: 0 1px 2px rgba(60, 64, 67, 0.3), 0 1px 3px 1px rgba(60, 64, 67, 0.15);\n",
              "    fill: var(--button-hover-fill-color);\n",
              "  }\n",
              "\n",
              "  .colab-df-quickchart-complete:disabled,\n",
              "  .colab-df-quickchart-complete:disabled:hover {\n",
              "    background-color: var(--disabled-bg-color);\n",
              "    fill: var(--disabled-fill-color);\n",
              "    box-shadow: none;\n",
              "  }\n",
              "\n",
              "  .colab-df-spinner {\n",
              "    border: 2px solid var(--fill-color);\n",
              "    border-color: transparent;\n",
              "    border-bottom-color: var(--fill-color);\n",
              "    animation:\n",
              "      spin 1s steps(1) infinite;\n",
              "  }\n",
              "\n",
              "  @keyframes spin {\n",
              "    0% {\n",
              "      border-color: transparent;\n",
              "      border-bottom-color: var(--fill-color);\n",
              "      border-left-color: var(--fill-color);\n",
              "    }\n",
              "    20% {\n",
              "      border-color: transparent;\n",
              "      border-left-color: var(--fill-color);\n",
              "      border-top-color: var(--fill-color);\n",
              "    }\n",
              "    30% {\n",
              "      border-color: transparent;\n",
              "      border-left-color: var(--fill-color);\n",
              "      border-top-color: var(--fill-color);\n",
              "      border-right-color: var(--fill-color);\n",
              "    }\n",
              "    40% {\n",
              "      border-color: transparent;\n",
              "      border-right-color: var(--fill-color);\n",
              "      border-top-color: var(--fill-color);\n",
              "    }\n",
              "    60% {\n",
              "      border-color: transparent;\n",
              "      border-right-color: var(--fill-color);\n",
              "    }\n",
              "    80% {\n",
              "      border-color: transparent;\n",
              "      border-right-color: var(--fill-color);\n",
              "      border-bottom-color: var(--fill-color);\n",
              "    }\n",
              "    90% {\n",
              "      border-color: transparent;\n",
              "      border-bottom-color: var(--fill-color);\n",
              "    }\n",
              "  }\n",
              "</style>\n",
              "\n",
              "  <script>\n",
              "    async function quickchart(key) {\n",
              "      const quickchartButtonEl =\n",
              "        document.querySelector('#' + key + ' button');\n",
              "      quickchartButtonEl.disabled = true;  // To prevent multiple clicks.\n",
              "      quickchartButtonEl.classList.add('colab-df-spinner');\n",
              "      try {\n",
              "        const charts = await google.colab.kernel.invokeFunction(\n",
              "            'suggestCharts', [key], {});\n",
              "      } catch (error) {\n",
              "        console.error('Error during call to suggestCharts:', error);\n",
              "      }\n",
              "      quickchartButtonEl.classList.remove('colab-df-spinner');\n",
              "      quickchartButtonEl.classList.add('colab-df-quickchart-complete');\n",
              "    }\n",
              "    (() => {\n",
              "      let quickchartButtonEl =\n",
              "        document.querySelector('#df-100d9cd8-a4b0-4869-8fef-a55a1fd7816f button');\n",
              "      quickchartButtonEl.style.display =\n",
              "        google.colab.kernel.accessAllowed ? 'block' : 'none';\n",
              "    })();\n",
              "  </script>\n",
              "</div>\n",
              "    </div>\n",
              "  </div>\n"
            ]
          },
          "metadata": {},
          "execution_count": 4
        }
      ]
    },
    {
      "cell_type": "markdown",
      "source": [
        "# Exploratory Data Analysis (EDA)\n"
      ],
      "metadata": {
        "id": "bVdVSdNfvMRJ"
      }
    },
    {
      "cell_type": "code",
      "source": [
        "# check the shape\n",
        "\n",
        "df.shape\n",
        "\n",
        "# The dataset has 8,523 rows and 11 columns."
      ],
      "metadata": {
        "colab": {
          "base_uri": "https://localhost:8080/"
        },
        "id": "UoqN4b2ly1zO",
        "outputId": "69843c95-f89f-4442-db0b-2cda9f30066b"
      },
      "execution_count": 5,
      "outputs": [
        {
          "output_type": "execute_result",
          "data": {
            "text/plain": [
              "(8523, 10)"
            ]
          },
          "metadata": {},
          "execution_count": 5
        }
      ]
    },
    {
      "cell_type": "code",
      "source": [
        "# or checking for rows\n",
        "\n",
        "len(df)\n",
        "\n",
        "# The datasset has 8,523 rows"
      ],
      "metadata": {
        "colab": {
          "base_uri": "https://localhost:8080/"
        },
        "id": "ks96RycX-bOh",
        "outputId": "f87f8015-1fd5-45a7-bd33-8c4a3549aee1"
      },
      "execution_count": 6,
      "outputs": [
        {
          "output_type": "execute_result",
          "data": {
            "text/plain": [
              "8523"
            ]
          },
          "metadata": {},
          "execution_count": 6
        }
      ]
    },
    {
      "cell_type": "code",
      "source": [
        "# or checking for columns\n",
        "\n",
        "len(df.columns)\n",
        "\n",
        "# The datasset has 11 columns"
      ],
      "metadata": {
        "colab": {
          "base_uri": "https://localhost:8080/"
        },
        "id": "NjUQh9SD-OXe",
        "outputId": "ee524cef-a123-4222-f2a0-e0f89ce87506"
      },
      "execution_count": 7,
      "outputs": [
        {
          "output_type": "execute_result",
          "data": {
            "text/plain": [
              "10"
            ]
          },
          "metadata": {},
          "execution_count": 7
        }
      ]
    },
    {
      "cell_type": "code",
      "source": [
        "# check the datatype\n",
        "\n",
        "df.info()"
      ],
      "metadata": {
        "colab": {
          "base_uri": "https://localhost:8080/"
        },
        "id": "krCIoYj00FdF",
        "outputId": "4002c86c-8aa3-40c9-a996-4f83cfce5050"
      },
      "execution_count": 8,
      "outputs": [
        {
          "output_type": "stream",
          "name": "stdout",
          "text": [
            "<class 'pandas.core.frame.DataFrame'>\n",
            "RangeIndex: 8523 entries, 0 to 8522\n",
            "Data columns (total 10 columns):\n",
            " #   Column                     Non-Null Count  Dtype  \n",
            "---  ------                     --------------  -----  \n",
            " 0   Item_Weight                7060 non-null   float64\n",
            " 1   Item_Fat_Content           8523 non-null   object \n",
            " 2   Item_Visibility            8523 non-null   float64\n",
            " 3   Item_Type                  8523 non-null   object \n",
            " 4   Item_MRP                   8523 non-null   float64\n",
            " 5   Outlet_Establishment_Year  8523 non-null   int64  \n",
            " 6   Outlet_Size                6113 non-null   object \n",
            " 7   Outlet_Location_Type       8523 non-null   object \n",
            " 8   Outlet_Type                8523 non-null   object \n",
            " 9   Item_Outlet_Sales          8523 non-null   float64\n",
            "dtypes: float64(4), int64(1), object(5)\n",
            "memory usage: 666.0+ KB\n"
          ]
        }
      ]
    },
    {
      "cell_type": "code",
      "source": [
        "# check duplicates\n",
        "\n",
        "df.duplicated().sum()\n",
        "\n",
        "# The dataset has no duplicate values."
      ],
      "metadata": {
        "colab": {
          "base_uri": "https://localhost:8080/"
        },
        "id": "npK9LUOjzV0d",
        "outputId": "4d19a9ed-79fa-4783-f55d-96e97e19bf59"
      },
      "execution_count": 9,
      "outputs": [
        {
          "output_type": "execute_result",
          "data": {
            "text/plain": [
              "0"
            ]
          },
          "metadata": {},
          "execution_count": 9
        }
      ]
    },
    {
      "cell_type": "code",
      "source": [
        "# check if there are missing values\n",
        "\n",
        "df.isna().sum()\n",
        "\n",
        "# There are 1,463 missing values under Item_Weight and 2,410 missing values under Outlet_Size"
      ],
      "metadata": {
        "colab": {
          "base_uri": "https://localhost:8080/"
        },
        "id": "gn6FXn9czkUF",
        "outputId": "d2c90f68-df2d-4b65-dffa-2b2f4c29e1cd"
      },
      "execution_count": 10,
      "outputs": [
        {
          "output_type": "execute_result",
          "data": {
            "text/plain": [
              "Item_Weight                  1463\n",
              "Item_Fat_Content                0\n",
              "Item_Visibility                 0\n",
              "Item_Type                       0\n",
              "Item_MRP                        0\n",
              "Outlet_Establishment_Year       0\n",
              "Outlet_Size                  2410\n",
              "Outlet_Location_Type            0\n",
              "Outlet_Type                     0\n",
              "Item_Outlet_Sales               0\n",
              "dtype: int64"
            ]
          },
          "metadata": {},
          "execution_count": 10
        }
      ]
    },
    {
      "cell_type": "code",
      "source": [
        "# check statistics\n",
        "\n",
        "df.describe()\n",
        "\n",
        "# for numerical columns, use df.describe() - to check min, max, mean"
      ],
      "metadata": {
        "colab": {
          "base_uri": "https://localhost:8080/",
          "height": 300
        },
        "id": "Y5wAyTH7zQV7",
        "outputId": "60fe6ee6-870f-4a2e-dbcd-9fffebd8e99b"
      },
      "execution_count": 11,
      "outputs": [
        {
          "output_type": "execute_result",
          "data": {
            "text/plain": [
              "       Item_Weight  Item_Visibility     Item_MRP  Outlet_Establishment_Year  \\\n",
              "count  7060.000000      8523.000000  8523.000000                8523.000000   \n",
              "mean     12.857645         0.066132   140.992782                1997.831867   \n",
              "std       4.643456         0.051598    62.275067                   8.371760   \n",
              "min       4.555000         0.000000    31.290000                1985.000000   \n",
              "25%       8.773750         0.026989    93.826500                1987.000000   \n",
              "50%      12.600000         0.053931   143.012800                1999.000000   \n",
              "75%      16.850000         0.094585   185.643700                2004.000000   \n",
              "max      21.350000         0.328391   266.888400                2009.000000   \n",
              "\n",
              "       Item_Outlet_Sales  \n",
              "count        8523.000000  \n",
              "mean         2181.288914  \n",
              "std          1706.499616  \n",
              "min            33.290000  \n",
              "25%           834.247400  \n",
              "50%          1794.331000  \n",
              "75%          3101.296400  \n",
              "max         13086.964800  "
            ],
            "text/html": [
              "\n",
              "  <div id=\"df-bc36b4f6-c2b0-4e26-b476-942998111e07\" class=\"colab-df-container\">\n",
              "    <div>\n",
              "<style scoped>\n",
              "    .dataframe tbody tr th:only-of-type {\n",
              "        vertical-align: middle;\n",
              "    }\n",
              "\n",
              "    .dataframe tbody tr th {\n",
              "        vertical-align: top;\n",
              "    }\n",
              "\n",
              "    .dataframe thead th {\n",
              "        text-align: right;\n",
              "    }\n",
              "</style>\n",
              "<table border=\"1\" class=\"dataframe\">\n",
              "  <thead>\n",
              "    <tr style=\"text-align: right;\">\n",
              "      <th></th>\n",
              "      <th>Item_Weight</th>\n",
              "      <th>Item_Visibility</th>\n",
              "      <th>Item_MRP</th>\n",
              "      <th>Outlet_Establishment_Year</th>\n",
              "      <th>Item_Outlet_Sales</th>\n",
              "    </tr>\n",
              "  </thead>\n",
              "  <tbody>\n",
              "    <tr>\n",
              "      <th>count</th>\n",
              "      <td>7060.000000</td>\n",
              "      <td>8523.000000</td>\n",
              "      <td>8523.000000</td>\n",
              "      <td>8523.000000</td>\n",
              "      <td>8523.000000</td>\n",
              "    </tr>\n",
              "    <tr>\n",
              "      <th>mean</th>\n",
              "      <td>12.857645</td>\n",
              "      <td>0.066132</td>\n",
              "      <td>140.992782</td>\n",
              "      <td>1997.831867</td>\n",
              "      <td>2181.288914</td>\n",
              "    </tr>\n",
              "    <tr>\n",
              "      <th>std</th>\n",
              "      <td>4.643456</td>\n",
              "      <td>0.051598</td>\n",
              "      <td>62.275067</td>\n",
              "      <td>8.371760</td>\n",
              "      <td>1706.499616</td>\n",
              "    </tr>\n",
              "    <tr>\n",
              "      <th>min</th>\n",
              "      <td>4.555000</td>\n",
              "      <td>0.000000</td>\n",
              "      <td>31.290000</td>\n",
              "      <td>1985.000000</td>\n",
              "      <td>33.290000</td>\n",
              "    </tr>\n",
              "    <tr>\n",
              "      <th>25%</th>\n",
              "      <td>8.773750</td>\n",
              "      <td>0.026989</td>\n",
              "      <td>93.826500</td>\n",
              "      <td>1987.000000</td>\n",
              "      <td>834.247400</td>\n",
              "    </tr>\n",
              "    <tr>\n",
              "      <th>50%</th>\n",
              "      <td>12.600000</td>\n",
              "      <td>0.053931</td>\n",
              "      <td>143.012800</td>\n",
              "      <td>1999.000000</td>\n",
              "      <td>1794.331000</td>\n",
              "    </tr>\n",
              "    <tr>\n",
              "      <th>75%</th>\n",
              "      <td>16.850000</td>\n",
              "      <td>0.094585</td>\n",
              "      <td>185.643700</td>\n",
              "      <td>2004.000000</td>\n",
              "      <td>3101.296400</td>\n",
              "    </tr>\n",
              "    <tr>\n",
              "      <th>max</th>\n",
              "      <td>21.350000</td>\n",
              "      <td>0.328391</td>\n",
              "      <td>266.888400</td>\n",
              "      <td>2009.000000</td>\n",
              "      <td>13086.964800</td>\n",
              "    </tr>\n",
              "  </tbody>\n",
              "</table>\n",
              "</div>\n",
              "    <div class=\"colab-df-buttons\">\n",
              "\n",
              "  <div class=\"colab-df-container\">\n",
              "    <button class=\"colab-df-convert\" onclick=\"convertToInteractive('df-bc36b4f6-c2b0-4e26-b476-942998111e07')\"\n",
              "            title=\"Convert this dataframe to an interactive table.\"\n",
              "            style=\"display:none;\">\n",
              "\n",
              "  <svg xmlns=\"http://www.w3.org/2000/svg\" height=\"24px\" viewBox=\"0 -960 960 960\">\n",
              "    <path d=\"M120-120v-720h720v720H120Zm60-500h600v-160H180v160Zm220 220h160v-160H400v160Zm0 220h160v-160H400v160ZM180-400h160v-160H180v160Zm440 0h160v-160H620v160ZM180-180h160v-160H180v160Zm440 0h160v-160H620v160Z\"/>\n",
              "  </svg>\n",
              "    </button>\n",
              "\n",
              "  <style>\n",
              "    .colab-df-container {\n",
              "      display:flex;\n",
              "      gap: 12px;\n",
              "    }\n",
              "\n",
              "    .colab-df-convert {\n",
              "      background-color: #E8F0FE;\n",
              "      border: none;\n",
              "      border-radius: 50%;\n",
              "      cursor: pointer;\n",
              "      display: none;\n",
              "      fill: #1967D2;\n",
              "      height: 32px;\n",
              "      padding: 0 0 0 0;\n",
              "      width: 32px;\n",
              "    }\n",
              "\n",
              "    .colab-df-convert:hover {\n",
              "      background-color: #E2EBFA;\n",
              "      box-shadow: 0px 1px 2px rgba(60, 64, 67, 0.3), 0px 1px 3px 1px rgba(60, 64, 67, 0.15);\n",
              "      fill: #174EA6;\n",
              "    }\n",
              "\n",
              "    .colab-df-buttons div {\n",
              "      margin-bottom: 4px;\n",
              "    }\n",
              "\n",
              "    [theme=dark] .colab-df-convert {\n",
              "      background-color: #3B4455;\n",
              "      fill: #D2E3FC;\n",
              "    }\n",
              "\n",
              "    [theme=dark] .colab-df-convert:hover {\n",
              "      background-color: #434B5C;\n",
              "      box-shadow: 0px 1px 3px 1px rgba(0, 0, 0, 0.15);\n",
              "      filter: drop-shadow(0px 1px 2px rgba(0, 0, 0, 0.3));\n",
              "      fill: #FFFFFF;\n",
              "    }\n",
              "  </style>\n",
              "\n",
              "    <script>\n",
              "      const buttonEl =\n",
              "        document.querySelector('#df-bc36b4f6-c2b0-4e26-b476-942998111e07 button.colab-df-convert');\n",
              "      buttonEl.style.display =\n",
              "        google.colab.kernel.accessAllowed ? 'block' : 'none';\n",
              "\n",
              "      async function convertToInteractive(key) {\n",
              "        const element = document.querySelector('#df-bc36b4f6-c2b0-4e26-b476-942998111e07');\n",
              "        const dataTable =\n",
              "          await google.colab.kernel.invokeFunction('convertToInteractive',\n",
              "                                                    [key], {});\n",
              "        if (!dataTable) return;\n",
              "\n",
              "        const docLinkHtml = 'Like what you see? Visit the ' +\n",
              "          '<a target=\"_blank\" href=https://colab.research.google.com/notebooks/data_table.ipynb>data table notebook</a>'\n",
              "          + ' to learn more about interactive tables.';\n",
              "        element.innerHTML = '';\n",
              "        dataTable['output_type'] = 'display_data';\n",
              "        await google.colab.output.renderOutput(dataTable, element);\n",
              "        const docLink = document.createElement('div');\n",
              "        docLink.innerHTML = docLinkHtml;\n",
              "        element.appendChild(docLink);\n",
              "      }\n",
              "    </script>\n",
              "  </div>\n",
              "\n",
              "\n",
              "<div id=\"df-67b02a50-9f74-4eab-b10a-f7be8e7c08a4\">\n",
              "  <button class=\"colab-df-quickchart\" onclick=\"quickchart('df-67b02a50-9f74-4eab-b10a-f7be8e7c08a4')\"\n",
              "            title=\"Suggest charts.\"\n",
              "            style=\"display:none;\">\n",
              "\n",
              "<svg xmlns=\"http://www.w3.org/2000/svg\" height=\"24px\"viewBox=\"0 0 24 24\"\n",
              "     width=\"24px\">\n",
              "    <g>\n",
              "        <path d=\"M19 3H5c-1.1 0-2 .9-2 2v14c0 1.1.9 2 2 2h14c1.1 0 2-.9 2-2V5c0-1.1-.9-2-2-2zM9 17H7v-7h2v7zm4 0h-2V7h2v10zm4 0h-2v-4h2v4z\"/>\n",
              "    </g>\n",
              "</svg>\n",
              "  </button>\n",
              "\n",
              "<style>\n",
              "  .colab-df-quickchart {\n",
              "      --bg-color: #E8F0FE;\n",
              "      --fill-color: #1967D2;\n",
              "      --hover-bg-color: #E2EBFA;\n",
              "      --hover-fill-color: #174EA6;\n",
              "      --disabled-fill-color: #AAA;\n",
              "      --disabled-bg-color: #DDD;\n",
              "  }\n",
              "\n",
              "  [theme=dark] .colab-df-quickchart {\n",
              "      --bg-color: #3B4455;\n",
              "      --fill-color: #D2E3FC;\n",
              "      --hover-bg-color: #434B5C;\n",
              "      --hover-fill-color: #FFFFFF;\n",
              "      --disabled-bg-color: #3B4455;\n",
              "      --disabled-fill-color: #666;\n",
              "  }\n",
              "\n",
              "  .colab-df-quickchart {\n",
              "    background-color: var(--bg-color);\n",
              "    border: none;\n",
              "    border-radius: 50%;\n",
              "    cursor: pointer;\n",
              "    display: none;\n",
              "    fill: var(--fill-color);\n",
              "    height: 32px;\n",
              "    padding: 0;\n",
              "    width: 32px;\n",
              "  }\n",
              "\n",
              "  .colab-df-quickchart:hover {\n",
              "    background-color: var(--hover-bg-color);\n",
              "    box-shadow: 0 1px 2px rgba(60, 64, 67, 0.3), 0 1px 3px 1px rgba(60, 64, 67, 0.15);\n",
              "    fill: var(--button-hover-fill-color);\n",
              "  }\n",
              "\n",
              "  .colab-df-quickchart-complete:disabled,\n",
              "  .colab-df-quickchart-complete:disabled:hover {\n",
              "    background-color: var(--disabled-bg-color);\n",
              "    fill: var(--disabled-fill-color);\n",
              "    box-shadow: none;\n",
              "  }\n",
              "\n",
              "  .colab-df-spinner {\n",
              "    border: 2px solid var(--fill-color);\n",
              "    border-color: transparent;\n",
              "    border-bottom-color: var(--fill-color);\n",
              "    animation:\n",
              "      spin 1s steps(1) infinite;\n",
              "  }\n",
              "\n",
              "  @keyframes spin {\n",
              "    0% {\n",
              "      border-color: transparent;\n",
              "      border-bottom-color: var(--fill-color);\n",
              "      border-left-color: var(--fill-color);\n",
              "    }\n",
              "    20% {\n",
              "      border-color: transparent;\n",
              "      border-left-color: var(--fill-color);\n",
              "      border-top-color: var(--fill-color);\n",
              "    }\n",
              "    30% {\n",
              "      border-color: transparent;\n",
              "      border-left-color: var(--fill-color);\n",
              "      border-top-color: var(--fill-color);\n",
              "      border-right-color: var(--fill-color);\n",
              "    }\n",
              "    40% {\n",
              "      border-color: transparent;\n",
              "      border-right-color: var(--fill-color);\n",
              "      border-top-color: var(--fill-color);\n",
              "    }\n",
              "    60% {\n",
              "      border-color: transparent;\n",
              "      border-right-color: var(--fill-color);\n",
              "    }\n",
              "    80% {\n",
              "      border-color: transparent;\n",
              "      border-right-color: var(--fill-color);\n",
              "      border-bottom-color: var(--fill-color);\n",
              "    }\n",
              "    90% {\n",
              "      border-color: transparent;\n",
              "      border-bottom-color: var(--fill-color);\n",
              "    }\n",
              "  }\n",
              "</style>\n",
              "\n",
              "  <script>\n",
              "    async function quickchart(key) {\n",
              "      const quickchartButtonEl =\n",
              "        document.querySelector('#' + key + ' button');\n",
              "      quickchartButtonEl.disabled = true;  // To prevent multiple clicks.\n",
              "      quickchartButtonEl.classList.add('colab-df-spinner');\n",
              "      try {\n",
              "        const charts = await google.colab.kernel.invokeFunction(\n",
              "            'suggestCharts', [key], {});\n",
              "      } catch (error) {\n",
              "        console.error('Error during call to suggestCharts:', error);\n",
              "      }\n",
              "      quickchartButtonEl.classList.remove('colab-df-spinner');\n",
              "      quickchartButtonEl.classList.add('colab-df-quickchart-complete');\n",
              "    }\n",
              "    (() => {\n",
              "      let quickchartButtonEl =\n",
              "        document.querySelector('#df-67b02a50-9f74-4eab-b10a-f7be8e7c08a4 button');\n",
              "      quickchartButtonEl.style.display =\n",
              "        google.colab.kernel.accessAllowed ? 'block' : 'none';\n",
              "    })();\n",
              "  </script>\n",
              "</div>\n",
              "    </div>\n",
              "  </div>\n"
            ]
          },
          "metadata": {},
          "execution_count": 11
        }
      ]
    },
    {
      "cell_type": "code",
      "source": [
        "# check for values of dtypes == object\n",
        "\n",
        "dtypes = df.dtypes\n",
        "\n",
        "object_cols = dtypes[dtypes == 'object'].index\n",
        "object_cols"
      ],
      "metadata": {
        "colab": {
          "base_uri": "https://localhost:8080/"
        },
        "id": "m9PzVwMO6V1U",
        "outputId": "4a7ee0e0-abb7-4dc4-982a-100680e879bc"
      },
      "execution_count": 12,
      "outputs": [
        {
          "output_type": "execute_result",
          "data": {
            "text/plain": [
              "Index(['Item_Fat_Content', 'Item_Type', 'Outlet_Size', 'Outlet_Location_Type',\n",
              "       'Outlet_Type'],\n",
              "      dtype='object')"
            ]
          },
          "metadata": {},
          "execution_count": 12
        }
      ]
    },
    {
      "cell_type": "code",
      "source": [
        "# check the values in each object columns using for loop to check any inconsistencies and value counts\n",
        "\n",
        "for cols in object_cols:\n",
        "  print(f'Column = {cols}')\n",
        "  print(df[cols].value_counts(dropna = False))\n",
        "  print('\\n')\n",
        "\n",
        "# Item_Weight and Outlet_Size value counts to check which method to use in filling in missing values\n",
        "# There are irregularity or inconsitency in the column 'Item_Fat_Content'\n",
        "# We should replace 'LF' and 'low fat' with 'Low Fat'\n",
        "# We should also replace 'reg' with 'Regular'"
      ],
      "metadata": {
        "colab": {
          "base_uri": "https://localhost:8080/"
        },
        "id": "4Yxw2x6Q6jL4",
        "outputId": "208a7b01-56b1-4211-a2d3-e77ae81b9687"
      },
      "execution_count": 13,
      "outputs": [
        {
          "output_type": "stream",
          "name": "stdout",
          "text": [
            "Column = Item_Fat_Content\n",
            "Low Fat    5089\n",
            "Regular    2889\n",
            "LF          316\n",
            "reg         117\n",
            "low fat     112\n",
            "Name: Item_Fat_Content, dtype: int64\n",
            "\n",
            "\n",
            "Column = Item_Type\n",
            "Fruits and Vegetables    1232\n",
            "Snack Foods              1200\n",
            "Household                 910\n",
            "Frozen Foods              856\n",
            "Dairy                     682\n",
            "Canned                    649\n",
            "Baking Goods              648\n",
            "Health and Hygiene        520\n",
            "Soft Drinks               445\n",
            "Meat                      425\n",
            "Breads                    251\n",
            "Hard Drinks               214\n",
            "Others                    169\n",
            "Starchy Foods             148\n",
            "Breakfast                 110\n",
            "Seafood                    64\n",
            "Name: Item_Type, dtype: int64\n",
            "\n",
            "\n",
            "Column = Outlet_Size\n",
            "Medium    2793\n",
            "NaN       2410\n",
            "Small     2388\n",
            "High       932\n",
            "Name: Outlet_Size, dtype: int64\n",
            "\n",
            "\n",
            "Column = Outlet_Location_Type\n",
            "Tier 3    3350\n",
            "Tier 2    2785\n",
            "Tier 1    2388\n",
            "Name: Outlet_Location_Type, dtype: int64\n",
            "\n",
            "\n",
            "Column = Outlet_Type\n",
            "Supermarket Type1    5577\n",
            "Grocery Store        1083\n",
            "Supermarket Type3     935\n",
            "Supermarket Type2     928\n",
            "Name: Outlet_Type, dtype: int64\n",
            "\n",
            "\n"
          ]
        }
      ]
    },
    {
      "cell_type": "code",
      "source": [
        "# check for values of dtypes == float\n",
        "\n",
        "dtypes = df.dtypes\n",
        "\n",
        "number_cols = dtypes[dtypes == 'float'].index\n",
        "number_cols"
      ],
      "metadata": {
        "colab": {
          "base_uri": "https://localhost:8080/"
        },
        "id": "ifp94etJ7Oyv",
        "outputId": "7f58d340-4804-4fa0-8987-7023f67faece"
      },
      "execution_count": 14,
      "outputs": [
        {
          "output_type": "execute_result",
          "data": {
            "text/plain": [
              "Index(['Item_Weight', 'Item_Visibility', 'Item_MRP', 'Item_Outlet_Sales'], dtype='object')"
            ]
          },
          "metadata": {},
          "execution_count": 14
        }
      ]
    },
    {
      "cell_type": "code",
      "source": [
        "# check the values in each float columns using for loop\n",
        "\n",
        "for num_cols in number_cols:\n",
        "  print(f'Column = {num_cols}')\n",
        "  print(df[num_cols].value_counts(dropna = False))\n",
        "  print('\\n')\n",
        "\n",
        "\n",
        "# to check the mode of 'Item_Weight' which has missing values\n",
        "# 12.15 is the Item_Weight which has the most frequent occurences (mode)"
      ],
      "metadata": {
        "colab": {
          "base_uri": "https://localhost:8080/"
        },
        "id": "hQOcRN9L7xuG",
        "outputId": "53fbe84b-ab21-4b9c-a1ef-89642efe847b"
      },
      "execution_count": 15,
      "outputs": [
        {
          "output_type": "stream",
          "name": "stdout",
          "text": [
            "Column = Item_Weight\n",
            "NaN       1463\n",
            "12.150      86\n",
            "17.600      82\n",
            "13.650      77\n",
            "11.800      76\n",
            "          ... \n",
            "7.275        2\n",
            "7.685        1\n",
            "9.420        1\n",
            "6.520        1\n",
            "5.400        1\n",
            "Name: Item_Weight, Length: 416, dtype: int64\n",
            "\n",
            "\n",
            "Column = Item_Visibility\n",
            "0.000000    526\n",
            "0.076975      3\n",
            "0.162462      2\n",
            "0.076841      2\n",
            "0.073562      2\n",
            "           ... \n",
            "0.013957      1\n",
            "0.110460      1\n",
            "0.124646      1\n",
            "0.054142      1\n",
            "0.044878      1\n",
            "Name: Item_Visibility, Length: 7880, dtype: int64\n",
            "\n",
            "\n",
            "Column = Item_MRP\n",
            "172.0422    7\n",
            "170.5422    6\n",
            "196.5084    6\n",
            "188.1872    6\n",
            "142.0154    6\n",
            "           ..\n",
            "97.3384     1\n",
            "83.1934     1\n",
            "96.6752     1\n",
            "152.6682    1\n",
            "75.4670     1\n",
            "Name: Item_MRP, Length: 5938, dtype: int64\n",
            "\n",
            "\n",
            "Column = Item_Outlet_Sales\n",
            "958.7520     17\n",
            "1342.2528    16\n",
            "703.0848     15\n",
            "1845.5976    15\n",
            "1278.3360    14\n",
            "             ..\n",
            "4124.6310     1\n",
            "6622.7126     1\n",
            "1614.5650     1\n",
            "5602.7070     1\n",
            "2778.3834     1\n",
            "Name: Item_Outlet_Sales, Length: 3493, dtype: int64\n",
            "\n",
            "\n"
          ]
        }
      ]
    },
    {
      "cell_type": "code",
      "source": [
        "# check for values of dtypes == int\n",
        "\n",
        "dtypes = df.dtypes\n",
        "\n",
        "est_year_col = dtypes[dtypes == 'int'].index\n",
        "est_year_col\n",
        "\n",
        "# We can convert this column from int to datetime"
      ],
      "metadata": {
        "colab": {
          "base_uri": "https://localhost:8080/"
        },
        "id": "1LSWyuMA7kOe",
        "outputId": "86e73207-808f-4258-b632-f351a2697d98"
      },
      "execution_count": 16,
      "outputs": [
        {
          "output_type": "execute_result",
          "data": {
            "text/plain": [
              "Index(['Outlet_Establishment_Year'], dtype='object')"
            ]
          },
          "metadata": {},
          "execution_count": 16
        }
      ]
    },
    {
      "cell_type": "code",
      "source": [
        "# check the values in each int columns using for loop\n",
        "# replace dtype\n",
        "for year_col in est_year_col:\n",
        "  print(f'Column = {year_col}')\n",
        "  print(df[year_col].value_counts(dropna = False))\n",
        "\n",
        "\n",
        "# no inconsistency under the Column 'Outlet_Establishment_Year'"
      ],
      "metadata": {
        "colab": {
          "base_uri": "https://localhost:8080/"
        },
        "id": "o3YsKOo38Ics",
        "outputId": "7a8ce853-3460-4e7c-9223-1273c7cc7247"
      },
      "execution_count": 17,
      "outputs": [
        {
          "output_type": "stream",
          "name": "stdout",
          "text": [
            "Column = Outlet_Establishment_Year\n",
            "1985    1463\n",
            "1987     932\n",
            "1999     930\n",
            "1997     930\n",
            "2004     930\n",
            "2002     929\n",
            "2009     928\n",
            "2007     926\n",
            "1998     555\n",
            "Name: Outlet_Establishment_Year, dtype: int64\n"
          ]
        }
      ]
    },
    {
      "cell_type": "markdown",
      "source": [
        "# EDA Results"
      ],
      "metadata": {
        "id": "mvhjDsrJM4xi"
      }
    },
    {
      "cell_type": "markdown",
      "source": [
        "There are missing values for columns: Item_Weight (1463), Outlet_Size (2410).\n",
        "\n",
        "There are inconsistent or irregularity in 'Item_Fat_Content' column.\n",
        "\n",
        "We should change the datatype of Outlet_Establishment_Year from int to datetime."
      ],
      "metadata": {
        "id": "nHpdMMqBP5Yw"
      }
    },
    {
      "cell_type": "markdown",
      "source": [
        "# Data Cleaning"
      ],
      "metadata": {
        "id": "PI_z7UwB6s3I"
      }
    },
    {
      "cell_type": "markdown",
      "source": [
        "#### Fill the missing values\n",
        "\n",
        "We will do this step after the train test split using Simple Imputer"
      ],
      "metadata": {
        "id": "WCnMYf11N-QL"
      }
    },
    {
      "cell_type": "code",
      "source": [
        "# # Imputing Missing Data Using sklearn (sklearn simple imputation has algorithm)\n",
        "\n",
        "\n",
        "# df['Item_Weight'].fillna(12.150, inplace=True)\n",
        "# # df['Item_Weight'].fillna(12.857645, inplace=True)\n",
        "\n",
        "\n",
        "# # For 'Item_Weight', the mean (12.85) is slightly higher than the mode (12.15)\n",
        "# # Will use the mode to fill the missing values (comprised 17% of total, derived using count of missing/total rows) #########\n",
        "# # Will use the mean to fill the missing values (comprised 17% of total, derived using count of missing/total rows)\n",
        "# # The 17% missing values under 'Item_Weight' should be imputed (dropping them is not advisable)\n"
      ],
      "metadata": {
        "id": "6Dfc1Na1CFZg"
      },
      "execution_count": 18,
      "outputs": []
    },
    {
      "cell_type": "code",
      "source": [
        "# # Under 'Outlet_Size' column, total missing values is 2,410 (28% of total)\n",
        "\n",
        "# # Medium    2793\n",
        "# # NaN       2410\n",
        "# # Small     2388\n",
        "# # High       932\n",
        "\n",
        "# df['Outlet_Size'].fillna('Medium', inplace = True)\n",
        "\n",
        "# # The most frequent value under 'Outlet_Size' is medium which consist of 2,793 (33% of total)\n",
        "# # The next most frequesnt value is Small, which consist of 2,388 (28% of total)\n",
        "# # The item which has least occurence is High which consist of 932 (11% of total)\n",
        "# # We can use the mode (most frequent value) to fill the missing values for categorical data"
      ],
      "metadata": {
        "id": "MhcI7YXFGVJe"
      },
      "execution_count": 19,
      "outputs": []
    },
    {
      "cell_type": "code",
      "source": [
        "# check if again if there are still missing values\n",
        "\n",
        "df.isna().sum()\n",
        "\n",
        "# After simple imputation (filling in the 'Item_Weight' with average weight), there are no more missing values\n",
        "# After simple imputation (filling in the 'Outlet_Size' with Medium, which has most frequent occurences), there are no more missing values"
      ],
      "metadata": {
        "colab": {
          "base_uri": "https://localhost:8080/"
        },
        "id": "AYuMNQ0KHJLk",
        "outputId": "88f4b33d-b347-45b5-c24b-1ceb9f64b69e"
      },
      "execution_count": 20,
      "outputs": [
        {
          "output_type": "execute_result",
          "data": {
            "text/plain": [
              "Item_Weight                  1463\n",
              "Item_Fat_Content                0\n",
              "Item_Visibility                 0\n",
              "Item_Type                       0\n",
              "Item_MRP                        0\n",
              "Outlet_Establishment_Year       0\n",
              "Outlet_Size                  2410\n",
              "Outlet_Location_Type            0\n",
              "Outlet_Type                     0\n",
              "Item_Outlet_Sales               0\n",
              "dtype: int64"
            ]
          },
          "metadata": {},
          "execution_count": 20
        }
      ]
    },
    {
      "cell_type": "markdown",
      "source": [
        "#### Fix the inconsistent data under 'Item_Fat_Content'"
      ],
      "metadata": {
        "id": "m3w-0-99NvcN"
      }
    },
    {
      "cell_type": "code",
      "source": [
        "# There are irregularity or inconsitency in the column 'Item_Fat_Content'\n",
        "\n",
        "df['Item_Fat_Content'].replace('LF', 'Low Fat', inplace=True)\n",
        "\n",
        "# We should replace 'LF' and 'low fat' with 'Low Fat'"
      ],
      "metadata": {
        "id": "h6LC9XZ0ORRP"
      },
      "execution_count": 21,
      "outputs": []
    },
    {
      "cell_type": "code",
      "source": [
        "# We should replace 'low fat' with 'Low Fat'\n",
        "\n",
        "df['Item_Fat_Content'].replace('low fat', 'Low Fat', inplace=True)"
      ],
      "metadata": {
        "id": "tfT1Nq9-OsSU"
      },
      "execution_count": 22,
      "outputs": []
    },
    {
      "cell_type": "code",
      "source": [
        "# We should also replace 'reg' with 'Regular'\n",
        "\n",
        "df['Item_Fat_Content'].replace('reg', 'Regular', inplace=True)\n",
        "\n",
        "# check corrections on 'Item_Fat_Content'\n",
        "\n",
        "df['Item_Fat_Content'].value_counts()"
      ],
      "metadata": {
        "colab": {
          "base_uri": "https://localhost:8080/"
        },
        "id": "R1uGJMSCOwp-",
        "outputId": "ddfd1e36-9187-4f77-8296-2316ebd154bb"
      },
      "execution_count": 23,
      "outputs": [
        {
          "output_type": "execute_result",
          "data": {
            "text/plain": [
              "Low Fat    5517\n",
              "Regular    3006\n",
              "Name: Item_Fat_Content, dtype: int64"
            ]
          },
          "metadata": {},
          "execution_count": 23
        }
      ]
    },
    {
      "cell_type": "markdown",
      "source": [
        "#### Change the 'Outlet_Establishment_Year' datatype from int to datetime"
      ],
      "metadata": {
        "id": "cOO6o2BeOFQn"
      }
    },
    {
      "cell_type": "code",
      "source": [
        "# change date to datatype\n",
        "\n",
        "df['Outlet_Establishment_Year'] = pd.to_datetime(df['Outlet_Establishment_Year'])\n",
        "\n",
        "# check corrections on date datatype\n",
        "\n",
        "df.info()"
      ],
      "metadata": {
        "colab": {
          "base_uri": "https://localhost:8080/"
        },
        "id": "4Mc8vh-4PDP_",
        "outputId": "d73576a2-4620-4de2-d784-67fa1ca4ea15"
      },
      "execution_count": 24,
      "outputs": [
        {
          "output_type": "stream",
          "name": "stdout",
          "text": [
            "<class 'pandas.core.frame.DataFrame'>\n",
            "RangeIndex: 8523 entries, 0 to 8522\n",
            "Data columns (total 10 columns):\n",
            " #   Column                     Non-Null Count  Dtype         \n",
            "---  ------                     --------------  -----         \n",
            " 0   Item_Weight                7060 non-null   float64       \n",
            " 1   Item_Fat_Content           8523 non-null   object        \n",
            " 2   Item_Visibility            8523 non-null   float64       \n",
            " 3   Item_Type                  8523 non-null   object        \n",
            " 4   Item_MRP                   8523 non-null   float64       \n",
            " 5   Outlet_Establishment_Year  8523 non-null   datetime64[ns]\n",
            " 6   Outlet_Size                6113 non-null   object        \n",
            " 7   Outlet_Location_Type       8523 non-null   object        \n",
            " 8   Outlet_Type                8523 non-null   object        \n",
            " 9   Item_Outlet_Sales          8523 non-null   float64       \n",
            "dtypes: datetime64[ns](1), float64(4), object(5)\n",
            "memory usage: 666.0+ KB\n"
          ]
        }
      ]
    },
    {
      "cell_type": "markdown",
      "source": [
        "# Data Visualization"
      ],
      "metadata": {
        "id": "zRVfUPap6BT2"
      }
    },
    {
      "cell_type": "markdown",
      "source": [
        "## Univariate Exploratory Visualization"
      ],
      "metadata": {
        "id": "Xs0Xcw5Z620o"
      }
    },
    {
      "cell_type": "code",
      "source": [
        "import matplotlib.pyplot as plt\n",
        "import seaborn as sns"
      ],
      "metadata": {
        "id": "h27XTWqm8dbT"
      },
      "execution_count": 25,
      "outputs": []
    },
    {
      "cell_type": "code",
      "source": [
        "# Histogram of Average Outlet Sales\n",
        "\n",
        "## Make a larger fig/ax before plotting\n",
        "fig, ax = plt.subplots(figsize = (10, 5))\n",
        "\n",
        "## Plot histogram\n",
        "sns.histplot(data=df, x=round(df['Item_Outlet_Sales']), ax=ax)\n",
        "ax.set(title=\"Average Outlet Sales Distribution\")\n",
        "\n",
        "## Annotating mean and median\n",
        "mean_sales = df['Item_Outlet_Sales'].mean()\n",
        "ax.axvline(mean_sales,\n",
        "           color='slategray',\n",
        "           ls='--',\n",
        "           label=f\"Mean = ${mean_sales:,.2f}\")\n",
        "\n",
        "med_sales = df['Item_Outlet_Sales'].median()\n",
        "ax.axvline(med_sales,\n",
        "           color='skyblue',\n",
        "           ls='--',\n",
        "           label=f\"Median = ${med_sales:,.2f}\")\n",
        "\n",
        "# Labels and Legend\n",
        "ax.set(xlabel=\"Sales ($)\")\n",
        "ax.legend();\n",
        "\n",
        "fig;"
      ],
      "metadata": {
        "colab": {
          "base_uri": "https://localhost:8080/",
          "height": 487
        },
        "id": "qopfhLSR8K0a",
        "outputId": "528c0cb3-5a63-4254-96ba-d3a2157f7c34"
      },
      "execution_count": 26,
      "outputs": [
        {
          "output_type": "display_data",
          "data": {
            "text/plain": [
              "<Figure size 1000x500 with 1 Axes>"
            ],
            "image/png": "[encoded data removed]"
          },
          "metadata": {}
        }
      ]
    },
    {
      "cell_type": "markdown",
      "source": [
        "The data suggest that the distribution of average outlet sales is positively skewed. The mean ($2,181.29) is greater than 0, the hump is on the left while it has a long tail on the right.\n",
        "\n",
        "The concentration of average outlet sales is in the 75th percentile (Q3) - middle value between median and the highest value of dataset.\n",
        "\n",
        "There are several outliers after the max of value of dataset as shown by its long tail."
      ],
      "metadata": {
        "id": "JzHIbahd9Ro7"
      }
    },
    {
      "cell_type": "code",
      "source": [
        "# Histogram of Item_MRP (Maximum Retail Price)\n",
        "\n",
        "## Make a larger fig/ax before plotting\n",
        "fig, ax = plt.subplots(figsize = (10, 5))\n",
        "\n",
        "## Plot histogram\n",
        "sns.histplot(data=df, x=round(df['Item_MRP']), ax=ax)\n",
        "ax.set(title=\"Average MRP Distribution\")\n",
        "\n",
        "## Annotating mean and median\n",
        "mean_mrp = df['Item_MRP'].mean()\n",
        "ax.axvline(mean_mrp,\n",
        "           color='slategray',\n",
        "           ls='--',\n",
        "           label=f\"Mean = ${mean_mrp:,.2f}\")\n",
        "\n",
        "med_mrp = df['Item_MRP'].median()\n",
        "ax.axvline(med_mrp,\n",
        "           color='skyblue',\n",
        "           ls='--',\n",
        "           label=f\"Median = ${med_mrp:,.2f}\")\n",
        "\n",
        "# Labels and Legend\n",
        "ax.set(xlabel=\"Maximum Retail Price ($)\")\n",
        "ax.legend();\n",
        "\n",
        "fig;"
      ],
      "metadata": {
        "colab": {
          "base_uri": "https://localhost:8080/",
          "height": 487
        },
        "id": "kzQoPZTh_Jh5",
        "outputId": "8f9c4ec0-1ccd-41f5-8112-658e609840de"
      },
      "execution_count": 27,
      "outputs": [
        {
          "output_type": "display_data",
          "data": {
            "text/plain": [
              "<Figure size 1000x500 with 1 Axes>"
            ],
            "image/png": "[encoded data removed]"
          },
          "metadata": {}
        }
      ]
    },
    {
      "cell_type": "markdown",
      "source": [
        "The data suggest that average MRP has a normal distribution. The data is symmetric and has no skew. Average MRP is close to the middle value of the dataset.\n",
        "\n",
        "The concentration is at the mean; cluster of data points toward the middle of the range.\n",
        "\n",
        "There are no outliers (no data points outside the horizonal black line (min and max of dataset)."
      ],
      "metadata": {
        "id": "0BR27Z-FDCgo"
      }
    },
    {
      "cell_type": "code",
      "source": [
        "# seaborn\n",
        "# Create figure\n",
        "fig, ax = plt.subplots(figsize=(10, 5))\n",
        "\n",
        "# Set the title\n",
        "ax.set_title('Average Sales ($)', fontsize=14)\n",
        "\n",
        "# Label and Notch\n",
        "sns.boxplot(data = df,\n",
        "            x = 'Item_Outlet_Sales',\n",
        "            notch = True,\n",
        "            medianprops=dict(linestyle='-',\n",
        "            linewidth=2,\n",
        "            color='Yellow'));"
      ],
      "metadata": {
        "colab": {
          "base_uri": "https://localhost:8080/",
          "height": 488
        },
        "id": "VSCb0DhnOORx",
        "outputId": "68be8f05-2976-401c-d1b0-68d01df769a9"
      },
      "execution_count": 28,
      "outputs": [
        {
          "output_type": "display_data",
          "data": {
            "text/plain": [
              "<Figure size 1000x500 with 1 Axes>"
            ],
            "image/png": "[encoded data removed]"
          },
          "metadata": {}
        }
      ]
    },
    {
      "cell_type": "markdown",
      "source": [
        "The data suggest that the distribution for outlet sales is positively skewed. The mean is greater than 0, hump is on the left while the tail extends to the right.\n",
        "\n",
        "There are also several outliers as shown by data points outside the maximum value of the dataset."
      ],
      "metadata": {
        "id": "CcYp7bWJO6LV"
      }
    },
    {
      "cell_type": "code",
      "source": [
        "# heatmap\n",
        "# create a var and drop ReAdmis is this was id to be irrelevant\n",
        "corr = df.drop(columns = 'Item_Type').corr()\n",
        "\n",
        "# plot the heatmap\n",
        "plt.figure(figsize = (8,5))\n",
        "sns.heatmap(corr, cmap = 'coolwarm', annot = True, fmt = '.2f');\n",
        "\n",
        "# correlation bet features\n",
        "# correlation table\n",
        "# 0.30 - 0.50 = there is a weak + correlation\n",
        "# 0.51 - 0.70 = there is a moderate + correlation\n",
        "# 0.71 - 0.90 = there is a strong + correlation\n",
        "# 0.91 - 1.00 = there is vstrong + correlation (perfect)"
      ],
      "metadata": {
        "colab": {
          "base_uri": "https://localhost:8080/",
          "height": 507
        },
        "id": "TJSIYEQVq4li",
        "outputId": "5f92b9c5-e30a-4e16-8ea7-c01cab7d664c"
      },
      "execution_count": 29,
      "outputs": [
        {
          "output_type": "stream",
          "name": "stderr",
          "text": [
            "<ipython-input-29-032342f55c84>:3: FutureWarning: The default value of numeric_only in DataFrame.corr is deprecated. In a future version, it will default to False. Select only valid columns or specify the value of numeric_only to silence this warning.\n",
            "  corr = df.drop(columns = 'Item_Type').corr()\n"
          ]
        },
        {
          "output_type": "display_data",
          "data": {
            "text/plain": [
              "<Figure size 800x500 with 2 Axes>"
            ],
            "image/png": "[encoded data removed]"
          },
          "metadata": {}
        }
      ]
    },
    {
      "cell_type": "markdown",
      "source": [
        "Correlation observations:\n",
        "\n",
        "There is a moderate positive correlation between Item_MRP and Item_Outlet_Sales (0.57)\n",
        "\n",
        "As the maximum retail price (MRP) goes up, sales also goes up; price and quantity are a function of sales so it is rational that they are positively correlated."
      ],
      "metadata": {
        "id": "Qn7V53E_sB8j"
      }
    },
    {
      "cell_type": "markdown",
      "source": [
        "## Multivariate Exploratory Visualization"
      ],
      "metadata": {
        "id": "I2MsATYcPaKs"
      }
    },
    {
      "cell_type": "code",
      "source": [
        "# Seaborn\n",
        "# Create figure\n",
        "fig, ax = plt.subplots(figsize=(9, 6))\n",
        "\n",
        "# Set the title\n",
        "ax.set_title('Average Sales by Outlet Type', fontsize=14)\n",
        "\n",
        "# Labels and Notch\n",
        "sns.boxplot(data = df,\n",
        "            y = 'Outlet_Type',\n",
        "            x = 'Item_Outlet_Sales',\n",
        "            notch = True,\n",
        "            medianprops=dict(linestyle='-',\n",
        "            linewidth=2,\n",
        "            color='Yellow'));\n",
        "\n",
        "plt.show();"
      ],
      "metadata": {
        "colab": {
          "base_uri": "https://localhost:8080/",
          "height": 565
        },
        "id": "g_bNFGv-HhI9",
        "outputId": "9ce7e715-652f-4ce4-e1f7-b3a19e7e04bb"
      },
      "execution_count": 30,
      "outputs": [
        {
          "output_type": "display_data",
          "data": {
            "text/plain": [
              "<Figure size 900x600 with 1 Axes>"
            ],
            "image/png": "[encoded data removed]"
          },
          "metadata": {}
        }
      ]
    },
    {
      "cell_type": "markdown",
      "source": [
        "The data suggest that the distribution for all outlet type is positively skewed. The mean is greater than 0, hump is on the left while the tail extends to the right.\n",
        "\n",
        "There are also several outliers as shown by data points outside the maximum value of the dataset.\n",
        "\n",
        "Highest sales came from Supermarket 3 as shown by the range of sales generated from that outlet."
      ],
      "metadata": {
        "id": "QxAIJro8oR-H"
      }
    },
    {
      "cell_type": "code",
      "source": [
        "# Creat variable to group average sales by item type\n",
        "\n",
        "avg_item_sales = df.groupby('Item_Type')['Item_Outlet_Sales'].mean()\n",
        "avg_item_sales"
      ],
      "metadata": {
        "colab": {
          "base_uri": "https://localhost:8080/"
        },
        "id": "LX7O4GMoH76y",
        "outputId": "41cec4bc-731d-4ec3-8091-1ae9eda11280"
      },
      "execution_count": 31,
      "outputs": [
        {
          "output_type": "execute_result",
          "data": {
            "text/plain": [
              "Item_Type\n",
              "Baking Goods             1952.971207\n",
              "Breads                   2204.132226\n",
              "Breakfast                2111.808651\n",
              "Canned                   2225.194904\n",
              "Dairy                    2232.542597\n",
              "Frozen Foods             2132.867744\n",
              "Fruits and Vegetables    2289.009592\n",
              "Hard Drinks              2139.221622\n",
              "Health and Hygiene       2010.000265\n",
              "Household                2258.784300\n",
              "Meat                     2158.977911\n",
              "Others                   1926.139702\n",
              "Seafood                  2326.065928\n",
              "Snack Foods              2277.321739\n",
              "Soft Drinks              2006.511735\n",
              "Starchy Foods            2374.332773\n",
              "Name: Item_Outlet_Sales, dtype: float64"
            ]
          },
          "metadata": {},
          "execution_count": 31
        }
      ]
    },
    {
      "cell_type": "code",
      "source": [
        "# use the variable to sort values by Item Type\n",
        "avg_item_sales = avg_item_sales.sort_values()\n",
        "\n",
        "# Plot the Figure\n",
        "plt.figure(figsize=(10,5))\n",
        "\n",
        "# Horixontal Bar Chart\n",
        "plt.barh(avg_item_sales.index, avg_item_sales.values)\n",
        "\n",
        "# Title and Labels\n",
        "plt.ylabel('Item_Type', fontsize=11)\n",
        "plt.xlabel('Item_Outlet_Sales', fontsize=11)\n",
        "plt.title(\"Average Outlet Sales by Item Type\", fontsize=14)\n",
        "\n",
        "plt.show();"
      ],
      "metadata": {
        "colab": {
          "base_uri": "https://localhost:8080/",
          "height": 490
        },
        "id": "_Iw4EGYqIWdK",
        "outputId": "a257abb7-04f8-45cc-b3b0-1f5e112bc81e"
      },
      "execution_count": 32,
      "outputs": [
        {
          "output_type": "display_data",
          "data": {
            "text/plain": [
              "<Figure size 1000x500 with 1 Axes>"
            ],
            "image/png": "[encoded data removed]"
          },
          "metadata": {}
        }
      ]
    },
    {
      "cell_type": "markdown",
      "source": [
        "The data suggest that among the items being sold, Starchy Foods has the highest sales, followed by Seafood and Fruits and Vegetables.\n",
        "\n",
        "Lowest sales came from Other Items, Baking Goods and Soft Drinks."
      ],
      "metadata": {
        "id": "lNUpC87vIwz5"
      }
    },
    {
      "cell_type": "code",
      "source": [
        "# Creat variable to group average sales by outlet type\n",
        "\n",
        "avg_type_sales = df.groupby('Outlet_Type')['Item_Outlet_Sales'].mean()\n",
        "avg_type_sales"
      ],
      "metadata": {
        "colab": {
          "base_uri": "https://localhost:8080/"
        },
        "id": "nuMoCc3AKdX4",
        "outputId": "3de14f89-f3a0-4bb6-8177-ffd31f36703e"
      },
      "execution_count": 33,
      "outputs": [
        {
          "output_type": "execute_result",
          "data": {
            "text/plain": [
              "Outlet_Type\n",
              "Grocery Store         339.828500\n",
              "Supermarket Type1    2316.181148\n",
              "Supermarket Type2    1995.498739\n",
              "Supermarket Type3    3694.038558\n",
              "Name: Item_Outlet_Sales, dtype: float64"
            ]
          },
          "metadata": {},
          "execution_count": 33
        }
      ]
    },
    {
      "cell_type": "code",
      "source": [
        "# use the variable to sort values by Outlet Type\n",
        "avg_type_sales = avg_type_sales.sort_values()\n",
        "\n",
        "# Plot the Figure\n",
        "plt.figure(figsize=(10,2))\n",
        "\n",
        "# Horixontal Bar Chart\n",
        "plt.barh(avg_type_sales.index, avg_type_sales.values)\n",
        "\n",
        "# Title and Labels\n",
        "plt.ylabel('Outlet_Type', fontsize=11)\n",
        "plt.xlabel('Item_Outlet_Sales', fontsize=11)\n",
        "plt.title(\"Average Sales by Outlet Type\", fontsize=14)\n",
        "\n",
        "plt.show();"
      ],
      "metadata": {
        "colab": {
          "base_uri": "https://localhost:8080/",
          "height": 259
        },
        "id": "aKtppUlfKkxf",
        "outputId": "216b3d92-61fa-4672-a0a3-c161050b9897"
      },
      "execution_count": 34,
      "outputs": [
        {
          "output_type": "display_data",
          "data": {
            "text/plain": [
              "<Figure size 1000x200 with 1 Axes>"
            ],
            "image/png": "[encoded data removed]"
          },
          "metadata": {}
        }
      ]
    },
    {
      "cell_type": "markdown",
      "source": [
        "The data suggest that among the four outlet types, Supermarket Type 3 generates the highest sales while the least sales-generating is Grocery Store.\n",
        "\n",
        "It is rational that in terms of wide selection of products, Supermarket is bigger in size and higher foot traffic leads to higher sales; hence, more sales are generated in supermarket compared to grocery store."
      ],
      "metadata": {
        "id": "fVt1gNJQHOZS"
      }
    },
    {
      "cell_type": "code",
      "source": [
        "# Creat variable to group average sales by outlet size\n",
        "\n",
        "avg_outlet_sales = df.groupby('Outlet_Size')['Item_Outlet_Sales'].mean()\n",
        "avg_outlet_sales"
      ],
      "metadata": {
        "colab": {
          "base_uri": "https://localhost:8080/"
        },
        "id": "FsjdAav4JckE",
        "outputId": "135fdb88-225c-4928-ed5d-8dba736f9ccc"
      },
      "execution_count": 35,
      "outputs": [
        {
          "output_type": "execute_result",
          "data": {
            "text/plain": [
              "Outlet_Size\n",
              "High      2298.995256\n",
              "Medium    2681.603542\n",
              "Small     1912.149161\n",
              "Name: Item_Outlet_Sales, dtype: float64"
            ]
          },
          "metadata": {},
          "execution_count": 35
        }
      ]
    },
    {
      "cell_type": "code",
      "source": [
        "# use the variable to sort values by Outlet Size\n",
        "avg_outlet_sales = avg_outlet_sales.sort_values()\n",
        "\n",
        "# Plot the Figure\n",
        "plt.figure(figsize=(10,2))\n",
        "\n",
        "# Horixontal Bar Chart\n",
        "plt.barh(avg_outlet_sales.index, avg_outlet_sales.values)\n",
        "\n",
        "# Title and Labels\n",
        "plt.ylabel('Outlet_Size', fontsize=11)\n",
        "plt.xlabel('Item_Outlet_Sales', fontsize=11)\n",
        "plt.title(\"Average Sales by Outlet Size\", fontsize=14)\n",
        "\n",
        "plt.show();"
      ],
      "metadata": {
        "colab": {
          "base_uri": "https://localhost:8080/",
          "height": 259
        },
        "id": "tGH2-PMbJt9Y",
        "outputId": "255b0229-0158-4917-f2d4-189b0fd40408"
      },
      "execution_count": 36,
      "outputs": [
        {
          "output_type": "display_data",
          "data": {
            "text/plain": [
              "<Figure size 1000x200 with 1 Axes>"
            ],
            "image/png": "[encoded data removed]"
          },
          "metadata": {}
        }
      ]
    },
    {
      "cell_type": "markdown",
      "source": [
        "The data suggest that higher sales are generated from High and Medium Outlet Size.\n",
        "\n",
        "The data also suggest that size and type of outlets determine potential sales. As shown in previous chart, Supermarket (bigger in terms of size compared to grocery store) generate higher sales."
      ],
      "metadata": {
        "id": "bFBdHnPiWbT2"
      }
    },
    {
      "cell_type": "code",
      "source": [
        "# Creat variable to group average sales by outlet location type\n",
        "\n",
        "avg_loc_sales = df.groupby('Outlet_Location_Type')['Item_Outlet_Sales'].mean()\n",
        "avg_loc_sales"
      ],
      "metadata": {
        "colab": {
          "base_uri": "https://localhost:8080/"
        },
        "id": "rEQT51oXWkHa",
        "outputId": "57e8cb74-9e84-4ee2-b3dd-80240fae9e5b"
      },
      "execution_count": 37,
      "outputs": [
        {
          "output_type": "execute_result",
          "data": {
            "text/plain": [
              "Outlet_Location_Type\n",
              "Tier 1    1876.909159\n",
              "Tier 2    2323.990559\n",
              "Tier 3    2279.627651\n",
              "Name: Item_Outlet_Sales, dtype: float64"
            ]
          },
          "metadata": {},
          "execution_count": 37
        }
      ]
    },
    {
      "cell_type": "code",
      "source": [
        "# use the variable to sort values by Outlet Type\n",
        "avg_loc_sales = avg_loc_sales.sort_values()\n",
        "\n",
        "# Plot the Figure\n",
        "plt.figure(figsize=(10,2))\n",
        "\n",
        "# Horixontal Bar Chart\n",
        "plt.barh(avg_loc_sales.index, avg_loc_sales.values)\n",
        "\n",
        "# Title and Labels\n",
        "plt.ylabel('Outlet_Location_Type', fontsize=11)\n",
        "plt.xlabel('Item_Outlet_Sales', fontsize=11)\n",
        "plt.title(\"Average Sales by Outlet Location Type\", fontsize=14)\n",
        "\n",
        "plt.show();"
      ],
      "metadata": {
        "colab": {
          "base_uri": "https://localhost:8080/",
          "height": 259
        },
        "id": "wPVLhZQjWnvc",
        "outputId": "0ba03a7b-d737-4469-b789-770fa49b13b2"
      },
      "execution_count": 38,
      "outputs": [
        {
          "output_type": "display_data",
          "data": {
            "text/plain": [
              "<Figure size 1000x200 with 1 Axes>"
            ],
            "image/png": "[encoded data removed]"
          },
          "metadata": {}
        }
      ]
    },
    {
      "cell_type": "markdown",
      "source": [
        "The data suggest that more sales are generated from Tier 2 followed by Tier 3 Outlet Location.\n",
        "\n",
        "Among the three outlet location, Tier 1 generated the lowest sales."
      ],
      "metadata": {
        "id": "8tZ1C7zqWjRc"
      }
    },
    {
      "cell_type": "code",
      "source": [
        "# filter data (top 5)\n",
        "\n",
        "item_type_top5 = df.groupby('Item_Type')['Item_Outlet_Sales'].mean().sort_values(ascending = False).head(5)\n",
        "item_type_top5"
      ],
      "metadata": {
        "colab": {
          "base_uri": "https://localhost:8080/"
        },
        "id": "cVUjkZa-VzJk",
        "outputId": "f2c2aa83-f271-4a38-e990-463b00768f09"
      },
      "execution_count": 39,
      "outputs": [
        {
          "output_type": "execute_result",
          "data": {
            "text/plain": [
              "Item_Type\n",
              "Starchy Foods            2374.332773\n",
              "Seafood                  2326.065928\n",
              "Fruits and Vegetables    2289.009592\n",
              "Snack Foods              2277.321739\n",
              "Household                2258.784300\n",
              "Name: Item_Outlet_Sales, dtype: float64"
            ]
          },
          "metadata": {},
          "execution_count": 39
        }
      ]
    },
    {
      "cell_type": "code",
      "source": [
        "# use the variable to sort values by top 5 Item Type\n",
        "item_type_top5 = item_type_top5.sort_values()\n",
        "\n",
        "# Plot the horizontal bar sorted from highest to lowest\n",
        "plt.figure(figsize=(10,5))\n",
        "plt.barh(item_type_top5.index, item_type_top5.values)\n",
        "\n",
        "# Labels and Title\n",
        "plt.ylabel('Item_Type')\n",
        "plt.xlabel('Item_Outlet_Sales')\n",
        "plt.title(\"Top 5 Highest Sales\")\n",
        "\n",
        "plt.show();"
      ],
      "metadata": {
        "colab": {
          "base_uri": "https://localhost:8080/",
          "height": 487
        },
        "id": "r4xRVCjgV1s_",
        "outputId": "00841b8e-da59-48d0-a142-a9eabc690124"
      },
      "execution_count": 40,
      "outputs": [
        {
          "output_type": "display_data",
          "data": {
            "text/plain": [
              "<Figure size 1000x500 with 1 Axes>"
            ],
            "image/png": "[encoded data removed]"
          },
          "metadata": {}
        }
      ]
    },
    {
      "cell_type": "markdown",
      "source": [
        "Filter the top 5 so we can only focus on the items with the highest sales: starchy foods, seafood, fruits and vegetables, snack foods, household."
      ],
      "metadata": {
        "id": "HK4zSh4TaTL9"
      }
    },
    {
      "cell_type": "code",
      "source": [
        "Top5_Item_List = ['Starchy Foods', 'Seafood', 'Fruits and Vegetables', 'Snack Foods', 'Household']\n",
        "\n",
        "filtered_top5_df = df[df['Item_Type'].isin(Top5_Item_List)]\n",
        "filtered_top5_df.head()"
      ],
      "metadata": {
        "colab": {
          "base_uri": "https://localhost:8080/",
          "height": 313
        },
        "id": "HKNgw3y_V6bm",
        "outputId": "54d9b7bf-7b79-401a-f2e1-23e513d63fc8"
      },
      "execution_count": 41,
      "outputs": [
        {
          "output_type": "execute_result",
          "data": {
            "text/plain": [
              "    Item_Weight Item_Fat_Content  Item_Visibility              Item_Type  \\\n",
              "3         19.20          Regular         0.000000  Fruits and Vegetables   \n",
              "4          8.93          Low Fat         0.000000              Household   \n",
              "6         13.65          Regular         0.012741            Snack Foods   \n",
              "7           NaN          Low Fat         0.127470            Snack Foods   \n",
              "10        11.80          Low Fat         0.000000  Fruits and Vegetables   \n",
              "\n",
              "    Item_MRP     Outlet_Establishment_Year Outlet_Size Outlet_Location_Type  \\\n",
              "3   182.0950 1970-01-01 00:00:00.000001998         NaN               Tier 3   \n",
              "4    53.8614 1970-01-01 00:00:00.000001987        High               Tier 3   \n",
              "6    57.6588 1970-01-01 00:00:00.000001987        High               Tier 3   \n",
              "7   107.7622 1970-01-01 00:00:00.000001985      Medium               Tier 3   \n",
              "10   45.5402 1970-01-01 00:00:00.000001999      Medium               Tier 1   \n",
              "\n",
              "          Outlet_Type  Item_Outlet_Sales  \n",
              "3       Grocery Store           732.3800  \n",
              "4   Supermarket Type1           994.7052  \n",
              "6   Supermarket Type1           343.5528  \n",
              "7   Supermarket Type3          4022.7636  \n",
              "10  Supermarket Type1          1516.0266  "
            ],
            "text/html": [
              "\n",
              "  <div id=\"df-1853bcfd-0170-405d-957e-a1fa7c6cae2f\" class=\"colab-df-container\">\n",
              "    <div>\n",
              "<style scoped>\n",
              "    .dataframe tbody tr th:only-of-type {\n",
              "        vertical-align: middle;\n",
              "    }\n",
              "\n",
              "    .dataframe tbody tr th {\n",
              "        vertical-align: top;\n",
              "    }\n",
              "\n",
              "    .dataframe thead th {\n",
              "        text-align: right;\n",
              "    }\n",
              "</style>\n",
              "<table border=\"1\" class=\"dataframe\">\n",
              "  <thead>\n",
              "    <tr style=\"text-align: right;\">\n",
              "      <th></th>\n",
              "      <th>Item_Weight</th>\n",
              "      <th>Item_Fat_Content</th>\n",
              "      <th>Item_Visibility</th>\n",
              "      <th>Item_Type</th>\n",
              "      <th>Item_MRP</th>\n",
              "      <th>Outlet_Establishment_Year</th>\n",
              "      <th>Outlet_Size</th>\n",
              "      <th>Outlet_Location_Type</th>\n",
              "      <th>Outlet_Type</th>\n",
              "      <th>Item_Outlet_Sales</th>\n",
              "    </tr>\n",
              "  </thead>\n",
              "  <tbody>\n",
              "    <tr>\n",
              "      <th>3</th>\n",
              "      <td>19.20</td>\n",
              "      <td>Regular</td>\n",
              "      <td>0.000000</td>\n",
              "      <td>Fruits and Vegetables</td>\n",
              "      <td>182.0950</td>\n",
              "      <td>1970-01-01 00:00:00.000001998</td>\n",
              "      <td>NaN</td>\n",
              "      <td>Tier 3</td>\n",
              "      <td>Grocery Store</td>\n",
              "      <td>732.3800</td>\n",
              "    </tr>\n",
              "    <tr>\n",
              "      <th>4</th>\n",
              "      <td>8.93</td>\n",
              "      <td>Low Fat</td>\n",
              "      <td>0.000000</td>\n",
              "      <td>Household</td>\n",
              "      <td>53.8614</td>\n",
              "      <td>1970-01-01 00:00:00.000001987</td>\n",
              "      <td>High</td>\n",
              "      <td>Tier 3</td>\n",
              "      <td>Supermarket Type1</td>\n",
              "      <td>994.7052</td>\n",
              "    </tr>\n",
              "    <tr>\n",
              "      <th>6</th>\n",
              "      <td>13.65</td>\n",
              "      <td>Regular</td>\n",
              "      <td>0.012741</td>\n",
              "      <td>Snack Foods</td>\n",
              "      <td>57.6588</td>\n",
              "      <td>1970-01-01 00:00:00.000001987</td>\n",
              "      <td>High</td>\n",
              "      <td>Tier 3</td>\n",
              "      <td>Supermarket Type1</td>\n",
              "      <td>343.5528</td>\n",
              "    </tr>\n",
              "    <tr>\n",
              "      <th>7</th>\n",
              "      <td>NaN</td>\n",
              "      <td>Low Fat</td>\n",
              "      <td>0.127470</td>\n",
              "      <td>Snack Foods</td>\n",
              "      <td>107.7622</td>\n",
              "      <td>1970-01-01 00:00:00.000001985</td>\n",
              "      <td>Medium</td>\n",
              "      <td>Tier 3</td>\n",
              "      <td>Supermarket Type3</td>\n",
              "      <td>4022.7636</td>\n",
              "    </tr>\n",
              "    <tr>\n",
              "      <th>10</th>\n",
              "      <td>11.80</td>\n",
              "      <td>Low Fat</td>\n",
              "      <td>0.000000</td>\n",
              "      <td>Fruits and Vegetables</td>\n",
              "      <td>45.5402</td>\n",
              "      <td>1970-01-01 00:00:00.000001999</td>\n",
              "      <td>Medium</td>\n",
              "      <td>Tier 1</td>\n",
              "      <td>Supermarket Type1</td>\n",
              "      <td>1516.0266</td>\n",
              "    </tr>\n",
              "  </tbody>\n",
              "</table>\n",
              "</div>\n",
              "    <div class=\"colab-df-buttons\">\n",
              "\n",
              "  <div class=\"colab-df-container\">\n",
              "    <button class=\"colab-df-convert\" onclick=\"convertToInteractive('df-1853bcfd-0170-405d-957e-a1fa7c6cae2f')\"\n",
              "            title=\"Convert this dataframe to an interactive table.\"\n",
              "            style=\"display:none;\">\n",
              "\n",
              "  <svg xmlns=\"http://www.w3.org/2000/svg\" height=\"24px\" viewBox=\"0 -960 960 960\">\n",
              "    <path d=\"M120-120v-720h720v720H120Zm60-500h600v-160H180v160Zm220 220h160v-160H400v160Zm0 220h160v-160H400v160ZM180-400h160v-160H180v160Zm440 0h160v-160H620v160ZM180-180h160v-160H180v160Zm440 0h160v-160H620v160Z\"/>\n",
              "  </svg>\n",
              "    </button>\n",
              "\n",
              "  <style>\n",
              "    .colab-df-container {\n",
              "      display:flex;\n",
              "      gap: 12px;\n",
              "    }\n",
              "\n",
              "    .colab-df-convert {\n",
              "      background-color: #E8F0FE;\n",
              "      border: none;\n",
              "      border-radius: 50%;\n",
              "      cursor: pointer;\n",
              "      display: none;\n",
              "      fill: #1967D2;\n",
              "      height: 32px;\n",
              "      padding: 0 0 0 0;\n",
              "      width: 32px;\n",
              "    }\n",
              "\n",
              "    .colab-df-convert:hover {\n",
              "      background-color: #E2EBFA;\n",
              "      box-shadow: 0px 1px 2px rgba(60, 64, 67, 0.3), 0px 1px 3px 1px rgba(60, 64, 67, 0.15);\n",
              "      fill: #174EA6;\n",
              "    }\n",
              "\n",
              "    .colab-df-buttons div {\n",
              "      margin-bottom: 4px;\n",
              "    }\n",
              "\n",
              "    [theme=dark] .colab-df-convert {\n",
              "      background-color: #3B4455;\n",
              "      fill: #D2E3FC;\n",
              "    }\n",
              "\n",
              "    [theme=dark] .colab-df-convert:hover {\n",
              "      background-color: #434B5C;\n",
              "      box-shadow: 0px 1px 3px 1px rgba(0, 0, 0, 0.15);\n",
              "      filter: drop-shadow(0px 1px 2px rgba(0, 0, 0, 0.3));\n",
              "      fill: #FFFFFF;\n",
              "    }\n",
              "  </style>\n",
              "\n",
              "    <script>\n",
              "      const buttonEl =\n",
              "        document.querySelector('#df-1853bcfd-0170-405d-957e-a1fa7c6cae2f button.colab-df-convert');\n",
              "      buttonEl.style.display =\n",
              "        google.colab.kernel.accessAllowed ? 'block' : 'none';\n",
              "\n",
              "      async function convertToInteractive(key) {\n",
              "        const element = document.querySelector('#df-1853bcfd-0170-405d-957e-a1fa7c6cae2f');\n",
              "        const dataTable =\n",
              "          await google.colab.kernel.invokeFunction('convertToInteractive',\n",
              "                                                    [key], {});\n",
              "        if (!dataTable) return;\n",
              "\n",
              "        const docLinkHtml = 'Like what you see? Visit the ' +\n",
              "          '<a target=\"_blank\" href=https://colab.research.google.com/notebooks/data_table.ipynb>data table notebook</a>'\n",
              "          + ' to learn more about interactive tables.';\n",
              "        element.innerHTML = '';\n",
              "        dataTable['output_type'] = 'display_data';\n",
              "        await google.colab.output.renderOutput(dataTable, element);\n",
              "        const docLink = document.createElement('div');\n",
              "        docLink.innerHTML = docLinkHtml;\n",
              "        element.appendChild(docLink);\n",
              "      }\n",
              "    </script>\n",
              "  </div>\n",
              "\n",
              "\n",
              "<div id=\"df-9be06dd8-0541-4b94-9963-9c2cdc34028e\">\n",
              "  <button class=\"colab-df-quickchart\" onclick=\"quickchart('df-9be06dd8-0541-4b94-9963-9c2cdc34028e')\"\n",
              "            title=\"Suggest charts.\"\n",
              "            style=\"display:none;\">\n",
              "\n",
              "<svg xmlns=\"http://www.w3.org/2000/svg\" height=\"24px\"viewBox=\"0 0 24 24\"\n",
              "     width=\"24px\">\n",
              "    <g>\n",
              "        <path d=\"M19 3H5c-1.1 0-2 .9-2 2v14c0 1.1.9 2 2 2h14c1.1 0 2-.9 2-2V5c0-1.1-.9-2-2-2zM9 17H7v-7h2v7zm4 0h-2V7h2v10zm4 0h-2v-4h2v4z\"/>\n",
              "    </g>\n",
              "</svg>\n",
              "  </button>\n",
              "\n",
              "<style>\n",
              "  .colab-df-quickchart {\n",
              "      --bg-color: #E8F0FE;\n",
              "      --fill-color: #1967D2;\n",
              "      --hover-bg-color: #E2EBFA;\n",
              "      --hover-fill-color: #174EA6;\n",
              "      --disabled-fill-color: #AAA;\n",
              "      --disabled-bg-color: #DDD;\n",
              "  }\n",
              "\n",
              "  [theme=dark] .colab-df-quickchart {\n",
              "      --bg-color: #3B4455;\n",
              "      --fill-color: #D2E3FC;\n",
              "      --hover-bg-color: #434B5C;\n",
              "      --hover-fill-color: #FFFFFF;\n",
              "      --disabled-bg-color: #3B4455;\n",
              "      --disabled-fill-color: #666;\n",
              "  }\n",
              "\n",
              "  .colab-df-quickchart {\n",
              "    background-color: var(--bg-color);\n",
              "    border: none;\n",
              "    border-radius: 50%;\n",
              "    cursor: pointer;\n",
              "    display: none;\n",
              "    fill: var(--fill-color);\n",
              "    height: 32px;\n",
              "    padding: 0;\n",
              "    width: 32px;\n",
              "  }\n",
              "\n",
              "  .colab-df-quickchart:hover {\n",
              "    background-color: var(--hover-bg-color);\n",
              "    box-shadow: 0 1px 2px rgba(60, 64, 67, 0.3), 0 1px 3px 1px rgba(60, 64, 67, 0.15);\n",
              "    fill: var(--button-hover-fill-color);\n",
              "  }\n",
              "\n",
              "  .colab-df-quickchart-complete:disabled,\n",
              "  .colab-df-quickchart-complete:disabled:hover {\n",
              "    background-color: var(--disabled-bg-color);\n",
              "    fill: var(--disabled-fill-color);\n",
              "    box-shadow: none;\n",
              "  }\n",
              "\n",
              "  .colab-df-spinner {\n",
              "    border: 2px solid var(--fill-color);\n",
              "    border-color: transparent;\n",
              "    border-bottom-color: var(--fill-color);\n",
              "    animation:\n",
              "      spin 1s steps(1) infinite;\n",
              "  }\n",
              "\n",
              "  @keyframes spin {\n",
              "    0% {\n",
              "      border-color: transparent;\n",
              "      border-bottom-color: var(--fill-color);\n",
              "      border-left-color: var(--fill-color);\n",
              "    }\n",
              "    20% {\n",
              "      border-color: transparent;\n",
              "      border-left-color: var(--fill-color);\n",
              "      border-top-color: var(--fill-color);\n",
              "    }\n",
              "    30% {\n",
              "      border-color: transparent;\n",
              "      border-left-color: var(--fill-color);\n",
              "      border-top-color: var(--fill-color);\n",
              "      border-right-color: var(--fill-color);\n",
              "    }\n",
              "    40% {\n",
              "      border-color: transparent;\n",
              "      border-right-color: var(--fill-color);\n",
              "      border-top-color: var(--fill-color);\n",
              "    }\n",
              "    60% {\n",
              "      border-color: transparent;\n",
              "      border-right-color: var(--fill-color);\n",
              "    }\n",
              "    80% {\n",
              "      border-color: transparent;\n",
              "      border-right-color: var(--fill-color);\n",
              "      border-bottom-color: var(--fill-color);\n",
              "    }\n",
              "    90% {\n",
              "      border-color: transparent;\n",
              "      border-bottom-color: var(--fill-color);\n",
              "    }\n",
              "  }\n",
              "</style>\n",
              "\n",
              "  <script>\n",
              "    async function quickchart(key) {\n",
              "      const quickchartButtonEl =\n",
              "        document.querySelector('#' + key + ' button');\n",
              "      quickchartButtonEl.disabled = true;  // To prevent multiple clicks.\n",
              "      quickchartButtonEl.classList.add('colab-df-spinner');\n",
              "      try {\n",
              "        const charts = await google.colab.kernel.invokeFunction(\n",
              "            'suggestCharts', [key], {});\n",
              "      } catch (error) {\n",
              "        console.error('Error during call to suggestCharts:', error);\n",
              "      }\n",
              "      quickchartButtonEl.classList.remove('colab-df-spinner');\n",
              "      quickchartButtonEl.classList.add('colab-df-quickchart-complete');\n",
              "    }\n",
              "    (() => {\n",
              "      let quickchartButtonEl =\n",
              "        document.querySelector('#df-9be06dd8-0541-4b94-9963-9c2cdc34028e button');\n",
              "      quickchartButtonEl.style.display =\n",
              "        google.colab.kernel.accessAllowed ? 'block' : 'none';\n",
              "    })();\n",
              "  </script>\n",
              "</div>\n",
              "    </div>\n",
              "  </div>\n"
            ]
          },
          "metadata": {},
          "execution_count": 41
        }
      ]
    },
    {
      "cell_type": "code",
      "source": [
        "# Outlet Sales by Item_Type and Item_Fat_Content\n",
        "# Seaborn\n",
        "fig, ax = plt.subplots(figsize=(10, 6))\n",
        "\n",
        "# Create barplot, set x and y and hue\n",
        "# plt.barh(avg_item_sales.index, avg_item_sales.values)\n",
        "sns.barplot(data=filtered_top5_df, x = 'Item_Outlet_Sales', y = 'Item_Type', hue = 'Item_Fat_Content')\n",
        "\n",
        "# Set Title\n",
        "ax.set_title('Top 5 Items with the Highest Sales', fontsize=14)\n",
        "\n",
        "plt.show();"
      ],
      "metadata": {
        "colab": {
          "base_uri": "https://localhost:8080/",
          "height": 565
        },
        "id": "9vSriy83V-yi",
        "outputId": "3c1cf924-21e6-473a-c647-7bdf2273a081"
      },
      "execution_count": 42,
      "outputs": [
        {
          "output_type": "display_data",
          "data": {
            "text/plain": [
              "<Figure size 1000x600 with 1 Axes>"
            ],
            "image/png": "[encoded data removed]"
          },
          "metadata": {}
        }
      ]
    },
    {
      "cell_type": "markdown",
      "source": [
        "The data suggest that among the top 5 items with highest sales, Seafood with regular fat content has better sales performance than Seafood with low fat content."
      ],
      "metadata": {
        "id": "A7s6lro7WTnX"
      }
    },
    {
      "cell_type": "code",
      "source": [
        "# filter data (bottom 5)\n",
        "\n",
        "item_type_bottom5 = df.groupby('Item_Type')['Item_Outlet_Sales'].mean().sort_values(ascending = True).head(5)\n",
        "item_type_bottom5"
      ],
      "metadata": {
        "colab": {
          "base_uri": "https://localhost:8080/"
        },
        "id": "4tsxs4UwWCTq",
        "outputId": "82971654-457c-4642-d438-e1de450e185e"
      },
      "execution_count": 43,
      "outputs": [
        {
          "output_type": "execute_result",
          "data": {
            "text/plain": [
              "Item_Type\n",
              "Others                1926.139702\n",
              "Baking Goods          1952.971207\n",
              "Soft Drinks           2006.511735\n",
              "Health and Hygiene    2010.000265\n",
              "Breakfast             2111.808651\n",
              "Name: Item_Outlet_Sales, dtype: float64"
            ]
          },
          "metadata": {},
          "execution_count": 43
        }
      ]
    },
    {
      "cell_type": "code",
      "source": [
        "# use the variable to sort values by bottom 5 Item Type\n",
        "item_type_bottom5 = item_type_bottom5.sort_values(ascending = True)\n",
        "\n",
        "# Plot the horizontal bar sorted from highest to lowest\n",
        "plt.figure(figsize=(10,5))\n",
        "plt.barh(item_type_bottom5.index, item_type_bottom5.values)\n",
        "\n",
        "# Labels and Title\n",
        "plt.ylabel('Item_Type')\n",
        "plt.xlabel('Item_Outlet_Sales')\n",
        "plt.title(\"Bottom 5 Lowest Sales\")\n",
        "\n",
        "plt.show();"
      ],
      "metadata": {
        "colab": {
          "base_uri": "https://localhost:8080/",
          "height": 487
        },
        "id": "ogKHcEFuWFf2",
        "outputId": "a990ba44-1a4a-479f-8e4c-f4cec597f699"
      },
      "execution_count": 44,
      "outputs": [
        {
          "output_type": "display_data",
          "data": {
            "text/plain": [
              "<Figure size 1000x500 with 1 Axes>"
            ],
            "image/png": "[encoded data removed]"
          },
          "metadata": {}
        }
      ]
    },
    {
      "cell_type": "markdown",
      "source": [
        "Filter the bottom 5 so we can only focus on the items with the lowest sales: others, baking goods, soft drinks, health and hygiene, breakfast."
      ],
      "metadata": {
        "id": "xBIUImglaj8y"
      }
    },
    {
      "cell_type": "code",
      "source": [
        "Bottom5_Item_List = ['Others', 'Baking Goods', 'Soft Drinks', 'Health and Hygiene', 'Breakfast']\n",
        "\n",
        "filtered_bottom5_df = df[df['Item_Type'].isin(Bottom5_Item_List)]\n",
        "filtered_bottom5_df.head()"
      ],
      "metadata": {
        "colab": {
          "base_uri": "https://localhost:8080/",
          "height": 313
        },
        "id": "JU9faaVoWInn",
        "outputId": "b01c4e02-3aba-497d-edb6-48c8f97d17c8"
      },
      "execution_count": 45,
      "outputs": [
        {
          "output_type": "execute_result",
          "data": {
            "text/plain": [
              "    Item_Weight Item_Fat_Content  Item_Visibility           Item_Type  \\\n",
              "1         5.920          Regular         0.019278         Soft Drinks   \n",
              "5        10.395          Regular         0.000000        Baking Goods   \n",
              "15        9.000          Regular         0.069089           Breakfast   \n",
              "16       11.800          Low Fat         0.008596  Health and Hygiene   \n",
              "17        9.000          Regular         0.069196           Breakfast   \n",
              "\n",
              "    Item_MRP     Outlet_Establishment_Year Outlet_Size Outlet_Location_Type  \\\n",
              "1    48.2692 1970-01-01 00:00:00.000002009      Medium               Tier 3   \n",
              "5    51.4008 1970-01-01 00:00:00.000002009      Medium               Tier 3   \n",
              "15   56.3614 1970-01-01 00:00:00.000001997       Small               Tier 1   \n",
              "16  115.3492 1970-01-01 00:00:00.000002009      Medium               Tier 3   \n",
              "17   54.3614 1970-01-01 00:00:00.000001999      Medium               Tier 1   \n",
              "\n",
              "          Outlet_Type  Item_Outlet_Sales  \n",
              "1   Supermarket Type2           443.4228  \n",
              "5   Supermarket Type2           556.6088  \n",
              "15  Supermarket Type1          1547.3192  \n",
              "16  Supermarket Type2          1621.8888  \n",
              "17  Supermarket Type1           718.3982  "
            ],
            "text/html": [
              "\n",
              "  <div id=\"df-4edec0be-33f1-4ef6-ab75-c04c801d755f\" class=\"colab-df-container\">\n",
              "    <div>\n",
              "<style scoped>\n",
              "    .dataframe tbody tr th:only-of-type {\n",
              "        vertical-align: middle;\n",
              "    }\n",
              "\n",
              "    .dataframe tbody tr th {\n",
              "        vertical-align: top;\n",
              "    }\n",
              "\n",
              "    .dataframe thead th {\n",
              "        text-align: right;\n",
              "    }\n",
              "</style>\n",
              "<table border=\"1\" class=\"dataframe\">\n",
              "  <thead>\n",
              "    <tr style=\"text-align: right;\">\n",
              "      <th></th>\n",
              "      <th>Item_Weight</th>\n",
              "      <th>Item_Fat_Content</th>\n",
              "      <th>Item_Visibility</th>\n",
              "      <th>Item_Type</th>\n",
              "      <th>Item_MRP</th>\n",
              "      <th>Outlet_Establishment_Year</th>\n",
              "      <th>Outlet_Size</th>\n",
              "      <th>Outlet_Location_Type</th>\n",
              "      <th>Outlet_Type</th>\n",
              "      <th>Item_Outlet_Sales</th>\n",
              "    </tr>\n",
              "  </thead>\n",
              "  <tbody>\n",
              "    <tr>\n",
              "      <th>1</th>\n",
              "      <td>5.920</td>\n",
              "      <td>Regular</td>\n",
              "      <td>0.019278</td>\n",
              "      <td>Soft Drinks</td>\n",
              "      <td>48.2692</td>\n",
              "      <td>1970-01-01 00:00:00.000002009</td>\n",
              "      <td>Medium</td>\n",
              "      <td>Tier 3</td>\n",
              "      <td>Supermarket Type2</td>\n",
              "      <td>443.4228</td>\n",
              "    </tr>\n",
              "    <tr>\n",
              "      <th>5</th>\n",
              "      <td>10.395</td>\n",
              "      <td>Regular</td>\n",
              "      <td>0.000000</td>\n",
              "      <td>Baking Goods</td>\n",
              "      <td>51.4008</td>\n",
              "      <td>1970-01-01 00:00:00.000002009</td>\n",
              "      <td>Medium</td>\n",
              "      <td>Tier 3</td>\n",
              "      <td>Supermarket Type2</td>\n",
              "      <td>556.6088</td>\n",
              "    </tr>\n",
              "    <tr>\n",
              "      <th>15</th>\n",
              "      <td>9.000</td>\n",
              "      <td>Regular</td>\n",
              "      <td>0.069089</td>\n",
              "      <td>Breakfast</td>\n",
              "      <td>56.3614</td>\n",
              "      <td>1970-01-01 00:00:00.000001997</td>\n",
              "      <td>Small</td>\n",
              "      <td>Tier 1</td>\n",
              "      <td>Supermarket Type1</td>\n",
              "      <td>1547.3192</td>\n",
              "    </tr>\n",
              "    <tr>\n",
              "      <th>16</th>\n",
              "      <td>11.800</td>\n",
              "      <td>Low Fat</td>\n",
              "      <td>0.008596</td>\n",
              "      <td>Health and Hygiene</td>\n",
              "      <td>115.3492</td>\n",
              "      <td>1970-01-01 00:00:00.000002009</td>\n",
              "      <td>Medium</td>\n",
              "      <td>Tier 3</td>\n",
              "      <td>Supermarket Type2</td>\n",
              "      <td>1621.8888</td>\n",
              "    </tr>\n",
              "    <tr>\n",
              "      <th>17</th>\n",
              "      <td>9.000</td>\n",
              "      <td>Regular</td>\n",
              "      <td>0.069196</td>\n",
              "      <td>Breakfast</td>\n",
              "      <td>54.3614</td>\n",
              "      <td>1970-01-01 00:00:00.000001999</td>\n",
              "      <td>Medium</td>\n",
              "      <td>Tier 1</td>\n",
              "      <td>Supermarket Type1</td>\n",
              "      <td>718.3982</td>\n",
              "    </tr>\n",
              "  </tbody>\n",
              "</table>\n",
              "</div>\n",
              "    <div class=\"colab-df-buttons\">\n",
              "\n",
              "  <div class=\"colab-df-container\">\n",
              "    <button class=\"colab-df-convert\" onclick=\"convertToInteractive('df-4edec0be-33f1-4ef6-ab75-c04c801d755f')\"\n",
              "            title=\"Convert this dataframe to an interactive table.\"\n",
              "            style=\"display:none;\">\n",
              "\n",
              "  <svg xmlns=\"http://www.w3.org/2000/svg\" height=\"24px\" viewBox=\"0 -960 960 960\">\n",
              "    <path d=\"M120-120v-720h720v720H120Zm60-500h600v-160H180v160Zm220 220h160v-160H400v160Zm0 220h160v-160H400v160ZM180-400h160v-160H180v160Zm440 0h160v-160H620v160ZM180-180h160v-160H180v160Zm440 0h160v-160H620v160Z\"/>\n",
              "  </svg>\n",
              "    </button>\n",
              "\n",
              "  <style>\n",
              "    .colab-df-container {\n",
              "      display:flex;\n",
              "      gap: 12px;\n",
              "    }\n",
              "\n",
              "    .colab-df-convert {\n",
              "      background-color: #E8F0FE;\n",
              "      border: none;\n",
              "      border-radius: 50%;\n",
              "      cursor: pointer;\n",
              "      display: none;\n",
              "      fill: #1967D2;\n",
              "      height: 32px;\n",
              "      padding: 0 0 0 0;\n",
              "      width: 32px;\n",
              "    }\n",
              "\n",
              "    .colab-df-convert:hover {\n",
              "      background-color: #E2EBFA;\n",
              "      box-shadow: 0px 1px 2px rgba(60, 64, 67, 0.3), 0px 1px 3px 1px rgba(60, 64, 67, 0.15);\n",
              "      fill: #174EA6;\n",
              "    }\n",
              "\n",
              "    .colab-df-buttons div {\n",
              "      margin-bottom: 4px;\n",
              "    }\n",
              "\n",
              "    [theme=dark] .colab-df-convert {\n",
              "      background-color: #3B4455;\n",
              "      fill: #D2E3FC;\n",
              "    }\n",
              "\n",
              "    [theme=dark] .colab-df-convert:hover {\n",
              "      background-color: #434B5C;\n",
              "      box-shadow: 0px 1px 3px 1px rgba(0, 0, 0, 0.15);\n",
              "      filter: drop-shadow(0px 1px 2px rgba(0, 0, 0, 0.3));\n",
              "      fill: #FFFFFF;\n",
              "    }\n",
              "  </style>\n",
              "\n",
              "    <script>\n",
              "      const buttonEl =\n",
              "        document.querySelector('#df-4edec0be-33f1-4ef6-ab75-c04c801d755f button.colab-df-convert');\n",
              "      buttonEl.style.display =\n",
              "        google.colab.kernel.accessAllowed ? 'block' : 'none';\n",
              "\n",
              "      async function convertToInteractive(key) {\n",
              "        const element = document.querySelector('#df-4edec0be-33f1-4ef6-ab75-c04c801d755f');\n",
              "        const dataTable =\n",
              "          await google.colab.kernel.invokeFunction('convertToInteractive',\n",
              "                                                    [key], {});\n",
              "        if (!dataTable) return;\n",
              "\n",
              "        const docLinkHtml = 'Like what you see? Visit the ' +\n",
              "          '<a target=\"_blank\" href=https://colab.research.google.com/notebooks/data_table.ipynb>data table notebook</a>'\n",
              "          + ' to learn more about interactive tables.';\n",
              "        element.innerHTML = '';\n",
              "        dataTable['output_type'] = 'display_data';\n",
              "        await google.colab.output.renderOutput(dataTable, element);\n",
              "        const docLink = document.createElement('div');\n",
              "        docLink.innerHTML = docLinkHtml;\n",
              "        element.appendChild(docLink);\n",
              "      }\n",
              "    </script>\n",
              "  </div>\n",
              "\n",
              "\n",
              "<div id=\"df-93d9606d-9cb2-43d5-8497-17da26678a2c\">\n",
              "  <button class=\"colab-df-quickchart\" onclick=\"quickchart('df-93d9606d-9cb2-43d5-8497-17da26678a2c')\"\n",
              "            title=\"Suggest charts.\"\n",
              "            style=\"display:none;\">\n",
              "\n",
              "<svg xmlns=\"http://www.w3.org/2000/svg\" height=\"24px\"viewBox=\"0 0 24 24\"\n",
              "     width=\"24px\">\n",
              "    <g>\n",
              "        <path d=\"M19 3H5c-1.1 0-2 .9-2 2v14c0 1.1.9 2 2 2h14c1.1 0 2-.9 2-2V5c0-1.1-.9-2-2-2zM9 17H7v-7h2v7zm4 0h-2V7h2v10zm4 0h-2v-4h2v4z\"/>\n",
              "    </g>\n",
              "</svg>\n",
              "  </button>\n",
              "\n",
              "<style>\n",
              "  .colab-df-quickchart {\n",
              "      --bg-color: #E8F0FE;\n",
              "      --fill-color: #1967D2;\n",
              "      --hover-bg-color: #E2EBFA;\n",
              "      --hover-fill-color: #174EA6;\n",
              "      --disabled-fill-color: #AAA;\n",
              "      --disabled-bg-color: #DDD;\n",
              "  }\n",
              "\n",
              "  [theme=dark] .colab-df-quickchart {\n",
              "      --bg-color: #3B4455;\n",
              "      --fill-color: #D2E3FC;\n",
              "      --hover-bg-color: #434B5C;\n",
              "      --hover-fill-color: #FFFFFF;\n",
              "      --disabled-bg-color: #3B4455;\n",
              "      --disabled-fill-color: #666;\n",
              "  }\n",
              "\n",
              "  .colab-df-quickchart {\n",
              "    background-color: var(--bg-color);\n",
              "    border: none;\n",
              "    border-radius: 50%;\n",
              "    cursor: pointer;\n",
              "    display: none;\n",
              "    fill: var(--fill-color);\n",
              "    height: 32px;\n",
              "    padding: 0;\n",
              "    width: 32px;\n",
              "  }\n",
              "\n",
              "  .colab-df-quickchart:hover {\n",
              "    background-color: var(--hover-bg-color);\n",
              "    box-shadow: 0 1px 2px rgba(60, 64, 67, 0.3), 0 1px 3px 1px rgba(60, 64, 67, 0.15);\n",
              "    fill: var(--button-hover-fill-color);\n",
              "  }\n",
              "\n",
              "  .colab-df-quickchart-complete:disabled,\n",
              "  .colab-df-quickchart-complete:disabled:hover {\n",
              "    background-color: var(--disabled-bg-color);\n",
              "    fill: var(--disabled-fill-color);\n",
              "    box-shadow: none;\n",
              "  }\n",
              "\n",
              "  .colab-df-spinner {\n",
              "    border: 2px solid var(--fill-color);\n",
              "    border-color: transparent;\n",
              "    border-bottom-color: var(--fill-color);\n",
              "    animation:\n",
              "      spin 1s steps(1) infinite;\n",
              "  }\n",
              "\n",
              "  @keyframes spin {\n",
              "    0% {\n",
              "      border-color: transparent;\n",
              "      border-bottom-color: var(--fill-color);\n",
              "      border-left-color: var(--fill-color);\n",
              "    }\n",
              "    20% {\n",
              "      border-color: transparent;\n",
              "      border-left-color: var(--fill-color);\n",
              "      border-top-color: var(--fill-color);\n",
              "    }\n",
              "    30% {\n",
              "      border-color: transparent;\n",
              "      border-left-color: var(--fill-color);\n",
              "      border-top-color: var(--fill-color);\n",
              "      border-right-color: var(--fill-color);\n",
              "    }\n",
              "    40% {\n",
              "      border-color: transparent;\n",
              "      border-right-color: var(--fill-color);\n",
              "      border-top-color: var(--fill-color);\n",
              "    }\n",
              "    60% {\n",
              "      border-color: transparent;\n",
              "      border-right-color: var(--fill-color);\n",
              "    }\n",
              "    80% {\n",
              "      border-color: transparent;\n",
              "      border-right-color: var(--fill-color);\n",
              "      border-bottom-color: var(--fill-color);\n",
              "    }\n",
              "    90% {\n",
              "      border-color: transparent;\n",
              "      border-bottom-color: var(--fill-color);\n",
              "    }\n",
              "  }\n",
              "</style>\n",
              "\n",
              "  <script>\n",
              "    async function quickchart(key) {\n",
              "      const quickchartButtonEl =\n",
              "        document.querySelector('#' + key + ' button');\n",
              "      quickchartButtonEl.disabled = true;  // To prevent multiple clicks.\n",
              "      quickchartButtonEl.classList.add('colab-df-spinner');\n",
              "      try {\n",
              "        const charts = await google.colab.kernel.invokeFunction(\n",
              "            'suggestCharts', [key], {});\n",
              "      } catch (error) {\n",
              "        console.error('Error during call to suggestCharts:', error);\n",
              "      }\n",
              "      quickchartButtonEl.classList.remove('colab-df-spinner');\n",
              "      quickchartButtonEl.classList.add('colab-df-quickchart-complete');\n",
              "    }\n",
              "    (() => {\n",
              "      let quickchartButtonEl =\n",
              "        document.querySelector('#df-93d9606d-9cb2-43d5-8497-17da26678a2c button');\n",
              "      quickchartButtonEl.style.display =\n",
              "        google.colab.kernel.accessAllowed ? 'block' : 'none';\n",
              "    })();\n",
              "  </script>\n",
              "</div>\n",
              "    </div>\n",
              "  </div>\n"
            ]
          },
          "metadata": {},
          "execution_count": 45
        }
      ]
    },
    {
      "cell_type": "code",
      "source": [
        "# Outlet Sales by Item_Type and Item_Fat_Content\n",
        "# Seaborn\n",
        "fig, ax = plt.subplots(figsize=(10, 6))\n",
        "\n",
        "# Create barplot, set x and y and hue\n",
        "# plt.barh(avg_item_sales.index, avg_item_sales.values)\n",
        "sns.barplot(data=filtered_bottom5_df, x = 'Item_Outlet_Sales', y = 'Item_Type', hue = 'Item_Fat_Content')\n",
        "\n",
        "# Set Title\n",
        "ax.set_title('Bottom 5 Items with the Lowest Sales', fontsize=14)\n",
        "\n",
        "plt.show();"
      ],
      "metadata": {
        "colab": {
          "base_uri": "https://localhost:8080/",
          "height": 565
        },
        "id": "pPBtVlqSWM1V",
        "outputId": "01995baf-3441-4070-9d6d-5529d9d4de42"
      },
      "execution_count": 46,
      "outputs": [
        {
          "output_type": "display_data",
          "data": {
            "text/plain": [
              "<Figure size 1000x600 with 1 Axes>"
            ],
            "image/png": "[encoded data removed]"
          },
          "metadata": {}
        }
      ]
    },
    {
      "cell_type": "markdown",
      "source": [
        "The data suggest that sales of breakfast and softdrinks (which are ranked 5th and 3rd among the items with lowest sales, respectively) with low fat are much higher than if they have regular fat content.\n",
        "\n",
        "Others which is ranked last among the bottom 5 items with lowest sales are sold with low fat content only, same with Health and Hygiene.\n",
        "\n",
        "This further suggest that fat content in the item type is not posively correlated with the sales performance of the items as also shown in the heatmap (no correlation).\n"
      ],
      "metadata": {
        "id": "SaoFKLn7X0BH"
      }
    },
    {
      "cell_type": "markdown",
      "source": [
        "# ML Steps\n",
        "\n",
        "Split the data (X, y and train, test)\n",
        "\n",
        "Instantiate the Transformers and column selectors\n",
        "\n",
        "Create numeric preprocessing pipeline and categorical preprocessing pipeline\n",
        "\n",
        "Combine pipelines using column transformer\n",
        "\n",
        "Fit preprocessor on X_train\n",
        "\n",
        "Transform both X_train and X_test\n",
        "\n",
        "(Optional) convert processed X_train back to a dataframe."
      ],
      "metadata": {
        "id": "ybppmKS2LhNs"
      }
    },
    {
      "cell_type": "code",
      "source": [
        "# check statistics\n",
        "df.describe()"
      ],
      "metadata": {
        "colab": {
          "base_uri": "https://localhost:8080/",
          "height": 300
        },
        "id": "SKS2ilHuMVXH",
        "outputId": "387f0491-1f9e-4910-919a-ba3b3efcf8ee"
      },
      "execution_count": 47,
      "outputs": [
        {
          "output_type": "execute_result",
          "data": {
            "text/plain": [
              "       Item_Weight  Item_Visibility     Item_MRP  Item_Outlet_Sales\n",
              "count  7060.000000      8523.000000  8523.000000        8523.000000\n",
              "mean     12.857645         0.066132   140.992782        2181.288914\n",
              "std       4.643456         0.051598    62.275067        1706.499616\n",
              "min       4.555000         0.000000    31.290000          33.290000\n",
              "25%       8.773750         0.026989    93.826500         834.247400\n",
              "50%      12.600000         0.053931   143.012800        1794.331000\n",
              "75%      16.850000         0.094585   185.643700        3101.296400\n",
              "max      21.350000         0.328391   266.888400       13086.964800"
            ],
            "text/html": [
              "\n",
              "  <div id=\"df-8a4b0990-ad15-49e9-ad4b-9e482e0f42bc\" class=\"colab-df-container\">\n",
              "    <div>\n",
              "<style scoped>\n",
              "    .dataframe tbody tr th:only-of-type {\n",
              "        vertical-align: middle;\n",
              "    }\n",
              "\n",
              "    .dataframe tbody tr th {\n",
              "        vertical-align: top;\n",
              "    }\n",
              "\n",
              "    .dataframe thead th {\n",
              "        text-align: right;\n",
              "    }\n",
              "</style>\n",
              "<table border=\"1\" class=\"dataframe\">\n",
              "  <thead>\n",
              "    <tr style=\"text-align: right;\">\n",
              "      <th></th>\n",
              "      <th>Item_Weight</th>\n",
              "      <th>Item_Visibility</th>\n",
              "      <th>Item_MRP</th>\n",
              "      <th>Item_Outlet_Sales</th>\n",
              "    </tr>\n",
              "  </thead>\n",
              "  <tbody>\n",
              "    <tr>\n",
              "      <th>count</th>\n",
              "      <td>7060.000000</td>\n",
              "      <td>8523.000000</td>\n",
              "      <td>8523.000000</td>\n",
              "      <td>8523.000000</td>\n",
              "    </tr>\n",
              "    <tr>\n",
              "      <th>mean</th>\n",
              "      <td>12.857645</td>\n",
              "      <td>0.066132</td>\n",
              "      <td>140.992782</td>\n",
              "      <td>2181.288914</td>\n",
              "    </tr>\n",
              "    <tr>\n",
              "      <th>std</th>\n",
              "      <td>4.643456</td>\n",
              "      <td>0.051598</td>\n",
              "      <td>62.275067</td>\n",
              "      <td>1706.499616</td>\n",
              "    </tr>\n",
              "    <tr>\n",
              "      <th>min</th>\n",
              "      <td>4.555000</td>\n",
              "      <td>0.000000</td>\n",
              "      <td>31.290000</td>\n",
              "      <td>33.290000</td>\n",
              "    </tr>\n",
              "    <tr>\n",
              "      <th>25%</th>\n",
              "      <td>8.773750</td>\n",
              "      <td>0.026989</td>\n",
              "      <td>93.826500</td>\n",
              "      <td>834.247400</td>\n",
              "    </tr>\n",
              "    <tr>\n",
              "      <th>50%</th>\n",
              "      <td>12.600000</td>\n",
              "      <td>0.053931</td>\n",
              "      <td>143.012800</td>\n",
              "      <td>1794.331000</td>\n",
              "    </tr>\n",
              "    <tr>\n",
              "      <th>75%</th>\n",
              "      <td>16.850000</td>\n",
              "      <td>0.094585</td>\n",
              "      <td>185.643700</td>\n",
              "      <td>3101.296400</td>\n",
              "    </tr>\n",
              "    <tr>\n",
              "      <th>max</th>\n",
              "      <td>21.350000</td>\n",
              "      <td>0.328391</td>\n",
              "      <td>266.888400</td>\n",
              "      <td>13086.964800</td>\n",
              "    </tr>\n",
              "  </tbody>\n",
              "</table>\n",
              "</div>\n",
              "    <div class=\"colab-df-buttons\">\n",
              "\n",
              "  <div class=\"colab-df-container\">\n",
              "    <button class=\"colab-df-convert\" onclick=\"convertToInteractive('df-8a4b0990-ad15-49e9-ad4b-9e482e0f42bc')\"\n",
              "            title=\"Convert this dataframe to an interactive table.\"\n",
              "            style=\"display:none;\">\n",
              "\n",
              "  <svg xmlns=\"http://www.w3.org/2000/svg\" height=\"24px\" viewBox=\"0 -960 960 960\">\n",
              "    <path d=\"M120-120v-720h720v720H120Zm60-500h600v-160H180v160Zm220 220h160v-160H400v160Zm0 220h160v-160H400v160ZM180-400h160v-160H180v160Zm440 0h160v-160H620v160ZM180-180h160v-160H180v160Zm440 0h160v-160H620v160Z\"/>\n",
              "  </svg>\n",
              "    </button>\n",
              "\n",
              "  <style>\n",
              "    .colab-df-container {\n",
              "      display:flex;\n",
              "      gap: 12px;\n",
              "    }\n",
              "\n",
              "    .colab-df-convert {\n",
              "      background-color: #E8F0FE;\n",
              "      border: none;\n",
              "      border-radius: 50%;\n",
              "      cursor: pointer;\n",
              "      display: none;\n",
              "      fill: #1967D2;\n",
              "      height: 32px;\n",
              "      padding: 0 0 0 0;\n",
              "      width: 32px;\n",
              "    }\n",
              "\n",
              "    .colab-df-convert:hover {\n",
              "      background-color: #E2EBFA;\n",
              "      box-shadow: 0px 1px 2px rgba(60, 64, 67, 0.3), 0px 1px 3px 1px rgba(60, 64, 67, 0.15);\n",
              "      fill: #174EA6;\n",
              "    }\n",
              "\n",
              "    .colab-df-buttons div {\n",
              "      margin-bottom: 4px;\n",
              "    }\n",
              "\n",
              "    [theme=dark] .colab-df-convert {\n",
              "      background-color: #3B4455;\n",
              "      fill: #D2E3FC;\n",
              "    }\n",
              "\n",
              "    [theme=dark] .colab-df-convert:hover {\n",
              "      background-color: #434B5C;\n",
              "      box-shadow: 0px 1px 3px 1px rgba(0, 0, 0, 0.15);\n",
              "      filter: drop-shadow(0px 1px 2px rgba(0, 0, 0, 0.3));\n",
              "      fill: #FFFFFF;\n",
              "    }\n",
              "  </style>\n",
              "\n",
              "    <script>\n",
              "      const buttonEl =\n",
              "        document.querySelector('#df-8a4b0990-ad15-49e9-ad4b-9e482e0f42bc button.colab-df-convert');\n",
              "      buttonEl.style.display =\n",
              "        google.colab.kernel.accessAllowed ? 'block' : 'none';\n",
              "\n",
              "      async function convertToInteractive(key) {\n",
              "        const element = document.querySelector('#df-8a4b0990-ad15-49e9-ad4b-9e482e0f42bc');\n",
              "        const dataTable =\n",
              "          await google.colab.kernel.invokeFunction('convertToInteractive',\n",
              "                                                    [key], {});\n",
              "        if (!dataTable) return;\n",
              "\n",
              "        const docLinkHtml = 'Like what you see? Visit the ' +\n",
              "          '<a target=\"_blank\" href=https://colab.research.google.com/notebooks/data_table.ipynb>data table notebook</a>'\n",
              "          + ' to learn more about interactive tables.';\n",
              "        element.innerHTML = '';\n",
              "        dataTable['output_type'] = 'display_data';\n",
              "        await google.colab.output.renderOutput(dataTable, element);\n",
              "        const docLink = document.createElement('div');\n",
              "        docLink.innerHTML = docLinkHtml;\n",
              "        element.appendChild(docLink);\n",
              "      }\n",
              "    </script>\n",
              "  </div>\n",
              "\n",
              "\n",
              "<div id=\"df-51ab2a0d-4900-4e49-9a60-db7a1ecbb9b6\">\n",
              "  <button class=\"colab-df-quickchart\" onclick=\"quickchart('df-51ab2a0d-4900-4e49-9a60-db7a1ecbb9b6')\"\n",
              "            title=\"Suggest charts.\"\n",
              "            style=\"display:none;\">\n",
              "\n",
              "<svg xmlns=\"http://www.w3.org/2000/svg\" height=\"24px\"viewBox=\"0 0 24 24\"\n",
              "     width=\"24px\">\n",
              "    <g>\n",
              "        <path d=\"M19 3H5c-1.1 0-2 .9-2 2v14c0 1.1.9 2 2 2h14c1.1 0 2-.9 2-2V5c0-1.1-.9-2-2-2zM9 17H7v-7h2v7zm4 0h-2V7h2v10zm4 0h-2v-4h2v4z\"/>\n",
              "    </g>\n",
              "</svg>\n",
              "  </button>\n",
              "\n",
              "<style>\n",
              "  .colab-df-quickchart {\n",
              "      --bg-color: #E8F0FE;\n",
              "      --fill-color: #1967D2;\n",
              "      --hover-bg-color: #E2EBFA;\n",
              "      --hover-fill-color: #174EA6;\n",
              "      --disabled-fill-color: #AAA;\n",
              "      --disabled-bg-color: #DDD;\n",
              "  }\n",
              "\n",
              "  [theme=dark] .colab-df-quickchart {\n",
              "      --bg-color: #3B4455;\n",
              "      --fill-color: #D2E3FC;\n",
              "      --hover-bg-color: #434B5C;\n",
              "      --hover-fill-color: #FFFFFF;\n",
              "      --disabled-bg-color: #3B4455;\n",
              "      --disabled-fill-color: #666;\n",
              "  }\n",
              "\n",
              "  .colab-df-quickchart {\n",
              "    background-color: var(--bg-color);\n",
              "    border: none;\n",
              "    border-radius: 50%;\n",
              "    cursor: pointer;\n",
              "    display: none;\n",
              "    fill: var(--fill-color);\n",
              "    height: 32px;\n",
              "    padding: 0;\n",
              "    width: 32px;\n",
              "  }\n",
              "\n",
              "  .colab-df-quickchart:hover {\n",
              "    background-color: var(--hover-bg-color);\n",
              "    box-shadow: 0 1px 2px rgba(60, 64, 67, 0.3), 0 1px 3px 1px rgba(60, 64, 67, 0.15);\n",
              "    fill: var(--button-hover-fill-color);\n",
              "  }\n",
              "\n",
              "  .colab-df-quickchart-complete:disabled,\n",
              "  .colab-df-quickchart-complete:disabled:hover {\n",
              "    background-color: var(--disabled-bg-color);\n",
              "    fill: var(--disabled-fill-color);\n",
              "    box-shadow: none;\n",
              "  }\n",
              "\n",
              "  .colab-df-spinner {\n",
              "    border: 2px solid var(--fill-color);\n",
              "    border-color: transparent;\n",
              "    border-bottom-color: var(--fill-color);\n",
              "    animation:\n",
              "      spin 1s steps(1) infinite;\n",
              "  }\n",
              "\n",
              "  @keyframes spin {\n",
              "    0% {\n",
              "      border-color: transparent;\n",
              "      border-bottom-color: var(--fill-color);\n",
              "      border-left-color: var(--fill-color);\n",
              "    }\n",
              "    20% {\n",
              "      border-color: transparent;\n",
              "      border-left-color: var(--fill-color);\n",
              "      border-top-color: var(--fill-color);\n",
              "    }\n",
              "    30% {\n",
              "      border-color: transparent;\n",
              "      border-left-color: var(--fill-color);\n",
              "      border-top-color: var(--fill-color);\n",
              "      border-right-color: var(--fill-color);\n",
              "    }\n",
              "    40% {\n",
              "      border-color: transparent;\n",
              "      border-right-color: var(--fill-color);\n",
              "      border-top-color: var(--fill-color);\n",
              "    }\n",
              "    60% {\n",
              "      border-color: transparent;\n",
              "      border-right-color: var(--fill-color);\n",
              "    }\n",
              "    80% {\n",
              "      border-color: transparent;\n",
              "      border-right-color: var(--fill-color);\n",
              "      border-bottom-color: var(--fill-color);\n",
              "    }\n",
              "    90% {\n",
              "      border-color: transparent;\n",
              "      border-bottom-color: var(--fill-color);\n",
              "    }\n",
              "  }\n",
              "</style>\n",
              "\n",
              "  <script>\n",
              "    async function quickchart(key) {\n",
              "      const quickchartButtonEl =\n",
              "        document.querySelector('#' + key + ' button');\n",
              "      quickchartButtonEl.disabled = true;  // To prevent multiple clicks.\n",
              "      quickchartButtonEl.classList.add('colab-df-spinner');\n",
              "      try {\n",
              "        const charts = await google.colab.kernel.invokeFunction(\n",
              "            'suggestCharts', [key], {});\n",
              "      } catch (error) {\n",
              "        console.error('Error during call to suggestCharts:', error);\n",
              "      }\n",
              "      quickchartButtonEl.classList.remove('colab-df-spinner');\n",
              "      quickchartButtonEl.classList.add('colab-df-quickchart-complete');\n",
              "    }\n",
              "    (() => {\n",
              "      let quickchartButtonEl =\n",
              "        document.querySelector('#df-51ab2a0d-4900-4e49-9a60-db7a1ecbb9b6 button');\n",
              "      quickchartButtonEl.style.display =\n",
              "        google.colab.kernel.accessAllowed ? 'block' : 'none';\n",
              "    })();\n",
              "  </script>\n",
              "</div>\n",
              "    </div>\n",
              "  </div>\n"
            ]
          },
          "metadata": {},
          "execution_count": 47
        }
      ]
    },
    {
      "cell_type": "code",
      "source": [
        "# check using zscore\n",
        "from scipy import stats\n",
        "\n",
        "# create a var that includes only numeric cols\n",
        "cols_to_check = df.select_dtypes(include = [np.number]).columns\n",
        "\n",
        "# create a loop that detects outliers using the zscore\n",
        "for column in cols_to_check:\n",
        "\n",
        "  # calculate zscore for the col\n",
        "  z_scores = np.abs(stats.zscore(df[column]))\n",
        "\n",
        "  # find the indices where the zscore is > 3\n",
        "  outlier_indices = np.where(z_scores > 3)\n",
        "\n",
        "  # return the actual outlier values using the indices\n",
        "  outlier_values = df[column].iloc[outlier_indices]\n",
        "\n",
        "  # return the outliers and their indices\n",
        "  print(f'Outliers in {column}: \\n', outlier_values)"
      ],
      "metadata": {
        "colab": {
          "base_uri": "https://localhost:8080/"
        },
        "id": "RiGuN-POMa6k",
        "outputId": "26261201-1490-456d-957b-26b0be9a51f1"
      },
      "execution_count": 48,
      "outputs": [
        {
          "output_type": "stream",
          "name": "stdout",
          "text": [
            "Outliers in Item_Weight: \n",
            " Series([], Name: Item_Weight, dtype: float64)\n",
            "Outliers in Item_Visibility: \n",
            " 49      0.255395\n",
            "83      0.293418\n",
            "108     0.278974\n",
            "174     0.291865\n",
            "434     0.264125\n",
            "          ...   \n",
            "8194    0.299098\n",
            "8215    0.279887\n",
            "8273    0.297313\n",
            "8345    0.266397\n",
            "8432    0.227261\n",
            "Name: Item_Visibility, Length: 95, dtype: float64\n",
            "Outliers in Item_MRP: \n",
            " Series([], Name: Item_MRP, dtype: float64)\n",
            "Outliers in Item_Outlet_Sales: \n",
            " 130     7968.2944\n",
            "145     7370.4060\n",
            "276     7452.9652\n",
            "304     7696.6480\n",
            "333     9267.9360\n",
            "          ...    \n",
            "7930    9227.9880\n",
            "8039    8994.9580\n",
            "8201    9390.4432\n",
            "8245    7549.5062\n",
            "8447    7588.1226\n",
            "Name: Item_Outlet_Sales, Length: 90, dtype: float64\n"
          ]
        }
      ]
    },
    {
      "cell_type": "code",
      "source": [
        "diff = (df.shape[0] - df.dropna().shape[0])"
      ],
      "metadata": {
        "id": "uqPD-WhOMlsq"
      },
      "execution_count": 49,
      "outputs": []
    },
    {
      "cell_type": "code",
      "source": [
        "diff / df.shape[0]"
      ],
      "metadata": {
        "colab": {
          "base_uri": "https://localhost:8080/"
        },
        "id": "qOARm5bOMpit",
        "outputId": "f4ec1d06-cb7a-4841-b622-c181512d5093"
      },
      "execution_count": 50,
      "outputs": [
        {
          "output_type": "execute_result",
          "data": {
            "text/plain": [
              "0.4544174586413235"
            ]
          },
          "metadata": {},
          "execution_count": 50
        }
      ]
    },
    {
      "cell_type": "markdown",
      "source": [
        "## Define features (X) and target (y)"
      ],
      "metadata": {
        "id": "3JoYOlV5MNCt"
      }
    },
    {
      "cell_type": "code",
      "source": [
        "# select target vector y and features matrix X\n",
        "y = df['Item_Outlet_Sales']\n",
        "X = df.drop(columns = 'Item_Outlet_Sales')"
      ],
      "metadata": {
        "id": "XeIQ3qPDM7XX"
      },
      "execution_count": 51,
      "outputs": []
    },
    {
      "cell_type": "markdown",
      "source": [
        "## Train test split the data to prepare for ML"
      ],
      "metadata": {
        "id": "CIkSZQ3XMzh3"
      }
    },
    {
      "cell_type": "code",
      "source": [
        "# split the dataset\n",
        "X_train, X_test, y_train, y_test = train_test_split(X, y, random_state= 42, test_size = .3)"
      ],
      "metadata": {
        "id": "msMtQwFKNNRe"
      },
      "execution_count": 52,
      "outputs": []
    },
    {
      "cell_type": "code",
      "source": [
        "# select only object columns\n",
        "# create a var that includes only object cols\n",
        "categoricals = X_train.select_dtypes(include='object')\n",
        "\n",
        "# check value counts for each object column\n",
        "for col in categoricals.columns:\n",
        "  print(col)\n",
        "  print(categoricals[col].value_counts(), '\\n')"
      ],
      "metadata": {
        "colab": {
          "base_uri": "https://localhost:8080/"
        },
        "id": "VbHAAVduRWs4",
        "outputId": "8bea5476-c8e7-4ca4-c4e5-585585ab2302"
      },
      "execution_count": 53,
      "outputs": [
        {
          "output_type": "stream",
          "name": "stdout",
          "text": [
            "Item_Fat_Content\n",
            "Low Fat    3860\n",
            "Regular    2106\n",
            "Name: Item_Fat_Content, dtype: int64 \n",
            "\n",
            "Item_Type\n",
            "Fruits and Vegetables    905\n",
            "Snack Foods              835\n",
            "Household                648\n",
            "Frozen Foods             591\n",
            "Dairy                    474\n",
            "Canned                   450\n",
            "Baking Goods             438\n",
            "Health and Hygiene       365\n",
            "Soft Drinks              305\n",
            "Meat                     275\n",
            "Hard Drinks              162\n",
            "Breads                   159\n",
            "Others                   124\n",
            "Starchy Foods            116\n",
            "Breakfast                 80\n",
            "Seafood                   39\n",
            "Name: Item_Type, dtype: int64 \n",
            "\n",
            "Outlet_Size\n",
            "Medium    1960\n",
            "Small     1667\n",
            "High       649\n",
            "Name: Outlet_Size, dtype: int64 \n",
            "\n",
            "Outlet_Location_Type\n",
            "Tier 3    2367\n",
            "Tier 2    1957\n",
            "Tier 1    1642\n",
            "Name: Outlet_Location_Type, dtype: int64 \n",
            "\n",
            "Outlet_Type\n",
            "Supermarket Type1    3893\n",
            "Grocery Store         744\n",
            "Supermarket Type3     668\n",
            "Supermarket Type2     661\n",
            "Name: Outlet_Type, dtype: int64 \n",
            "\n"
          ]
        }
      ]
    },
    {
      "cell_type": "markdown",
      "source": [
        "## Identify each feature as numerical, ordinal, or nominal\n",
        "\n",
        "#### numerical : 'Item_Weight', 'Item_Visibility', 'Item_MRP', 'Item_Outlet_Sales'\n",
        "#### ordinal : 'Outlet_Size', 'Outlet_Location_Type', 'Outlet_Type'\n",
        "#### nominal : 'Item_Fat_Content', 'Item_Type'\n"
      ],
      "metadata": {
        "id": "5n0EpbLANZYs"
      }
    },
    {
      "cell_type": "markdown",
      "source": [
        "## Instantiate Transformers"
      ],
      "metadata": {
        "id": "OJh6xJcfPQFq"
      }
    },
    {
      "cell_type": "code",
      "source": [
        "# these are transformers from scikit-learn\n",
        "# scaler\n",
        "scaler = StandardScaler()\n",
        "scaler2 = StandardScaler()\n",
        "\n",
        "# one-hot encoder\n",
        "ohe = OneHotEncoder(sparse=False, handle_unknown='ignore')\n",
        "\n",
        "# imputer\n",
        "mean_imputer = SimpleImputer(strategy='mean')\n",
        "freq_imputer = SimpleImputer(strategy='most_frequent')\n",
        "missing_imputer = SimpleImputer(strategy='constant', fill_value='Missing')"
      ],
      "metadata": {
        "id": "Ex_QxEQIPRD2"
      },
      "execution_count": 54,
      "outputs": []
    },
    {
      "cell_type": "markdown",
      "source": [
        "## Ordinal Encoder"
      ],
      "metadata": {
        "id": "j-KRrd5cPxZA"
      }
    },
    {
      "cell_type": "code",
      "source": [
        "# create a list\n",
        "outlet_size_labels = ['Small','Medium','High']\n",
        "oultet_loc_type_labels = ['Tier 1', 'Tier 2','Tier 3']\n",
        "oultet_type_labels = ['Grocery Store', 'Supermarket Type1','Supermarket Type2','Supermarket Type3']\n",
        "\n",
        "# create a var for these lists\n",
        "ordered_labels = [outlet_size_labels, oultet_loc_type_labels, oultet_type_labels]\n",
        "ordered_labels"
      ],
      "metadata": {
        "colab": {
          "base_uri": "https://localhost:8080/"
        },
        "id": "pNfJT3WmP0uL",
        "outputId": "30607c61-7e7b-4f6b-fb0c-007f2c505374"
      },
      "execution_count": 55,
      "outputs": [
        {
          "output_type": "execute_result",
          "data": {
            "text/plain": [
              "[['Small', 'Medium', 'High'],\n",
              " ['Tier 1', 'Tier 2', 'Tier 3'],\n",
              " ['Grocery Store',\n",
              "  'Supermarket Type1',\n",
              "  'Supermarket Type2',\n",
              "  'Supermarket Type3']]"
            ]
          },
          "metadata": {},
          "execution_count": 55
        }
      ]
    },
    {
      "cell_type": "code",
      "source": [
        "# instantitate encode\n",
        "ordinal_enc = OrdinalEncoder(categories=ordered_labels)"
      ],
      "metadata": {
        "id": "yCKw5gvDQzVZ"
      },
      "execution_count": 56,
      "outputs": []
    },
    {
      "cell_type": "markdown",
      "source": [
        "## Create a Pipeline for Numeric Data and a Pipeline for Categorical Data"
      ],
      "metadata": {
        "id": "rCPg6_KVRrDg"
      }
    },
    {
      "cell_type": "code",
      "source": [
        "# nominal data -> imputer, one-hot encode\n",
        "nom_pipe = make_pipeline(missing_imputer, ohe)\n",
        "\n",
        "# ordinal data -> imputer, ordinal encoding, scaling\n",
        "ord_pipe = make_pipeline(freq_imputer, ordinal_enc, scaler2)\n",
        "\n",
        "# numeric data -> imputer, scaler\n",
        "num_pipe = make_pipeline(mean_imputer, scaler)"
      ],
      "metadata": {
        "id": "Ag0LTZ-WRsNZ"
      },
      "execution_count": 57,
      "outputs": []
    },
    {
      "cell_type": "markdown",
      "source": [
        "## Create Tuples to Pair Pipelines with Columns"
      ],
      "metadata": {
        "id": "luRbv4djSHce"
      }
    },
    {
      "cell_type": "code",
      "source": [
        "# select the column corresponding to the type of data\n",
        "ordinal_cols = ['Outlet_Size', 'Outlet_Location_Type', 'Outlet_Type']\n",
        "nominal_col = ['Item_Fat_Content', 'Item_Type']\n",
        "num_selector = make_column_selector(dtype_include='number')\n",
        "\n",
        "# pairing of pipeline and the corresponding columns\n",
        "nom_tuple = (nom_pipe, ['Item_Fat_Content', 'Item_Type'])\n",
        "ord_tuple = (ord_pipe, ordinal_cols)\n",
        "num_tuple = (num_pipe, num_selector)"
      ],
      "metadata": {
        "id": "MHyqgjGNSG6H"
      },
      "execution_count": 58,
      "outputs": []
    },
    {
      "cell_type": "markdown",
      "source": [
        "## Create Column Transformer to Apply Different Preprocessing to Different Columns"
      ],
      "metadata": {
        "id": "UL1--fZPSoxe"
      }
    },
    {
      "cell_type": "code",
      "source": [
        "preprocessor = make_column_transformer(ord_tuple, num_tuple, nom_tuple, remainder='drop')"
      ],
      "metadata": {
        "id": "NqqF9REnSrKx"
      },
      "execution_count": 59,
      "outputs": []
    },
    {
      "cell_type": "markdown",
      "source": [
        "## Fit the Column Transformer on the Training Data"
      ],
      "metadata": {
        "id": "1CULfbxpSuFG"
      }
    },
    {
      "cell_type": "code",
      "source": [
        "preprocessor.fit(X_train)"
      ],
      "metadata": {
        "colab": {
          "base_uri": "https://localhost:8080/",
          "height": 243
        },
        "id": "tnTN8bcjStxA",
        "outputId": "96c34763-f72a-4cb4-85e6-476061b35ec2"
      },
      "execution_count": 60,
      "outputs": [
        {
          "output_type": "stream",
          "name": "stderr",
          "text": [
            "/usr/local/lib/python3.10/dist-packages/sklearn/preprocessing/_encoders.py:868: FutureWarning: `sparse` was renamed to `sparse_output` in version 1.2 and will be removed in 1.4. `sparse_output` is ignored unless you leave `sparse` to its default value.\n",
            "  warnings.warn(\n"
          ]
        },
        {
          "output_type": "execute_result",
          "data": {
            "text/plain": [
              "ColumnTransformer(transformers=[('pipeline-1',\n",
              "                                 Pipeline(steps=[('simpleimputer',\n",
              "                                                  SimpleImputer(strategy='most_frequent')),\n",
              "                                                 ('ordinalencoder',\n",
              "                                                  OrdinalEncoder(categories=[['Small',\n",
              "                                                                              'Medium',\n",
              "                                                                              'High'],\n",
              "                                                                             ['Tier '\n",
              "                                                                              '1',\n",
              "                                                                              'Tier '\n",
              "                                                                              '2',\n",
              "                                                                              'Tier '\n",
              "                                                                              '3'],\n",
              "                                                                             ['Grocery '\n",
              "                                                                              'Store',\n",
              "                                                                              'Supermarket '\n",
              "                                                                              'Type1',\n",
              "                                                                              'Supermarket '\n",
              "                                                                              'Type2',\n",
              "                                                                              'Supermarket '\n",
              "                                                                              'Type3']])),\n",
              "                                                 ('standardscaler',\n",
              "                                                  StandardScaler())]),\n",
              "                                 ['Ou...\n",
              "                                 Pipeline(steps=[('simpleimputer',\n",
              "                                                  SimpleImputer()),\n",
              "                                                 ('standardscaler',\n",
              "                                                  StandardScaler())]),\n",
              "                                 <sklearn.compose._column_transformer.make_column_selector object at 0x7e00acaa2e30>),\n",
              "                                ('pipeline-3',\n",
              "                                 Pipeline(steps=[('simpleimputer',\n",
              "                                                  SimpleImputer(fill_value='Missing',\n",
              "                                                                strategy='constant')),\n",
              "                                                 ('onehotencoder',\n",
              "                                                  OneHotEncoder(handle_unknown='ignore',\n",
              "                                                                sparse=False))]),\n",
              "                                 ['Item_Fat_Content', 'Item_Type'])])"
            ],
            "text/html": [
              "<style>#sk-container-id-1 {color: black;background-color: white;}#sk-container-id-1 pre{padding: 0;}#sk-container-id-1 div.sk-toggleable {background-color: white;}#sk-container-id-1 label.sk-toggleable__label {cursor: pointer;display: block;width: 100%;margin-bottom: 0;padding: 0.3em;box-sizing: border-box;text-align: center;}#sk-container-id-1 label.sk-toggleable__label-arrow:before {content: \"▸\";float: left;margin-right: 0.25em;color: #696969;}#sk-container-id-1 label.sk-toggleable__label-arrow:hover:before {color: black;}#sk-container-id-1 div.sk-estimator:hover label.sk-toggleable__label-arrow:before {color: black;}#sk-container-id-1 div.sk-toggleable__content {max-height: 0;max-width: 0;overflow: hidden;text-align: left;background-color: #f0f8ff;}#sk-container-id-1 div.sk-toggleable__content pre {margin: 0.2em;color: black;border-radius: 0.25em;background-color: #f0f8ff;}#sk-container-id-1 input.sk-toggleable__control:checked~div.sk-toggleable__content {max-height: 200px;max-width: 100%;overflow: auto;}#sk-container-id-1 input.sk-toggleable__control:checked~label.sk-toggleable__label-arrow:before {content: \"▾\";}#sk-container-id-1 div.sk-estimator input.sk-toggleable__control:checked~label.sk-toggleable__label {background-color: #d4ebff;}#sk-container-id-1 div.sk-label input.sk-toggleable__control:checked~label.sk-toggleable__label {background-color: #d4ebff;}#sk-container-id-1 input.sk-hidden--visually {border: 0;clip: rect(1px 1px 1px 1px);clip: rect(1px, 1px, 1px, 1px);height: 1px;margin: -1px;overflow: hidden;padding: 0;position: absolute;width: 1px;}#sk-container-id-1 div.sk-estimator {font-family: monospace;background-color: #f0f8ff;border: 1px dotted black;border-radius: 0.25em;box-sizing: border-box;margin-bottom: 0.5em;}#sk-container-id-1 div.sk-estimator:hover {background-color: #d4ebff;}#sk-container-id-1 div.sk-parallel-item::after {content: \"\";width: 100%;border-bottom: 1px solid gray;flex-grow: 1;}#sk-container-id-1 div.sk-label:hover label.sk-toggleable__label {background-color: #d4ebff;}#sk-container-id-1 div.sk-serial::before {content: \"\";position: absolute;border-left: 1px solid gray;box-sizing: border-box;top: 0;bottom: 0;left: 50%;z-index: 0;}#sk-container-id-1 div.sk-serial {display: flex;flex-direction: column;align-items: center;background-color: white;padding-right: 0.2em;padding-left: 0.2em;position: relative;}#sk-container-id-1 div.sk-item {position: relative;z-index: 1;}#sk-container-id-1 div.sk-parallel {display: flex;align-items: stretch;justify-content: center;background-color: white;position: relative;}#sk-container-id-1 div.sk-item::before, #sk-container-id-1 div.sk-parallel-item::before {content: \"\";position: absolute;border-left: 1px solid gray;box-sizing: border-box;top: 0;bottom: 0;left: 50%;z-index: -1;}#sk-container-id-1 div.sk-parallel-item {display: flex;flex-direction: column;z-index: 1;position: relative;background-color: white;}#sk-container-id-1 div.sk-parallel-item:first-child::after {align-self: flex-end;width: 50%;}#sk-container-id-1 div.sk-parallel-item:last-child::after {align-self: flex-start;width: 50%;}#sk-container-id-1 div.sk-parallel-item:only-child::after {width: 0;}#sk-container-id-1 div.sk-dashed-wrapped {border: 1px dashed gray;margin: 0 0.4em 0.5em 0.4em;box-sizing: border-box;padding-bottom: 0.4em;background-color: white;}#sk-container-id-1 div.sk-label label {font-family: monospace;font-weight: bold;display: inline-block;line-height: 1.2em;}#sk-container-id-1 div.sk-label-container {text-align: center;}#sk-container-id-1 div.sk-container {/* jupyter's `normalize.less` sets `[hidden] { display: none; }` but bootstrap.min.css set `[hidden] { display: none !important; }` so we also need the `!important` here to be able to override the default hidden behavior on the sphinx rendered scikit-learn.org. See: https://github.com/scikit-learn/scikit-learn/issues/21755 */display: inline-block !important;position: relative;}#sk-container-id-1 div.sk-text-repr-fallback {display: none;}</style><div id=\"sk-container-id-1\" class=\"sk-top-container\"><div class=\"sk-text-repr-fallback\"><pre>ColumnTransformer(transformers=[(&#x27;pipeline-1&#x27;,\n",
              "                                 Pipeline(steps=[(&#x27;simpleimputer&#x27;,\n",
              "                                                  SimpleImputer(strategy=&#x27;most_frequent&#x27;)),\n",
              "                                                 (&#x27;ordinalencoder&#x27;,\n",
              "                                                  OrdinalEncoder(categories=[[&#x27;Small&#x27;,\n",
              "                                                                              &#x27;Medium&#x27;,\n",
              "                                                                              &#x27;High&#x27;],\n",
              "                                                                             [&#x27;Tier &#x27;\n",
              "                                                                              &#x27;1&#x27;,\n",
              "                                                                              &#x27;Tier &#x27;\n",
              "                                                                              &#x27;2&#x27;,\n",
              "                                                                              &#x27;Tier &#x27;\n",
              "                                                                              &#x27;3&#x27;],\n",
              "                                                                             [&#x27;Grocery &#x27;\n",
              "                                                                              &#x27;Store&#x27;,\n",
              "                                                                              &#x27;Supermarket &#x27;\n",
              "                                                                              &#x27;Type1&#x27;,\n",
              "                                                                              &#x27;Supermarket &#x27;\n",
              "                                                                              &#x27;Type2&#x27;,\n",
              "                                                                              &#x27;Supermarket &#x27;\n",
              "                                                                              &#x27;Type3&#x27;]])),\n",
              "                                                 (&#x27;standardscaler&#x27;,\n",
              "                                                  StandardScaler())]),\n",
              "                                 [&#x27;Ou...\n",
              "                                 Pipeline(steps=[(&#x27;simpleimputer&#x27;,\n",
              "                                                  SimpleImputer()),\n",
              "                                                 (&#x27;standardscaler&#x27;,\n",
              "                                                  StandardScaler())]),\n",
              "                                 &lt;sklearn.compose._column_transformer.make_column_selector object at 0x7e00acaa2e30&gt;),\n",
              "                                (&#x27;pipeline-3&#x27;,\n",
              "                                 Pipeline(steps=[(&#x27;simpleimputer&#x27;,\n",
              "                                                  SimpleImputer(fill_value=&#x27;Missing&#x27;,\n",
              "                                                                strategy=&#x27;constant&#x27;)),\n",
              "                                                 (&#x27;onehotencoder&#x27;,\n",
              "                                                  OneHotEncoder(handle_unknown=&#x27;ignore&#x27;,\n",
              "                                                                sparse=False))]),\n",
              "                                 [&#x27;Item_Fat_Content&#x27;, &#x27;Item_Type&#x27;])])</pre><b>In a Jupyter environment, please rerun this cell to show the HTML representation or trust the notebook. <br />On GitHub, the HTML representation is unable to render, please try loading this page with nbviewer.org.</b></div><div class=\"sk-container\" hidden><div class=\"sk-item sk-dashed-wrapped\"><div class=\"sk-label-container\"><div class=\"sk-label sk-toggleable\"><input class=\"sk-toggleable__control sk-hidden--visually\" id=\"sk-estimator-id-1\" type=\"checkbox\" ><label for=\"sk-estimator-id-1\" class=\"sk-toggleable__label sk-toggleable__label-arrow\">ColumnTransformer</label><div class=\"sk-toggleable__content\"><pre>ColumnTransformer(transformers=[(&#x27;pipeline-1&#x27;,\n",
              "                                 Pipeline(steps=[(&#x27;simpleimputer&#x27;,\n",
              "                                                  SimpleImputer(strategy=&#x27;most_frequent&#x27;)),\n",
              "                                                 (&#x27;ordinalencoder&#x27;,\n",
              "                                                  OrdinalEncoder(categories=[[&#x27;Small&#x27;,\n",
              "                                                                              &#x27;Medium&#x27;,\n",
              "                                                                              &#x27;High&#x27;],\n",
              "                                                                             [&#x27;Tier &#x27;\n",
              "                                                                              &#x27;1&#x27;,\n",
              "                                                                              &#x27;Tier &#x27;\n",
              "                                                                              &#x27;2&#x27;,\n",
              "                                                                              &#x27;Tier &#x27;\n",
              "                                                                              &#x27;3&#x27;],\n",
              "                                                                             [&#x27;Grocery &#x27;\n",
              "                                                                              &#x27;Store&#x27;,\n",
              "                                                                              &#x27;Supermarket &#x27;\n",
              "                                                                              &#x27;Type1&#x27;,\n",
              "                                                                              &#x27;Supermarket &#x27;\n",
              "                                                                              &#x27;Type2&#x27;,\n",
              "                                                                              &#x27;Supermarket &#x27;\n",
              "                                                                              &#x27;Type3&#x27;]])),\n",
              "                                                 (&#x27;standardscaler&#x27;,\n",
              "                                                  StandardScaler())]),\n",
              "                                 [&#x27;Ou...\n",
              "                                 Pipeline(steps=[(&#x27;simpleimputer&#x27;,\n",
              "                                                  SimpleImputer()),\n",
              "                                                 (&#x27;standardscaler&#x27;,\n",
              "                                                  StandardScaler())]),\n",
              "                                 &lt;sklearn.compose._column_transformer.make_column_selector object at 0x7e00acaa2e30&gt;),\n",
              "                                (&#x27;pipeline-3&#x27;,\n",
              "                                 Pipeline(steps=[(&#x27;simpleimputer&#x27;,\n",
              "                                                  SimpleImputer(fill_value=&#x27;Missing&#x27;,\n",
              "                                                                strategy=&#x27;constant&#x27;)),\n",
              "                                                 (&#x27;onehotencoder&#x27;,\n",
              "                                                  OneHotEncoder(handle_unknown=&#x27;ignore&#x27;,\n",
              "                                                                sparse=False))]),\n",
              "                                 [&#x27;Item_Fat_Content&#x27;, &#x27;Item_Type&#x27;])])</pre></div></div></div><div class=\"sk-parallel\"><div class=\"sk-parallel-item\"><div class=\"sk-item\"><div class=\"sk-label-container\"><div class=\"sk-label sk-toggleable\"><input class=\"sk-toggleable__control sk-hidden--visually\" id=\"sk-estimator-id-2\" type=\"checkbox\" ><label for=\"sk-estimator-id-2\" class=\"sk-toggleable__label sk-toggleable__label-arrow\">pipeline-1</label><div class=\"sk-toggleable__content\"><pre>[&#x27;Outlet_Size&#x27;, &#x27;Outlet_Location_Type&#x27;, &#x27;Outlet_Type&#x27;]</pre></div></div></div><div class=\"sk-serial\"><div class=\"sk-item\"><div class=\"sk-serial\"><div class=\"sk-item\"><div class=\"sk-estimator sk-toggleable\"><input class=\"sk-toggleable__control sk-hidden--visually\" id=\"sk-estimator-id-3\" type=\"checkbox\" ><label for=\"sk-estimator-id-3\" class=\"sk-toggleable__label sk-toggleable__label-arrow\">SimpleImputer</label><div class=\"sk-toggleable__content\"><pre>SimpleImputer(strategy=&#x27;most_frequent&#x27;)</pre></div></div></div><div class=\"sk-item\"><div class=\"sk-estimator sk-toggleable\"><input class=\"sk-toggleable__control sk-hidden--visually\" id=\"sk-estimator-id-4\" type=\"checkbox\" ><label for=\"sk-estimator-id-4\" class=\"sk-toggleable__label sk-toggleable__label-arrow\">OrdinalEncoder</label><div class=\"sk-toggleable__content\"><pre>OrdinalEncoder(categories=[[&#x27;Small&#x27;, &#x27;Medium&#x27;, &#x27;High&#x27;],\n",
              "                           [&#x27;Tier 1&#x27;, &#x27;Tier 2&#x27;, &#x27;Tier 3&#x27;],\n",
              "                           [&#x27;Grocery Store&#x27;, &#x27;Supermarket Type1&#x27;,\n",
              "                            &#x27;Supermarket Type2&#x27;, &#x27;Supermarket Type3&#x27;]])</pre></div></div></div><div class=\"sk-item\"><div class=\"sk-estimator sk-toggleable\"><input class=\"sk-toggleable__control sk-hidden--visually\" id=\"sk-estimator-id-5\" type=\"checkbox\" ><label for=\"sk-estimator-id-5\" class=\"sk-toggleable__label sk-toggleable__label-arrow\">StandardScaler</label><div class=\"sk-toggleable__content\"><pre>StandardScaler()</pre></div></div></div></div></div></div></div></div><div class=\"sk-parallel-item\"><div class=\"sk-item\"><div class=\"sk-label-container\"><div class=\"sk-label sk-toggleable\"><input class=\"sk-toggleable__control sk-hidden--visually\" id=\"sk-estimator-id-6\" type=\"checkbox\" ><label for=\"sk-estimator-id-6\" class=\"sk-toggleable__label sk-toggleable__label-arrow\">pipeline-2</label><div class=\"sk-toggleable__content\"><pre>&lt;sklearn.compose._column_transformer.make_column_selector object at 0x7e00acaa2e30&gt;</pre></div></div></div><div class=\"sk-serial\"><div class=\"sk-item\"><div class=\"sk-serial\"><div class=\"sk-item\"><div class=\"sk-estimator sk-toggleable\"><input class=\"sk-toggleable__control sk-hidden--visually\" id=\"sk-estimator-id-7\" type=\"checkbox\" ><label for=\"sk-estimator-id-7\" class=\"sk-toggleable__label sk-toggleable__label-arrow\">SimpleImputer</label><div class=\"sk-toggleable__content\"><pre>SimpleImputer()</pre></div></div></div><div class=\"sk-item\"><div class=\"sk-estimator sk-toggleable\"><input class=\"sk-toggleable__control sk-hidden--visually\" id=\"sk-estimator-id-8\" type=\"checkbox\" ><label for=\"sk-estimator-id-8\" class=\"sk-toggleable__label sk-toggleable__label-arrow\">StandardScaler</label><div class=\"sk-toggleable__content\"><pre>StandardScaler()</pre></div></div></div></div></div></div></div></div><div class=\"sk-parallel-item\"><div class=\"sk-item\"><div class=\"sk-label-container\"><div class=\"sk-label sk-toggleable\"><input class=\"sk-toggleable__control sk-hidden--visually\" id=\"sk-estimator-id-9\" type=\"checkbox\" ><label for=\"sk-estimator-id-9\" class=\"sk-toggleable__label sk-toggleable__label-arrow\">pipeline-3</label><div class=\"sk-toggleable__content\"><pre>[&#x27;Item_Fat_Content&#x27;, &#x27;Item_Type&#x27;]</pre></div></div></div><div class=\"sk-serial\"><div class=\"sk-item\"><div class=\"sk-serial\"><div class=\"sk-item\"><div class=\"sk-estimator sk-toggleable\"><input class=\"sk-toggleable__control sk-hidden--visually\" id=\"sk-estimator-id-10\" type=\"checkbox\" ><label for=\"sk-estimator-id-10\" class=\"sk-toggleable__label sk-toggleable__label-arrow\">SimpleImputer</label><div class=\"sk-toggleable__content\"><pre>SimpleImputer(fill_value=&#x27;Missing&#x27;, strategy=&#x27;constant&#x27;)</pre></div></div></div><div class=\"sk-item\"><div class=\"sk-estimator sk-toggleable\"><input class=\"sk-toggleable__control sk-hidden--visually\" id=\"sk-estimator-id-11\" type=\"checkbox\" ><label for=\"sk-estimator-id-11\" class=\"sk-toggleable__label sk-toggleable__label-arrow\">OneHotEncoder</label><div class=\"sk-toggleable__content\"><pre>OneHotEncoder(handle_unknown=&#x27;ignore&#x27;, sparse=False)</pre></div></div></div></div></div></div></div></div></div></div></div></div>"
            ]
          },
          "metadata": {},
          "execution_count": 60
        }
      ]
    },
    {
      "cell_type": "markdown",
      "source": [
        "## Transform Both Training and Testing Data"
      ],
      "metadata": {
        "id": "qWMENyIgS56E"
      }
    },
    {
      "cell_type": "code",
      "source": [
        "X_train_processed = preprocessor.transform(X_train)\n",
        "X_test_processed = preprocessor.transform(X_test)"
      ],
      "metadata": {
        "id": "IMIs4-gZS_0k"
      },
      "execution_count": 61,
      "outputs": []
    },
    {
      "cell_type": "markdown",
      "source": [
        "## Check the Result"
      ],
      "metadata": {
        "id": "tPtDloRmTDdY"
      }
    },
    {
      "cell_type": "code",
      "source": [
        "X_train_processed"
      ],
      "metadata": {
        "colab": {
          "base_uri": "https://localhost:8080/"
        },
        "id": "NCNXnvqpTGwc",
        "outputId": "d2c4b1c9-b2d2-4302-da78-5c528f17f3c3"
      },
      "execution_count": 62,
      "outputs": [
        {
          "output_type": "execute_result",
          "data": {
            "text/plain": [
              "array([[ 0.28475182,  1.08362706, -1.51340146, ...,  0.        ,\n",
              "         0.        ,  0.        ],\n",
              "       [-1.38403932, -1.38342848, -0.26268071, ...,  0.        ,\n",
              "         0.        ,  0.        ],\n",
              "       [ 0.28475182,  1.08362706,  2.2387608 , ...,  0.        ,\n",
              "         0.        ,  0.        ],\n",
              "       ...,\n",
              "       [ 0.28475182, -0.14990071, -0.26268071, ...,  0.        ,\n",
              "         0.        ,  0.        ],\n",
              "       [ 0.28475182, -0.14990071, -0.26268071, ...,  1.        ,\n",
              "         0.        ,  0.        ],\n",
              "       [-1.38403932, -1.38342848, -0.26268071, ...,  0.        ,\n",
              "         0.        ,  0.        ]])"
            ]
          },
          "metadata": {},
          "execution_count": 62
        }
      ]
    },
    {
      "cell_type": "markdown",
      "source": [
        "## (Optional) Convert Training Data to Data Frame and Add Column Names"
      ],
      "metadata": {
        "id": "IptQP6jOTMZI"
      }
    },
    {
      "cell_type": "code",
      "source": [
        "preprocessor.named_transformers_"
      ],
      "metadata": {
        "colab": {
          "base_uri": "https://localhost:8080/"
        },
        "id": "KRsz7Fb6TOHu",
        "outputId": "0ecb63e9-3a07-40c4-af2d-9b8d67d64a3e"
      },
      "execution_count": 63,
      "outputs": [
        {
          "output_type": "execute_result",
          "data": {
            "text/plain": [
              "{'pipeline-1': Pipeline(steps=[('simpleimputer', SimpleImputer(strategy='most_frequent')),\n",
              "                 ('ordinalencoder',\n",
              "                  OrdinalEncoder(categories=[['Small', 'Medium', 'High'],\n",
              "                                             ['Tier 1', 'Tier 2', 'Tier 3'],\n",
              "                                             ['Grocery Store',\n",
              "                                              'Supermarket Type1',\n",
              "                                              'Supermarket Type2',\n",
              "                                              'Supermarket Type3']])),\n",
              "                 ('standardscaler', StandardScaler())]),\n",
              " 'pipeline-2': Pipeline(steps=[('simpleimputer', SimpleImputer()),\n",
              "                 ('standardscaler', StandardScaler())]),\n",
              " 'pipeline-3': Pipeline(steps=[('simpleimputer',\n",
              "                  SimpleImputer(fill_value='Missing', strategy='constant')),\n",
              "                 ('onehotencoder',\n",
              "                  OneHotEncoder(handle_unknown='ignore', sparse=False,\n",
              "                                sparse_output=False))]),\n",
              " 'remainder': 'drop'}"
            ]
          },
          "metadata": {},
          "execution_count": 63
        }
      ]
    },
    {
      "cell_type": "code",
      "source": [
        "# get transformed column names\n",
        "ohe = preprocessor.named_transformers_['pipeline-3']['onehotencoder']"
      ],
      "metadata": {
        "id": "QGni29LVTT6J"
      },
      "execution_count": 64,
      "outputs": []
    },
    {
      "cell_type": "code",
      "source": [
        "# display feature names taken from ohe\n",
        "nom_feature_names = ohe.get_feature_names_out(nominal_col)\n",
        "nom_feature_names"
      ],
      "metadata": {
        "colab": {
          "base_uri": "https://localhost:8080/"
        },
        "id": "O4qWxR_HTWu-",
        "outputId": "8ce137b6-f7e1-4c8d-a825-8a82d4b13229"
      },
      "execution_count": 65,
      "outputs": [
        {
          "output_type": "execute_result",
          "data": {
            "text/plain": [
              "array(['Item_Fat_Content_Low Fat', 'Item_Fat_Content_Regular',\n",
              "       'Item_Type_Baking Goods', 'Item_Type_Breads',\n",
              "       'Item_Type_Breakfast', 'Item_Type_Canned', 'Item_Type_Dairy',\n",
              "       'Item_Type_Frozen Foods', 'Item_Type_Fruits and Vegetables',\n",
              "       'Item_Type_Hard Drinks', 'Item_Type_Health and Hygiene',\n",
              "       'Item_Type_Household', 'Item_Type_Meat', 'Item_Type_Others',\n",
              "       'Item_Type_Seafood', 'Item_Type_Snack Foods',\n",
              "       'Item_Type_Soft Drinks', 'Item_Type_Starchy Foods'], dtype=object)"
            ]
          },
          "metadata": {},
          "execution_count": 65
        }
      ]
    },
    {
      "cell_type": "code",
      "source": [
        "# create a final col name list that includes ord features + num features + ohe features\n",
        "final_cols = ordinal_cols + num_selector(X_train) + list(nom_feature_names)\n",
        "final_cols"
      ],
      "metadata": {
        "colab": {
          "base_uri": "https://localhost:8080/"
        },
        "id": "Pnqbp3WaTZsg",
        "outputId": "d0b11c70-d398-4ac8-951b-de57a9d60fd1"
      },
      "execution_count": 66,
      "outputs": [
        {
          "output_type": "execute_result",
          "data": {
            "text/plain": [
              "['Outlet_Size',\n",
              " 'Outlet_Location_Type',\n",
              " 'Outlet_Type',\n",
              " 'Item_Weight',\n",
              " 'Item_Visibility',\n",
              " 'Item_MRP',\n",
              " 'Item_Fat_Content_Low Fat',\n",
              " 'Item_Fat_Content_Regular',\n",
              " 'Item_Type_Baking Goods',\n",
              " 'Item_Type_Breads',\n",
              " 'Item_Type_Breakfast',\n",
              " 'Item_Type_Canned',\n",
              " 'Item_Type_Dairy',\n",
              " 'Item_Type_Frozen Foods',\n",
              " 'Item_Type_Fruits and Vegetables',\n",
              " 'Item_Type_Hard Drinks',\n",
              " 'Item_Type_Health and Hygiene',\n",
              " 'Item_Type_Household',\n",
              " 'Item_Type_Meat',\n",
              " 'Item_Type_Others',\n",
              " 'Item_Type_Seafood',\n",
              " 'Item_Type_Snack Foods',\n",
              " 'Item_Type_Soft Drinks',\n",
              " 'Item_Type_Starchy Foods']"
            ]
          },
          "metadata": {},
          "execution_count": 66
        }
      ]
    },
    {
      "cell_type": "code",
      "source": [
        "# create a dataframe using X_train_processed and the column names\n",
        "X_train_output = pd.DataFrame(X_train_processed, columns = final_cols)\n",
        "X_train_output.head()"
      ],
      "metadata": {
        "colab": {
          "base_uri": "https://localhost:8080/",
          "height": 273
        },
        "id": "c1WZe2_GTdKB",
        "outputId": "c16809bc-b88f-4788-fc88-648530b79e10"
      },
      "execution_count": 67,
      "outputs": [
        {
          "output_type": "execute_result",
          "data": {
            "text/plain": [
              "   Outlet_Size  Outlet_Location_Type  Outlet_Type  Item_Weight  \\\n",
              "0     0.284752              1.083627    -1.513401    -1.237957   \n",
              "1    -1.384039             -1.383428    -0.262681     1.616571   \n",
              "2     0.284752              1.083627     2.238761     0.000000   \n",
              "3     0.284752             -0.149901    -0.262681     1.521657   \n",
              "4     1.953543              1.083627    -0.262681     1.284373   \n",
              "\n",
              "   Item_Visibility  Item_MRP  Item_Fat_Content_Low Fat  \\\n",
              "0         1.606681 -0.401895                       0.0   \n",
              "1        -1.008442 -0.619284                       1.0   \n",
              "2        -0.227068 -0.202535                       0.0   \n",
              "3         1.028038  1.290187                       1.0   \n",
              "4         0.515355  0.686853                       0.0   \n",
              "\n",
              "   Item_Fat_Content_Regular  Item_Type_Baking Goods  Item_Type_Breads  ...  \\\n",
              "0                       1.0                     0.0               0.0  ...   \n",
              "1                       0.0                     0.0               0.0  ...   \n",
              "2                       1.0                     0.0               1.0  ...   \n",
              "3                       0.0                     0.0               0.0  ...   \n",
              "4                       1.0                     0.0               0.0  ...   \n",
              "\n",
              "   Item_Type_Fruits and Vegetables  Item_Type_Hard Drinks  \\\n",
              "0                              1.0                    0.0   \n",
              "1                              0.0                    0.0   \n",
              "2                              0.0                    0.0   \n",
              "3                              0.0                    0.0   \n",
              "4                              0.0                    0.0   \n",
              "\n",
              "   Item_Type_Health and Hygiene  Item_Type_Household  Item_Type_Meat  \\\n",
              "0                           0.0                  0.0             0.0   \n",
              "1                           0.0                  1.0             0.0   \n",
              "2                           0.0                  0.0             0.0   \n",
              "3                           0.0                  0.0             0.0   \n",
              "4                           0.0                  0.0             0.0   \n",
              "\n",
              "   Item_Type_Others  Item_Type_Seafood  Item_Type_Snack Foods  \\\n",
              "0               0.0                0.0                    0.0   \n",
              "1               0.0                0.0                    0.0   \n",
              "2               0.0                0.0                    0.0   \n",
              "3               0.0                0.0                    1.0   \n",
              "4               0.0                0.0                    0.0   \n",
              "\n",
              "   Item_Type_Soft Drinks  Item_Type_Starchy Foods  \n",
              "0                    0.0                      0.0  \n",
              "1                    0.0                      0.0  \n",
              "2                    0.0                      0.0  \n",
              "3                    0.0                      0.0  \n",
              "4                    0.0                      0.0  \n",
              "\n",
              "[5 rows x 24 columns]"
            ],
            "text/html": [
              "\n",
              "  <div id=\"df-663bd984-a155-4cab-8a90-3e328a1de632\" class=\"colab-df-container\">\n",
              "    <div>\n",
              "<style scoped>\n",
              "    .dataframe tbody tr th:only-of-type {\n",
              "        vertical-align: middle;\n",
              "    }\n",
              "\n",
              "    .dataframe tbody tr th {\n",
              "        vertical-align: top;\n",
              "    }\n",
              "\n",
              "    .dataframe thead th {\n",
              "        text-align: right;\n",
              "    }\n",
              "</style>\n",
              "<table border=\"1\" class=\"dataframe\">\n",
              "  <thead>\n",
              "    <tr style=\"text-align: right;\">\n",
              "      <th></th>\n",
              "      <th>Outlet_Size</th>\n",
              "      <th>Outlet_Location_Type</th>\n",
              "      <th>Outlet_Type</th>\n",
              "      <th>Item_Weight</th>\n",
              "      <th>Item_Visibility</th>\n",
              "      <th>Item_MRP</th>\n",
              "      <th>Item_Fat_Content_Low Fat</th>\n",
              "      <th>Item_Fat_Content_Regular</th>\n",
              "      <th>Item_Type_Baking Goods</th>\n",
              "      <th>Item_Type_Breads</th>\n",
              "      <th>...</th>\n",
              "      <th>Item_Type_Fruits and Vegetables</th>\n",
              "      <th>Item_Type_Hard Drinks</th>\n",
              "      <th>Item_Type_Health and Hygiene</th>\n",
              "      <th>Item_Type_Household</th>\n",
              "      <th>Item_Type_Meat</th>\n",
              "      <th>Item_Type_Others</th>\n",
              "      <th>Item_Type_Seafood</th>\n",
              "      <th>Item_Type_Snack Foods</th>\n",
              "      <th>Item_Type_Soft Drinks</th>\n",
              "      <th>Item_Type_Starchy Foods</th>\n",
              "    </tr>\n",
              "  </thead>\n",
              "  <tbody>\n",
              "    <tr>\n",
              "      <th>0</th>\n",
              "      <td>0.284752</td>\n",
              "      <td>1.083627</td>\n",
              "      <td>-1.513401</td>\n",
              "      <td>-1.237957</td>\n",
              "      <td>1.606681</td>\n",
              "      <td>-0.401895</td>\n",
              "      <td>0.0</td>\n",
              "      <td>1.0</td>\n",
              "      <td>0.0</td>\n",
              "      <td>0.0</td>\n",
              "      <td>...</td>\n",
              "      <td>1.0</td>\n",
              "      <td>0.0</td>\n",
              "      <td>0.0</td>\n",
              "      <td>0.0</td>\n",
              "      <td>0.0</td>\n",
              "      <td>0.0</td>\n",
              "      <td>0.0</td>\n",
              "      <td>0.0</td>\n",
              "      <td>0.0</td>\n",
              "      <td>0.0</td>\n",
              "    </tr>\n",
              "    <tr>\n",
              "      <th>1</th>\n",
              "      <td>-1.384039</td>\n",
              "      <td>-1.383428</td>\n",
              "      <td>-0.262681</td>\n",
              "      <td>1.616571</td>\n",
              "      <td>-1.008442</td>\n",
              "      <td>-0.619284</td>\n",
              "      <td>1.0</td>\n",
              "      <td>0.0</td>\n",
              "      <td>0.0</td>\n",
              "      <td>0.0</td>\n",
              "      <td>...</td>\n",
              "      <td>0.0</td>\n",
              "      <td>0.0</td>\n",
              "      <td>0.0</td>\n",
              "      <td>1.0</td>\n",
              "      <td>0.0</td>\n",
              "      <td>0.0</td>\n",
              "      <td>0.0</td>\n",
              "      <td>0.0</td>\n",
              "      <td>0.0</td>\n",
              "      <td>0.0</td>\n",
              "    </tr>\n",
              "    <tr>\n",
              "      <th>2</th>\n",
              "      <td>0.284752</td>\n",
              "      <td>1.083627</td>\n",
              "      <td>2.238761</td>\n",
              "      <td>0.000000</td>\n",
              "      <td>-0.227068</td>\n",
              "      <td>-0.202535</td>\n",
              "      <td>0.0</td>\n",
              "      <td>1.0</td>\n",
              "      <td>0.0</td>\n",
              "      <td>1.0</td>\n",
              "      <td>...</td>\n",
              "      <td>0.0</td>\n",
              "      <td>0.0</td>\n",
              "      <td>0.0</td>\n",
              "      <td>0.0</td>\n",
              "      <td>0.0</td>\n",
              "      <td>0.0</td>\n",
              "      <td>0.0</td>\n",
              "      <td>0.0</td>\n",
              "      <td>0.0</td>\n",
              "      <td>0.0</td>\n",
              "    </tr>\n",
              "    <tr>\n",
              "      <th>3</th>\n",
              "      <td>0.284752</td>\n",
              "      <td>-0.149901</td>\n",
              "      <td>-0.262681</td>\n",
              "      <td>1.521657</td>\n",
              "      <td>1.028038</td>\n",
              "      <td>1.290187</td>\n",
              "      <td>1.0</td>\n",
              "      <td>0.0</td>\n",
              "      <td>0.0</td>\n",
              "      <td>0.0</td>\n",
              "      <td>...</td>\n",
              "      <td>0.0</td>\n",
              "      <td>0.0</td>\n",
              "      <td>0.0</td>\n",
              "      <td>0.0</td>\n",
              "      <td>0.0</td>\n",
              "      <td>0.0</td>\n",
              "      <td>0.0</td>\n",
              "      <td>1.0</td>\n",
              "      <td>0.0</td>\n",
              "      <td>0.0</td>\n",
              "    </tr>\n",
              "    <tr>\n",
              "      <th>4</th>\n",
              "      <td>1.953543</td>\n",
              "      <td>1.083627</td>\n",
              "      <td>-0.262681</td>\n",
              "      <td>1.284373</td>\n",
              "      <td>0.515355</td>\n",
              "      <td>0.686853</td>\n",
              "      <td>0.0</td>\n",
              "      <td>1.0</td>\n",
              "      <td>0.0</td>\n",
              "      <td>0.0</td>\n",
              "      <td>...</td>\n",
              "      <td>0.0</td>\n",
              "      <td>0.0</td>\n",
              "      <td>0.0</td>\n",
              "      <td>0.0</td>\n",
              "      <td>0.0</td>\n",
              "      <td>0.0</td>\n",
              "      <td>0.0</td>\n",
              "      <td>0.0</td>\n",
              "      <td>0.0</td>\n",
              "      <td>0.0</td>\n",
              "    </tr>\n",
              "  </tbody>\n",
              "</table>\n",
              "<p>5 rows × 24 columns</p>\n",
              "</div>\n",
              "    <div class=\"colab-df-buttons\">\n",
              "\n",
              "  <div class=\"colab-df-container\">\n",
              "    <button class=\"colab-df-convert\" onclick=\"convertToInteractive('df-663bd984-a155-4cab-8a90-3e328a1de632')\"\n",
              "            title=\"Convert this dataframe to an interactive table.\"\n",
              "            style=\"display:none;\">\n",
              "\n",
              "  <svg xmlns=\"http://www.w3.org/2000/svg\" height=\"24px\" viewBox=\"0 -960 960 960\">\n",
              "    <path d=\"M120-120v-720h720v720H120Zm60-500h600v-160H180v160Zm220 220h160v-160H400v160Zm0 220h160v-160H400v160ZM180-400h160v-160H180v160Zm440 0h160v-160H620v160ZM180-180h160v-160H180v160Zm440 0h160v-160H620v160Z\"/>\n",
              "  </svg>\n",
              "    </button>\n",
              "\n",
              "  <style>\n",
              "    .colab-df-container {\n",
              "      display:flex;\n",
              "      gap: 12px;\n",
              "    }\n",
              "\n",
              "    .colab-df-convert {\n",
              "      background-color: #E8F0FE;\n",
              "      border: none;\n",
              "      border-radius: 50%;\n",
              "      cursor: pointer;\n",
              "      display: none;\n",
              "      fill: #1967D2;\n",
              "      height: 32px;\n",
              "      padding: 0 0 0 0;\n",
              "      width: 32px;\n",
              "    }\n",
              "\n",
              "    .colab-df-convert:hover {\n",
              "      background-color: #E2EBFA;\n",
              "      box-shadow: 0px 1px 2px rgba(60, 64, 67, 0.3), 0px 1px 3px 1px rgba(60, 64, 67, 0.15);\n",
              "      fill: #174EA6;\n",
              "    }\n",
              "\n",
              "    .colab-df-buttons div {\n",
              "      margin-bottom: 4px;\n",
              "    }\n",
              "\n",
              "    [theme=dark] .colab-df-convert {\n",
              "      background-color: #3B4455;\n",
              "      fill: #D2E3FC;\n",
              "    }\n",
              "\n",
              "    [theme=dark] .colab-df-convert:hover {\n",
              "      background-color: #434B5C;\n",
              "      box-shadow: 0px 1px 3px 1px rgba(0, 0, 0, 0.15);\n",
              "      filter: drop-shadow(0px 1px 2px rgba(0, 0, 0, 0.3));\n",
              "      fill: #FFFFFF;\n",
              "    }\n",
              "  </style>\n",
              "\n",
              "    <script>\n",
              "      const buttonEl =\n",
              "        document.querySelector('#df-663bd984-a155-4cab-8a90-3e328a1de632 button.colab-df-convert');\n",
              "      buttonEl.style.display =\n",
              "        google.colab.kernel.accessAllowed ? 'block' : 'none';\n",
              "\n",
              "      async function convertToInteractive(key) {\n",
              "        const element = document.querySelector('#df-663bd984-a155-4cab-8a90-3e328a1de632');\n",
              "        const dataTable =\n",
              "          await google.colab.kernel.invokeFunction('convertToInteractive',\n",
              "                                                    [key], {});\n",
              "        if (!dataTable) return;\n",
              "\n",
              "        const docLinkHtml = 'Like what you see? Visit the ' +\n",
              "          '<a target=\"_blank\" href=https://colab.research.google.com/notebooks/data_table.ipynb>data table notebook</a>'\n",
              "          + ' to learn more about interactive tables.';\n",
              "        element.innerHTML = '';\n",
              "        dataTable['output_type'] = 'display_data';\n",
              "        await google.colab.output.renderOutput(dataTable, element);\n",
              "        const docLink = document.createElement('div');\n",
              "        docLink.innerHTML = docLinkHtml;\n",
              "        element.appendChild(docLink);\n",
              "      }\n",
              "    </script>\n",
              "  </div>\n",
              "\n",
              "\n",
              "<div id=\"df-11f6f23a-e47e-4a09-997a-7c981a6341f5\">\n",
              "  <button class=\"colab-df-quickchart\" onclick=\"quickchart('df-11f6f23a-e47e-4a09-997a-7c981a6341f5')\"\n",
              "            title=\"Suggest charts.\"\n",
              "            style=\"display:none;\">\n",
              "\n",
              "<svg xmlns=\"http://www.w3.org/2000/svg\" height=\"24px\"viewBox=\"0 0 24 24\"\n",
              "     width=\"24px\">\n",
              "    <g>\n",
              "        <path d=\"M19 3H5c-1.1 0-2 .9-2 2v14c0 1.1.9 2 2 2h14c1.1 0 2-.9 2-2V5c0-1.1-.9-2-2-2zM9 17H7v-7h2v7zm4 0h-2V7h2v10zm4 0h-2v-4h2v4z\"/>\n",
              "    </g>\n",
              "</svg>\n",
              "  </button>\n",
              "\n",
              "<style>\n",
              "  .colab-df-quickchart {\n",
              "      --bg-color: #E8F0FE;\n",
              "      --fill-color: #1967D2;\n",
              "      --hover-bg-color: #E2EBFA;\n",
              "      --hover-fill-color: #174EA6;\n",
              "      --disabled-fill-color: #AAA;\n",
              "      --disabled-bg-color: #DDD;\n",
              "  }\n",
              "\n",
              "  [theme=dark] .colab-df-quickchart {\n",
              "      --bg-color: #3B4455;\n",
              "      --fill-color: #D2E3FC;\n",
              "      --hover-bg-color: #434B5C;\n",
              "      --hover-fill-color: #FFFFFF;\n",
              "      --disabled-bg-color: #3B4455;\n",
              "      --disabled-fill-color: #666;\n",
              "  }\n",
              "\n",
              "  .colab-df-quickchart {\n",
              "    background-color: var(--bg-color);\n",
              "    border: none;\n",
              "    border-radius: 50%;\n",
              "    cursor: pointer;\n",
              "    display: none;\n",
              "    fill: var(--fill-color);\n",
              "    height: 32px;\n",
              "    padding: 0;\n",
              "    width: 32px;\n",
              "  }\n",
              "\n",
              "  .colab-df-quickchart:hover {\n",
              "    background-color: var(--hover-bg-color);\n",
              "    box-shadow: 0 1px 2px rgba(60, 64, 67, 0.3), 0 1px 3px 1px rgba(60, 64, 67, 0.15);\n",
              "    fill: var(--button-hover-fill-color);\n",
              "  }\n",
              "\n",
              "  .colab-df-quickchart-complete:disabled,\n",
              "  .colab-df-quickchart-complete:disabled:hover {\n",
              "    background-color: var(--disabled-bg-color);\n",
              "    fill: var(--disabled-fill-color);\n",
              "    box-shadow: none;\n",
              "  }\n",
              "\n",
              "  .colab-df-spinner {\n",
              "    border: 2px solid var(--fill-color);\n",
              "    border-color: transparent;\n",
              "    border-bottom-color: var(--fill-color);\n",
              "    animation:\n",
              "      spin 1s steps(1) infinite;\n",
              "  }\n",
              "\n",
              "  @keyframes spin {\n",
              "    0% {\n",
              "      border-color: transparent;\n",
              "      border-bottom-color: var(--fill-color);\n",
              "      border-left-color: var(--fill-color);\n",
              "    }\n",
              "    20% {\n",
              "      border-color: transparent;\n",
              "      border-left-color: var(--fill-color);\n",
              "      border-top-color: var(--fill-color);\n",
              "    }\n",
              "    30% {\n",
              "      border-color: transparent;\n",
              "      border-left-color: var(--fill-color);\n",
              "      border-top-color: var(--fill-color);\n",
              "      border-right-color: var(--fill-color);\n",
              "    }\n",
              "    40% {\n",
              "      border-color: transparent;\n",
              "      border-right-color: var(--fill-color);\n",
              "      border-top-color: var(--fill-color);\n",
              "    }\n",
              "    60% {\n",
              "      border-color: transparent;\n",
              "      border-right-color: var(--fill-color);\n",
              "    }\n",
              "    80% {\n",
              "      border-color: transparent;\n",
              "      border-right-color: var(--fill-color);\n",
              "      border-bottom-color: var(--fill-color);\n",
              "    }\n",
              "    90% {\n",
              "      border-color: transparent;\n",
              "      border-bottom-color: var(--fill-color);\n",
              "    }\n",
              "  }\n",
              "</style>\n",
              "\n",
              "  <script>\n",
              "    async function quickchart(key) {\n",
              "      const quickchartButtonEl =\n",
              "        document.querySelector('#' + key + ' button');\n",
              "      quickchartButtonEl.disabled = true;  // To prevent multiple clicks.\n",
              "      quickchartButtonEl.classList.add('colab-df-spinner');\n",
              "      try {\n",
              "        const charts = await google.colab.kernel.invokeFunction(\n",
              "            'suggestCharts', [key], {});\n",
              "      } catch (error) {\n",
              "        console.error('Error during call to suggestCharts:', error);\n",
              "      }\n",
              "      quickchartButtonEl.classList.remove('colab-df-spinner');\n",
              "      quickchartButtonEl.classList.add('colab-df-quickchart-complete');\n",
              "    }\n",
              "    (() => {\n",
              "      let quickchartButtonEl =\n",
              "        document.querySelector('#df-11f6f23a-e47e-4a09-997a-7c981a6341f5 button');\n",
              "      quickchartButtonEl.style.display =\n",
              "        google.colab.kernel.accessAllowed ? 'block' : 'none';\n",
              "    })();\n",
              "  </script>\n",
              "</div>\n",
              "    </div>\n",
              "  </div>\n"
            ]
          },
          "metadata": {},
          "execution_count": 67
        }
      ]
    },
    {
      "cell_type": "code",
      "source": [
        "X_train.head()"
      ],
      "metadata": {
        "colab": {
          "base_uri": "https://localhost:8080/",
          "height": 293
        },
        "id": "JTvCoEIXTi5n",
        "outputId": "30364fa8-a3ed-4a32-d68f-5741a30098a3"
      },
      "execution_count": 68,
      "outputs": [
        {
          "output_type": "execute_result",
          "data": {
            "text/plain": [
              "      Item_Weight Item_Fat_Content  Item_Visibility              Item_Type  \\\n",
              "1921         7.72          Regular         0.147904  Fruits and Vegetables   \n",
              "655         19.75          Low Fat         0.014301              Household   \n",
              "2229          NaN          Regular         0.054221                 Breads   \n",
              "2537        19.35          Low Fat         0.118342            Snack Foods   \n",
              "3528        18.35          Regular         0.092150           Frozen Foods   \n",
              "\n",
              "      Item_MRP     Outlet_Establishment_Year Outlet_Size Outlet_Location_Type  \\\n",
              "1921  116.6466 1970-01-01 00:00:00.000001998         NaN               Tier 3   \n",
              "655   103.0332 1970-01-01 00:00:00.000001997       Small               Tier 1   \n",
              "2229  129.1310 1970-01-01 00:00:00.000001985      Medium               Tier 3   \n",
              "2537  222.6088 1970-01-01 00:00:00.000002002         NaN               Tier 2   \n",
              "3528  184.8266 1970-01-01 00:00:00.000001987        High               Tier 3   \n",
              "\n",
              "            Outlet_Type  \n",
              "1921      Grocery Store  \n",
              "655   Supermarket Type1  \n",
              "2229  Supermarket Type3  \n",
              "2537  Supermarket Type1  \n",
              "3528  Supermarket Type1  "
            ],
            "text/html": [
              "\n",
              "  <div id=\"df-ae1d8901-214f-4002-801e-33957f08d6fc\" class=\"colab-df-container\">\n",
              "    <div>\n",
              "<style scoped>\n",
              "    .dataframe tbody tr th:only-of-type {\n",
              "        vertical-align: middle;\n",
              "    }\n",
              "\n",
              "    .dataframe tbody tr th {\n",
              "        vertical-align: top;\n",
              "    }\n",
              "\n",
              "    .dataframe thead th {\n",
              "        text-align: right;\n",
              "    }\n",
              "</style>\n",
              "<table border=\"1\" class=\"dataframe\">\n",
              "  <thead>\n",
              "    <tr style=\"text-align: right;\">\n",
              "      <th></th>\n",
              "      <th>Item_Weight</th>\n",
              "      <th>Item_Fat_Content</th>\n",
              "      <th>Item_Visibility</th>\n",
              "      <th>Item_Type</th>\n",
              "      <th>Item_MRP</th>\n",
              "      <th>Outlet_Establishment_Year</th>\n",
              "      <th>Outlet_Size</th>\n",
              "      <th>Outlet_Location_Type</th>\n",
              "      <th>Outlet_Type</th>\n",
              "    </tr>\n",
              "  </thead>\n",
              "  <tbody>\n",
              "    <tr>\n",
              "      <th>1921</th>\n",
              "      <td>7.72</td>\n",
              "      <td>Regular</td>\n",
              "      <td>0.147904</td>\n",
              "      <td>Fruits and Vegetables</td>\n",
              "      <td>116.6466</td>\n",
              "      <td>1970-01-01 00:00:00.000001998</td>\n",
              "      <td>NaN</td>\n",
              "      <td>Tier 3</td>\n",
              "      <td>Grocery Store</td>\n",
              "    </tr>\n",
              "    <tr>\n",
              "      <th>655</th>\n",
              "      <td>19.75</td>\n",
              "      <td>Low Fat</td>\n",
              "      <td>0.014301</td>\n",
              "      <td>Household</td>\n",
              "      <td>103.0332</td>\n",
              "      <td>1970-01-01 00:00:00.000001997</td>\n",
              "      <td>Small</td>\n",
              "      <td>Tier 1</td>\n",
              "      <td>Supermarket Type1</td>\n",
              "    </tr>\n",
              "    <tr>\n",
              "      <th>2229</th>\n",
              "      <td>NaN</td>\n",
              "      <td>Regular</td>\n",
              "      <td>0.054221</td>\n",
              "      <td>Breads</td>\n",
              "      <td>129.1310</td>\n",
              "      <td>1970-01-01 00:00:00.000001985</td>\n",
              "      <td>Medium</td>\n",
              "      <td>Tier 3</td>\n",
              "      <td>Supermarket Type3</td>\n",
              "    </tr>\n",
              "    <tr>\n",
              "      <th>2537</th>\n",
              "      <td>19.35</td>\n",
              "      <td>Low Fat</td>\n",
              "      <td>0.118342</td>\n",
              "      <td>Snack Foods</td>\n",
              "      <td>222.6088</td>\n",
              "      <td>1970-01-01 00:00:00.000002002</td>\n",
              "      <td>NaN</td>\n",
              "      <td>Tier 2</td>\n",
              "      <td>Supermarket Type1</td>\n",
              "    </tr>\n",
              "    <tr>\n",
              "      <th>3528</th>\n",
              "      <td>18.35</td>\n",
              "      <td>Regular</td>\n",
              "      <td>0.092150</td>\n",
              "      <td>Frozen Foods</td>\n",
              "      <td>184.8266</td>\n",
              "      <td>1970-01-01 00:00:00.000001987</td>\n",
              "      <td>High</td>\n",
              "      <td>Tier 3</td>\n",
              "      <td>Supermarket Type1</td>\n",
              "    </tr>\n",
              "  </tbody>\n",
              "</table>\n",
              "</div>\n",
              "    <div class=\"colab-df-buttons\">\n",
              "\n",
              "  <div class=\"colab-df-container\">\n",
              "    <button class=\"colab-df-convert\" onclick=\"convertToInteractive('df-ae1d8901-214f-4002-801e-33957f08d6fc')\"\n",
              "            title=\"Convert this dataframe to an interactive table.\"\n",
              "            style=\"display:none;\">\n",
              "\n",
              "  <svg xmlns=\"http://www.w3.org/2000/svg\" height=\"24px\" viewBox=\"0 -960 960 960\">\n",
              "    <path d=\"M120-120v-720h720v720H120Zm60-500h600v-160H180v160Zm220 220h160v-160H400v160Zm0 220h160v-160H400v160ZM180-400h160v-160H180v160Zm440 0h160v-160H620v160ZM180-180h160v-160H180v160Zm440 0h160v-160H620v160Z\"/>\n",
              "  </svg>\n",
              "    </button>\n",
              "\n",
              "  <style>\n",
              "    .colab-df-container {\n",
              "      display:flex;\n",
              "      gap: 12px;\n",
              "    }\n",
              "\n",
              "    .colab-df-convert {\n",
              "      background-color: #E8F0FE;\n",
              "      border: none;\n",
              "      border-radius: 50%;\n",
              "      cursor: pointer;\n",
              "      display: none;\n",
              "      fill: #1967D2;\n",
              "      height: 32px;\n",
              "      padding: 0 0 0 0;\n",
              "      width: 32px;\n",
              "    }\n",
              "\n",
              "    .colab-df-convert:hover {\n",
              "      background-color: #E2EBFA;\n",
              "      box-shadow: 0px 1px 2px rgba(60, 64, 67, 0.3), 0px 1px 3px 1px rgba(60, 64, 67, 0.15);\n",
              "      fill: #174EA6;\n",
              "    }\n",
              "\n",
              "    .colab-df-buttons div {\n",
              "      margin-bottom: 4px;\n",
              "    }\n",
              "\n",
              "    [theme=dark] .colab-df-convert {\n",
              "      background-color: #3B4455;\n",
              "      fill: #D2E3FC;\n",
              "    }\n",
              "\n",
              "    [theme=dark] .colab-df-convert:hover {\n",
              "      background-color: #434B5C;\n",
              "      box-shadow: 0px 1px 3px 1px rgba(0, 0, 0, 0.15);\n",
              "      filter: drop-shadow(0px 1px 2px rgba(0, 0, 0, 0.3));\n",
              "      fill: #FFFFFF;\n",
              "    }\n",
              "  </style>\n",
              "\n",
              "    <script>\n",
              "      const buttonEl =\n",
              "        document.querySelector('#df-ae1d8901-214f-4002-801e-33957f08d6fc button.colab-df-convert');\n",
              "      buttonEl.style.display =\n",
              "        google.colab.kernel.accessAllowed ? 'block' : 'none';\n",
              "\n",
              "      async function convertToInteractive(key) {\n",
              "        const element = document.querySelector('#df-ae1d8901-214f-4002-801e-33957f08d6fc');\n",
              "        const dataTable =\n",
              "          await google.colab.kernel.invokeFunction('convertToInteractive',\n",
              "                                                    [key], {});\n",
              "        if (!dataTable) return;\n",
              "\n",
              "        const docLinkHtml = 'Like what you see? Visit the ' +\n",
              "          '<a target=\"_blank\" href=https://colab.research.google.com/notebooks/data_table.ipynb>data table notebook</a>'\n",
              "          + ' to learn more about interactive tables.';\n",
              "        element.innerHTML = '';\n",
              "        dataTable['output_type'] = 'display_data';\n",
              "        await google.colab.output.renderOutput(dataTable, element);\n",
              "        const docLink = document.createElement('div');\n",
              "        docLink.innerHTML = docLinkHtml;\n",
              "        element.appendChild(docLink);\n",
              "      }\n",
              "    </script>\n",
              "  </div>\n",
              "\n",
              "\n",
              "<div id=\"df-aff6d376-f8a2-4bf9-ad96-372191f93abb\">\n",
              "  <button class=\"colab-df-quickchart\" onclick=\"quickchart('df-aff6d376-f8a2-4bf9-ad96-372191f93abb')\"\n",
              "            title=\"Suggest charts.\"\n",
              "            style=\"display:none;\">\n",
              "\n",
              "<svg xmlns=\"http://www.w3.org/2000/svg\" height=\"24px\"viewBox=\"0 0 24 24\"\n",
              "     width=\"24px\">\n",
              "    <g>\n",
              "        <path d=\"M19 3H5c-1.1 0-2 .9-2 2v14c0 1.1.9 2 2 2h14c1.1 0 2-.9 2-2V5c0-1.1-.9-2-2-2zM9 17H7v-7h2v7zm4 0h-2V7h2v10zm4 0h-2v-4h2v4z\"/>\n",
              "    </g>\n",
              "</svg>\n",
              "  </button>\n",
              "\n",
              "<style>\n",
              "  .colab-df-quickchart {\n",
              "      --bg-color: #E8F0FE;\n",
              "      --fill-color: #1967D2;\n",
              "      --hover-bg-color: #E2EBFA;\n",
              "      --hover-fill-color: #174EA6;\n",
              "      --disabled-fill-color: #AAA;\n",
              "      --disabled-bg-color: #DDD;\n",
              "  }\n",
              "\n",
              "  [theme=dark] .colab-df-quickchart {\n",
              "      --bg-color: #3B4455;\n",
              "      --fill-color: #D2E3FC;\n",
              "      --hover-bg-color: #434B5C;\n",
              "      --hover-fill-color: #FFFFFF;\n",
              "      --disabled-bg-color: #3B4455;\n",
              "      --disabled-fill-color: #666;\n",
              "  }\n",
              "\n",
              "  .colab-df-quickchart {\n",
              "    background-color: var(--bg-color);\n",
              "    border: none;\n",
              "    border-radius: 50%;\n",
              "    cursor: pointer;\n",
              "    display: none;\n",
              "    fill: var(--fill-color);\n",
              "    height: 32px;\n",
              "    padding: 0;\n",
              "    width: 32px;\n",
              "  }\n",
              "\n",
              "  .colab-df-quickchart:hover {\n",
              "    background-color: var(--hover-bg-color);\n",
              "    box-shadow: 0 1px 2px rgba(60, 64, 67, 0.3), 0 1px 3px 1px rgba(60, 64, 67, 0.15);\n",
              "    fill: var(--button-hover-fill-color);\n",
              "  }\n",
              "\n",
              "  .colab-df-quickchart-complete:disabled,\n",
              "  .colab-df-quickchart-complete:disabled:hover {\n",
              "    background-color: var(--disabled-bg-color);\n",
              "    fill: var(--disabled-fill-color);\n",
              "    box-shadow: none;\n",
              "  }\n",
              "\n",
              "  .colab-df-spinner {\n",
              "    border: 2px solid var(--fill-color);\n",
              "    border-color: transparent;\n",
              "    border-bottom-color: var(--fill-color);\n",
              "    animation:\n",
              "      spin 1s steps(1) infinite;\n",
              "  }\n",
              "\n",
              "  @keyframes spin {\n",
              "    0% {\n",
              "      border-color: transparent;\n",
              "      border-bottom-color: var(--fill-color);\n",
              "      border-left-color: var(--fill-color);\n",
              "    }\n",
              "    20% {\n",
              "      border-color: transparent;\n",
              "      border-left-color: var(--fill-color);\n",
              "      border-top-color: var(--fill-color);\n",
              "    }\n",
              "    30% {\n",
              "      border-color: transparent;\n",
              "      border-left-color: var(--fill-color);\n",
              "      border-top-color: var(--fill-color);\n",
              "      border-right-color: var(--fill-color);\n",
              "    }\n",
              "    40% {\n",
              "      border-color: transparent;\n",
              "      border-right-color: var(--fill-color);\n",
              "      border-top-color: var(--fill-color);\n",
              "    }\n",
              "    60% {\n",
              "      border-color: transparent;\n",
              "      border-right-color: var(--fill-color);\n",
              "    }\n",
              "    80% {\n",
              "      border-color: transparent;\n",
              "      border-right-color: var(--fill-color);\n",
              "      border-bottom-color: var(--fill-color);\n",
              "    }\n",
              "    90% {\n",
              "      border-color: transparent;\n",
              "      border-bottom-color: var(--fill-color);\n",
              "    }\n",
              "  }\n",
              "</style>\n",
              "\n",
              "  <script>\n",
              "    async function quickchart(key) {\n",
              "      const quickchartButtonEl =\n",
              "        document.querySelector('#' + key + ' button');\n",
              "      quickchartButtonEl.disabled = true;  // To prevent multiple clicks.\n",
              "      quickchartButtonEl.classList.add('colab-df-spinner');\n",
              "      try {\n",
              "        const charts = await google.colab.kernel.invokeFunction(\n",
              "            'suggestCharts', [key], {});\n",
              "      } catch (error) {\n",
              "        console.error('Error during call to suggestCharts:', error);\n",
              "      }\n",
              "      quickchartButtonEl.classList.remove('colab-df-spinner');\n",
              "      quickchartButtonEl.classList.add('colab-df-quickchart-complete');\n",
              "    }\n",
              "    (() => {\n",
              "      let quickchartButtonEl =\n",
              "        document.querySelector('#df-aff6d376-f8a2-4bf9-ad96-372191f93abb button');\n",
              "      quickchartButtonEl.style.display =\n",
              "        google.colab.kernel.accessAllowed ? 'block' : 'none';\n",
              "    })();\n",
              "  </script>\n",
              "</div>\n",
              "    </div>\n",
              "  </div>\n"
            ]
          },
          "metadata": {},
          "execution_count": 68
        }
      ]
    },
    {
      "cell_type": "code",
      "source": [
        "X_train_output.info()"
      ],
      "metadata": {
        "colab": {
          "base_uri": "https://localhost:8080/"
        },
        "id": "kUX8YwBuTp5p",
        "outputId": "8b2fe9b6-1d93-4360-8038-d4a54356917a"
      },
      "execution_count": 69,
      "outputs": [
        {
          "output_type": "stream",
          "name": "stdout",
          "text": [
            "<class 'pandas.core.frame.DataFrame'>\n",
            "RangeIndex: 5966 entries, 0 to 5965\n",
            "Data columns (total 24 columns):\n",
            " #   Column                           Non-Null Count  Dtype  \n",
            "---  ------                           --------------  -----  \n",
            " 0   Outlet_Size                      5966 non-null   float64\n",
            " 1   Outlet_Location_Type             5966 non-null   float64\n",
            " 2   Outlet_Type                      5966 non-null   float64\n",
            " 3   Item_Weight                      5966 non-null   float64\n",
            " 4   Item_Visibility                  5966 non-null   float64\n",
            " 5   Item_MRP                         5966 non-null   float64\n",
            " 6   Item_Fat_Content_Low Fat         5966 non-null   float64\n",
            " 7   Item_Fat_Content_Regular         5966 non-null   float64\n",
            " 8   Item_Type_Baking Goods           5966 non-null   float64\n",
            " 9   Item_Type_Breads                 5966 non-null   float64\n",
            " 10  Item_Type_Breakfast              5966 non-null   float64\n",
            " 11  Item_Type_Canned                 5966 non-null   float64\n",
            " 12  Item_Type_Dairy                  5966 non-null   float64\n",
            " 13  Item_Type_Frozen Foods           5966 non-null   float64\n",
            " 14  Item_Type_Fruits and Vegetables  5966 non-null   float64\n",
            " 15  Item_Type_Hard Drinks            5966 non-null   float64\n",
            " 16  Item_Type_Health and Hygiene     5966 non-null   float64\n",
            " 17  Item_Type_Household              5966 non-null   float64\n",
            " 18  Item_Type_Meat                   5966 non-null   float64\n",
            " 19  Item_Type_Others                 5966 non-null   float64\n",
            " 20  Item_Type_Seafood                5966 non-null   float64\n",
            " 21  Item_Type_Snack Foods            5966 non-null   float64\n",
            " 22  Item_Type_Soft Drinks            5966 non-null   float64\n",
            " 23  Item_Type_Starchy Foods          5966 non-null   float64\n",
            "dtypes: float64(24)\n",
            "memory usage: 1.1 MB\n"
          ]
        }
      ]
    },
    {
      "cell_type": "markdown",
      "source": [
        "# Final"
      ],
      "metadata": {
        "id": "4hNWEl_X5LzW"
      }
    },
    {
      "cell_type": "code",
      "source": [
        "# define a function that takes true and predicted values as arguments\n",
        "# and prints all 4 metrics\n",
        "\n",
        "def eval_model(true, pred):\n",
        "  \"\"\"Takes true and predicted values (arrays) and prints MAE, MSE, RMSE and R2\"\"\"\n",
        "  mae = mean_absolute_error(true, pred)\n",
        "  mse = mean_squared_error(true, pred)\n",
        "  rmse = np.sqrt(mse)\n",
        "  r2 = r2_score(true, pred)\n",
        "\n",
        "  print(f' MAE {mae:.2f},\\n MSE {mse:.2f},\\n RMSE: {rmse:.2f},\\n R^2: {r2:.2f}')"
      ],
      "metadata": {
        "id": "Orc3YVQh7naT"
      },
      "execution_count": 70,
      "outputs": []
    },
    {
      "cell_type": "markdown",
      "source": [
        "## Baseline Model"
      ],
      "metadata": {
        "id": "ZIeN2PwV6O_P"
      }
    },
    {
      "cell_type": "code",
      "source": [
        "# instantiate and fit a baseline regression model (this is a ML model)\n",
        "dummy_pipe = make_pipeline(preprocessor, DummyRegressor(strategy='mean'))"
      ],
      "metadata": {
        "id": "SOaSIM1A7yin"
      },
      "execution_count": 71,
      "outputs": []
    },
    {
      "cell_type": "code",
      "source": [
        "# fit the model\n",
        "dummy_pipe.fit(X_train, y_train)"
      ],
      "metadata": {
        "colab": {
          "base_uri": "https://localhost:8080/",
          "height": 317
        },
        "id": "h2bYJ4Wi70_l",
        "outputId": "12c4dcf6-9bfc-4696-f8c4-7676149f281f"
      },
      "execution_count": 72,
      "outputs": [
        {
          "output_type": "stream",
          "name": "stderr",
          "text": [
            "/usr/local/lib/python3.10/dist-packages/sklearn/preprocessing/_encoders.py:868: FutureWarning: `sparse` was renamed to `sparse_output` in version 1.2 and will be removed in 1.4. `sparse_output` is ignored unless you leave `sparse` to its default value.\n",
            "  warnings.warn(\n"
          ]
        },
        {
          "output_type": "execute_result",
          "data": {
            "text/plain": [
              "Pipeline(steps=[('columntransformer',\n",
              "                 ColumnTransformer(transformers=[('pipeline-1',\n",
              "                                                  Pipeline(steps=[('simpleimputer',\n",
              "                                                                   SimpleImputer(strategy='most_frequent')),\n",
              "                                                                  ('ordinalencoder',\n",
              "                                                                   OrdinalEncoder(categories=[['Small',\n",
              "                                                                                               'Medium',\n",
              "                                                                                               'High'],\n",
              "                                                                                              ['Tier '\n",
              "                                                                                               '1',\n",
              "                                                                                               'Tier '\n",
              "                                                                                               '2',\n",
              "                                                                                               'Tier '\n",
              "                                                                                               '3'],\n",
              "                                                                                              ['Grocery '\n",
              "                                                                                               'Store',\n",
              "                                                                                               'Supermarket '\n",
              "                                                                                               'Type1',\n",
              "                                                                                               'Supermarket '\n",
              "                                                                                               'Type2',\n",
              "                                                                                               'Supermarket '\n",
              "                                                                                               'Type3']])),\n",
              "                                                                  ('sta...\n",
              "                                                                   StandardScaler())]),\n",
              "                                                  <sklearn.compose._column_transformer.make_column_selector object at 0x7e00acaa2e30>),\n",
              "                                                 ('pipeline-3',\n",
              "                                                  Pipeline(steps=[('simpleimputer',\n",
              "                                                                   SimpleImputer(fill_value='Missing',\n",
              "                                                                                 strategy='constant')),\n",
              "                                                                  ('onehotencoder',\n",
              "                                                                   OneHotEncoder(handle_unknown='ignore',\n",
              "                                                                                 sparse=False))]),\n",
              "                                                  ['Item_Fat_Content',\n",
              "                                                   'Item_Type'])])),\n",
              "                ('dummyregressor', DummyRegressor())])"
            ],
            "text/html": [
              "<style>#sk-container-id-2 {color: black;background-color: white;}#sk-container-id-2 pre{padding: 0;}#sk-container-id-2 div.sk-toggleable {background-color: white;}#sk-container-id-2 label.sk-toggleable__label {cursor: pointer;display: block;width: 100%;margin-bottom: 0;padding: 0.3em;box-sizing: border-box;text-align: center;}#sk-container-id-2 label.sk-toggleable__label-arrow:before {content: \"▸\";float: left;margin-right: 0.25em;color: #696969;}#sk-container-id-2 label.sk-toggleable__label-arrow:hover:before {color: black;}#sk-container-id-2 div.sk-estimator:hover label.sk-toggleable__label-arrow:before {color: black;}#sk-container-id-2 div.sk-toggleable__content {max-height: 0;max-width: 0;overflow: hidden;text-align: left;background-color: #f0f8ff;}#sk-container-id-2 div.sk-toggleable__content pre {margin: 0.2em;color: black;border-radius: 0.25em;background-color: #f0f8ff;}#sk-container-id-2 input.sk-toggleable__control:checked~div.sk-toggleable__content {max-height: 200px;max-width: 100%;overflow: auto;}#sk-container-id-2 input.sk-toggleable__control:checked~label.sk-toggleable__label-arrow:before {content: \"▾\";}#sk-container-id-2 div.sk-estimator input.sk-toggleable__control:checked~label.sk-toggleable__label {background-color: #d4ebff;}#sk-container-id-2 div.sk-label input.sk-toggleable__control:checked~label.sk-toggleable__label {background-color: #d4ebff;}#sk-container-id-2 input.sk-hidden--visually {border: 0;clip: rect(1px 1px 1px 1px);clip: rect(1px, 1px, 1px, 1px);height: 1px;margin: -1px;overflow: hidden;padding: 0;position: absolute;width: 1px;}#sk-container-id-2 div.sk-estimator {font-family: monospace;background-color: #f0f8ff;border: 1px dotted black;border-radius: 0.25em;box-sizing: border-box;margin-bottom: 0.5em;}#sk-container-id-2 div.sk-estimator:hover {background-color: #d4ebff;}#sk-container-id-2 div.sk-parallel-item::after {content: \"\";width: 100%;border-bottom: 1px solid gray;flex-grow: 1;}#sk-container-id-2 div.sk-label:hover label.sk-toggleable__label {background-color: #d4ebff;}#sk-container-id-2 div.sk-serial::before {content: \"\";position: absolute;border-left: 1px solid gray;box-sizing: border-box;top: 0;bottom: 0;left: 50%;z-index: 0;}#sk-container-id-2 div.sk-serial {display: flex;flex-direction: column;align-items: center;background-color: white;padding-right: 0.2em;padding-left: 0.2em;position: relative;}#sk-container-id-2 div.sk-item {position: relative;z-index: 1;}#sk-container-id-2 div.sk-parallel {display: flex;align-items: stretch;justify-content: center;background-color: white;position: relative;}#sk-container-id-2 div.sk-item::before, #sk-container-id-2 div.sk-parallel-item::before {content: \"\";position: absolute;border-left: 1px solid gray;box-sizing: border-box;top: 0;bottom: 0;left: 50%;z-index: -1;}#sk-container-id-2 div.sk-parallel-item {display: flex;flex-direction: column;z-index: 1;position: relative;background-color: white;}#sk-container-id-2 div.sk-parallel-item:first-child::after {align-self: flex-end;width: 50%;}#sk-container-id-2 div.sk-parallel-item:last-child::after {align-self: flex-start;width: 50%;}#sk-container-id-2 div.sk-parallel-item:only-child::after {width: 0;}#sk-container-id-2 div.sk-dashed-wrapped {border: 1px dashed gray;margin: 0 0.4em 0.5em 0.4em;box-sizing: border-box;padding-bottom: 0.4em;background-color: white;}#sk-container-id-2 div.sk-label label {font-family: monospace;font-weight: bold;display: inline-block;line-height: 1.2em;}#sk-container-id-2 div.sk-label-container {text-align: center;}#sk-container-id-2 div.sk-container {/* jupyter's `normalize.less` sets `[hidden] { display: none; }` but bootstrap.min.css set `[hidden] { display: none !important; }` so we also need the `!important` here to be able to override the default hidden behavior on the sphinx rendered scikit-learn.org. See: https://github.com/scikit-learn/scikit-learn/issues/21755 */display: inline-block !important;position: relative;}#sk-container-id-2 div.sk-text-repr-fallback {display: none;}</style><div id=\"sk-container-id-2\" class=\"sk-top-container\"><div class=\"sk-text-repr-fallback\"><pre>Pipeline(steps=[(&#x27;columntransformer&#x27;,\n",
              "                 ColumnTransformer(transformers=[(&#x27;pipeline-1&#x27;,\n",
              "                                                  Pipeline(steps=[(&#x27;simpleimputer&#x27;,\n",
              "                                                                   SimpleImputer(strategy=&#x27;most_frequent&#x27;)),\n",
              "                                                                  (&#x27;ordinalencoder&#x27;,\n",
              "                                                                   OrdinalEncoder(categories=[[&#x27;Small&#x27;,\n",
              "                                                                                               &#x27;Medium&#x27;,\n",
              "                                                                                               &#x27;High&#x27;],\n",
              "                                                                                              [&#x27;Tier &#x27;\n",
              "                                                                                               &#x27;1&#x27;,\n",
              "                                                                                               &#x27;Tier &#x27;\n",
              "                                                                                               &#x27;2&#x27;,\n",
              "                                                                                               &#x27;Tier &#x27;\n",
              "                                                                                               &#x27;3&#x27;],\n",
              "                                                                                              [&#x27;Grocery &#x27;\n",
              "                                                                                               &#x27;Store&#x27;,\n",
              "                                                                                               &#x27;Supermarket &#x27;\n",
              "                                                                                               &#x27;Type1&#x27;,\n",
              "                                                                                               &#x27;Supermarket &#x27;\n",
              "                                                                                               &#x27;Type2&#x27;,\n",
              "                                                                                               &#x27;Supermarket &#x27;\n",
              "                                                                                               &#x27;Type3&#x27;]])),\n",
              "                                                                  (&#x27;sta...\n",
              "                                                                   StandardScaler())]),\n",
              "                                                  &lt;sklearn.compose._column_transformer.make_column_selector object at 0x7e00acaa2e30&gt;),\n",
              "                                                 (&#x27;pipeline-3&#x27;,\n",
              "                                                  Pipeline(steps=[(&#x27;simpleimputer&#x27;,\n",
              "                                                                   SimpleImputer(fill_value=&#x27;Missing&#x27;,\n",
              "                                                                                 strategy=&#x27;constant&#x27;)),\n",
              "                                                                  (&#x27;onehotencoder&#x27;,\n",
              "                                                                   OneHotEncoder(handle_unknown=&#x27;ignore&#x27;,\n",
              "                                                                                 sparse=False))]),\n",
              "                                                  [&#x27;Item_Fat_Content&#x27;,\n",
              "                                                   &#x27;Item_Type&#x27;])])),\n",
              "                (&#x27;dummyregressor&#x27;, DummyRegressor())])</pre><b>In a Jupyter environment, please rerun this cell to show the HTML representation or trust the notebook. <br />On GitHub, the HTML representation is unable to render, please try loading this page with nbviewer.org.</b></div><div class=\"sk-container\" hidden><div class=\"sk-item sk-dashed-wrapped\"><div class=\"sk-label-container\"><div class=\"sk-label sk-toggleable\"><input class=\"sk-toggleable__control sk-hidden--visually\" id=\"sk-estimator-id-12\" type=\"checkbox\" ><label for=\"sk-estimator-id-12\" class=\"sk-toggleable__label sk-toggleable__label-arrow\">Pipeline</label><div class=\"sk-toggleable__content\"><pre>Pipeline(steps=[(&#x27;columntransformer&#x27;,\n",
              "                 ColumnTransformer(transformers=[(&#x27;pipeline-1&#x27;,\n",
              "                                                  Pipeline(steps=[(&#x27;simpleimputer&#x27;,\n",
              "                                                                   SimpleImputer(strategy=&#x27;most_frequent&#x27;)),\n",
              "                                                                  (&#x27;ordinalencoder&#x27;,\n",
              "                                                                   OrdinalEncoder(categories=[[&#x27;Small&#x27;,\n",
              "                                                                                               &#x27;Medium&#x27;,\n",
              "                                                                                               &#x27;High&#x27;],\n",
              "                                                                                              [&#x27;Tier &#x27;\n",
              "                                                                                               &#x27;1&#x27;,\n",
              "                                                                                               &#x27;Tier &#x27;\n",
              "                                                                                               &#x27;2&#x27;,\n",
              "                                                                                               &#x27;Tier &#x27;\n",
              "                                                                                               &#x27;3&#x27;],\n",
              "                                                                                              [&#x27;Grocery &#x27;\n",
              "                                                                                               &#x27;Store&#x27;,\n",
              "                                                                                               &#x27;Supermarket &#x27;\n",
              "                                                                                               &#x27;Type1&#x27;,\n",
              "                                                                                               &#x27;Supermarket &#x27;\n",
              "                                                                                               &#x27;Type2&#x27;,\n",
              "                                                                                               &#x27;Supermarket &#x27;\n",
              "                                                                                               &#x27;Type3&#x27;]])),\n",
              "                                                                  (&#x27;sta...\n",
              "                                                                   StandardScaler())]),\n",
              "                                                  &lt;sklearn.compose._column_transformer.make_column_selector object at 0x7e00acaa2e30&gt;),\n",
              "                                                 (&#x27;pipeline-3&#x27;,\n",
              "                                                  Pipeline(steps=[(&#x27;simpleimputer&#x27;,\n",
              "                                                                   SimpleImputer(fill_value=&#x27;Missing&#x27;,\n",
              "                                                                                 strategy=&#x27;constant&#x27;)),\n",
              "                                                                  (&#x27;onehotencoder&#x27;,\n",
              "                                                                   OneHotEncoder(handle_unknown=&#x27;ignore&#x27;,\n",
              "                                                                                 sparse=False))]),\n",
              "                                                  [&#x27;Item_Fat_Content&#x27;,\n",
              "                                                   &#x27;Item_Type&#x27;])])),\n",
              "                (&#x27;dummyregressor&#x27;, DummyRegressor())])</pre></div></div></div><div class=\"sk-serial\"><div class=\"sk-item sk-dashed-wrapped\"><div class=\"sk-label-container\"><div class=\"sk-label sk-toggleable\"><input class=\"sk-toggleable__control sk-hidden--visually\" id=\"sk-estimator-id-13\" type=\"checkbox\" ><label for=\"sk-estimator-id-13\" class=\"sk-toggleable__label sk-toggleable__label-arrow\">columntransformer: ColumnTransformer</label><div class=\"sk-toggleable__content\"><pre>ColumnTransformer(transformers=[(&#x27;pipeline-1&#x27;,\n",
              "                                 Pipeline(steps=[(&#x27;simpleimputer&#x27;,\n",
              "                                                  SimpleImputer(strategy=&#x27;most_frequent&#x27;)),\n",
              "                                                 (&#x27;ordinalencoder&#x27;,\n",
              "                                                  OrdinalEncoder(categories=[[&#x27;Small&#x27;,\n",
              "                                                                              &#x27;Medium&#x27;,\n",
              "                                                                              &#x27;High&#x27;],\n",
              "                                                                             [&#x27;Tier &#x27;\n",
              "                                                                              &#x27;1&#x27;,\n",
              "                                                                              &#x27;Tier &#x27;\n",
              "                                                                              &#x27;2&#x27;,\n",
              "                                                                              &#x27;Tier &#x27;\n",
              "                                                                              &#x27;3&#x27;],\n",
              "                                                                             [&#x27;Grocery &#x27;\n",
              "                                                                              &#x27;Store&#x27;,\n",
              "                                                                              &#x27;Supermarket &#x27;\n",
              "                                                                              &#x27;Type1&#x27;,\n",
              "                                                                              &#x27;Supermarket &#x27;\n",
              "                                                                              &#x27;Type2&#x27;,\n",
              "                                                                              &#x27;Supermarket &#x27;\n",
              "                                                                              &#x27;Type3&#x27;]])),\n",
              "                                                 (&#x27;standardscaler&#x27;,\n",
              "                                                  StandardScaler())]),\n",
              "                                 [&#x27;Ou...\n",
              "                                 Pipeline(steps=[(&#x27;simpleimputer&#x27;,\n",
              "                                                  SimpleImputer()),\n",
              "                                                 (&#x27;standardscaler&#x27;,\n",
              "                                                  StandardScaler())]),\n",
              "                                 &lt;sklearn.compose._column_transformer.make_column_selector object at 0x7e00acaa2e30&gt;),\n",
              "                                (&#x27;pipeline-3&#x27;,\n",
              "                                 Pipeline(steps=[(&#x27;simpleimputer&#x27;,\n",
              "                                                  SimpleImputer(fill_value=&#x27;Missing&#x27;,\n",
              "                                                                strategy=&#x27;constant&#x27;)),\n",
              "                                                 (&#x27;onehotencoder&#x27;,\n",
              "                                                  OneHotEncoder(handle_unknown=&#x27;ignore&#x27;,\n",
              "                                                                sparse=False))]),\n",
              "                                 [&#x27;Item_Fat_Content&#x27;, &#x27;Item_Type&#x27;])])</pre></div></div></div><div class=\"sk-parallel\"><div class=\"sk-parallel-item\"><div class=\"sk-item\"><div class=\"sk-label-container\"><div class=\"sk-label sk-toggleable\"><input class=\"sk-toggleable__control sk-hidden--visually\" id=\"sk-estimator-id-14\" type=\"checkbox\" ><label for=\"sk-estimator-id-14\" class=\"sk-toggleable__label sk-toggleable__label-arrow\">pipeline-1</label><div class=\"sk-toggleable__content\"><pre>[&#x27;Outlet_Size&#x27;, &#x27;Outlet_Location_Type&#x27;, &#x27;Outlet_Type&#x27;]</pre></div></div></div><div class=\"sk-serial\"><div class=\"sk-item\"><div class=\"sk-serial\"><div class=\"sk-item\"><div class=\"sk-estimator sk-toggleable\"><input class=\"sk-toggleable__control sk-hidden--visually\" id=\"sk-estimator-id-15\" type=\"checkbox\" ><label for=\"sk-estimator-id-15\" class=\"sk-toggleable__label sk-toggleable__label-arrow\">SimpleImputer</label><div class=\"sk-toggleable__content\"><pre>SimpleImputer(strategy=&#x27;most_frequent&#x27;)</pre></div></div></div><div class=\"sk-item\"><div class=\"sk-estimator sk-toggleable\"><input class=\"sk-toggleable__control sk-hidden--visually\" id=\"sk-estimator-id-16\" type=\"checkbox\" ><label for=\"sk-estimator-id-16\" class=\"sk-toggleable__label sk-toggleable__label-arrow\">OrdinalEncoder</label><div class=\"sk-toggleable__content\"><pre>OrdinalEncoder(categories=[[&#x27;Small&#x27;, &#x27;Medium&#x27;, &#x27;High&#x27;],\n",
              "                           [&#x27;Tier 1&#x27;, &#x27;Tier 2&#x27;, &#x27;Tier 3&#x27;],\n",
              "                           [&#x27;Grocery Store&#x27;, &#x27;Supermarket Type1&#x27;,\n",
              "                            &#x27;Supermarket Type2&#x27;, &#x27;Supermarket Type3&#x27;]])</pre></div></div></div><div class=\"sk-item\"><div class=\"sk-estimator sk-toggleable\"><input class=\"sk-toggleable__control sk-hidden--visually\" id=\"sk-estimator-id-17\" type=\"checkbox\" ><label for=\"sk-estimator-id-17\" class=\"sk-toggleable__label sk-toggleable__label-arrow\">StandardScaler</label><div class=\"sk-toggleable__content\"><pre>StandardScaler()</pre></div></div></div></div></div></div></div></div><div class=\"sk-parallel-item\"><div class=\"sk-item\"><div class=\"sk-label-container\"><div class=\"sk-label sk-toggleable\"><input class=\"sk-toggleable__control sk-hidden--visually\" id=\"sk-estimator-id-18\" type=\"checkbox\" ><label for=\"sk-estimator-id-18\" class=\"sk-toggleable__label sk-toggleable__label-arrow\">pipeline-2</label><div class=\"sk-toggleable__content\"><pre>&lt;sklearn.compose._column_transformer.make_column_selector object at 0x7e00acaa2e30&gt;</pre></div></div></div><div class=\"sk-serial\"><div class=\"sk-item\"><div class=\"sk-serial\"><div class=\"sk-item\"><div class=\"sk-estimator sk-toggleable\"><input class=\"sk-toggleable__control sk-hidden--visually\" id=\"sk-estimator-id-19\" type=\"checkbox\" ><label for=\"sk-estimator-id-19\" class=\"sk-toggleable__label sk-toggleable__label-arrow\">SimpleImputer</label><div class=\"sk-toggleable__content\"><pre>SimpleImputer()</pre></div></div></div><div class=\"sk-item\"><div class=\"sk-estimator sk-toggleable\"><input class=\"sk-toggleable__control sk-hidden--visually\" id=\"sk-estimator-id-20\" type=\"checkbox\" ><label for=\"sk-estimator-id-20\" class=\"sk-toggleable__label sk-toggleable__label-arrow\">StandardScaler</label><div class=\"sk-toggleable__content\"><pre>StandardScaler()</pre></div></div></div></div></div></div></div></div><div class=\"sk-parallel-item\"><div class=\"sk-item\"><div class=\"sk-label-container\"><div class=\"sk-label sk-toggleable\"><input class=\"sk-toggleable__control sk-hidden--visually\" id=\"sk-estimator-id-21\" type=\"checkbox\" ><label for=\"sk-estimator-id-21\" class=\"sk-toggleable__label sk-toggleable__label-arrow\">pipeline-3</label><div class=\"sk-toggleable__content\"><pre>[&#x27;Item_Fat_Content&#x27;, &#x27;Item_Type&#x27;]</pre></div></div></div><div class=\"sk-serial\"><div class=\"sk-item\"><div class=\"sk-serial\"><div class=\"sk-item\"><div class=\"sk-estimator sk-toggleable\"><input class=\"sk-toggleable__control sk-hidden--visually\" id=\"sk-estimator-id-22\" type=\"checkbox\" ><label for=\"sk-estimator-id-22\" class=\"sk-toggleable__label sk-toggleable__label-arrow\">SimpleImputer</label><div class=\"sk-toggleable__content\"><pre>SimpleImputer(fill_value=&#x27;Missing&#x27;, strategy=&#x27;constant&#x27;)</pre></div></div></div><div class=\"sk-item\"><div class=\"sk-estimator sk-toggleable\"><input class=\"sk-toggleable__control sk-hidden--visually\" id=\"sk-estimator-id-23\" type=\"checkbox\" ><label for=\"sk-estimator-id-23\" class=\"sk-toggleable__label sk-toggleable__label-arrow\">OneHotEncoder</label><div class=\"sk-toggleable__content\"><pre>OneHotEncoder(handle_unknown=&#x27;ignore&#x27;, sparse=False)</pre></div></div></div></div></div></div></div></div></div></div><div class=\"sk-item\"><div class=\"sk-estimator sk-toggleable\"><input class=\"sk-toggleable__control sk-hidden--visually\" id=\"sk-estimator-id-24\" type=\"checkbox\" ><label for=\"sk-estimator-id-24\" class=\"sk-toggleable__label sk-toggleable__label-arrow\">DummyRegressor</label><div class=\"sk-toggleable__content\"><pre>DummyRegressor()</pre></div></div></div></div></div></div></div>"
            ]
          },
          "metadata": {},
          "execution_count": 72
        }
      ]
    },
    {
      "cell_type": "code",
      "source": [
        "# find MAE, MSE, RMSE and R2 on the baseline model for both the train and test data\n",
        "print('Train Evaluation')\n",
        "eval_model(y_train, dummy_pipe.predict(X_train))\n",
        "\n",
        "print('\\nTest Evaluation')\n",
        "eval_model(y_test, dummy_pipe.predict(X_test))"
      ],
      "metadata": {
        "colab": {
          "base_uri": "https://localhost:8080/"
        },
        "id": "lenaGDU375G1",
        "outputId": "7d3dfdfc-14ba-45e8-891e-f5f82b467ccb"
      },
      "execution_count": 73,
      "outputs": [
        {
          "output_type": "stream",
          "name": "stdout",
          "text": [
            "Train Evaluation\n",
            " MAE 1356.10,\n",
            " MSE 2957434.63,\n",
            " RMSE: 1719.72,\n",
            " R^2: 0.00\n",
            "\n",
            "Test Evaluation\n",
            " MAE 1338.34,\n",
            " MSE 2807178.14,\n",
            " RMSE: 1675.46,\n",
            " R^2: -0.00\n"
          ]
        }
      ]
    },
    {
      "cell_type": "markdown",
      "source": [
        "## Linear Regression Model with Pipeline"
      ],
      "metadata": {
        "id": "_ZvrKGEK5Qvf"
      }
    },
    {
      "cell_type": "code",
      "source": [
        "# instantiate a linear regression model\n",
        "lr = LinearRegression()\n",
        "\n",
        "# combine the preprocessor object and the linear regression model in a pipeline\n",
        "lr_pipe = make_pipeline(preprocessor, lr)\n",
        "\n",
        "# fit your pipe on the training data\n",
        "lr_pipe.fit(X_train, y_train)"
      ],
      "metadata": {
        "colab": {
          "base_uri": "https://localhost:8080/",
          "height": 317
        },
        "id": "5DYG2U3v8UDp",
        "outputId": "2d5ca393-7f5c-4282-acb6-2966046ed890"
      },
      "execution_count": 74,
      "outputs": [
        {
          "output_type": "stream",
          "name": "stderr",
          "text": [
            "/usr/local/lib/python3.10/dist-packages/sklearn/preprocessing/_encoders.py:868: FutureWarning: `sparse` was renamed to `sparse_output` in version 1.2 and will be removed in 1.4. `sparse_output` is ignored unless you leave `sparse` to its default value.\n",
            "  warnings.warn(\n"
          ]
        },
        {
          "output_type": "execute_result",
          "data": {
            "text/plain": [
              "Pipeline(steps=[('columntransformer',\n",
              "                 ColumnTransformer(transformers=[('pipeline-1',\n",
              "                                                  Pipeline(steps=[('simpleimputer',\n",
              "                                                                   SimpleImputer(strategy='most_frequent')),\n",
              "                                                                  ('ordinalencoder',\n",
              "                                                                   OrdinalEncoder(categories=[['Small',\n",
              "                                                                                               'Medium',\n",
              "                                                                                               'High'],\n",
              "                                                                                              ['Tier '\n",
              "                                                                                               '1',\n",
              "                                                                                               'Tier '\n",
              "                                                                                               '2',\n",
              "                                                                                               'Tier '\n",
              "                                                                                               '3'],\n",
              "                                                                                              ['Grocery '\n",
              "                                                                                               'Store',\n",
              "                                                                                               'Supermarket '\n",
              "                                                                                               'Type1',\n",
              "                                                                                               'Supermarket '\n",
              "                                                                                               'Type2',\n",
              "                                                                                               'Supermarket '\n",
              "                                                                                               'Type3']])),\n",
              "                                                                  ('sta...\n",
              "                                                                   StandardScaler())]),\n",
              "                                                  <sklearn.compose._column_transformer.make_column_selector object at 0x7e00acaa2e30>),\n",
              "                                                 ('pipeline-3',\n",
              "                                                  Pipeline(steps=[('simpleimputer',\n",
              "                                                                   SimpleImputer(fill_value='Missing',\n",
              "                                                                                 strategy='constant')),\n",
              "                                                                  ('onehotencoder',\n",
              "                                                                   OneHotEncoder(handle_unknown='ignore',\n",
              "                                                                                 sparse=False))]),\n",
              "                                                  ['Item_Fat_Content',\n",
              "                                                   'Item_Type'])])),\n",
              "                ('linearregression', LinearRegression())])"
            ],
            "text/html": [
              "<style>#sk-container-id-3 {color: black;background-color: white;}#sk-container-id-3 pre{padding: 0;}#sk-container-id-3 div.sk-toggleable {background-color: white;}#sk-container-id-3 label.sk-toggleable__label {cursor: pointer;display: block;width: 100%;margin-bottom: 0;padding: 0.3em;box-sizing: border-box;text-align: center;}#sk-container-id-3 label.sk-toggleable__label-arrow:before {content: \"▸\";float: left;margin-right: 0.25em;color: #696969;}#sk-container-id-3 label.sk-toggleable__label-arrow:hover:before {color: black;}#sk-container-id-3 div.sk-estimator:hover label.sk-toggleable__label-arrow:before {color: black;}#sk-container-id-3 div.sk-toggleable__content {max-height: 0;max-width: 0;overflow: hidden;text-align: left;background-color: #f0f8ff;}#sk-container-id-3 div.sk-toggleable__content pre {margin: 0.2em;color: black;border-radius: 0.25em;background-color: #f0f8ff;}#sk-container-id-3 input.sk-toggleable__control:checked~div.sk-toggleable__content {max-height: 200px;max-width: 100%;overflow: auto;}#sk-container-id-3 input.sk-toggleable__control:checked~label.sk-toggleable__label-arrow:before {content: \"▾\";}#sk-container-id-3 div.sk-estimator input.sk-toggleable__control:checked~label.sk-toggleable__label {background-color: #d4ebff;}#sk-container-id-3 div.sk-label input.sk-toggleable__control:checked~label.sk-toggleable__label {background-color: #d4ebff;}#sk-container-id-3 input.sk-hidden--visually {border: 0;clip: rect(1px 1px 1px 1px);clip: rect(1px, 1px, 1px, 1px);height: 1px;margin: -1px;overflow: hidden;padding: 0;position: absolute;width: 1px;}#sk-container-id-3 div.sk-estimator {font-family: monospace;background-color: #f0f8ff;border: 1px dotted black;border-radius: 0.25em;box-sizing: border-box;margin-bottom: 0.5em;}#sk-container-id-3 div.sk-estimator:hover {background-color: #d4ebff;}#sk-container-id-3 div.sk-parallel-item::after {content: \"\";width: 100%;border-bottom: 1px solid gray;flex-grow: 1;}#sk-container-id-3 div.sk-label:hover label.sk-toggleable__label {background-color: #d4ebff;}#sk-container-id-3 div.sk-serial::before {content: \"\";position: absolute;border-left: 1px solid gray;box-sizing: border-box;top: 0;bottom: 0;left: 50%;z-index: 0;}#sk-container-id-3 div.sk-serial {display: flex;flex-direction: column;align-items: center;background-color: white;padding-right: 0.2em;padding-left: 0.2em;position: relative;}#sk-container-id-3 div.sk-item {position: relative;z-index: 1;}#sk-container-id-3 div.sk-parallel {display: flex;align-items: stretch;justify-content: center;background-color: white;position: relative;}#sk-container-id-3 div.sk-item::before, #sk-container-id-3 div.sk-parallel-item::before {content: \"\";position: absolute;border-left: 1px solid gray;box-sizing: border-box;top: 0;bottom: 0;left: 50%;z-index: -1;}#sk-container-id-3 div.sk-parallel-item {display: flex;flex-direction: column;z-index: 1;position: relative;background-color: white;}#sk-container-id-3 div.sk-parallel-item:first-child::after {align-self: flex-end;width: 50%;}#sk-container-id-3 div.sk-parallel-item:last-child::after {align-self: flex-start;width: 50%;}#sk-container-id-3 div.sk-parallel-item:only-child::after {width: 0;}#sk-container-id-3 div.sk-dashed-wrapped {border: 1px dashed gray;margin: 0 0.4em 0.5em 0.4em;box-sizing: border-box;padding-bottom: 0.4em;background-color: white;}#sk-container-id-3 div.sk-label label {font-family: monospace;font-weight: bold;display: inline-block;line-height: 1.2em;}#sk-container-id-3 div.sk-label-container {text-align: center;}#sk-container-id-3 div.sk-container {/* jupyter's `normalize.less` sets `[hidden] { display: none; }` but bootstrap.min.css set `[hidden] { display: none !important; }` so we also need the `!important` here to be able to override the default hidden behavior on the sphinx rendered scikit-learn.org. See: https://github.com/scikit-learn/scikit-learn/issues/21755 */display: inline-block !important;position: relative;}#sk-container-id-3 div.sk-text-repr-fallback {display: none;}</style><div id=\"sk-container-id-3\" class=\"sk-top-container\"><div class=\"sk-text-repr-fallback\"><pre>Pipeline(steps=[(&#x27;columntransformer&#x27;,\n",
              "                 ColumnTransformer(transformers=[(&#x27;pipeline-1&#x27;,\n",
              "                                                  Pipeline(steps=[(&#x27;simpleimputer&#x27;,\n",
              "                                                                   SimpleImputer(strategy=&#x27;most_frequent&#x27;)),\n",
              "                                                                  (&#x27;ordinalencoder&#x27;,\n",
              "                                                                   OrdinalEncoder(categories=[[&#x27;Small&#x27;,\n",
              "                                                                                               &#x27;Medium&#x27;,\n",
              "                                                                                               &#x27;High&#x27;],\n",
              "                                                                                              [&#x27;Tier &#x27;\n",
              "                                                                                               &#x27;1&#x27;,\n",
              "                                                                                               &#x27;Tier &#x27;\n",
              "                                                                                               &#x27;2&#x27;,\n",
              "                                                                                               &#x27;Tier &#x27;\n",
              "                                                                                               &#x27;3&#x27;],\n",
              "                                                                                              [&#x27;Grocery &#x27;\n",
              "                                                                                               &#x27;Store&#x27;,\n",
              "                                                                                               &#x27;Supermarket &#x27;\n",
              "                                                                                               &#x27;Type1&#x27;,\n",
              "                                                                                               &#x27;Supermarket &#x27;\n",
              "                                                                                               &#x27;Type2&#x27;,\n",
              "                                                                                               &#x27;Supermarket &#x27;\n",
              "                                                                                               &#x27;Type3&#x27;]])),\n",
              "                                                                  (&#x27;sta...\n",
              "                                                                   StandardScaler())]),\n",
              "                                                  &lt;sklearn.compose._column_transformer.make_column_selector object at 0x7e00acaa2e30&gt;),\n",
              "                                                 (&#x27;pipeline-3&#x27;,\n",
              "                                                  Pipeline(steps=[(&#x27;simpleimputer&#x27;,\n",
              "                                                                   SimpleImputer(fill_value=&#x27;Missing&#x27;,\n",
              "                                                                                 strategy=&#x27;constant&#x27;)),\n",
              "                                                                  (&#x27;onehotencoder&#x27;,\n",
              "                                                                   OneHotEncoder(handle_unknown=&#x27;ignore&#x27;,\n",
              "                                                                                 sparse=False))]),\n",
              "                                                  [&#x27;Item_Fat_Content&#x27;,\n",
              "                                                   &#x27;Item_Type&#x27;])])),\n",
              "                (&#x27;linearregression&#x27;, LinearRegression())])</pre><b>In a Jupyter environment, please rerun this cell to show the HTML representation or trust the notebook. <br />On GitHub, the HTML representation is unable to render, please try loading this page with nbviewer.org.</b></div><div class=\"sk-container\" hidden><div class=\"sk-item sk-dashed-wrapped\"><div class=\"sk-label-container\"><div class=\"sk-label sk-toggleable\"><input class=\"sk-toggleable__control sk-hidden--visually\" id=\"sk-estimator-id-25\" type=\"checkbox\" ><label for=\"sk-estimator-id-25\" class=\"sk-toggleable__label sk-toggleable__label-arrow\">Pipeline</label><div class=\"sk-toggleable__content\"><pre>Pipeline(steps=[(&#x27;columntransformer&#x27;,\n",
              "                 ColumnTransformer(transformers=[(&#x27;pipeline-1&#x27;,\n",
              "                                                  Pipeline(steps=[(&#x27;simpleimputer&#x27;,\n",
              "                                                                   SimpleImputer(strategy=&#x27;most_frequent&#x27;)),\n",
              "                                                                  (&#x27;ordinalencoder&#x27;,\n",
              "                                                                   OrdinalEncoder(categories=[[&#x27;Small&#x27;,\n",
              "                                                                                               &#x27;Medium&#x27;,\n",
              "                                                                                               &#x27;High&#x27;],\n",
              "                                                                                              [&#x27;Tier &#x27;\n",
              "                                                                                               &#x27;1&#x27;,\n",
              "                                                                                               &#x27;Tier &#x27;\n",
              "                                                                                               &#x27;2&#x27;,\n",
              "                                                                                               &#x27;Tier &#x27;\n",
              "                                                                                               &#x27;3&#x27;],\n",
              "                                                                                              [&#x27;Grocery &#x27;\n",
              "                                                                                               &#x27;Store&#x27;,\n",
              "                                                                                               &#x27;Supermarket &#x27;\n",
              "                                                                                               &#x27;Type1&#x27;,\n",
              "                                                                                               &#x27;Supermarket &#x27;\n",
              "                                                                                               &#x27;Type2&#x27;,\n",
              "                                                                                               &#x27;Supermarket &#x27;\n",
              "                                                                                               &#x27;Type3&#x27;]])),\n",
              "                                                                  (&#x27;sta...\n",
              "                                                                   StandardScaler())]),\n",
              "                                                  &lt;sklearn.compose._column_transformer.make_column_selector object at 0x7e00acaa2e30&gt;),\n",
              "                                                 (&#x27;pipeline-3&#x27;,\n",
              "                                                  Pipeline(steps=[(&#x27;simpleimputer&#x27;,\n",
              "                                                                   SimpleImputer(fill_value=&#x27;Missing&#x27;,\n",
              "                                                                                 strategy=&#x27;constant&#x27;)),\n",
              "                                                                  (&#x27;onehotencoder&#x27;,\n",
              "                                                                   OneHotEncoder(handle_unknown=&#x27;ignore&#x27;,\n",
              "                                                                                 sparse=False))]),\n",
              "                                                  [&#x27;Item_Fat_Content&#x27;,\n",
              "                                                   &#x27;Item_Type&#x27;])])),\n",
              "                (&#x27;linearregression&#x27;, LinearRegression())])</pre></div></div></div><div class=\"sk-serial\"><div class=\"sk-item sk-dashed-wrapped\"><div class=\"sk-label-container\"><div class=\"sk-label sk-toggleable\"><input class=\"sk-toggleable__control sk-hidden--visually\" id=\"sk-estimator-id-26\" type=\"checkbox\" ><label for=\"sk-estimator-id-26\" class=\"sk-toggleable__label sk-toggleable__label-arrow\">columntransformer: ColumnTransformer</label><div class=\"sk-toggleable__content\"><pre>ColumnTransformer(transformers=[(&#x27;pipeline-1&#x27;,\n",
              "                                 Pipeline(steps=[(&#x27;simpleimputer&#x27;,\n",
              "                                                  SimpleImputer(strategy=&#x27;most_frequent&#x27;)),\n",
              "                                                 (&#x27;ordinalencoder&#x27;,\n",
              "                                                  OrdinalEncoder(categories=[[&#x27;Small&#x27;,\n",
              "                                                                              &#x27;Medium&#x27;,\n",
              "                                                                              &#x27;High&#x27;],\n",
              "                                                                             [&#x27;Tier &#x27;\n",
              "                                                                              &#x27;1&#x27;,\n",
              "                                                                              &#x27;Tier &#x27;\n",
              "                                                                              &#x27;2&#x27;,\n",
              "                                                                              &#x27;Tier &#x27;\n",
              "                                                                              &#x27;3&#x27;],\n",
              "                                                                             [&#x27;Grocery &#x27;\n",
              "                                                                              &#x27;Store&#x27;,\n",
              "                                                                              &#x27;Supermarket &#x27;\n",
              "                                                                              &#x27;Type1&#x27;,\n",
              "                                                                              &#x27;Supermarket &#x27;\n",
              "                                                                              &#x27;Type2&#x27;,\n",
              "                                                                              &#x27;Supermarket &#x27;\n",
              "                                                                              &#x27;Type3&#x27;]])),\n",
              "                                                 (&#x27;standardscaler&#x27;,\n",
              "                                                  StandardScaler())]),\n",
              "                                 [&#x27;Ou...\n",
              "                                 Pipeline(steps=[(&#x27;simpleimputer&#x27;,\n",
              "                                                  SimpleImputer()),\n",
              "                                                 (&#x27;standardscaler&#x27;,\n",
              "                                                  StandardScaler())]),\n",
              "                                 &lt;sklearn.compose._column_transformer.make_column_selector object at 0x7e00acaa2e30&gt;),\n",
              "                                (&#x27;pipeline-3&#x27;,\n",
              "                                 Pipeline(steps=[(&#x27;simpleimputer&#x27;,\n",
              "                                                  SimpleImputer(fill_value=&#x27;Missing&#x27;,\n",
              "                                                                strategy=&#x27;constant&#x27;)),\n",
              "                                                 (&#x27;onehotencoder&#x27;,\n",
              "                                                  OneHotEncoder(handle_unknown=&#x27;ignore&#x27;,\n",
              "                                                                sparse=False))]),\n",
              "                                 [&#x27;Item_Fat_Content&#x27;, &#x27;Item_Type&#x27;])])</pre></div></div></div><div class=\"sk-parallel\"><div class=\"sk-parallel-item\"><div class=\"sk-item\"><div class=\"sk-label-container\"><div class=\"sk-label sk-toggleable\"><input class=\"sk-toggleable__control sk-hidden--visually\" id=\"sk-estimator-id-27\" type=\"checkbox\" ><label for=\"sk-estimator-id-27\" class=\"sk-toggleable__label sk-toggleable__label-arrow\">pipeline-1</label><div class=\"sk-toggleable__content\"><pre>[&#x27;Outlet_Size&#x27;, &#x27;Outlet_Location_Type&#x27;, &#x27;Outlet_Type&#x27;]</pre></div></div></div><div class=\"sk-serial\"><div class=\"sk-item\"><div class=\"sk-serial\"><div class=\"sk-item\"><div class=\"sk-estimator sk-toggleable\"><input class=\"sk-toggleable__control sk-hidden--visually\" id=\"sk-estimator-id-28\" type=\"checkbox\" ><label for=\"sk-estimator-id-28\" class=\"sk-toggleable__label sk-toggleable__label-arrow\">SimpleImputer</label><div class=\"sk-toggleable__content\"><pre>SimpleImputer(strategy=&#x27;most_frequent&#x27;)</pre></div></div></div><div class=\"sk-item\"><div class=\"sk-estimator sk-toggleable\"><input class=\"sk-toggleable__control sk-hidden--visually\" id=\"sk-estimator-id-29\" type=\"checkbox\" ><label for=\"sk-estimator-id-29\" class=\"sk-toggleable__label sk-toggleable__label-arrow\">OrdinalEncoder</label><div class=\"sk-toggleable__content\"><pre>OrdinalEncoder(categories=[[&#x27;Small&#x27;, &#x27;Medium&#x27;, &#x27;High&#x27;],\n",
              "                           [&#x27;Tier 1&#x27;, &#x27;Tier 2&#x27;, &#x27;Tier 3&#x27;],\n",
              "                           [&#x27;Grocery Store&#x27;, &#x27;Supermarket Type1&#x27;,\n",
              "                            &#x27;Supermarket Type2&#x27;, &#x27;Supermarket Type3&#x27;]])</pre></div></div></div><div class=\"sk-item\"><div class=\"sk-estimator sk-toggleable\"><input class=\"sk-toggleable__control sk-hidden--visually\" id=\"sk-estimator-id-30\" type=\"checkbox\" ><label for=\"sk-estimator-id-30\" class=\"sk-toggleable__label sk-toggleable__label-arrow\">StandardScaler</label><div class=\"sk-toggleable__content\"><pre>StandardScaler()</pre></div></div></div></div></div></div></div></div><div class=\"sk-parallel-item\"><div class=\"sk-item\"><div class=\"sk-label-container\"><div class=\"sk-label sk-toggleable\"><input class=\"sk-toggleable__control sk-hidden--visually\" id=\"sk-estimator-id-31\" type=\"checkbox\" ><label for=\"sk-estimator-id-31\" class=\"sk-toggleable__label sk-toggleable__label-arrow\">pipeline-2</label><div class=\"sk-toggleable__content\"><pre>&lt;sklearn.compose._column_transformer.make_column_selector object at 0x7e00acaa2e30&gt;</pre></div></div></div><div class=\"sk-serial\"><div class=\"sk-item\"><div class=\"sk-serial\"><div class=\"sk-item\"><div class=\"sk-estimator sk-toggleable\"><input class=\"sk-toggleable__control sk-hidden--visually\" id=\"sk-estimator-id-32\" type=\"checkbox\" ><label for=\"sk-estimator-id-32\" class=\"sk-toggleable__label sk-toggleable__label-arrow\">SimpleImputer</label><div class=\"sk-toggleable__content\"><pre>SimpleImputer()</pre></div></div></div><div class=\"sk-item\"><div class=\"sk-estimator sk-toggleable\"><input class=\"sk-toggleable__control sk-hidden--visually\" id=\"sk-estimator-id-33\" type=\"checkbox\" ><label for=\"sk-estimator-id-33\" class=\"sk-toggleable__label sk-toggleable__label-arrow\">StandardScaler</label><div class=\"sk-toggleable__content\"><pre>StandardScaler()</pre></div></div></div></div></div></div></div></div><div class=\"sk-parallel-item\"><div class=\"sk-item\"><div class=\"sk-label-container\"><div class=\"sk-label sk-toggleable\"><input class=\"sk-toggleable__control sk-hidden--visually\" id=\"sk-estimator-id-34\" type=\"checkbox\" ><label for=\"sk-estimator-id-34\" class=\"sk-toggleable__label sk-toggleable__label-arrow\">pipeline-3</label><div class=\"sk-toggleable__content\"><pre>[&#x27;Item_Fat_Content&#x27;, &#x27;Item_Type&#x27;]</pre></div></div></div><div class=\"sk-serial\"><div class=\"sk-item\"><div class=\"sk-serial\"><div class=\"sk-item\"><div class=\"sk-estimator sk-toggleable\"><input class=\"sk-toggleable__control sk-hidden--visually\" id=\"sk-estimator-id-35\" type=\"checkbox\" ><label for=\"sk-estimator-id-35\" class=\"sk-toggleable__label sk-toggleable__label-arrow\">SimpleImputer</label><div class=\"sk-toggleable__content\"><pre>SimpleImputer(fill_value=&#x27;Missing&#x27;, strategy=&#x27;constant&#x27;)</pre></div></div></div><div class=\"sk-item\"><div class=\"sk-estimator sk-toggleable\"><input class=\"sk-toggleable__control sk-hidden--visually\" id=\"sk-estimator-id-36\" type=\"checkbox\" ><label for=\"sk-estimator-id-36\" class=\"sk-toggleable__label sk-toggleable__label-arrow\">OneHotEncoder</label><div class=\"sk-toggleable__content\"><pre>OneHotEncoder(handle_unknown=&#x27;ignore&#x27;, sparse=False)</pre></div></div></div></div></div></div></div></div></div></div><div class=\"sk-item\"><div class=\"sk-estimator sk-toggleable\"><input class=\"sk-toggleable__control sk-hidden--visually\" id=\"sk-estimator-id-37\" type=\"checkbox\" ><label for=\"sk-estimator-id-37\" class=\"sk-toggleable__label sk-toggleable__label-arrow\">LinearRegression</label><div class=\"sk-toggleable__content\"><pre>LinearRegression()</pre></div></div></div></div></div></div></div>"
            ]
          },
          "metadata": {},
          "execution_count": 74
        }
      ]
    },
    {
      "cell_type": "code",
      "source": [
        "# Evaluate the performance of Linear Regression model based on r^2\n",
        "# Evaluate the performance of Regression Tree model based on rmse\n",
        "# find MAE, MSE, RMSE and R2 on the linear regression model for both the train and test data\n",
        "print('Train Evaluation')\n",
        "eval_model(y_train, lr_pipe.predict(X_train))\n",
        "\n",
        "print('\\nTest Evaluation')\n",
        "eval_model(y_test, lr_pipe.predict(X_test))"
      ],
      "metadata": {
        "colab": {
          "base_uri": "https://localhost:8080/"
        },
        "id": "2d_PZGjJ5N4M",
        "outputId": "2b3ebd14-034e-458b-debe-24651d832a78"
      },
      "execution_count": 75,
      "outputs": [
        {
          "output_type": "stream",
          "name": "stdout",
          "text": [
            "Train Evaluation\n",
            " MAE 910.62,\n",
            " MSE 1457963.16,\n",
            " RMSE: 1207.46,\n",
            " R^2: 0.51\n",
            "\n",
            "Test Evaluation\n",
            " MAE 876.56,\n",
            " MSE 1377129.17,\n",
            " RMSE: 1173.51,\n",
            " R^2: 0.51\n"
          ]
        }
      ]
    },
    {
      "cell_type": "code",
      "source": [],
      "metadata": {
        "id": "AOqiMNg2D4O2"
      },
      "execution_count": 75,
      "outputs": []
    },
    {
      "cell_type": "markdown",
      "source": [
        "Linear Regression: The r2 in training is at 51% while r2 in testing is at 51%.The delta or the difference between model performance on the training data vs. the test data is zero.\n",
        "\n",
        "The Linear Regression model is a good fit. There is no gap between the training and testing datasets."
      ],
      "metadata": {
        "id": "TAwLJfBnD5nS"
      }
    },
    {
      "cell_type": "markdown",
      "source": [
        "## Regression Tree Model"
      ],
      "metadata": {
        "id": "rQwdMo6x5iHg"
      }
    },
    {
      "cell_type": "code",
      "source": [
        "# import library\n",
        "from sklearn.tree import DecisionTreeRegressor\n",
        "\n",
        "# instantiate the model\n",
        "dr = DecisionTreeRegressor()"
      ],
      "metadata": {
        "id": "TPnlm5pjBnVL"
      },
      "execution_count": 76,
      "outputs": []
    },
    {
      "cell_type": "code",
      "source": [
        "# combine the preprocessor object and the Decision Tree regression model in a pipeline\n",
        "dr_pipe = make_pipeline(preprocessor, dr)"
      ],
      "metadata": {
        "id": "hDhI2F7gBp0I"
      },
      "execution_count": 77,
      "outputs": []
    },
    {
      "cell_type": "code",
      "source": [
        "# fit your pipe on the training data\n",
        "dr_pipe.fit(X_train, y_train)"
      ],
      "metadata": {
        "colab": {
          "base_uri": "https://localhost:8080/",
          "height": 317
        },
        "id": "Xxj_H55cBsTl",
        "outputId": "083d9859-d992-4180-e33b-5953a4e815cd"
      },
      "execution_count": 78,
      "outputs": [
        {
          "output_type": "stream",
          "name": "stderr",
          "text": [
            "/usr/local/lib/python3.10/dist-packages/sklearn/preprocessing/_encoders.py:868: FutureWarning: `sparse` was renamed to `sparse_output` in version 1.2 and will be removed in 1.4. `sparse_output` is ignored unless you leave `sparse` to its default value.\n",
            "  warnings.warn(\n"
          ]
        },
        {
          "output_type": "execute_result",
          "data": {
            "text/plain": [
              "Pipeline(steps=[('columntransformer',\n",
              "                 ColumnTransformer(transformers=[('pipeline-1',\n",
              "                                                  Pipeline(steps=[('simpleimputer',\n",
              "                                                                   SimpleImputer(strategy='most_frequent')),\n",
              "                                                                  ('ordinalencoder',\n",
              "                                                                   OrdinalEncoder(categories=[['Small',\n",
              "                                                                                               'Medium',\n",
              "                                                                                               'High'],\n",
              "                                                                                              ['Tier '\n",
              "                                                                                               '1',\n",
              "                                                                                               'Tier '\n",
              "                                                                                               '2',\n",
              "                                                                                               'Tier '\n",
              "                                                                                               '3'],\n",
              "                                                                                              ['Grocery '\n",
              "                                                                                               'Store',\n",
              "                                                                                               'Supermarket '\n",
              "                                                                                               'Type1',\n",
              "                                                                                               'Supermarket '\n",
              "                                                                                               'Type2',\n",
              "                                                                                               'Supermarket '\n",
              "                                                                                               'Type3']])),\n",
              "                                                                  ('sta...\n",
              "                                                                   StandardScaler())]),\n",
              "                                                  <sklearn.compose._column_transformer.make_column_selector object at 0x7e00acaa2e30>),\n",
              "                                                 ('pipeline-3',\n",
              "                                                  Pipeline(steps=[('simpleimputer',\n",
              "                                                                   SimpleImputer(fill_value='Missing',\n",
              "                                                                                 strategy='constant')),\n",
              "                                                                  ('onehotencoder',\n",
              "                                                                   OneHotEncoder(handle_unknown='ignore',\n",
              "                                                                                 sparse=False))]),\n",
              "                                                  ['Item_Fat_Content',\n",
              "                                                   'Item_Type'])])),\n",
              "                ('decisiontreeregressor', DecisionTreeRegressor())])"
            ],
            "text/html": [
              "<style>#sk-container-id-4 {color: black;background-color: white;}#sk-container-id-4 pre{padding: 0;}#sk-container-id-4 div.sk-toggleable {background-color: white;}#sk-container-id-4 label.sk-toggleable__label {cursor: pointer;display: block;width: 100%;margin-bottom: 0;padding: 0.3em;box-sizing: border-box;text-align: center;}#sk-container-id-4 label.sk-toggleable__label-arrow:before {content: \"▸\";float: left;margin-right: 0.25em;color: #696969;}#sk-container-id-4 label.sk-toggleable__label-arrow:hover:before {color: black;}#sk-container-id-4 div.sk-estimator:hover label.sk-toggleable__label-arrow:before {color: black;}#sk-container-id-4 div.sk-toggleable__content {max-height: 0;max-width: 0;overflow: hidden;text-align: left;background-color: #f0f8ff;}#sk-container-id-4 div.sk-toggleable__content pre {margin: 0.2em;color: black;border-radius: 0.25em;background-color: #f0f8ff;}#sk-container-id-4 input.sk-toggleable__control:checked~div.sk-toggleable__content {max-height: 200px;max-width: 100%;overflow: auto;}#sk-container-id-4 input.sk-toggleable__control:checked~label.sk-toggleable__label-arrow:before {content: \"▾\";}#sk-container-id-4 div.sk-estimator input.sk-toggleable__control:checked~label.sk-toggleable__label {background-color: #d4ebff;}#sk-container-id-4 div.sk-label input.sk-toggleable__control:checked~label.sk-toggleable__label {background-color: #d4ebff;}#sk-container-id-4 input.sk-hidden--visually {border: 0;clip: rect(1px 1px 1px 1px);clip: rect(1px, 1px, 1px, 1px);height: 1px;margin: -1px;overflow: hidden;padding: 0;position: absolute;width: 1px;}#sk-container-id-4 div.sk-estimator {font-family: monospace;background-color: #f0f8ff;border: 1px dotted black;border-radius: 0.25em;box-sizing: border-box;margin-bottom: 0.5em;}#sk-container-id-4 div.sk-estimator:hover {background-color: #d4ebff;}#sk-container-id-4 div.sk-parallel-item::after {content: \"\";width: 100%;border-bottom: 1px solid gray;flex-grow: 1;}#sk-container-id-4 div.sk-label:hover label.sk-toggleable__label {background-color: #d4ebff;}#sk-container-id-4 div.sk-serial::before {content: \"\";position: absolute;border-left: 1px solid gray;box-sizing: border-box;top: 0;bottom: 0;left: 50%;z-index: 0;}#sk-container-id-4 div.sk-serial {display: flex;flex-direction: column;align-items: center;background-color: white;padding-right: 0.2em;padding-left: 0.2em;position: relative;}#sk-container-id-4 div.sk-item {position: relative;z-index: 1;}#sk-container-id-4 div.sk-parallel {display: flex;align-items: stretch;justify-content: center;background-color: white;position: relative;}#sk-container-id-4 div.sk-item::before, #sk-container-id-4 div.sk-parallel-item::before {content: \"\";position: absolute;border-left: 1px solid gray;box-sizing: border-box;top: 0;bottom: 0;left: 50%;z-index: -1;}#sk-container-id-4 div.sk-parallel-item {display: flex;flex-direction: column;z-index: 1;position: relative;background-color: white;}#sk-container-id-4 div.sk-parallel-item:first-child::after {align-self: flex-end;width: 50%;}#sk-container-id-4 div.sk-parallel-item:last-child::after {align-self: flex-start;width: 50%;}#sk-container-id-4 div.sk-parallel-item:only-child::after {width: 0;}#sk-container-id-4 div.sk-dashed-wrapped {border: 1px dashed gray;margin: 0 0.4em 0.5em 0.4em;box-sizing: border-box;padding-bottom: 0.4em;background-color: white;}#sk-container-id-4 div.sk-label label {font-family: monospace;font-weight: bold;display: inline-block;line-height: 1.2em;}#sk-container-id-4 div.sk-label-container {text-align: center;}#sk-container-id-4 div.sk-container {/* jupyter's `normalize.less` sets `[hidden] { display: none; }` but bootstrap.min.css set `[hidden] { display: none !important; }` so we also need the `!important` here to be able to override the default hidden behavior on the sphinx rendered scikit-learn.org. See: https://github.com/scikit-learn/scikit-learn/issues/21755 */display: inline-block !important;position: relative;}#sk-container-id-4 div.sk-text-repr-fallback {display: none;}</style><div id=\"sk-container-id-4\" class=\"sk-top-container\"><div class=\"sk-text-repr-fallback\"><pre>Pipeline(steps=[(&#x27;columntransformer&#x27;,\n",
              "                 ColumnTransformer(transformers=[(&#x27;pipeline-1&#x27;,\n",
              "                                                  Pipeline(steps=[(&#x27;simpleimputer&#x27;,\n",
              "                                                                   SimpleImputer(strategy=&#x27;most_frequent&#x27;)),\n",
              "                                                                  (&#x27;ordinalencoder&#x27;,\n",
              "                                                                   OrdinalEncoder(categories=[[&#x27;Small&#x27;,\n",
              "                                                                                               &#x27;Medium&#x27;,\n",
              "                                                                                               &#x27;High&#x27;],\n",
              "                                                                                              [&#x27;Tier &#x27;\n",
              "                                                                                               &#x27;1&#x27;,\n",
              "                                                                                               &#x27;Tier &#x27;\n",
              "                                                                                               &#x27;2&#x27;,\n",
              "                                                                                               &#x27;Tier &#x27;\n",
              "                                                                                               &#x27;3&#x27;],\n",
              "                                                                                              [&#x27;Grocery &#x27;\n",
              "                                                                                               &#x27;Store&#x27;,\n",
              "                                                                                               &#x27;Supermarket &#x27;\n",
              "                                                                                               &#x27;Type1&#x27;,\n",
              "                                                                                               &#x27;Supermarket &#x27;\n",
              "                                                                                               &#x27;Type2&#x27;,\n",
              "                                                                                               &#x27;Supermarket &#x27;\n",
              "                                                                                               &#x27;Type3&#x27;]])),\n",
              "                                                                  (&#x27;sta...\n",
              "                                                                   StandardScaler())]),\n",
              "                                                  &lt;sklearn.compose._column_transformer.make_column_selector object at 0x7e00acaa2e30&gt;),\n",
              "                                                 (&#x27;pipeline-3&#x27;,\n",
              "                                                  Pipeline(steps=[(&#x27;simpleimputer&#x27;,\n",
              "                                                                   SimpleImputer(fill_value=&#x27;Missing&#x27;,\n",
              "                                                                                 strategy=&#x27;constant&#x27;)),\n",
              "                                                                  (&#x27;onehotencoder&#x27;,\n",
              "                                                                   OneHotEncoder(handle_unknown=&#x27;ignore&#x27;,\n",
              "                                                                                 sparse=False))]),\n",
              "                                                  [&#x27;Item_Fat_Content&#x27;,\n",
              "                                                   &#x27;Item_Type&#x27;])])),\n",
              "                (&#x27;decisiontreeregressor&#x27;, DecisionTreeRegressor())])</pre><b>In a Jupyter environment, please rerun this cell to show the HTML representation or trust the notebook. <br />On GitHub, the HTML representation is unable to render, please try loading this page with nbviewer.org.</b></div><div class=\"sk-container\" hidden><div class=\"sk-item sk-dashed-wrapped\"><div class=\"sk-label-container\"><div class=\"sk-label sk-toggleable\"><input class=\"sk-toggleable__control sk-hidden--visually\" id=\"sk-estimator-id-38\" type=\"checkbox\" ><label for=\"sk-estimator-id-38\" class=\"sk-toggleable__label sk-toggleable__label-arrow\">Pipeline</label><div class=\"sk-toggleable__content\"><pre>Pipeline(steps=[(&#x27;columntransformer&#x27;,\n",
              "                 ColumnTransformer(transformers=[(&#x27;pipeline-1&#x27;,\n",
              "                                                  Pipeline(steps=[(&#x27;simpleimputer&#x27;,\n",
              "                                                                   SimpleImputer(strategy=&#x27;most_frequent&#x27;)),\n",
              "                                                                  (&#x27;ordinalencoder&#x27;,\n",
              "                                                                   OrdinalEncoder(categories=[[&#x27;Small&#x27;,\n",
              "                                                                                               &#x27;Medium&#x27;,\n",
              "                                                                                               &#x27;High&#x27;],\n",
              "                                                                                              [&#x27;Tier &#x27;\n",
              "                                                                                               &#x27;1&#x27;,\n",
              "                                                                                               &#x27;Tier &#x27;\n",
              "                                                                                               &#x27;2&#x27;,\n",
              "                                                                                               &#x27;Tier &#x27;\n",
              "                                                                                               &#x27;3&#x27;],\n",
              "                                                                                              [&#x27;Grocery &#x27;\n",
              "                                                                                               &#x27;Store&#x27;,\n",
              "                                                                                               &#x27;Supermarket &#x27;\n",
              "                                                                                               &#x27;Type1&#x27;,\n",
              "                                                                                               &#x27;Supermarket &#x27;\n",
              "                                                                                               &#x27;Type2&#x27;,\n",
              "                                                                                               &#x27;Supermarket &#x27;\n",
              "                                                                                               &#x27;Type3&#x27;]])),\n",
              "                                                                  (&#x27;sta...\n",
              "                                                                   StandardScaler())]),\n",
              "                                                  &lt;sklearn.compose._column_transformer.make_column_selector object at 0x7e00acaa2e30&gt;),\n",
              "                                                 (&#x27;pipeline-3&#x27;,\n",
              "                                                  Pipeline(steps=[(&#x27;simpleimputer&#x27;,\n",
              "                                                                   SimpleImputer(fill_value=&#x27;Missing&#x27;,\n",
              "                                                                                 strategy=&#x27;constant&#x27;)),\n",
              "                                                                  (&#x27;onehotencoder&#x27;,\n",
              "                                                                   OneHotEncoder(handle_unknown=&#x27;ignore&#x27;,\n",
              "                                                                                 sparse=False))]),\n",
              "                                                  [&#x27;Item_Fat_Content&#x27;,\n",
              "                                                   &#x27;Item_Type&#x27;])])),\n",
              "                (&#x27;decisiontreeregressor&#x27;, DecisionTreeRegressor())])</pre></div></div></div><div class=\"sk-serial\"><div class=\"sk-item sk-dashed-wrapped\"><div class=\"sk-label-container\"><div class=\"sk-label sk-toggleable\"><input class=\"sk-toggleable__control sk-hidden--visually\" id=\"sk-estimator-id-39\" type=\"checkbox\" ><label for=\"sk-estimator-id-39\" class=\"sk-toggleable__label sk-toggleable__label-arrow\">columntransformer: ColumnTransformer</label><div class=\"sk-toggleable__content\"><pre>ColumnTransformer(transformers=[(&#x27;pipeline-1&#x27;,\n",
              "                                 Pipeline(steps=[(&#x27;simpleimputer&#x27;,\n",
              "                                                  SimpleImputer(strategy=&#x27;most_frequent&#x27;)),\n",
              "                                                 (&#x27;ordinalencoder&#x27;,\n",
              "                                                  OrdinalEncoder(categories=[[&#x27;Small&#x27;,\n",
              "                                                                              &#x27;Medium&#x27;,\n",
              "                                                                              &#x27;High&#x27;],\n",
              "                                                                             [&#x27;Tier &#x27;\n",
              "                                                                              &#x27;1&#x27;,\n",
              "                                                                              &#x27;Tier &#x27;\n",
              "                                                                              &#x27;2&#x27;,\n",
              "                                                                              &#x27;Tier &#x27;\n",
              "                                                                              &#x27;3&#x27;],\n",
              "                                                                             [&#x27;Grocery &#x27;\n",
              "                                                                              &#x27;Store&#x27;,\n",
              "                                                                              &#x27;Supermarket &#x27;\n",
              "                                                                              &#x27;Type1&#x27;,\n",
              "                                                                              &#x27;Supermarket &#x27;\n",
              "                                                                              &#x27;Type2&#x27;,\n",
              "                                                                              &#x27;Supermarket &#x27;\n",
              "                                                                              &#x27;Type3&#x27;]])),\n",
              "                                                 (&#x27;standardscaler&#x27;,\n",
              "                                                  StandardScaler())]),\n",
              "                                 [&#x27;Ou...\n",
              "                                 Pipeline(steps=[(&#x27;simpleimputer&#x27;,\n",
              "                                                  SimpleImputer()),\n",
              "                                                 (&#x27;standardscaler&#x27;,\n",
              "                                                  StandardScaler())]),\n",
              "                                 &lt;sklearn.compose._column_transformer.make_column_selector object at 0x7e00acaa2e30&gt;),\n",
              "                                (&#x27;pipeline-3&#x27;,\n",
              "                                 Pipeline(steps=[(&#x27;simpleimputer&#x27;,\n",
              "                                                  SimpleImputer(fill_value=&#x27;Missing&#x27;,\n",
              "                                                                strategy=&#x27;constant&#x27;)),\n",
              "                                                 (&#x27;onehotencoder&#x27;,\n",
              "                                                  OneHotEncoder(handle_unknown=&#x27;ignore&#x27;,\n",
              "                                                                sparse=False))]),\n",
              "                                 [&#x27;Item_Fat_Content&#x27;, &#x27;Item_Type&#x27;])])</pre></div></div></div><div class=\"sk-parallel\"><div class=\"sk-parallel-item\"><div class=\"sk-item\"><div class=\"sk-label-container\"><div class=\"sk-label sk-toggleable\"><input class=\"sk-toggleable__control sk-hidden--visually\" id=\"sk-estimator-id-40\" type=\"checkbox\" ><label for=\"sk-estimator-id-40\" class=\"sk-toggleable__label sk-toggleable__label-arrow\">pipeline-1</label><div class=\"sk-toggleable__content\"><pre>[&#x27;Outlet_Size&#x27;, &#x27;Outlet_Location_Type&#x27;, &#x27;Outlet_Type&#x27;]</pre></div></div></div><div class=\"sk-serial\"><div class=\"sk-item\"><div class=\"sk-serial\"><div class=\"sk-item\"><div class=\"sk-estimator sk-toggleable\"><input class=\"sk-toggleable__control sk-hidden--visually\" id=\"sk-estimator-id-41\" type=\"checkbox\" ><label for=\"sk-estimator-id-41\" class=\"sk-toggleable__label sk-toggleable__label-arrow\">SimpleImputer</label><div class=\"sk-toggleable__content\"><pre>SimpleImputer(strategy=&#x27;most_frequent&#x27;)</pre></div></div></div><div class=\"sk-item\"><div class=\"sk-estimator sk-toggleable\"><input class=\"sk-toggleable__control sk-hidden--visually\" id=\"sk-estimator-id-42\" type=\"checkbox\" ><label for=\"sk-estimator-id-42\" class=\"sk-toggleable__label sk-toggleable__label-arrow\">OrdinalEncoder</label><div class=\"sk-toggleable__content\"><pre>OrdinalEncoder(categories=[[&#x27;Small&#x27;, &#x27;Medium&#x27;, &#x27;High&#x27;],\n",
              "                           [&#x27;Tier 1&#x27;, &#x27;Tier 2&#x27;, &#x27;Tier 3&#x27;],\n",
              "                           [&#x27;Grocery Store&#x27;, &#x27;Supermarket Type1&#x27;,\n",
              "                            &#x27;Supermarket Type2&#x27;, &#x27;Supermarket Type3&#x27;]])</pre></div></div></div><div class=\"sk-item\"><div class=\"sk-estimator sk-toggleable\"><input class=\"sk-toggleable__control sk-hidden--visually\" id=\"sk-estimator-id-43\" type=\"checkbox\" ><label for=\"sk-estimator-id-43\" class=\"sk-toggleable__label sk-toggleable__label-arrow\">StandardScaler</label><div class=\"sk-toggleable__content\"><pre>StandardScaler()</pre></div></div></div></div></div></div></div></div><div class=\"sk-parallel-item\"><div class=\"sk-item\"><div class=\"sk-label-container\"><div class=\"sk-label sk-toggleable\"><input class=\"sk-toggleable__control sk-hidden--visually\" id=\"sk-estimator-id-44\" type=\"checkbox\" ><label for=\"sk-estimator-id-44\" class=\"sk-toggleable__label sk-toggleable__label-arrow\">pipeline-2</label><div class=\"sk-toggleable__content\"><pre>&lt;sklearn.compose._column_transformer.make_column_selector object at 0x7e00acaa2e30&gt;</pre></div></div></div><div class=\"sk-serial\"><div class=\"sk-item\"><div class=\"sk-serial\"><div class=\"sk-item\"><div class=\"sk-estimator sk-toggleable\"><input class=\"sk-toggleable__control sk-hidden--visually\" id=\"sk-estimator-id-45\" type=\"checkbox\" ><label for=\"sk-estimator-id-45\" class=\"sk-toggleable__label sk-toggleable__label-arrow\">SimpleImputer</label><div class=\"sk-toggleable__content\"><pre>SimpleImputer()</pre></div></div></div><div class=\"sk-item\"><div class=\"sk-estimator sk-toggleable\"><input class=\"sk-toggleable__control sk-hidden--visually\" id=\"sk-estimator-id-46\" type=\"checkbox\" ><label for=\"sk-estimator-id-46\" class=\"sk-toggleable__label sk-toggleable__label-arrow\">StandardScaler</label><div class=\"sk-toggleable__content\"><pre>StandardScaler()</pre></div></div></div></div></div></div></div></div><div class=\"sk-parallel-item\"><div class=\"sk-item\"><div class=\"sk-label-container\"><div class=\"sk-label sk-toggleable\"><input class=\"sk-toggleable__control sk-hidden--visually\" id=\"sk-estimator-id-47\" type=\"checkbox\" ><label for=\"sk-estimator-id-47\" class=\"sk-toggleable__label sk-toggleable__label-arrow\">pipeline-3</label><div class=\"sk-toggleable__content\"><pre>[&#x27;Item_Fat_Content&#x27;, &#x27;Item_Type&#x27;]</pre></div></div></div><div class=\"sk-serial\"><div class=\"sk-item\"><div class=\"sk-serial\"><div class=\"sk-item\"><div class=\"sk-estimator sk-toggleable\"><input class=\"sk-toggleable__control sk-hidden--visually\" id=\"sk-estimator-id-48\" type=\"checkbox\" ><label for=\"sk-estimator-id-48\" class=\"sk-toggleable__label sk-toggleable__label-arrow\">SimpleImputer</label><div class=\"sk-toggleable__content\"><pre>SimpleImputer(fill_value=&#x27;Missing&#x27;, strategy=&#x27;constant&#x27;)</pre></div></div></div><div class=\"sk-item\"><div class=\"sk-estimator sk-toggleable\"><input class=\"sk-toggleable__control sk-hidden--visually\" id=\"sk-estimator-id-49\" type=\"checkbox\" ><label for=\"sk-estimator-id-49\" class=\"sk-toggleable__label sk-toggleable__label-arrow\">OneHotEncoder</label><div class=\"sk-toggleable__content\"><pre>OneHotEncoder(handle_unknown=&#x27;ignore&#x27;, sparse=False)</pre></div></div></div></div></div></div></div></div></div></div><div class=\"sk-item\"><div class=\"sk-estimator sk-toggleable\"><input class=\"sk-toggleable__control sk-hidden--visually\" id=\"sk-estimator-id-50\" type=\"checkbox\" ><label for=\"sk-estimator-id-50\" class=\"sk-toggleable__label sk-toggleable__label-arrow\">DecisionTreeRegressor</label><div class=\"sk-toggleable__content\"><pre>DecisionTreeRegressor()</pre></div></div></div></div></div></div></div>"
            ]
          },
          "metadata": {},
          "execution_count": 78
        }
      ]
    },
    {
      "cell_type": "code",
      "source": [
        "# Evaluate the performance of Regression Tree model based on r^2\n",
        "# define a function that takes true and predicted values as arguments\n",
        "\n",
        "def r2_eval_model(true, pred):\n",
        "  \"\"\"Takes true and predicted values (arrays) and prints R2\"\"\"\n",
        "  r2 = r2_score(true, pred)\n",
        "\n",
        "  print(f'R^2: {r2:.2f}')\n",
        "\n",
        "# find r2 on the linear regression model for both the train and test data\n",
        "print('Train Evaluation')\n",
        "r2_eval_model(y_train, dr_pipe.predict(X_train))\n",
        "\n",
        "print('\\nTest Evaluation')\n",
        "r2_eval_model(y_test, dr_pipe.predict(X_test))"
      ],
      "metadata": {
        "colab": {
          "base_uri": "https://localhost:8080/"
        },
        "id": "WnJPCGjt5kSP",
        "outputId": "dae808da-85fc-4942-f045-9beee419e2e5"
      },
      "execution_count": 79,
      "outputs": [
        {
          "output_type": "stream",
          "name": "stdout",
          "text": [
            "Train Evaluation\n",
            "R^2: 1.00\n",
            "\n",
            "Test Evaluation\n",
            "R^2: 0.20\n"
          ]
        }
      ]
    },
    {
      "cell_type": "code",
      "source": [
        "# Evaluate the performance of Regression Tree model based on rmse\n",
        "# define a function that takes true and predicted values as arguments\n",
        "\n",
        "\n",
        "def rmse_eval_model(true, pred):\n",
        "  \"\"\"Takes true and predicted values (arrays) and prints MSE, RMSE\"\"\"\n",
        "  mse = mean_squared_error(true, pred)\n",
        "  rmse = np.sqrt(mse)\n",
        "\n",
        "  print(f'RMSE {rmse:.2f}')\n",
        "\n",
        "# find RMSE on the linear regression model for both the train and test data\n",
        "print('Train Evaluation')\n",
        "rmse_eval_model(y_train, dr_pipe.predict(X_train))\n",
        "\n",
        "print('\\nTest Evaluation')\n",
        "rmse_eval_model(y_test, dr_pipe.predict(X_test))"
      ],
      "metadata": {
        "colab": {
          "base_uri": "https://localhost:8080/"
        },
        "id": "m4_jp8cm5o-2",
        "outputId": "6ebf7e0f-af5e-41bc-9621-609550f27a0a"
      },
      "execution_count": 80,
      "outputs": [
        {
          "output_type": "stream",
          "name": "stdout",
          "text": [
            "Train Evaluation\n",
            "RMSE 0.00\n",
            "\n",
            "Test Evaluation\n",
            "RMSE 1493.08\n"
          ]
        }
      ]
    },
    {
      "cell_type": "markdown",
      "source": [
        "### Decision Tree Regressor (High Bias)"
      ],
      "metadata": {
        "id": "bF0NPAHXCR8d"
      }
    },
    {
      "cell_type": "code",
      "source": [
        "# instantiate the model\n",
        "bias = DecisionTreeRegressor(max_depth=None)\n",
        "\n",
        "# create pipeline\n",
        "bias_pipe = make_pipeline(preprocessor, bias)\n",
        "\n",
        "# fit the model\n",
        "bias_pipe.fit(X_train, y_train)\n",
        "\n",
        "# evaluate the model\n",
        "eval_model(y_train, bias_pipe.predict(X_train))\n",
        "print('Training scores for baseline model')\n",
        "\n",
        "print('\\n')\n",
        "\n",
        "eval_model(y_test, bias_pipe.predict(X_test))\n",
        "print('Testing scores for baseline model')"
      ],
      "metadata": {
        "colab": {
          "base_uri": "https://localhost:8080/"
        },
        "id": "XO9M8DMMCRaE",
        "outputId": "ec7233ee-eae3-4b55-90b6-ca32708e9bde"
      },
      "execution_count": 81,
      "outputs": [
        {
          "output_type": "stream",
          "name": "stderr",
          "text": [
            "/usr/local/lib/python3.10/dist-packages/sklearn/preprocessing/_encoders.py:868: FutureWarning: `sparse` was renamed to `sparse_output` in version 1.2 and will be removed in 1.4. `sparse_output` is ignored unless you leave `sparse` to its default value.\n",
            "  warnings.warn(\n"
          ]
        },
        {
          "output_type": "stream",
          "name": "stdout",
          "text": [
            " MAE 0.00,\n",
            " MSE 0.00,\n",
            " RMSE: 0.00,\n",
            " R^2: 1.00\n",
            "Training scores for baseline model\n",
            "\n",
            "\n",
            " MAE 1047.00,\n",
            " MSE 2260268.15,\n",
            " RMSE: 1503.42,\n",
            " R^2: 0.19\n",
            "Testing scores for baseline model\n"
          ]
        }
      ]
    },
    {
      "cell_type": "markdown",
      "source": [
        "### Decision Tree Regressor (High Variance)"
      ],
      "metadata": {
        "id": "wgEgJUclCg7R"
      }
    },
    {
      "cell_type": "code",
      "source": [
        "# instantiate the model\n",
        "var_tree = DecisionTreeRegressor(max_depth = None)\n",
        "\n",
        "# create pipeline\n",
        "var_tree_pipe = make_pipeline(preprocessor, var_tree)\n",
        "\n",
        "# fit the model\n",
        "var_tree_pipe.fit(X_train, y_train)\n",
        "\n",
        "# evaluate the model\n",
        "eval_model(y_train, var_tree_pipe.predict(X_train))\n",
        "print('Training scores for baseline model')\n",
        "\n",
        "print('\\n')\n",
        "\n",
        "eval_model(y_test, var_tree_pipe.predict(X_test))\n",
        "print('Testing scores for baseline model')"
      ],
      "metadata": {
        "colab": {
          "base_uri": "https://localhost:8080/"
        },
        "id": "evmGAf_RCiS2",
        "outputId": "8d0c4ea9-b09f-4c81-d8ee-b4d71eb1060f"
      },
      "execution_count": 82,
      "outputs": [
        {
          "output_type": "stream",
          "name": "stderr",
          "text": [
            "/usr/local/lib/python3.10/dist-packages/sklearn/preprocessing/_encoders.py:868: FutureWarning: `sparse` was renamed to `sparse_output` in version 1.2 and will be removed in 1.4. `sparse_output` is ignored unless you leave `sparse` to its default value.\n",
            "  warnings.warn(\n"
          ]
        },
        {
          "output_type": "stream",
          "name": "stdout",
          "text": [
            " MAE 0.00,\n",
            " MSE 0.00,\n",
            " RMSE: 0.00,\n",
            " R^2: 1.00\n",
            "Training scores for baseline model\n",
            "\n",
            "\n",
            " MAE 1043.76,\n",
            " MSE 2233250.90,\n",
            " RMSE: 1494.41,\n",
            " R^2: 0.20\n",
            "Testing scores for baseline model\n"
          ]
        }
      ]
    },
    {
      "cell_type": "code",
      "source": [
        "#plot the tree\n",
        "dr_pipe['decisiontreeregressor'].get_depth()\n",
        "\n",
        "# The depth of the decission tree is 38."
      ],
      "metadata": {
        "colab": {
          "base_uri": "https://localhost:8080/"
        },
        "id": "ZU0gpVxGCooq",
        "outputId": "0da5891c-3bf4-4151-bbd2-d5eb7739552e"
      },
      "execution_count": 83,
      "outputs": [
        {
          "output_type": "execute_result",
          "data": {
            "text/plain": [
              "38"
            ]
          },
          "metadata": {},
          "execution_count": 83
        }
      ]
    },
    {
      "cell_type": "code",
      "source": [
        "bias.get_depth()"
      ],
      "metadata": {
        "colab": {
          "base_uri": "https://localhost:8080/"
        },
        "id": "7CsGrNaOCsKU",
        "outputId": "68d7c596-a07f-4d6f-8845-648d6d04abe2"
      },
      "execution_count": 84,
      "outputs": [
        {
          "output_type": "execute_result",
          "data": {
            "text/plain": [
              "38"
            ]
          },
          "metadata": {},
          "execution_count": 84
        }
      ]
    },
    {
      "cell_type": "markdown",
      "source": [
        "### Balance"
      ],
      "metadata": {
        "id": "LozF36m0Cv73"
      }
    },
    {
      "cell_type": "code",
      "source": [
        "# create a range of max_depth values\n",
        "depths = range(1, bias.get_depth()+1)\n",
        "\n",
        "#create a dataframe to store train and test scores.\n",
        "scores = pd.DataFrame(columns=['Train','Test'], index=depths)\n",
        "\n",
        "#loop over the values in depths\n",
        "for depth in depths:\n",
        "  tree = DecisionTreeRegressor(max_depth=depth)\n",
        "\n",
        "  #fit a new model with max depth\n",
        "  #put model in a pipeline\n",
        "  tree_pipe = make_pipeline(preprocessor, tree)\n",
        "\n",
        "  #fit the model\n",
        "  tree_pipe.fit(X_train, y_train)\n",
        "\n",
        "  #create prediction arrays\n",
        "  train_pred = tree_pipe.predict(X_train)\n",
        "  test_pred = tree_pipe.predict(X_test)\n",
        "\n",
        "  #evaluate the model using R2 score\n",
        "  r2_train = r2_score(y_train, train_pred)\n",
        "  r2_test = r2_score(y_test, test_pred)\n",
        "\n",
        "  #store the scores in a dataframe\n",
        "  scores.loc[depth, 'Train'] = r2_train\n",
        "  scores.loc[depth, 'Test'] = r2_test"
      ],
      "metadata": {
        "colab": {
          "base_uri": "https://localhost:8080/"
        },
        "id": "IA4DAgf4CxK1",
        "outputId": "7e01ad01-3db7-4fd5-ca01-ea24be094437"
      },
      "execution_count": 85,
      "outputs": [
        {
          "output_type": "stream",
          "name": "stderr",
          "text": [
            "/usr/local/lib/python3.10/dist-packages/sklearn/preprocessing/_encoders.py:868: FutureWarning: `sparse` was renamed to `sparse_output` in version 1.2 and will be removed in 1.4. `sparse_output` is ignored unless you leave `sparse` to its default value.\n",
            "  warnings.warn(\n",
            "/usr/local/lib/python3.10/dist-packages/sklearn/preprocessing/_encoders.py:868: FutureWarning: `sparse` was renamed to `sparse_output` in version 1.2 and will be removed in 1.4. `sparse_output` is ignored unless you leave `sparse` to its default value.\n",
            "  warnings.warn(\n",
            "/usr/local/lib/python3.10/dist-packages/sklearn/preprocessing/_encoders.py:868: FutureWarning: `sparse` was renamed to `sparse_output` in version 1.2 and will be removed in 1.4. `sparse_output` is ignored unless you leave `sparse` to its default value.\n",
            "  warnings.warn(\n",
            "/usr/local/lib/python3.10/dist-packages/sklearn/preprocessing/_encoders.py:868: FutureWarning: `sparse` was renamed to `sparse_output` in version 1.2 and will be removed in 1.4. `sparse_output` is ignored unless you leave `sparse` to its default value.\n",
            "  warnings.warn(\n",
            "/usr/local/lib/python3.10/dist-packages/sklearn/preprocessing/_encoders.py:868: FutureWarning: `sparse` was renamed to `sparse_output` in version 1.2 and will be removed in 1.4. `sparse_output` is ignored unless you leave `sparse` to its default value.\n",
            "  warnings.warn(\n",
            "/usr/local/lib/python3.10/dist-packages/sklearn/preprocessing/_encoders.py:868: FutureWarning: `sparse` was renamed to `sparse_output` in version 1.2 and will be removed in 1.4. `sparse_output` is ignored unless you leave `sparse` to its default value.\n",
            "  warnings.warn(\n",
            "/usr/local/lib/python3.10/dist-packages/sklearn/preprocessing/_encoders.py:868: FutureWarning: `sparse` was renamed to `sparse_output` in version 1.2 and will be removed in 1.4. `sparse_output` is ignored unless you leave `sparse` to its default value.\n",
            "  warnings.warn(\n",
            "/usr/local/lib/python3.10/dist-packages/sklearn/preprocessing/_encoders.py:868: FutureWarning: `sparse` was renamed to `sparse_output` in version 1.2 and will be removed in 1.4. `sparse_output` is ignored unless you leave `sparse` to its default value.\n",
            "  warnings.warn(\n",
            "/usr/local/lib/python3.10/dist-packages/sklearn/preprocessing/_encoders.py:868: FutureWarning: `sparse` was renamed to `sparse_output` in version 1.2 and will be removed in 1.4. `sparse_output` is ignored unless you leave `sparse` to its default value.\n",
            "  warnings.warn(\n",
            "/usr/local/lib/python3.10/dist-packages/sklearn/preprocessing/_encoders.py:868: FutureWarning: `sparse` was renamed to `sparse_output` in version 1.2 and will be removed in 1.4. `sparse_output` is ignored unless you leave `sparse` to its default value.\n",
            "  warnings.warn(\n",
            "/usr/local/lib/python3.10/dist-packages/sklearn/preprocessing/_encoders.py:868: FutureWarning: `sparse` was renamed to `sparse_output` in version 1.2 and will be removed in 1.4. `sparse_output` is ignored unless you leave `sparse` to its default value.\n",
            "  warnings.warn(\n",
            "/usr/local/lib/python3.10/dist-packages/sklearn/preprocessing/_encoders.py:868: FutureWarning: `sparse` was renamed to `sparse_output` in version 1.2 and will be removed in 1.4. `sparse_output` is ignored unless you leave `sparse` to its default value.\n",
            "  warnings.warn(\n",
            "/usr/local/lib/python3.10/dist-packages/sklearn/preprocessing/_encoders.py:868: FutureWarning: `sparse` was renamed to `sparse_output` in version 1.2 and will be removed in 1.4. `sparse_output` is ignored unless you leave `sparse` to its default value.\n",
            "  warnings.warn(\n",
            "/usr/local/lib/python3.10/dist-packages/sklearn/preprocessing/_encoders.py:868: FutureWarning: `sparse` was renamed to `sparse_output` in version 1.2 and will be removed in 1.4. `sparse_output` is ignored unless you leave `sparse` to its default value.\n",
            "  warnings.warn(\n",
            "/usr/local/lib/python3.10/dist-packages/sklearn/preprocessing/_encoders.py:868: FutureWarning: `sparse` was renamed to `sparse_output` in version 1.2 and will be removed in 1.4. `sparse_output` is ignored unless you leave `sparse` to its default value.\n",
            "  warnings.warn(\n",
            "/usr/local/lib/python3.10/dist-packages/sklearn/preprocessing/_encoders.py:868: FutureWarning: `sparse` was renamed to `sparse_output` in version 1.2 and will be removed in 1.4. `sparse_output` is ignored unless you leave `sparse` to its default value.\n",
            "  warnings.warn(\n",
            "/usr/local/lib/python3.10/dist-packages/sklearn/preprocessing/_encoders.py:868: FutureWarning: `sparse` was renamed to `sparse_output` in version 1.2 and will be removed in 1.4. `sparse_output` is ignored unless you leave `sparse` to its default value.\n",
            "  warnings.warn(\n",
            "/usr/local/lib/python3.10/dist-packages/sklearn/preprocessing/_encoders.py:868: FutureWarning: `sparse` was renamed to `sparse_output` in version 1.2 and will be removed in 1.4. `sparse_output` is ignored unless you leave `sparse` to its default value.\n",
            "  warnings.warn(\n",
            "/usr/local/lib/python3.10/dist-packages/sklearn/preprocessing/_encoders.py:868: FutureWarning: `sparse` was renamed to `sparse_output` in version 1.2 and will be removed in 1.4. `sparse_output` is ignored unless you leave `sparse` to its default value.\n",
            "  warnings.warn(\n",
            "/usr/local/lib/python3.10/dist-packages/sklearn/preprocessing/_encoders.py:868: FutureWarning: `sparse` was renamed to `sparse_output` in version 1.2 and will be removed in 1.4. `sparse_output` is ignored unless you leave `sparse` to its default value.\n",
            "  warnings.warn(\n",
            "/usr/local/lib/python3.10/dist-packages/sklearn/preprocessing/_encoders.py:868: FutureWarning: `sparse` was renamed to `sparse_output` in version 1.2 and will be removed in 1.4. `sparse_output` is ignored unless you leave `sparse` to its default value.\n",
            "  warnings.warn(\n",
            "/usr/local/lib/python3.10/dist-packages/sklearn/preprocessing/_encoders.py:868: FutureWarning: `sparse` was renamed to `sparse_output` in version 1.2 and will be removed in 1.4. `sparse_output` is ignored unless you leave `sparse` to its default value.\n",
            "  warnings.warn(\n",
            "/usr/local/lib/python3.10/dist-packages/sklearn/preprocessing/_encoders.py:868: FutureWarning: `sparse` was renamed to `sparse_output` in version 1.2 and will be removed in 1.4. `sparse_output` is ignored unless you leave `sparse` to its default value.\n",
            "  warnings.warn(\n",
            "/usr/local/lib/python3.10/dist-packages/sklearn/preprocessing/_encoders.py:868: FutureWarning: `sparse` was renamed to `sparse_output` in version 1.2 and will be removed in 1.4. `sparse_output` is ignored unless you leave `sparse` to its default value.\n",
            "  warnings.warn(\n",
            "/usr/local/lib/python3.10/dist-packages/sklearn/preprocessing/_encoders.py:868: FutureWarning: `sparse` was renamed to `sparse_output` in version 1.2 and will be removed in 1.4. `sparse_output` is ignored unless you leave `sparse` to its default value.\n",
            "  warnings.warn(\n",
            "/usr/local/lib/python3.10/dist-packages/sklearn/preprocessing/_encoders.py:868: FutureWarning: `sparse` was renamed to `sparse_output` in version 1.2 and will be removed in 1.4. `sparse_output` is ignored unless you leave `sparse` to its default value.\n",
            "  warnings.warn(\n",
            "/usr/local/lib/python3.10/dist-packages/sklearn/preprocessing/_encoders.py:868: FutureWarning: `sparse` was renamed to `sparse_output` in version 1.2 and will be removed in 1.4. `sparse_output` is ignored unless you leave `sparse` to its default value.\n",
            "  warnings.warn(\n",
            "/usr/local/lib/python3.10/dist-packages/sklearn/preprocessing/_encoders.py:868: FutureWarning: `sparse` was renamed to `sparse_output` in version 1.2 and will be removed in 1.4. `sparse_output` is ignored unless you leave `sparse` to its default value.\n",
            "  warnings.warn(\n",
            "/usr/local/lib/python3.10/dist-packages/sklearn/preprocessing/_encoders.py:868: FutureWarning: `sparse` was renamed to `sparse_output` in version 1.2 and will be removed in 1.4. `sparse_output` is ignored unless you leave `sparse` to its default value.\n",
            "  warnings.warn(\n",
            "/usr/local/lib/python3.10/dist-packages/sklearn/preprocessing/_encoders.py:868: FutureWarning: `sparse` was renamed to `sparse_output` in version 1.2 and will be removed in 1.4. `sparse_output` is ignored unless you leave `sparse` to its default value.\n",
            "  warnings.warn(\n",
            "/usr/local/lib/python3.10/dist-packages/sklearn/preprocessing/_encoders.py:868: FutureWarning: `sparse` was renamed to `sparse_output` in version 1.2 and will be removed in 1.4. `sparse_output` is ignored unless you leave `sparse` to its default value.\n",
            "  warnings.warn(\n",
            "/usr/local/lib/python3.10/dist-packages/sklearn/preprocessing/_encoders.py:868: FutureWarning: `sparse` was renamed to `sparse_output` in version 1.2 and will be removed in 1.4. `sparse_output` is ignored unless you leave `sparse` to its default value.\n",
            "  warnings.warn(\n",
            "/usr/local/lib/python3.10/dist-packages/sklearn/preprocessing/_encoders.py:868: FutureWarning: `sparse` was renamed to `sparse_output` in version 1.2 and will be removed in 1.4. `sparse_output` is ignored unless you leave `sparse` to its default value.\n",
            "  warnings.warn(\n",
            "/usr/local/lib/python3.10/dist-packages/sklearn/preprocessing/_encoders.py:868: FutureWarning: `sparse` was renamed to `sparse_output` in version 1.2 and will be removed in 1.4. `sparse_output` is ignored unless you leave `sparse` to its default value.\n",
            "  warnings.warn(\n",
            "/usr/local/lib/python3.10/dist-packages/sklearn/preprocessing/_encoders.py:868: FutureWarning: `sparse` was renamed to `sparse_output` in version 1.2 and will be removed in 1.4. `sparse_output` is ignored unless you leave `sparse` to its default value.\n",
            "  warnings.warn(\n",
            "/usr/local/lib/python3.10/dist-packages/sklearn/preprocessing/_encoders.py:868: FutureWarning: `sparse` was renamed to `sparse_output` in version 1.2 and will be removed in 1.4. `sparse_output` is ignored unless you leave `sparse` to its default value.\n",
            "  warnings.warn(\n",
            "/usr/local/lib/python3.10/dist-packages/sklearn/preprocessing/_encoders.py:868: FutureWarning: `sparse` was renamed to `sparse_output` in version 1.2 and will be removed in 1.4. `sparse_output` is ignored unless you leave `sparse` to its default value.\n",
            "  warnings.warn(\n",
            "/usr/local/lib/python3.10/dist-packages/sklearn/preprocessing/_encoders.py:868: FutureWarning: `sparse` was renamed to `sparse_output` in version 1.2 and will be removed in 1.4. `sparse_output` is ignored unless you leave `sparse` to its default value.\n",
            "  warnings.warn(\n"
          ]
        }
      ]
    },
    {
      "cell_type": "code",
      "source": [
        "#print scores\n",
        "scores"
      ],
      "metadata": {
        "colab": {
          "base_uri": "https://localhost:8080/",
          "height": 1000
        },
        "id": "q8Hp_osmC3gL",
        "outputId": "03283a21-8fef-42b5-9e83-27cf163484f0"
      },
      "execution_count": 86,
      "outputs": [
        {
          "output_type": "execute_result",
          "data": {
            "text/plain": [
              "       Train      Test\n",
              "1   0.237127  0.233923\n",
              "2   0.432452  0.432133\n",
              "3   0.524375  0.524696\n",
              "4   0.583913  0.581257\n",
              "5   0.604615  0.597148\n",
              "6   0.616155  0.587481\n",
              "7   0.627051  0.577236\n",
              "8   0.645496  0.560339\n",
              "9   0.666258  0.561046\n",
              "10  0.688276  0.529995\n",
              "11  0.714862  0.516458\n",
              "12   0.74302   0.48631\n",
              "13  0.769656  0.471631\n",
              "14  0.796693  0.439485\n",
              "15  0.825558  0.414905\n",
              "16  0.854163  0.366331\n",
              "17  0.882095  0.356172\n",
              "18  0.906216  0.292913\n",
              "19  0.924703  0.270033\n",
              "20  0.940104  0.247153\n",
              "21  0.953296  0.254712\n",
              "22  0.966229  0.220745\n",
              "23  0.976225  0.225298\n",
              "24  0.984031  0.189462\n",
              "25  0.990426  0.202319\n",
              "26  0.995086   0.20002\n",
              "27  0.997434  0.199733\n",
              "28  0.998431  0.225722\n",
              "29  0.999093  0.214373\n",
              "30  0.999531  0.188598\n",
              "31  0.999734  0.195429\n",
              "32  0.999817  0.191846\n",
              "33  0.999913  0.187873\n",
              "34  0.999984  0.182821\n",
              "35   0.99999  0.211091\n",
              "36  0.999998  0.198601\n",
              "37       1.0   0.18856\n",
              "38       1.0  0.191983"
            ],
            "text/html": [
              "\n",
              "  <div id=\"df-a455d9ec-0ff1-4118-a5ad-d9a74757116f\" class=\"colab-df-container\">\n",
              "    <div>\n",
              "<style scoped>\n",
              "    .dataframe tbody tr th:only-of-type {\n",
              "        vertical-align: middle;\n",
              "    }\n",
              "\n",
              "    .dataframe tbody tr th {\n",
              "        vertical-align: top;\n",
              "    }\n",
              "\n",
              "    .dataframe thead th {\n",
              "        text-align: right;\n",
              "    }\n",
              "</style>\n",
              "<table border=\"1\" class=\"dataframe\">\n",
              "  <thead>\n",
              "    <tr style=\"text-align: right;\">\n",
              "      <th></th>\n",
              "      <th>Train</th>\n",
              "      <th>Test</th>\n",
              "    </tr>\n",
              "  </thead>\n",
              "  <tbody>\n",
              "    <tr>\n",
              "      <th>1</th>\n",
              "      <td>0.237127</td>\n",
              "      <td>0.233923</td>\n",
              "    </tr>\n",
              "    <tr>\n",
              "      <th>2</th>\n",
              "      <td>0.432452</td>\n",
              "      <td>0.432133</td>\n",
              "    </tr>\n",
              "    <tr>\n",
              "      <th>3</th>\n",
              "      <td>0.524375</td>\n",
              "      <td>0.524696</td>\n",
              "    </tr>\n",
              "    <tr>\n",
              "      <th>4</th>\n",
              "      <td>0.583913</td>\n",
              "      <td>0.581257</td>\n",
              "    </tr>\n",
              "    <tr>\n",
              "      <th>5</th>\n",
              "      <td>0.604615</td>\n",
              "      <td>0.597148</td>\n",
              "    </tr>\n",
              "    <tr>\n",
              "      <th>6</th>\n",
              "      <td>0.616155</td>\n",
              "      <td>0.587481</td>\n",
              "    </tr>\n",
              "    <tr>\n",
              "      <th>7</th>\n",
              "      <td>0.627051</td>\n",
              "      <td>0.577236</td>\n",
              "    </tr>\n",
              "    <tr>\n",
              "      <th>8</th>\n",
              "      <td>0.645496</td>\n",
              "      <td>0.560339</td>\n",
              "    </tr>\n",
              "    <tr>\n",
              "      <th>9</th>\n",
              "      <td>0.666258</td>\n",
              "      <td>0.561046</td>\n",
              "    </tr>\n",
              "    <tr>\n",
              "      <th>10</th>\n",
              "      <td>0.688276</td>\n",
              "      <td>0.529995</td>\n",
              "    </tr>\n",
              "    <tr>\n",
              "      <th>11</th>\n",
              "      <td>0.714862</td>\n",
              "      <td>0.516458</td>\n",
              "    </tr>\n",
              "    <tr>\n",
              "      <th>12</th>\n",
              "      <td>0.74302</td>\n",
              "      <td>0.48631</td>\n",
              "    </tr>\n",
              "    <tr>\n",
              "      <th>13</th>\n",
              "      <td>0.769656</td>\n",
              "      <td>0.471631</td>\n",
              "    </tr>\n",
              "    <tr>\n",
              "      <th>14</th>\n",
              "      <td>0.796693</td>\n",
              "      <td>0.439485</td>\n",
              "    </tr>\n",
              "    <tr>\n",
              "      <th>15</th>\n",
              "      <td>0.825558</td>\n",
              "      <td>0.414905</td>\n",
              "    </tr>\n",
              "    <tr>\n",
              "      <th>16</th>\n",
              "      <td>0.854163</td>\n",
              "      <td>0.366331</td>\n",
              "    </tr>\n",
              "    <tr>\n",
              "      <th>17</th>\n",
              "      <td>0.882095</td>\n",
              "      <td>0.356172</td>\n",
              "    </tr>\n",
              "    <tr>\n",
              "      <th>18</th>\n",
              "      <td>0.906216</td>\n",
              "      <td>0.292913</td>\n",
              "    </tr>\n",
              "    <tr>\n",
              "      <th>19</th>\n",
              "      <td>0.924703</td>\n",
              "      <td>0.270033</td>\n",
              "    </tr>\n",
              "    <tr>\n",
              "      <th>20</th>\n",
              "      <td>0.940104</td>\n",
              "      <td>0.247153</td>\n",
              "    </tr>\n",
              "    <tr>\n",
              "      <th>21</th>\n",
              "      <td>0.953296</td>\n",
              "      <td>0.254712</td>\n",
              "    </tr>\n",
              "    <tr>\n",
              "      <th>22</th>\n",
              "      <td>0.966229</td>\n",
              "      <td>0.220745</td>\n",
              "    </tr>\n",
              "    <tr>\n",
              "      <th>23</th>\n",
              "      <td>0.976225</td>\n",
              "      <td>0.225298</td>\n",
              "    </tr>\n",
              "    <tr>\n",
              "      <th>24</th>\n",
              "      <td>0.984031</td>\n",
              "      <td>0.189462</td>\n",
              "    </tr>\n",
              "    <tr>\n",
              "      <th>25</th>\n",
              "      <td>0.990426</td>\n",
              "      <td>0.202319</td>\n",
              "    </tr>\n",
              "    <tr>\n",
              "      <th>26</th>\n",
              "      <td>0.995086</td>\n",
              "      <td>0.20002</td>\n",
              "    </tr>\n",
              "    <tr>\n",
              "      <th>27</th>\n",
              "      <td>0.997434</td>\n",
              "      <td>0.199733</td>\n",
              "    </tr>\n",
              "    <tr>\n",
              "      <th>28</th>\n",
              "      <td>0.998431</td>\n",
              "      <td>0.225722</td>\n",
              "    </tr>\n",
              "    <tr>\n",
              "      <th>29</th>\n",
              "      <td>0.999093</td>\n",
              "      <td>0.214373</td>\n",
              "    </tr>\n",
              "    <tr>\n",
              "      <th>30</th>\n",
              "      <td>0.999531</td>\n",
              "      <td>0.188598</td>\n",
              "    </tr>\n",
              "    <tr>\n",
              "      <th>31</th>\n",
              "      <td>0.999734</td>\n",
              "      <td>0.195429</td>\n",
              "    </tr>\n",
              "    <tr>\n",
              "      <th>32</th>\n",
              "      <td>0.999817</td>\n",
              "      <td>0.191846</td>\n",
              "    </tr>\n",
              "    <tr>\n",
              "      <th>33</th>\n",
              "      <td>0.999913</td>\n",
              "      <td>0.187873</td>\n",
              "    </tr>\n",
              "    <tr>\n",
              "      <th>34</th>\n",
              "      <td>0.999984</td>\n",
              "      <td>0.182821</td>\n",
              "    </tr>\n",
              "    <tr>\n",
              "      <th>35</th>\n",
              "      <td>0.99999</td>\n",
              "      <td>0.211091</td>\n",
              "    </tr>\n",
              "    <tr>\n",
              "      <th>36</th>\n",
              "      <td>0.999998</td>\n",
              "      <td>0.198601</td>\n",
              "    </tr>\n",
              "    <tr>\n",
              "      <th>37</th>\n",
              "      <td>1.0</td>\n",
              "      <td>0.18856</td>\n",
              "    </tr>\n",
              "    <tr>\n",
              "      <th>38</th>\n",
              "      <td>1.0</td>\n",
              "      <td>0.191983</td>\n",
              "    </tr>\n",
              "  </tbody>\n",
              "</table>\n",
              "</div>\n",
              "    <div class=\"colab-df-buttons\">\n",
              "\n",
              "  <div class=\"colab-df-container\">\n",
              "    <button class=\"colab-df-convert\" onclick=\"convertToInteractive('df-a455d9ec-0ff1-4118-a5ad-d9a74757116f')\"\n",
              "            title=\"Convert this dataframe to an interactive table.\"\n",
              "            style=\"display:none;\">\n",
              "\n",
              "  <svg xmlns=\"http://www.w3.org/2000/svg\" height=\"24px\" viewBox=\"0 -960 960 960\">\n",
              "    <path d=\"M120-120v-720h720v720H120Zm60-500h600v-160H180v160Zm220 220h160v-160H400v160Zm0 220h160v-160H400v160ZM180-400h160v-160H180v160Zm440 0h160v-160H620v160ZM180-180h160v-160H180v160Zm440 0h160v-160H620v160Z\"/>\n",
              "  </svg>\n",
              "    </button>\n",
              "\n",
              "  <style>\n",
              "    .colab-df-container {\n",
              "      display:flex;\n",
              "      gap: 12px;\n",
              "    }\n",
              "\n",
              "    .colab-df-convert {\n",
              "      background-color: #E8F0FE;\n",
              "      border: none;\n",
              "      border-radius: 50%;\n",
              "      cursor: pointer;\n",
              "      display: none;\n",
              "      fill: #1967D2;\n",
              "      height: 32px;\n",
              "      padding: 0 0 0 0;\n",
              "      width: 32px;\n",
              "    }\n",
              "\n",
              "    .colab-df-convert:hover {\n",
              "      background-color: #E2EBFA;\n",
              "      box-shadow: 0px 1px 2px rgba(60, 64, 67, 0.3), 0px 1px 3px 1px rgba(60, 64, 67, 0.15);\n",
              "      fill: #174EA6;\n",
              "    }\n",
              "\n",
              "    .colab-df-buttons div {\n",
              "      margin-bottom: 4px;\n",
              "    }\n",
              "\n",
              "    [theme=dark] .colab-df-convert {\n",
              "      background-color: #3B4455;\n",
              "      fill: #D2E3FC;\n",
              "    }\n",
              "\n",
              "    [theme=dark] .colab-df-convert:hover {\n",
              "      background-color: #434B5C;\n",
              "      box-shadow: 0px 1px 3px 1px rgba(0, 0, 0, 0.15);\n",
              "      filter: drop-shadow(0px 1px 2px rgba(0, 0, 0, 0.3));\n",
              "      fill: #FFFFFF;\n",
              "    }\n",
              "  </style>\n",
              "\n",
              "    <script>\n",
              "      const buttonEl =\n",
              "        document.querySelector('#df-a455d9ec-0ff1-4118-a5ad-d9a74757116f button.colab-df-convert');\n",
              "      buttonEl.style.display =\n",
              "        google.colab.kernel.accessAllowed ? 'block' : 'none';\n",
              "\n",
              "      async function convertToInteractive(key) {\n",
              "        const element = document.querySelector('#df-a455d9ec-0ff1-4118-a5ad-d9a74757116f');\n",
              "        const dataTable =\n",
              "          await google.colab.kernel.invokeFunction('convertToInteractive',\n",
              "                                                    [key], {});\n",
              "        if (!dataTable) return;\n",
              "\n",
              "        const docLinkHtml = 'Like what you see? Visit the ' +\n",
              "          '<a target=\"_blank\" href=https://colab.research.google.com/notebooks/data_table.ipynb>data table notebook</a>'\n",
              "          + ' to learn more about interactive tables.';\n",
              "        element.innerHTML = '';\n",
              "        dataTable['output_type'] = 'display_data';\n",
              "        await google.colab.output.renderOutput(dataTable, element);\n",
              "        const docLink = document.createElement('div');\n",
              "        docLink.innerHTML = docLinkHtml;\n",
              "        element.appendChild(docLink);\n",
              "      }\n",
              "    </script>\n",
              "  </div>\n",
              "\n",
              "\n",
              "<div id=\"df-6ece6969-3a35-47c9-9aa3-223b990d38ad\">\n",
              "  <button class=\"colab-df-quickchart\" onclick=\"quickchart('df-6ece6969-3a35-47c9-9aa3-223b990d38ad')\"\n",
              "            title=\"Suggest charts.\"\n",
              "            style=\"display:none;\">\n",
              "\n",
              "<svg xmlns=\"http://www.w3.org/2000/svg\" height=\"24px\"viewBox=\"0 0 24 24\"\n",
              "     width=\"24px\">\n",
              "    <g>\n",
              "        <path d=\"M19 3H5c-1.1 0-2 .9-2 2v14c0 1.1.9 2 2 2h14c1.1 0 2-.9 2-2V5c0-1.1-.9-2-2-2zM9 17H7v-7h2v7zm4 0h-2V7h2v10zm4 0h-2v-4h2v4z\"/>\n",
              "    </g>\n",
              "</svg>\n",
              "  </button>\n",
              "\n",
              "<style>\n",
              "  .colab-df-quickchart {\n",
              "      --bg-color: #E8F0FE;\n",
              "      --fill-color: #1967D2;\n",
              "      --hover-bg-color: #E2EBFA;\n",
              "      --hover-fill-color: #174EA6;\n",
              "      --disabled-fill-color: #AAA;\n",
              "      --disabled-bg-color: #DDD;\n",
              "  }\n",
              "\n",
              "  [theme=dark] .colab-df-quickchart {\n",
              "      --bg-color: #3B4455;\n",
              "      --fill-color: #D2E3FC;\n",
              "      --hover-bg-color: #434B5C;\n",
              "      --hover-fill-color: #FFFFFF;\n",
              "      --disabled-bg-color: #3B4455;\n",
              "      --disabled-fill-color: #666;\n",
              "  }\n",
              "\n",
              "  .colab-df-quickchart {\n",
              "    background-color: var(--bg-color);\n",
              "    border: none;\n",
              "    border-radius: 50%;\n",
              "    cursor: pointer;\n",
              "    display: none;\n",
              "    fill: var(--fill-color);\n",
              "    height: 32px;\n",
              "    padding: 0;\n",
              "    width: 32px;\n",
              "  }\n",
              "\n",
              "  .colab-df-quickchart:hover {\n",
              "    background-color: var(--hover-bg-color);\n",
              "    box-shadow: 0 1px 2px rgba(60, 64, 67, 0.3), 0 1px 3px 1px rgba(60, 64, 67, 0.15);\n",
              "    fill: var(--button-hover-fill-color);\n",
              "  }\n",
              "\n",
              "  .colab-df-quickchart-complete:disabled,\n",
              "  .colab-df-quickchart-complete:disabled:hover {\n",
              "    background-color: var(--disabled-bg-color);\n",
              "    fill: var(--disabled-fill-color);\n",
              "    box-shadow: none;\n",
              "  }\n",
              "\n",
              "  .colab-df-spinner {\n",
              "    border: 2px solid var(--fill-color);\n",
              "    border-color: transparent;\n",
              "    border-bottom-color: var(--fill-color);\n",
              "    animation:\n",
              "      spin 1s steps(1) infinite;\n",
              "  }\n",
              "\n",
              "  @keyframes spin {\n",
              "    0% {\n",
              "      border-color: transparent;\n",
              "      border-bottom-color: var(--fill-color);\n",
              "      border-left-color: var(--fill-color);\n",
              "    }\n",
              "    20% {\n",
              "      border-color: transparent;\n",
              "      border-left-color: var(--fill-color);\n",
              "      border-top-color: var(--fill-color);\n",
              "    }\n",
              "    30% {\n",
              "      border-color: transparent;\n",
              "      border-left-color: var(--fill-color);\n",
              "      border-top-color: var(--fill-color);\n",
              "      border-right-color: var(--fill-color);\n",
              "    }\n",
              "    40% {\n",
              "      border-color: transparent;\n",
              "      border-right-color: var(--fill-color);\n",
              "      border-top-color: var(--fill-color);\n",
              "    }\n",
              "    60% {\n",
              "      border-color: transparent;\n",
              "      border-right-color: var(--fill-color);\n",
              "    }\n",
              "    80% {\n",
              "      border-color: transparent;\n",
              "      border-right-color: var(--fill-color);\n",
              "      border-bottom-color: var(--fill-color);\n",
              "    }\n",
              "    90% {\n",
              "      border-color: transparent;\n",
              "      border-bottom-color: var(--fill-color);\n",
              "    }\n",
              "  }\n",
              "</style>\n",
              "\n",
              "  <script>\n",
              "    async function quickchart(key) {\n",
              "      const quickchartButtonEl =\n",
              "        document.querySelector('#' + key + ' button');\n",
              "      quickchartButtonEl.disabled = true;  // To prevent multiple clicks.\n",
              "      quickchartButtonEl.classList.add('colab-df-spinner');\n",
              "      try {\n",
              "        const charts = await google.colab.kernel.invokeFunction(\n",
              "            'suggestCharts', [key], {});\n",
              "      } catch (error) {\n",
              "        console.error('Error during call to suggestCharts:', error);\n",
              "      }\n",
              "      quickchartButtonEl.classList.remove('colab-df-spinner');\n",
              "      quickchartButtonEl.classList.add('colab-df-quickchart-complete');\n",
              "    }\n",
              "    (() => {\n",
              "      let quickchartButtonEl =\n",
              "        document.querySelector('#df-6ece6969-3a35-47c9-9aa3-223b990d38ad button');\n",
              "      quickchartButtonEl.style.display =\n",
              "        google.colab.kernel.accessAllowed ? 'block' : 'none';\n",
              "    })();\n",
              "  </script>\n",
              "</div>\n",
              "    </div>\n",
              "  </div>\n"
            ]
          },
          "metadata": {},
          "execution_count": 86
        }
      ]
    },
    {
      "cell_type": "code",
      "source": [
        "#plot the scores to visually determine the best max_depth\n",
        "# plt.plot(scores);\n",
        "plt.plot(depths, scores['Train'], label = 'train')\n",
        "plt.plot(depths, scores['Test'], label = 'test')\n",
        "plt.ylabel('R2 scores')\n",
        "plt.xlabel('Max depth')\n",
        "plt.legend()\n",
        "plt.show()"
      ],
      "metadata": {
        "colab": {
          "base_uri": "https://localhost:8080/",
          "height": 449
        },
        "id": "Kt3fCVFZC7LI",
        "outputId": "f85e3abe-75a5-4cf8-f28f-e1536cac00f3"
      },
      "execution_count": 87,
      "outputs": [
        {
          "output_type": "display_data",
          "data": {
            "text/plain": [
              "<Figure size 640x480 with 1 Axes>"
            ],
            "image/png": "[encoded data removed]"
          },
          "metadata": {}
        }
      ]
    },
    {
      "cell_type": "code",
      "source": [
        "#sort the dataframe by test scores and save the index (k) of the best score\n",
        "best_depth = scores.sort_values(by='Test', ascending=False).index[0]\n",
        "best_depth\n"
      ],
      "metadata": {
        "colab": {
          "base_uri": "https://localhost:8080/"
        },
        "id": "X7q8BMW9C_iG",
        "outputId": "68a322d3-ec5b-46f0-ae80-b7e3a9d1e857"
      },
      "execution_count": 88,
      "outputs": [
        {
          "output_type": "execute_result",
          "data": {
            "text/plain": [
              "5"
            ]
          },
          "metadata": {},
          "execution_count": 88
        }
      ]
    },
    {
      "cell_type": "code",
      "source": [
        "r2_score"
      ],
      "metadata": {
        "colab": {
          "base_uri": "https://localhost:8080/"
        },
        "id": "NLd376VvDCqM",
        "outputId": "5d1f6133-e806-45ce-a546-9162bc1eecd7"
      },
      "execution_count": 89,
      "outputs": [
        {
          "output_type": "execute_result",
          "data": {
            "text/plain": [
              "<function sklearn.metrics._regression.r2_score(y_true, y_pred, *, sample_weight=None, multioutput='uniform_average', force_finite=True)>"
            ]
          },
          "metadata": {},
          "execution_count": 89
        }
      ]
    },
    {
      "cell_type": "markdown",
      "source": [
        "### Fit and Evaluate the best decision tree"
      ],
      "metadata": {
        "id": "X7zeKdfXDGg9"
      }
    },
    {
      "cell_type": "code",
      "source": [
        "# instantiate the best model\n",
        "best_dec_tree = DecisionTreeRegressor(max_depth=best_depth)\n",
        "\n",
        "# create pipeline\n",
        "best_dec_tree_pipe = make_pipeline(preprocessor, best_dec_tree)\n",
        "\n",
        "# fit the model\n",
        "best_dec_tree_pipe.fit(X_train, y_train)\n",
        "\n",
        "# evaluate the model\n",
        "eval_model(y_train, best_dec_tree_pipe.predict(X_train))\n",
        "print('Training scores for baseline model')\n",
        "\n",
        "print('\\n')\n",
        "\n",
        "eval_model(y_test, best_dec_tree_pipe.predict(X_test))\n",
        "print('Testing scores for baseline model')"
      ],
      "metadata": {
        "colab": {
          "base_uri": "https://localhost:8080/"
        },
        "id": "FpaIpvWrDHTB",
        "outputId": "78ce3480-7ce4-40fe-e7b1-2ea47577a18f"
      },
      "execution_count": 90,
      "outputs": [
        {
          "output_type": "stream",
          "name": "stdout",
          "text": [
            " MAE 760.89,\n",
            " MSE 1169324.44,\n",
            " RMSE: 1081.35,\n",
            " R^2: 0.60\n",
            "Training scores for baseline model\n",
            "\n",
            "\n",
            " MAE 743.54,\n",
            " MSE 1128384.71,\n",
            " RMSE: 1062.25,\n",
            " R^2: 0.60\n",
            "Testing scores for baseline model\n"
          ]
        },
        {
          "output_type": "stream",
          "name": "stderr",
          "text": [
            "/usr/local/lib/python3.10/dist-packages/sklearn/preprocessing/_encoders.py:868: FutureWarning: `sparse` was renamed to `sparse_output` in version 1.2 and will be removed in 1.4. `sparse_output` is ignored unless you leave `sparse` to its default value.\n",
            "  warnings.warn(\n"
          ]
        }
      ]
    },
    {
      "cell_type": "markdown",
      "source": [
        "Decision Tree: The r2 in training is at 60% while r2 in testing is at 60%.The delta or the difference between model performance on the training data vs. the test data is zero.\n",
        "\n",
        "The Decision Tree Regression model is a good fit. There is no gap between the training and testing datasets."
      ],
      "metadata": {
        "id": "TqSmULszDPiq"
      }
    },
    {
      "cell_type": "markdown",
      "source": [
        "### Create a Summary of the Model Evaluations"
      ],
      "metadata": {
        "id": "1TzwpZwQFB-v"
      }
    },
    {
      "cell_type": "code",
      "source": [
        "# create a dictionary for the models\n",
        "models = {'Dummy': 'dummy_pipe',\n",
        "          'Linear Regression': 'lr_pipe',\n",
        "          'Decision Trees': 'best_dec_tree_pipe'}\n",
        "\n",
        "# loop for evaluating models on training and testing data\n",
        "for model_name, pipeline_name in models.items():\n",
        "  print(f'{model_name} Model:')\n",
        "  print('Train Evaluation')\n",
        "\n",
        "  eval_model(y_train, eval(pipeline_name).predict(X_train))\n",
        "  print('\\nTest Evaluation')\n",
        "\n",
        "  eval_model(y_test, eval(pipeline_name).predict(X_test))\n",
        "  print('-' * 50)"
      ],
      "metadata": {
        "colab": {
          "base_uri": "https://localhost:8080/"
        },
        "id": "_VXJ_fQbFILx",
        "outputId": "24edea8e-3c13-4bdd-d79e-0c762e7ea26e"
      },
      "execution_count": 91,
      "outputs": [
        {
          "output_type": "stream",
          "name": "stdout",
          "text": [
            "Dummy Model:\n",
            "Train Evaluation\n",
            " MAE 1356.10,\n",
            " MSE 2957434.63,\n",
            " RMSE: 1719.72,\n",
            " R^2: 0.00\n",
            "\n",
            "Test Evaluation\n",
            " MAE 1338.34,\n",
            " MSE 2807178.14,\n",
            " RMSE: 1675.46,\n",
            " R^2: -0.00\n",
            "--------------------------------------------------\n",
            "Linear Regression Model:\n",
            "Train Evaluation\n",
            " MAE 910.62,\n",
            " MSE 1457963.16,\n",
            " RMSE: 1207.46,\n",
            " R^2: 0.51\n",
            "\n",
            "Test Evaluation\n",
            " MAE 876.56,\n",
            " MSE 1377129.17,\n",
            " RMSE: 1173.51,\n",
            " R^2: 0.51\n",
            "--------------------------------------------------\n",
            "Decision Trees Model:\n",
            "Train Evaluation\n",
            " MAE 760.89,\n",
            " MSE 1169324.44,\n",
            " RMSE: 1081.35,\n",
            " R^2: 0.60\n",
            "\n",
            "Test Evaluation\n",
            " MAE 743.54,\n",
            " MSE 1128384.71,\n",
            " RMSE: 1062.25,\n",
            " R^2: 0.60\n",
            "--------------------------------------------------\n"
          ]
        }
      ]
    },
    {
      "cell_type": "markdown",
      "source": [
        "## Recommendation"
      ],
      "metadata": {
        "id": "gLVjcHeR5290"
      }
    },
    {
      "cell_type": "markdown",
      "source": [
        "\n",
        "The two models (Linear Regression and Decision Tree Model) are good fit but the Decision Tree Model resulted to higher r2 of 61% (where r2 for both training and testing datasets r2 is at 61%)vs. Linear Regression Model (where r2 for both training and testing datasets r2 is at 51%).\n",
        "\n",
        "Moreover, the Decision Tree Model has lower RMSE or root mean square error (training and testing data have RMSE of 1081 and 1062, respectively). The Linear Regression Model has RMSE of 1207 for the training data, 1173 for the testing data.\n",
        "\n",
        "Higher r2 and lower RMSE values show that the Decision Tree model makes more accurate predictions and fits the data well. Decision Tree Regression model also beat the baseline. Overall, it is a good fit for our food sales prediction.\n"
      ],
      "metadata": {
        "id": "NRSOtADiEPGu"
      }
    }
  ]
}