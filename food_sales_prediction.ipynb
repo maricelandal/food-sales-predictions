{
  "nbformat": 4,
  "nbformat_minor": 0,
  "metadata": {
    "colab": {
      "provenance": [],
      "gpuType": "T4",
      "mount_file_id": "1pCPNWovvvQRxptBrMMhfKDySxm-NaYGL",
      "authorship_tag": "ABX9TyNfoYt1i1Ogfopzs/l4N5lC",
      "include_colab_link": true
    },
    "kernelspec": {
      "name": "python3",
      "display_name": "Python 3"
    },
    "language_info": {
      "name": "python"
    },
    "accelerator": "GPU"
  },
  "cells": [
    {
      "cell_type": "markdown",
      "metadata": {
        "id": "view-in-github",
        "colab_type": "text"
      },
      "source": [
        "<a href=\"https://colab.research.google.com/github/maricelandal/food-sales-predictions/blob/main/food_sales_prediction.ipynb\" target=\"_parent\"><img src=\"https://colab.research.google.com/assets/colab-badge.svg\" alt=\"Open In Colab\"/></a>"
      ]
    },
    {
      "cell_type": "markdown",
      "source": [
        "# Mount Data"
      ],
      "metadata": {
        "id": "qLqHvpa8r_MM"
      }
    },
    {
      "cell_type": "code",
      "source": [
        "# Mount our Drive\n",
        "from google.colab import drive\n",
        "drive.mount('/content/drive')"
      ],
      "metadata": {
        "colab": {
          "base_uri": "https://localhost:8080/"
        },
        "id": "twC2ttMVtZ66",
        "outputId": "f86fd919-7ab6-4e86-e777-be0442fc7d4a"
      },
      "execution_count": 1,
      "outputs": [
        {
          "output_type": "stream",
          "name": "stdout",
          "text": [
            "Drive already mounted at /content/drive; to attempt to forcibly remount, call drive.mount(\"/content/drive\", force_remount=True).\n"
          ]
        }
      ]
    },
    {
      "cell_type": "markdown",
      "source": [
        "# Import Libraries"
      ],
      "metadata": {
        "id": "-kriTtQTu8we"
      }
    },
    {
      "cell_type": "code",
      "source": [
        "# Imports\n",
        "import numpy as np\n",
        "import pandas as pd"
      ],
      "metadata": {
        "id": "ye1VDcvbu7wq"
      },
      "execution_count": 2,
      "outputs": []
    },
    {
      "cell_type": "markdown",
      "source": [
        "# Load Data"
      ],
      "metadata": {
        "id": "KS97T2WwvVM9"
      }
    },
    {
      "cell_type": "code",
      "source": [
        "# Load Data\n",
        "\n",
        "file = ('/content/drive/MyDrive/Coding Dojo/Week 1/sales_prediction/sales_predictions_2023.csv')\n",
        "\n",
        "df = pd.read_csv(file)\n",
        "\n",
        "# Check first 5 rows\n",
        "\n",
        "df.head()"
      ],
      "metadata": {
        "colab": {
          "base_uri": "https://localhost:8080/",
          "height": 313
        },
        "id": "aQgxzP_IvaF6",
        "outputId": "a21c148a-58a2-42f3-96ee-2cf96bbf4ff4"
      },
      "execution_count": 3,
      "outputs": [
        {
          "output_type": "execute_result",
          "data": {
            "text/plain": [
              "  Item_Identifier  Item_Weight Item_Fat_Content  Item_Visibility  \\\n",
              "0           FDA15         9.30          Low Fat         0.016047   \n",
              "1           DRC01         5.92          Regular         0.019278   \n",
              "2           FDN15        17.50          Low Fat         0.016760   \n",
              "3           FDX07        19.20          Regular         0.000000   \n",
              "4           NCD19         8.93          Low Fat         0.000000   \n",
              "\n",
              "               Item_Type  Item_MRP Outlet_Identifier  \\\n",
              "0                  Dairy  249.8092            OUT049   \n",
              "1            Soft Drinks   48.2692            OUT018   \n",
              "2                   Meat  141.6180            OUT049   \n",
              "3  Fruits and Vegetables  182.0950            OUT010   \n",
              "4              Household   53.8614            OUT013   \n",
              "\n",
              "   Outlet_Establishment_Year Outlet_Size Outlet_Location_Type  \\\n",
              "0                       1999      Medium               Tier 1   \n",
              "1                       2009      Medium               Tier 3   \n",
              "2                       1999      Medium               Tier 1   \n",
              "3                       1998         NaN               Tier 3   \n",
              "4                       1987        High               Tier 3   \n",
              "\n",
              "         Outlet_Type  Item_Outlet_Sales  \n",
              "0  Supermarket Type1          3735.1380  \n",
              "1  Supermarket Type2           443.4228  \n",
              "2  Supermarket Type1          2097.2700  \n",
              "3      Grocery Store           732.3800  \n",
              "4  Supermarket Type1           994.7052  "
            ],
            "text/html": [
              "\n",
              "  <div id=\"df-935d3898-7936-478f-a865-0e3a6d52ce8d\" class=\"colab-df-container\">\n",
              "    <div>\n",
              "<style scoped>\n",
              "    .dataframe tbody tr th:only-of-type {\n",
              "        vertical-align: middle;\n",
              "    }\n",
              "\n",
              "    .dataframe tbody tr th {\n",
              "        vertical-align: top;\n",
              "    }\n",
              "\n",
              "    .dataframe thead th {\n",
              "        text-align: right;\n",
              "    }\n",
              "</style>\n",
              "<table border=\"1\" class=\"dataframe\">\n",
              "  <thead>\n",
              "    <tr style=\"text-align: right;\">\n",
              "      <th></th>\n",
              "      <th>Item_Identifier</th>\n",
              "      <th>Item_Weight</th>\n",
              "      <th>Item_Fat_Content</th>\n",
              "      <th>Item_Visibility</th>\n",
              "      <th>Item_Type</th>\n",
              "      <th>Item_MRP</th>\n",
              "      <th>Outlet_Identifier</th>\n",
              "      <th>Outlet_Establishment_Year</th>\n",
              "      <th>Outlet_Size</th>\n",
              "      <th>Outlet_Location_Type</th>\n",
              "      <th>Outlet_Type</th>\n",
              "      <th>Item_Outlet_Sales</th>\n",
              "    </tr>\n",
              "  </thead>\n",
              "  <tbody>\n",
              "    <tr>\n",
              "      <th>0</th>\n",
              "      <td>FDA15</td>\n",
              "      <td>9.30</td>\n",
              "      <td>Low Fat</td>\n",
              "      <td>0.016047</td>\n",
              "      <td>Dairy</td>\n",
              "      <td>249.8092</td>\n",
              "      <td>OUT049</td>\n",
              "      <td>1999</td>\n",
              "      <td>Medium</td>\n",
              "      <td>Tier 1</td>\n",
              "      <td>Supermarket Type1</td>\n",
              "      <td>3735.1380</td>\n",
              "    </tr>\n",
              "    <tr>\n",
              "      <th>1</th>\n",
              "      <td>DRC01</td>\n",
              "      <td>5.92</td>\n",
              "      <td>Regular</td>\n",
              "      <td>0.019278</td>\n",
              "      <td>Soft Drinks</td>\n",
              "      <td>48.2692</td>\n",
              "      <td>OUT018</td>\n",
              "      <td>2009</td>\n",
              "      <td>Medium</td>\n",
              "      <td>Tier 3</td>\n",
              "      <td>Supermarket Type2</td>\n",
              "      <td>443.4228</td>\n",
              "    </tr>\n",
              "    <tr>\n",
              "      <th>2</th>\n",
              "      <td>FDN15</td>\n",
              "      <td>17.50</td>\n",
              "      <td>Low Fat</td>\n",
              "      <td>0.016760</td>\n",
              "      <td>Meat</td>\n",
              "      <td>141.6180</td>\n",
              "      <td>OUT049</td>\n",
              "      <td>1999</td>\n",
              "      <td>Medium</td>\n",
              "      <td>Tier 1</td>\n",
              "      <td>Supermarket Type1</td>\n",
              "      <td>2097.2700</td>\n",
              "    </tr>\n",
              "    <tr>\n",
              "      <th>3</th>\n",
              "      <td>FDX07</td>\n",
              "      <td>19.20</td>\n",
              "      <td>Regular</td>\n",
              "      <td>0.000000</td>\n",
              "      <td>Fruits and Vegetables</td>\n",
              "      <td>182.0950</td>\n",
              "      <td>OUT010</td>\n",
              "      <td>1998</td>\n",
              "      <td>NaN</td>\n",
              "      <td>Tier 3</td>\n",
              "      <td>Grocery Store</td>\n",
              "      <td>732.3800</td>\n",
              "    </tr>\n",
              "    <tr>\n",
              "      <th>4</th>\n",
              "      <td>NCD19</td>\n",
              "      <td>8.93</td>\n",
              "      <td>Low Fat</td>\n",
              "      <td>0.000000</td>\n",
              "      <td>Household</td>\n",
              "      <td>53.8614</td>\n",
              "      <td>OUT013</td>\n",
              "      <td>1987</td>\n",
              "      <td>High</td>\n",
              "      <td>Tier 3</td>\n",
              "      <td>Supermarket Type1</td>\n",
              "      <td>994.7052</td>\n",
              "    </tr>\n",
              "  </tbody>\n",
              "</table>\n",
              "</div>\n",
              "    <div class=\"colab-df-buttons\">\n",
              "\n",
              "  <div class=\"colab-df-container\">\n",
              "    <button class=\"colab-df-convert\" onclick=\"convertToInteractive('df-935d3898-7936-478f-a865-0e3a6d52ce8d')\"\n",
              "            title=\"Convert this dataframe to an interactive table.\"\n",
              "            style=\"display:none;\">\n",
              "\n",
              "  <svg xmlns=\"http://www.w3.org/2000/svg\" height=\"24px\" viewBox=\"0 -960 960 960\">\n",
              "    <path d=\"M120-120v-720h720v720H120Zm60-500h600v-160H180v160Zm220 220h160v-160H400v160Zm0 220h160v-160H400v160ZM180-400h160v-160H180v160Zm440 0h160v-160H620v160ZM180-180h160v-160H180v160Zm440 0h160v-160H620v160Z\"/>\n",
              "  </svg>\n",
              "    </button>\n",
              "\n",
              "  <style>\n",
              "    .colab-df-container {\n",
              "      display:flex;\n",
              "      gap: 12px;\n",
              "    }\n",
              "\n",
              "    .colab-df-convert {\n",
              "      background-color: #E8F0FE;\n",
              "      border: none;\n",
              "      border-radius: 50%;\n",
              "      cursor: pointer;\n",
              "      display: none;\n",
              "      fill: #1967D2;\n",
              "      height: 32px;\n",
              "      padding: 0 0 0 0;\n",
              "      width: 32px;\n",
              "    }\n",
              "\n",
              "    .colab-df-convert:hover {\n",
              "      background-color: #E2EBFA;\n",
              "      box-shadow: 0px 1px 2px rgba(60, 64, 67, 0.3), 0px 1px 3px 1px rgba(60, 64, 67, 0.15);\n",
              "      fill: #174EA6;\n",
              "    }\n",
              "\n",
              "    .colab-df-buttons div {\n",
              "      margin-bottom: 4px;\n",
              "    }\n",
              "\n",
              "    [theme=dark] .colab-df-convert {\n",
              "      background-color: #3B4455;\n",
              "      fill: #D2E3FC;\n",
              "    }\n",
              "\n",
              "    [theme=dark] .colab-df-convert:hover {\n",
              "      background-color: #434B5C;\n",
              "      box-shadow: 0px 1px 3px 1px rgba(0, 0, 0, 0.15);\n",
              "      filter: drop-shadow(0px 1px 2px rgba(0, 0, 0, 0.3));\n",
              "      fill: #FFFFFF;\n",
              "    }\n",
              "  </style>\n",
              "\n",
              "    <script>\n",
              "      const buttonEl =\n",
              "        document.querySelector('#df-935d3898-7936-478f-a865-0e3a6d52ce8d button.colab-df-convert');\n",
              "      buttonEl.style.display =\n",
              "        google.colab.kernel.accessAllowed ? 'block' : 'none';\n",
              "\n",
              "      async function convertToInteractive(key) {\n",
              "        const element = document.querySelector('#df-935d3898-7936-478f-a865-0e3a6d52ce8d');\n",
              "        const dataTable =\n",
              "          await google.colab.kernel.invokeFunction('convertToInteractive',\n",
              "                                                    [key], {});\n",
              "        if (!dataTable) return;\n",
              "\n",
              "        const docLinkHtml = 'Like what you see? Visit the ' +\n",
              "          '<a target=\"_blank\" href=https://colab.research.google.com/notebooks/data_table.ipynb>data table notebook</a>'\n",
              "          + ' to learn more about interactive tables.';\n",
              "        element.innerHTML = '';\n",
              "        dataTable['output_type'] = 'display_data';\n",
              "        await google.colab.output.renderOutput(dataTable, element);\n",
              "        const docLink = document.createElement('div');\n",
              "        docLink.innerHTML = docLinkHtml;\n",
              "        element.appendChild(docLink);\n",
              "      }\n",
              "    </script>\n",
              "  </div>\n",
              "\n",
              "\n",
              "<div id=\"df-90a0aaab-a83d-41a0-a6d4-ec11846243ab\">\n",
              "  <button class=\"colab-df-quickchart\" onclick=\"quickchart('df-90a0aaab-a83d-41a0-a6d4-ec11846243ab')\"\n",
              "            title=\"Suggest charts.\"\n",
              "            style=\"display:none;\">\n",
              "\n",
              "<svg xmlns=\"http://www.w3.org/2000/svg\" height=\"24px\"viewBox=\"0 0 24 24\"\n",
              "     width=\"24px\">\n",
              "    <g>\n",
              "        <path d=\"M19 3H5c-1.1 0-2 .9-2 2v14c0 1.1.9 2 2 2h14c1.1 0 2-.9 2-2V5c0-1.1-.9-2-2-2zM9 17H7v-7h2v7zm4 0h-2V7h2v10zm4 0h-2v-4h2v4z\"/>\n",
              "    </g>\n",
              "</svg>\n",
              "  </button>\n",
              "\n",
              "<style>\n",
              "  .colab-df-quickchart {\n",
              "      --bg-color: #E8F0FE;\n",
              "      --fill-color: #1967D2;\n",
              "      --hover-bg-color: #E2EBFA;\n",
              "      --hover-fill-color: #174EA6;\n",
              "      --disabled-fill-color: #AAA;\n",
              "      --disabled-bg-color: #DDD;\n",
              "  }\n",
              "\n",
              "  [theme=dark] .colab-df-quickchart {\n",
              "      --bg-color: #3B4455;\n",
              "      --fill-color: #D2E3FC;\n",
              "      --hover-bg-color: #434B5C;\n",
              "      --hover-fill-color: #FFFFFF;\n",
              "      --disabled-bg-color: #3B4455;\n",
              "      --disabled-fill-color: #666;\n",
              "  }\n",
              "\n",
              "  .colab-df-quickchart {\n",
              "    background-color: var(--bg-color);\n",
              "    border: none;\n",
              "    border-radius: 50%;\n",
              "    cursor: pointer;\n",
              "    display: none;\n",
              "    fill: var(--fill-color);\n",
              "    height: 32px;\n",
              "    padding: 0;\n",
              "    width: 32px;\n",
              "  }\n",
              "\n",
              "  .colab-df-quickchart:hover {\n",
              "    background-color: var(--hover-bg-color);\n",
              "    box-shadow: 0 1px 2px rgba(60, 64, 67, 0.3), 0 1px 3px 1px rgba(60, 64, 67, 0.15);\n",
              "    fill: var(--button-hover-fill-color);\n",
              "  }\n",
              "\n",
              "  .colab-df-quickchart-complete:disabled,\n",
              "  .colab-df-quickchart-complete:disabled:hover {\n",
              "    background-color: var(--disabled-bg-color);\n",
              "    fill: var(--disabled-fill-color);\n",
              "    box-shadow: none;\n",
              "  }\n",
              "\n",
              "  .colab-df-spinner {\n",
              "    border: 2px solid var(--fill-color);\n",
              "    border-color: transparent;\n",
              "    border-bottom-color: var(--fill-color);\n",
              "    animation:\n",
              "      spin 1s steps(1) infinite;\n",
              "  }\n",
              "\n",
              "  @keyframes spin {\n",
              "    0% {\n",
              "      border-color: transparent;\n",
              "      border-bottom-color: var(--fill-color);\n",
              "      border-left-color: var(--fill-color);\n",
              "    }\n",
              "    20% {\n",
              "      border-color: transparent;\n",
              "      border-left-color: var(--fill-color);\n",
              "      border-top-color: var(--fill-color);\n",
              "    }\n",
              "    30% {\n",
              "      border-color: transparent;\n",
              "      border-left-color: var(--fill-color);\n",
              "      border-top-color: var(--fill-color);\n",
              "      border-right-color: var(--fill-color);\n",
              "    }\n",
              "    40% {\n",
              "      border-color: transparent;\n",
              "      border-right-color: var(--fill-color);\n",
              "      border-top-color: var(--fill-color);\n",
              "    }\n",
              "    60% {\n",
              "      border-color: transparent;\n",
              "      border-right-color: var(--fill-color);\n",
              "    }\n",
              "    80% {\n",
              "      border-color: transparent;\n",
              "      border-right-color: var(--fill-color);\n",
              "      border-bottom-color: var(--fill-color);\n",
              "    }\n",
              "    90% {\n",
              "      border-color: transparent;\n",
              "      border-bottom-color: var(--fill-color);\n",
              "    }\n",
              "  }\n",
              "</style>\n",
              "\n",
              "  <script>\n",
              "    async function quickchart(key) {\n",
              "      const quickchartButtonEl =\n",
              "        document.querySelector('#' + key + ' button');\n",
              "      quickchartButtonEl.disabled = true;  // To prevent multiple clicks.\n",
              "      quickchartButtonEl.classList.add('colab-df-spinner');\n",
              "      try {\n",
              "        const charts = await google.colab.kernel.invokeFunction(\n",
              "            'suggestCharts', [key], {});\n",
              "      } catch (error) {\n",
              "        console.error('Error during call to suggestCharts:', error);\n",
              "      }\n",
              "      quickchartButtonEl.classList.remove('colab-df-spinner');\n",
              "      quickchartButtonEl.classList.add('colab-df-quickchart-complete');\n",
              "    }\n",
              "    (() => {\n",
              "      let quickchartButtonEl =\n",
              "        document.querySelector('#df-90a0aaab-a83d-41a0-a6d4-ec11846243ab button');\n",
              "      quickchartButtonEl.style.display =\n",
              "        google.colab.kernel.accessAllowed ? 'block' : 'none';\n",
              "    })();\n",
              "  </script>\n",
              "</div>\n",
              "    </div>\n",
              "  </div>\n"
            ]
          },
          "metadata": {},
          "execution_count": 3
        }
      ]
    },
    {
      "cell_type": "markdown",
      "source": [
        "# Exploratory Data Analysis (EDA)\n"
      ],
      "metadata": {
        "id": "bVdVSdNfvMRJ"
      }
    },
    {
      "cell_type": "code",
      "source": [
        "# check the shape\n",
        "\n",
        "df.shape\n",
        "\n",
        "# The dataset has 8,523 rows and 12 columns."
      ],
      "metadata": {
        "colab": {
          "base_uri": "https://localhost:8080/"
        },
        "id": "UoqN4b2ly1zO",
        "outputId": "3366b1f8-8556-4da8-f2dc-742ea18bc8ec"
      },
      "execution_count": 4,
      "outputs": [
        {
          "output_type": "execute_result",
          "data": {
            "text/plain": [
              "(8523, 12)"
            ]
          },
          "metadata": {},
          "execution_count": 4
        }
      ]
    },
    {
      "cell_type": "code",
      "source": [
        "# or checking for rows\n",
        "\n",
        "len(df)\n",
        "\n",
        "# The datasset has 8,523 rows"
      ],
      "metadata": {
        "colab": {
          "base_uri": "https://localhost:8080/"
        },
        "id": "ks96RycX-bOh",
        "outputId": "f9348af2-09ee-4a18-e275-0c48fe9bc332"
      },
      "execution_count": 5,
      "outputs": [
        {
          "output_type": "execute_result",
          "data": {
            "text/plain": [
              "8523"
            ]
          },
          "metadata": {},
          "execution_count": 5
        }
      ]
    },
    {
      "cell_type": "code",
      "source": [
        "# or checking for columns\n",
        "\n",
        "len(df.columns)\n",
        "\n",
        "# The datasset has 12 columns"
      ],
      "metadata": {
        "colab": {
          "base_uri": "https://localhost:8080/"
        },
        "id": "NjUQh9SD-OXe",
        "outputId": "63bedd06-7c53-412c-c741-6397a126625f"
      },
      "execution_count": 6,
      "outputs": [
        {
          "output_type": "execute_result",
          "data": {
            "text/plain": [
              "12"
            ]
          },
          "metadata": {},
          "execution_count": 6
        }
      ]
    },
    {
      "cell_type": "code",
      "source": [
        "# check the datatype\n",
        "\n",
        "df.info()"
      ],
      "metadata": {
        "colab": {
          "base_uri": "https://localhost:8080/"
        },
        "id": "krCIoYj00FdF",
        "outputId": "738f38b5-31a7-423e-8343-5e0f86db5d06"
      },
      "execution_count": 7,
      "outputs": [
        {
          "output_type": "stream",
          "name": "stdout",
          "text": [
            "<class 'pandas.core.frame.DataFrame'>\n",
            "RangeIndex: 8523 entries, 0 to 8522\n",
            "Data columns (total 12 columns):\n",
            " #   Column                     Non-Null Count  Dtype  \n",
            "---  ------                     --------------  -----  \n",
            " 0   Item_Identifier            8523 non-null   object \n",
            " 1   Item_Weight                7060 non-null   float64\n",
            " 2   Item_Fat_Content           8523 non-null   object \n",
            " 3   Item_Visibility            8523 non-null   float64\n",
            " 4   Item_Type                  8523 non-null   object \n",
            " 5   Item_MRP                   8523 non-null   float64\n",
            " 6   Outlet_Identifier          8523 non-null   object \n",
            " 7   Outlet_Establishment_Year  8523 non-null   int64  \n",
            " 8   Outlet_Size                6113 non-null   object \n",
            " 9   Outlet_Location_Type       8523 non-null   object \n",
            " 10  Outlet_Type                8523 non-null   object \n",
            " 11  Item_Outlet_Sales          8523 non-null   float64\n",
            "dtypes: float64(4), int64(1), object(7)\n",
            "memory usage: 799.2+ KB\n"
          ]
        }
      ]
    },
    {
      "cell_type": "code",
      "source": [
        "# check duplicates\n",
        "\n",
        "df.duplicated().sum()\n",
        "\n",
        "# The dataset has no duplicate values."
      ],
      "metadata": {
        "colab": {
          "base_uri": "https://localhost:8080/"
        },
        "id": "npK9LUOjzV0d",
        "outputId": "1120bb68-e71c-4733-97c4-c865b314d0a0"
      },
      "execution_count": 8,
      "outputs": [
        {
          "output_type": "execute_result",
          "data": {
            "text/plain": [
              "0"
            ]
          },
          "metadata": {},
          "execution_count": 8
        }
      ]
    },
    {
      "cell_type": "code",
      "source": [
        "# check if there are missing values\n",
        "\n",
        "df.isna().sum()\n",
        "\n",
        "# There are 1,463 missing values under Item_Weight and 2,410 missing values under Outlet_Size"
      ],
      "metadata": {
        "colab": {
          "base_uri": "https://localhost:8080/"
        },
        "id": "gn6FXn9czkUF",
        "outputId": "d70c0564-f48d-4d53-fdc9-19bd27397a3f"
      },
      "execution_count": 9,
      "outputs": [
        {
          "output_type": "execute_result",
          "data": {
            "text/plain": [
              "Item_Identifier                 0\n",
              "Item_Weight                  1463\n",
              "Item_Fat_Content                0\n",
              "Item_Visibility                 0\n",
              "Item_Type                       0\n",
              "Item_MRP                        0\n",
              "Outlet_Identifier               0\n",
              "Outlet_Establishment_Year       0\n",
              "Outlet_Size                  2410\n",
              "Outlet_Location_Type            0\n",
              "Outlet_Type                     0\n",
              "Item_Outlet_Sales               0\n",
              "dtype: int64"
            ]
          },
          "metadata": {},
          "execution_count": 9
        }
      ]
    },
    {
      "cell_type": "code",
      "source": [
        "# check statistics\n",
        "\n",
        "df.describe()\n",
        "\n",
        "# for numerical columns, use df.describe() - to check min, max, mean"
      ],
      "metadata": {
        "colab": {
          "base_uri": "https://localhost:8080/",
          "height": 300
        },
        "id": "Y5wAyTH7zQV7",
        "outputId": "32906585-2ac2-4f11-d071-57f471cb216a"
      },
      "execution_count": 10,
      "outputs": [
        {
          "output_type": "execute_result",
          "data": {
            "text/plain": [
              "       Item_Weight  Item_Visibility     Item_MRP  Outlet_Establishment_Year  \\\n",
              "count  7060.000000      8523.000000  8523.000000                8523.000000   \n",
              "mean     12.857645         0.066132   140.992782                1997.831867   \n",
              "std       4.643456         0.051598    62.275067                   8.371760   \n",
              "min       4.555000         0.000000    31.290000                1985.000000   \n",
              "25%       8.773750         0.026989    93.826500                1987.000000   \n",
              "50%      12.600000         0.053931   143.012800                1999.000000   \n",
              "75%      16.850000         0.094585   185.643700                2004.000000   \n",
              "max      21.350000         0.328391   266.888400                2009.000000   \n",
              "\n",
              "       Item_Outlet_Sales  \n",
              "count        8523.000000  \n",
              "mean         2181.288914  \n",
              "std          1706.499616  \n",
              "min            33.290000  \n",
              "25%           834.247400  \n",
              "50%          1794.331000  \n",
              "75%          3101.296400  \n",
              "max         13086.964800  "
            ],
            "text/html": [
              "\n",
              "  <div id=\"df-93697669-4554-4fd2-992e-dc68807f721a\" class=\"colab-df-container\">\n",
              "    <div>\n",
              "<style scoped>\n",
              "    .dataframe tbody tr th:only-of-type {\n",
              "        vertical-align: middle;\n",
              "    }\n",
              "\n",
              "    .dataframe tbody tr th {\n",
              "        vertical-align: top;\n",
              "    }\n",
              "\n",
              "    .dataframe thead th {\n",
              "        text-align: right;\n",
              "    }\n",
              "</style>\n",
              "<table border=\"1\" class=\"dataframe\">\n",
              "  <thead>\n",
              "    <tr style=\"text-align: right;\">\n",
              "      <th></th>\n",
              "      <th>Item_Weight</th>\n",
              "      <th>Item_Visibility</th>\n",
              "      <th>Item_MRP</th>\n",
              "      <th>Outlet_Establishment_Year</th>\n",
              "      <th>Item_Outlet_Sales</th>\n",
              "    </tr>\n",
              "  </thead>\n",
              "  <tbody>\n",
              "    <tr>\n",
              "      <th>count</th>\n",
              "      <td>7060.000000</td>\n",
              "      <td>8523.000000</td>\n",
              "      <td>8523.000000</td>\n",
              "      <td>8523.000000</td>\n",
              "      <td>8523.000000</td>\n",
              "    </tr>\n",
              "    <tr>\n",
              "      <th>mean</th>\n",
              "      <td>12.857645</td>\n",
              "      <td>0.066132</td>\n",
              "      <td>140.992782</td>\n",
              "      <td>1997.831867</td>\n",
              "      <td>2181.288914</td>\n",
              "    </tr>\n",
              "    <tr>\n",
              "      <th>std</th>\n",
              "      <td>4.643456</td>\n",
              "      <td>0.051598</td>\n",
              "      <td>62.275067</td>\n",
              "      <td>8.371760</td>\n",
              "      <td>1706.499616</td>\n",
              "    </tr>\n",
              "    <tr>\n",
              "      <th>min</th>\n",
              "      <td>4.555000</td>\n",
              "      <td>0.000000</td>\n",
              "      <td>31.290000</td>\n",
              "      <td>1985.000000</td>\n",
              "      <td>33.290000</td>\n",
              "    </tr>\n",
              "    <tr>\n",
              "      <th>25%</th>\n",
              "      <td>8.773750</td>\n",
              "      <td>0.026989</td>\n",
              "      <td>93.826500</td>\n",
              "      <td>1987.000000</td>\n",
              "      <td>834.247400</td>\n",
              "    </tr>\n",
              "    <tr>\n",
              "      <th>50%</th>\n",
              "      <td>12.600000</td>\n",
              "      <td>0.053931</td>\n",
              "      <td>143.012800</td>\n",
              "      <td>1999.000000</td>\n",
              "      <td>1794.331000</td>\n",
              "    </tr>\n",
              "    <tr>\n",
              "      <th>75%</th>\n",
              "      <td>16.850000</td>\n",
              "      <td>0.094585</td>\n",
              "      <td>185.643700</td>\n",
              "      <td>2004.000000</td>\n",
              "      <td>3101.296400</td>\n",
              "    </tr>\n",
              "    <tr>\n",
              "      <th>max</th>\n",
              "      <td>21.350000</td>\n",
              "      <td>0.328391</td>\n",
              "      <td>266.888400</td>\n",
              "      <td>2009.000000</td>\n",
              "      <td>13086.964800</td>\n",
              "    </tr>\n",
              "  </tbody>\n",
              "</table>\n",
              "</div>\n",
              "    <div class=\"colab-df-buttons\">\n",
              "\n",
              "  <div class=\"colab-df-container\">\n",
              "    <button class=\"colab-df-convert\" onclick=\"convertToInteractive('df-93697669-4554-4fd2-992e-dc68807f721a')\"\n",
              "            title=\"Convert this dataframe to an interactive table.\"\n",
              "            style=\"display:none;\">\n",
              "\n",
              "  <svg xmlns=\"http://www.w3.org/2000/svg\" height=\"24px\" viewBox=\"0 -960 960 960\">\n",
              "    <path d=\"M120-120v-720h720v720H120Zm60-500h600v-160H180v160Zm220 220h160v-160H400v160Zm0 220h160v-160H400v160ZM180-400h160v-160H180v160Zm440 0h160v-160H620v160ZM180-180h160v-160H180v160Zm440 0h160v-160H620v160Z\"/>\n",
              "  </svg>\n",
              "    </button>\n",
              "\n",
              "  <style>\n",
              "    .colab-df-container {\n",
              "      display:flex;\n",
              "      gap: 12px;\n",
              "    }\n",
              "\n",
              "    .colab-df-convert {\n",
              "      background-color: #E8F0FE;\n",
              "      border: none;\n",
              "      border-radius: 50%;\n",
              "      cursor: pointer;\n",
              "      display: none;\n",
              "      fill: #1967D2;\n",
              "      height: 32px;\n",
              "      padding: 0 0 0 0;\n",
              "      width: 32px;\n",
              "    }\n",
              "\n",
              "    .colab-df-convert:hover {\n",
              "      background-color: #E2EBFA;\n",
              "      box-shadow: 0px 1px 2px rgba(60, 64, 67, 0.3), 0px 1px 3px 1px rgba(60, 64, 67, 0.15);\n",
              "      fill: #174EA6;\n",
              "    }\n",
              "\n",
              "    .colab-df-buttons div {\n",
              "      margin-bottom: 4px;\n",
              "    }\n",
              "\n",
              "    [theme=dark] .colab-df-convert {\n",
              "      background-color: #3B4455;\n",
              "      fill: #D2E3FC;\n",
              "    }\n",
              "\n",
              "    [theme=dark] .colab-df-convert:hover {\n",
              "      background-color: #434B5C;\n",
              "      box-shadow: 0px 1px 3px 1px rgba(0, 0, 0, 0.15);\n",
              "      filter: drop-shadow(0px 1px 2px rgba(0, 0, 0, 0.3));\n",
              "      fill: #FFFFFF;\n",
              "    }\n",
              "  </style>\n",
              "\n",
              "    <script>\n",
              "      const buttonEl =\n",
              "        document.querySelector('#df-93697669-4554-4fd2-992e-dc68807f721a button.colab-df-convert');\n",
              "      buttonEl.style.display =\n",
              "        google.colab.kernel.accessAllowed ? 'block' : 'none';\n",
              "\n",
              "      async function convertToInteractive(key) {\n",
              "        const element = document.querySelector('#df-93697669-4554-4fd2-992e-dc68807f721a');\n",
              "        const dataTable =\n",
              "          await google.colab.kernel.invokeFunction('convertToInteractive',\n",
              "                                                    [key], {});\n",
              "        if (!dataTable) return;\n",
              "\n",
              "        const docLinkHtml = 'Like what you see? Visit the ' +\n",
              "          '<a target=\"_blank\" href=https://colab.research.google.com/notebooks/data_table.ipynb>data table notebook</a>'\n",
              "          + ' to learn more about interactive tables.';\n",
              "        element.innerHTML = '';\n",
              "        dataTable['output_type'] = 'display_data';\n",
              "        await google.colab.output.renderOutput(dataTable, element);\n",
              "        const docLink = document.createElement('div');\n",
              "        docLink.innerHTML = docLinkHtml;\n",
              "        element.appendChild(docLink);\n",
              "      }\n",
              "    </script>\n",
              "  </div>\n",
              "\n",
              "\n",
              "<div id=\"df-07d241c6-bee3-47c2-8a61-65be37cb6a8a\">\n",
              "  <button class=\"colab-df-quickchart\" onclick=\"quickchart('df-07d241c6-bee3-47c2-8a61-65be37cb6a8a')\"\n",
              "            title=\"Suggest charts.\"\n",
              "            style=\"display:none;\">\n",
              "\n",
              "<svg xmlns=\"http://www.w3.org/2000/svg\" height=\"24px\"viewBox=\"0 0 24 24\"\n",
              "     width=\"24px\">\n",
              "    <g>\n",
              "        <path d=\"M19 3H5c-1.1 0-2 .9-2 2v14c0 1.1.9 2 2 2h14c1.1 0 2-.9 2-2V5c0-1.1-.9-2-2-2zM9 17H7v-7h2v7zm4 0h-2V7h2v10zm4 0h-2v-4h2v4z\"/>\n",
              "    </g>\n",
              "</svg>\n",
              "  </button>\n",
              "\n",
              "<style>\n",
              "  .colab-df-quickchart {\n",
              "      --bg-color: #E8F0FE;\n",
              "      --fill-color: #1967D2;\n",
              "      --hover-bg-color: #E2EBFA;\n",
              "      --hover-fill-color: #174EA6;\n",
              "      --disabled-fill-color: #AAA;\n",
              "      --disabled-bg-color: #DDD;\n",
              "  }\n",
              "\n",
              "  [theme=dark] .colab-df-quickchart {\n",
              "      --bg-color: #3B4455;\n",
              "      --fill-color: #D2E3FC;\n",
              "      --hover-bg-color: #434B5C;\n",
              "      --hover-fill-color: #FFFFFF;\n",
              "      --disabled-bg-color: #3B4455;\n",
              "      --disabled-fill-color: #666;\n",
              "  }\n",
              "\n",
              "  .colab-df-quickchart {\n",
              "    background-color: var(--bg-color);\n",
              "    border: none;\n",
              "    border-radius: 50%;\n",
              "    cursor: pointer;\n",
              "    display: none;\n",
              "    fill: var(--fill-color);\n",
              "    height: 32px;\n",
              "    padding: 0;\n",
              "    width: 32px;\n",
              "  }\n",
              "\n",
              "  .colab-df-quickchart:hover {\n",
              "    background-color: var(--hover-bg-color);\n",
              "    box-shadow: 0 1px 2px rgba(60, 64, 67, 0.3), 0 1px 3px 1px rgba(60, 64, 67, 0.15);\n",
              "    fill: var(--button-hover-fill-color);\n",
              "  }\n",
              "\n",
              "  .colab-df-quickchart-complete:disabled,\n",
              "  .colab-df-quickchart-complete:disabled:hover {\n",
              "    background-color: var(--disabled-bg-color);\n",
              "    fill: var(--disabled-fill-color);\n",
              "    box-shadow: none;\n",
              "  }\n",
              "\n",
              "  .colab-df-spinner {\n",
              "    border: 2px solid var(--fill-color);\n",
              "    border-color: transparent;\n",
              "    border-bottom-color: var(--fill-color);\n",
              "    animation:\n",
              "      spin 1s steps(1) infinite;\n",
              "  }\n",
              "\n",
              "  @keyframes spin {\n",
              "    0% {\n",
              "      border-color: transparent;\n",
              "      border-bottom-color: var(--fill-color);\n",
              "      border-left-color: var(--fill-color);\n",
              "    }\n",
              "    20% {\n",
              "      border-color: transparent;\n",
              "      border-left-color: var(--fill-color);\n",
              "      border-top-color: var(--fill-color);\n",
              "    }\n",
              "    30% {\n",
              "      border-color: transparent;\n",
              "      border-left-color: var(--fill-color);\n",
              "      border-top-color: var(--fill-color);\n",
              "      border-right-color: var(--fill-color);\n",
              "    }\n",
              "    40% {\n",
              "      border-color: transparent;\n",
              "      border-right-color: var(--fill-color);\n",
              "      border-top-color: var(--fill-color);\n",
              "    }\n",
              "    60% {\n",
              "      border-color: transparent;\n",
              "      border-right-color: var(--fill-color);\n",
              "    }\n",
              "    80% {\n",
              "      border-color: transparent;\n",
              "      border-right-color: var(--fill-color);\n",
              "      border-bottom-color: var(--fill-color);\n",
              "    }\n",
              "    90% {\n",
              "      border-color: transparent;\n",
              "      border-bottom-color: var(--fill-color);\n",
              "    }\n",
              "  }\n",
              "</style>\n",
              "\n",
              "  <script>\n",
              "    async function quickchart(key) {\n",
              "      const quickchartButtonEl =\n",
              "        document.querySelector('#' + key + ' button');\n",
              "      quickchartButtonEl.disabled = true;  // To prevent multiple clicks.\n",
              "      quickchartButtonEl.classList.add('colab-df-spinner');\n",
              "      try {\n",
              "        const charts = await google.colab.kernel.invokeFunction(\n",
              "            'suggestCharts', [key], {});\n",
              "      } catch (error) {\n",
              "        console.error('Error during call to suggestCharts:', error);\n",
              "      }\n",
              "      quickchartButtonEl.classList.remove('colab-df-spinner');\n",
              "      quickchartButtonEl.classList.add('colab-df-quickchart-complete');\n",
              "    }\n",
              "    (() => {\n",
              "      let quickchartButtonEl =\n",
              "        document.querySelector('#df-07d241c6-bee3-47c2-8a61-65be37cb6a8a button');\n",
              "      quickchartButtonEl.style.display =\n",
              "        google.colab.kernel.accessAllowed ? 'block' : 'none';\n",
              "    })();\n",
              "  </script>\n",
              "</div>\n",
              "    </div>\n",
              "  </div>\n"
            ]
          },
          "metadata": {},
          "execution_count": 10
        }
      ]
    },
    {
      "cell_type": "code",
      "source": [
        "# check for values of dtypes == object\n",
        "\n",
        "dtypes = df.dtypes\n",
        "\n",
        "object_cols = dtypes[dtypes == 'object'].index\n",
        "object_cols"
      ],
      "metadata": {
        "colab": {
          "base_uri": "https://localhost:8080/"
        },
        "id": "m9PzVwMO6V1U",
        "outputId": "fa184ff6-52d5-45bb-8057-c74714a3b202"
      },
      "execution_count": 11,
      "outputs": [
        {
          "output_type": "execute_result",
          "data": {
            "text/plain": [
              "Index(['Item_Identifier', 'Item_Fat_Content', 'Item_Type', 'Outlet_Identifier',\n",
              "       'Outlet_Size', 'Outlet_Location_Type', 'Outlet_Type'],\n",
              "      dtype='object')"
            ]
          },
          "metadata": {},
          "execution_count": 11
        }
      ]
    },
    {
      "cell_type": "code",
      "source": [
        "# check the values in each object columns using for loop to check any inconsistencies and value counts\n",
        "\n",
        "for cols in object_cols:\n",
        "  print(f'Column = {cols}')\n",
        "  print(df[cols].value_counts(dropna = False))\n",
        "  print('\\n')\n",
        "\n",
        "# Item_Weight and Outlet_Size value counts to check which method to use in filling in missing values\n",
        "# There are irregularity or inconsitency in the column 'Item_Fat_Content'\n",
        "# We should replace 'LF' and 'low fat' with 'Low Fat'\n",
        "# We should also replace 'reg' with 'Regular'"
      ],
      "metadata": {
        "colab": {
          "base_uri": "https://localhost:8080/"
        },
        "id": "4Yxw2x6Q6jL4",
        "outputId": "8d6b244c-1636-4f84-8b09-1c1dd4e58724"
      },
      "execution_count": 12,
      "outputs": [
        {
          "output_type": "stream",
          "name": "stdout",
          "text": [
            "Column = Item_Identifier\n",
            "FDW13    10\n",
            "FDG33    10\n",
            "NCY18     9\n",
            "FDD38     9\n",
            "DRE49     9\n",
            "         ..\n",
            "FDY43     1\n",
            "FDQ60     1\n",
            "FDO33     1\n",
            "DRF48     1\n",
            "FDC23     1\n",
            "Name: Item_Identifier, Length: 1559, dtype: int64\n",
            "\n",
            "\n",
            "Column = Item_Fat_Content\n",
            "Low Fat    5089\n",
            "Regular    2889\n",
            "LF          316\n",
            "reg         117\n",
            "low fat     112\n",
            "Name: Item_Fat_Content, dtype: int64\n",
            "\n",
            "\n",
            "Column = Item_Type\n",
            "Fruits and Vegetables    1232\n",
            "Snack Foods              1200\n",
            "Household                 910\n",
            "Frozen Foods              856\n",
            "Dairy                     682\n",
            "Canned                    649\n",
            "Baking Goods              648\n",
            "Health and Hygiene        520\n",
            "Soft Drinks               445\n",
            "Meat                      425\n",
            "Breads                    251\n",
            "Hard Drinks               214\n",
            "Others                    169\n",
            "Starchy Foods             148\n",
            "Breakfast                 110\n",
            "Seafood                    64\n",
            "Name: Item_Type, dtype: int64\n",
            "\n",
            "\n",
            "Column = Outlet_Identifier\n",
            "OUT027    935\n",
            "OUT013    932\n",
            "OUT049    930\n",
            "OUT046    930\n",
            "OUT035    930\n",
            "OUT045    929\n",
            "OUT018    928\n",
            "OUT017    926\n",
            "OUT010    555\n",
            "OUT019    528\n",
            "Name: Outlet_Identifier, dtype: int64\n",
            "\n",
            "\n",
            "Column = Outlet_Size\n",
            "Medium    2793\n",
            "NaN       2410\n",
            "Small     2388\n",
            "High       932\n",
            "Name: Outlet_Size, dtype: int64\n",
            "\n",
            "\n",
            "Column = Outlet_Location_Type\n",
            "Tier 3    3350\n",
            "Tier 2    2785\n",
            "Tier 1    2388\n",
            "Name: Outlet_Location_Type, dtype: int64\n",
            "\n",
            "\n",
            "Column = Outlet_Type\n",
            "Supermarket Type1    5577\n",
            "Grocery Store        1083\n",
            "Supermarket Type3     935\n",
            "Supermarket Type2     928\n",
            "Name: Outlet_Type, dtype: int64\n",
            "\n",
            "\n"
          ]
        }
      ]
    },
    {
      "cell_type": "code",
      "source": [
        "# check for values of dtypes == float\n",
        "\n",
        "dtypes = df.dtypes\n",
        "\n",
        "number_cols = dtypes[dtypes == 'float'].index\n",
        "number_cols"
      ],
      "metadata": {
        "colab": {
          "base_uri": "https://localhost:8080/"
        },
        "id": "ifp94etJ7Oyv",
        "outputId": "65f16bcf-ea36-40ce-dd8c-a2e784187500"
      },
      "execution_count": 13,
      "outputs": [
        {
          "output_type": "execute_result",
          "data": {
            "text/plain": [
              "Index(['Item_Weight', 'Item_Visibility', 'Item_MRP', 'Item_Outlet_Sales'], dtype='object')"
            ]
          },
          "metadata": {},
          "execution_count": 13
        }
      ]
    },
    {
      "cell_type": "code",
      "source": [
        "# check the values in each float columns using for loop\n",
        "\n",
        "for num_cols in number_cols:\n",
        "  print(f'Column = {num_cols}')\n",
        "  print(df[num_cols].value_counts(dropna = False))\n",
        "  print('\\n')\n",
        "\n",
        "\n",
        "# to check the mode of 'Item_Weight' which has missing values\n",
        "# 12.15 is the Item_Weight which has the most frequent occurences (mode)"
      ],
      "metadata": {
        "colab": {
          "base_uri": "https://localhost:8080/"
        },
        "id": "hQOcRN9L7xuG",
        "outputId": "8490fa6d-e5cd-4f43-ed5c-8f3a62dc9a14"
      },
      "execution_count": 14,
      "outputs": [
        {
          "output_type": "stream",
          "name": "stdout",
          "text": [
            "Column = Item_Weight\n",
            "NaN       1463\n",
            "12.150      86\n",
            "17.600      82\n",
            "13.650      77\n",
            "11.800      76\n",
            "          ... \n",
            "7.275        2\n",
            "7.685        1\n",
            "9.420        1\n",
            "6.520        1\n",
            "5.400        1\n",
            "Name: Item_Weight, Length: 416, dtype: int64\n",
            "\n",
            "\n",
            "Column = Item_Visibility\n",
            "0.000000    526\n",
            "0.076975      3\n",
            "0.162462      2\n",
            "0.076841      2\n",
            "0.073562      2\n",
            "           ... \n",
            "0.013957      1\n",
            "0.110460      1\n",
            "0.124646      1\n",
            "0.054142      1\n",
            "0.044878      1\n",
            "Name: Item_Visibility, Length: 7880, dtype: int64\n",
            "\n",
            "\n",
            "Column = Item_MRP\n",
            "172.0422    7\n",
            "170.5422    6\n",
            "196.5084    6\n",
            "188.1872    6\n",
            "142.0154    6\n",
            "           ..\n",
            "97.3384     1\n",
            "83.1934     1\n",
            "96.6752     1\n",
            "152.6682    1\n",
            "75.4670     1\n",
            "Name: Item_MRP, Length: 5938, dtype: int64\n",
            "\n",
            "\n",
            "Column = Item_Outlet_Sales\n",
            "958.7520     17\n",
            "1342.2528    16\n",
            "703.0848     15\n",
            "1845.5976    15\n",
            "1278.3360    14\n",
            "             ..\n",
            "4124.6310     1\n",
            "6622.7126     1\n",
            "1614.5650     1\n",
            "5602.7070     1\n",
            "2778.3834     1\n",
            "Name: Item_Outlet_Sales, Length: 3493, dtype: int64\n",
            "\n",
            "\n"
          ]
        }
      ]
    },
    {
      "cell_type": "code",
      "source": [
        "# check for values of dtypes == int\n",
        "\n",
        "dtypes = df.dtypes\n",
        "\n",
        "est_year_col = dtypes[dtypes == 'int'].index\n",
        "est_year_col\n",
        "\n",
        "# We can convert this column from int to datetime"
      ],
      "metadata": {
        "colab": {
          "base_uri": "https://localhost:8080/"
        },
        "id": "1LSWyuMA7kOe",
        "outputId": "8b5c61ac-17f9-421e-ea4c-b2cac9ade032"
      },
      "execution_count": 15,
      "outputs": [
        {
          "output_type": "execute_result",
          "data": {
            "text/plain": [
              "Index(['Outlet_Establishment_Year'], dtype='object')"
            ]
          },
          "metadata": {},
          "execution_count": 15
        }
      ]
    },
    {
      "cell_type": "code",
      "source": [
        "# check the values in each int columns using for loop\n",
        "# replace dtype\n",
        "for year_col in est_year_col:\n",
        "  print(f'Column = {year_col}')\n",
        "  print(df[year_col].value_counts(dropna = False))\n",
        "\n",
        "\n",
        "# no inconsistency under the Column 'Outlet_Establishment_Year'"
      ],
      "metadata": {
        "colab": {
          "base_uri": "https://localhost:8080/"
        },
        "id": "o3YsKOo38Ics",
        "outputId": "5d83c17f-c27c-451d-c0d3-7e295cdee9d8"
      },
      "execution_count": 16,
      "outputs": [
        {
          "output_type": "stream",
          "name": "stdout",
          "text": [
            "Column = Outlet_Establishment_Year\n",
            "1985    1463\n",
            "1987     932\n",
            "1999     930\n",
            "1997     930\n",
            "2004     930\n",
            "2002     929\n",
            "2009     928\n",
            "2007     926\n",
            "1998     555\n",
            "Name: Outlet_Establishment_Year, dtype: int64\n"
          ]
        }
      ]
    },
    {
      "cell_type": "markdown",
      "source": [
        "# EDA Results"
      ],
      "metadata": {
        "id": "mvhjDsrJM4xi"
      }
    },
    {
      "cell_type": "markdown",
      "source": [
        "There are missing values for columns: Item_Weight (1463), Outlet_Size (2410).\n",
        "\n",
        "There are inconsistent or irregularity in 'Item_Fat_Content' column.\n",
        "\n",
        "We should change the datatype of Outlet_Establishment_Year from int to datetime."
      ],
      "metadata": {
        "id": "nHpdMMqBP5Yw"
      }
    },
    {
      "cell_type": "markdown",
      "source": [
        "# Data Cleaning"
      ],
      "metadata": {
        "id": "PI_z7UwB6s3I"
      }
    },
    {
      "cell_type": "markdown",
      "source": [
        "#### Fill the missing values"
      ],
      "metadata": {
        "id": "WCnMYf11N-QL"
      }
    },
    {
      "cell_type": "code",
      "source": [
        "# Imputing Missing Data Using sklearn (sklearn simple imputation has algorithm)\n",
        "\n",
        "\n",
        "df['Item_Weight'].fillna(12.150, inplace=True)\n",
        "# df['Item_Weight'].fillna(12.857645, inplace=True)\n",
        "\n",
        "\n",
        "# For 'Item_Weight', the mean (12.85) is slightly higher than the mode (12.15)\n",
        "# Will use the mode to fill the missing values (comprised 17% of total, derived using count of missing/total rows) #########\n",
        "# Will use the mean to fill the missing values (comprised 17% of total, derived using count of missing/total rows)\n",
        "# The 17% missing values under 'Item_Weight' should be imputed (dropping them is not advisable)\n"
      ],
      "metadata": {
        "id": "6Dfc1Na1CFZg"
      },
      "execution_count": 17,
      "outputs": []
    },
    {
      "cell_type": "code",
      "source": [
        "# Under 'Outlet_Size' column, total missing values is 2,410 (28% of total)\n",
        "\n",
        "# Medium    2793\n",
        "# NaN       2410\n",
        "# Small     2388\n",
        "# High       932\n",
        "\n",
        "df['Outlet_Size'].fillna('Medium', inplace = True)\n",
        "\n",
        "# The most frequent value under 'Outlet_Size' is medium which consist of 2,793 (33% of total)\n",
        "# The next most frequesnt value is Small, which consist of 2,388 (28% of total)\n",
        "# The item which has least occurence is High which consist of 932 (11% of total)\n",
        "# We can use the mode (most frequent value) to fill the missing values for categorical data"
      ],
      "metadata": {
        "id": "MhcI7YXFGVJe"
      },
      "execution_count": 18,
      "outputs": []
    },
    {
      "cell_type": "code",
      "source": [
        "# check if again if there are still missing values\n",
        "\n",
        "df.isna().sum()\n",
        "\n",
        "# After simple imputation (filling in the 'Item_Weight' with average weight), there are no more missing values\n",
        "# After simple imputation (filling in the 'Outlet_Size' with Medium, which has most frequent occurences), there are no more missing values"
      ],
      "metadata": {
        "colab": {
          "base_uri": "https://localhost:8080/"
        },
        "id": "AYuMNQ0KHJLk",
        "outputId": "150bb0a5-41f9-4377-b11d-35ec4d6dfa78"
      },
      "execution_count": 19,
      "outputs": [
        {
          "output_type": "execute_result",
          "data": {
            "text/plain": [
              "Item_Identifier              0\n",
              "Item_Weight                  0\n",
              "Item_Fat_Content             0\n",
              "Item_Visibility              0\n",
              "Item_Type                    0\n",
              "Item_MRP                     0\n",
              "Outlet_Identifier            0\n",
              "Outlet_Establishment_Year    0\n",
              "Outlet_Size                  0\n",
              "Outlet_Location_Type         0\n",
              "Outlet_Type                  0\n",
              "Item_Outlet_Sales            0\n",
              "dtype: int64"
            ]
          },
          "metadata": {},
          "execution_count": 19
        }
      ]
    },
    {
      "cell_type": "markdown",
      "source": [
        "#### Fix the inconsistent data under 'Item_Fat_Content'"
      ],
      "metadata": {
        "id": "m3w-0-99NvcN"
      }
    },
    {
      "cell_type": "code",
      "source": [
        "# There are irregularity or inconsitency in the column 'Item_Fat_Content'\n",
        "\n",
        "df['Item_Fat_Content'].replace('LF', 'Low Fat', inplace=True)\n",
        "\n",
        "# We should replace 'LF' and 'low fat' with 'Low Fat'"
      ],
      "metadata": {
        "id": "h6LC9XZ0ORRP"
      },
      "execution_count": 20,
      "outputs": []
    },
    {
      "cell_type": "code",
      "source": [
        "# We should replace 'low fat' with 'Low Fat'\n",
        "\n",
        "df['Item_Fat_Content'].replace('low fat', 'Low Fat', inplace=True)"
      ],
      "metadata": {
        "id": "tfT1Nq9-OsSU"
      },
      "execution_count": 21,
      "outputs": []
    },
    {
      "cell_type": "code",
      "source": [
        "# We should also replace 'reg' with 'Regular'\n",
        "\n",
        "df['Item_Fat_Content'].replace('reg', 'Regular', inplace=True)\n",
        "\n",
        "# check corrections on 'Item_Fat_Content'\n",
        "\n",
        "df['Item_Fat_Content'].value_counts()"
      ],
      "metadata": {
        "colab": {
          "base_uri": "https://localhost:8080/"
        },
        "id": "R1uGJMSCOwp-",
        "outputId": "93e8ced2-3333-43ab-b000-6376c57a0b87"
      },
      "execution_count": 22,
      "outputs": [
        {
          "output_type": "execute_result",
          "data": {
            "text/plain": [
              "Low Fat    5517\n",
              "Regular    3006\n",
              "Name: Item_Fat_Content, dtype: int64"
            ]
          },
          "metadata": {},
          "execution_count": 22
        }
      ]
    },
    {
      "cell_type": "markdown",
      "source": [
        "#### Change the 'Outlet_Establishment_Year' datatype from int to datetime"
      ],
      "metadata": {
        "id": "cOO6o2BeOFQn"
      }
    },
    {
      "cell_type": "code",
      "source": [
        "# change date to datatype\n",
        "\n",
        "df['Outlet_Establishment_Year'] = pd.to_datetime(df['Outlet_Establishment_Year'])\n",
        "\n",
        "# check corrections on date datatype\n",
        "\n",
        "df.info()"
      ],
      "metadata": {
        "colab": {
          "base_uri": "https://localhost:8080/"
        },
        "id": "4Mc8vh-4PDP_",
        "outputId": "cab627ea-4e1c-4831-df2e-074e97938369"
      },
      "execution_count": 23,
      "outputs": [
        {
          "output_type": "stream",
          "name": "stdout",
          "text": [
            "<class 'pandas.core.frame.DataFrame'>\n",
            "RangeIndex: 8523 entries, 0 to 8522\n",
            "Data columns (total 12 columns):\n",
            " #   Column                     Non-Null Count  Dtype         \n",
            "---  ------                     --------------  -----         \n",
            " 0   Item_Identifier            8523 non-null   object        \n",
            " 1   Item_Weight                8523 non-null   float64       \n",
            " 2   Item_Fat_Content           8523 non-null   object        \n",
            " 3   Item_Visibility            8523 non-null   float64       \n",
            " 4   Item_Type                  8523 non-null   object        \n",
            " 5   Item_MRP                   8523 non-null   float64       \n",
            " 6   Outlet_Identifier          8523 non-null   object        \n",
            " 7   Outlet_Establishment_Year  8523 non-null   datetime64[ns]\n",
            " 8   Outlet_Size                8523 non-null   object        \n",
            " 9   Outlet_Location_Type       8523 non-null   object        \n",
            " 10  Outlet_Type                8523 non-null   object        \n",
            " 11  Item_Outlet_Sales          8523 non-null   float64       \n",
            "dtypes: datetime64[ns](1), float64(4), object(7)\n",
            "memory usage: 799.2+ KB\n"
          ]
        }
      ]
    },
    {
      "cell_type": "markdown",
      "source": [
        "# Data Visualization"
      ],
      "metadata": {
        "id": "zRVfUPap6BT2"
      }
    },
    {
      "cell_type": "markdown",
      "source": [
        "## Univariate Exploratory Visualization"
      ],
      "metadata": {
        "id": "Xs0Xcw5Z620o"
      }
    },
    {
      "cell_type": "code",
      "source": [
        "import matplotlib.pyplot as plt\n",
        "import seaborn as sns"
      ],
      "metadata": {
        "id": "h27XTWqm8dbT"
      },
      "execution_count": 24,
      "outputs": []
    },
    {
      "cell_type": "code",
      "source": [
        "# Histogram of Average Outlet Sales\n",
        "\n",
        "## Make a larger fig/ax before plotting\n",
        "fig, ax = plt.subplots(figsize = (10, 5))\n",
        "\n",
        "## Plot histogram\n",
        "sns.histplot(data=df, x=round(df['Item_Outlet_Sales']), ax=ax)\n",
        "ax.set(title=\"Average Outlet Sales Distribution\")\n",
        "\n",
        "## Annotating mean and median\n",
        "mean_sales = df['Item_Outlet_Sales'].mean()\n",
        "ax.axvline(mean_sales,\n",
        "           color='slategray',\n",
        "           ls='--',\n",
        "           label=f\"Mean = ${mean_sales:,.2f}\")\n",
        "\n",
        "med_sales = df['Item_Outlet_Sales'].median()\n",
        "ax.axvline(med_sales,\n",
        "           color='skyblue',\n",
        "           ls='--',\n",
        "           label=f\"Median = ${med_sales:,.2f}\")\n",
        "\n",
        "# Labels and Legend\n",
        "ax.set(xlabel=\"Sales ($)\")\n",
        "ax.legend();\n",
        "\n",
        "fig;"
      ],
      "metadata": {
        "colab": {
          "base_uri": "https://localhost:8080/",
          "height": 487
        },
        "id": "qopfhLSR8K0a",
        "outputId": "ff129a38-dbbd-43c1-e72b-37352d67ee27"
      },
      "execution_count": 25,
      "outputs": [
        {
          "output_type": "display_data",
          "data": {
            "text/plain": [
              "<Figure size 1000x500 with 1 Axes>"
            ],
            "image/png": "[encoded data removed]"
          },
          "metadata": {}
        }
      ]
    },
    {
      "cell_type": "markdown",
      "source": [
        "The data suggest that the distribution of average outlet sales is positively skewed. The mean ($2,181.29) is greater than 0, the hump is on the left while it has a long tail on the right.\n",
        "\n",
        "The concentration of average outlet sales is in the 75th percentile (Q3) - middle value between median and the highest value of dataset.\n",
        "\n",
        "There are several outliers after the max of value of dataset as shown by its long tail."
      ],
      "metadata": {
        "id": "JzHIbahd9Ro7"
      }
    },
    {
      "cell_type": "code",
      "source": [
        "# Histogram of Item_MRP (Maximum Retail Price)\n",
        "\n",
        "## Make a larger fig/ax before plotting\n",
        "fig, ax = plt.subplots(figsize = (10, 5))\n",
        "\n",
        "## Plot histogram\n",
        "sns.histplot(data=df, x=round(df['Item_MRP']), ax=ax)\n",
        "ax.set(title=\"Average MRP Distribution\")\n",
        "\n",
        "## Annotating mean and median\n",
        "mean_mrp = df['Item_MRP'].mean()\n",
        "ax.axvline(mean_mrp,\n",
        "           color='slategray',\n",
        "           ls='--',\n",
        "           label=f\"Mean = ${mean_mrp:,.2f}\")\n",
        "\n",
        "med_mrp = df['Item_MRP'].median()\n",
        "ax.axvline(med_mrp,\n",
        "           color='skyblue',\n",
        "           ls='--',\n",
        "           label=f\"Median = ${med_mrp:,.2f}\")\n",
        "\n",
        "# Labels and Legend\n",
        "ax.set(xlabel=\"Maximum Retail Price ($)\")\n",
        "ax.legend();\n",
        "\n",
        "fig;"
      ],
      "metadata": {
        "colab": {
          "base_uri": "https://localhost:8080/",
          "height": 487
        },
        "id": "kzQoPZTh_Jh5",
        "outputId": "6cd19e6a-c62b-447f-a8b0-6650a10490b5"
      },
      "execution_count": 26,
      "outputs": [
        {
          "output_type": "display_data",
          "data": {
            "text/plain": [
              "<Figure size 1000x500 with 1 Axes>"
            ],
            "image/png": "[encoded data removed]"
          },
          "metadata": {}
        }
      ]
    },
    {
      "cell_type": "markdown",
      "source": [
        "The data suggest that average MRP has a normal distribution. The data is symmetric and has no skew. Average MRP is close to the middle value of the dataset.\n",
        "\n",
        "The concentration is at the mean; cluster of data points toward the middle of the range.\n",
        "\n",
        "There are no outliers (no data points outside the horizonal black line (min and max of dataset)."
      ],
      "metadata": {
        "id": "0BR27Z-FDCgo"
      }
    },
    {
      "cell_type": "code",
      "source": [
        "# seaborn\n",
        "# Create figure\n",
        "fig, ax = plt.subplots(figsize=(10, 5))\n",
        "\n",
        "# Set the title\n",
        "ax.set_title('Average Sales ($)', fontsize=14)\n",
        "\n",
        "# Label and Notch\n",
        "sns.boxplot(data = df,\n",
        "            x = 'Item_Outlet_Sales',\n",
        "            notch = True,\n",
        "            medianprops=dict(linestyle='-',\n",
        "            linewidth=2,\n",
        "            color='Yellow'));"
      ],
      "metadata": {
        "colab": {
          "base_uri": "https://localhost:8080/",
          "height": 488
        },
        "id": "VSCb0DhnOORx",
        "outputId": "b16fe9ce-78ab-4ffd-a1aa-12a99147d4ee"
      },
      "execution_count": 27,
      "outputs": [
        {
          "output_type": "display_data",
          "data": {
            "text/plain": [
              "<Figure size 1000x500 with 1 Axes>"
            ],
            "image/png": "[encoded data removed]"
          },
          "metadata": {}
        }
      ]
    },
    {
      "cell_type": "markdown",
      "source": [
        "The data suggest that the distribution for outlet sales is positively skewed. The mean is greater than 0, hump is on the left while the tail extends to the right.\n",
        "\n",
        "There are also several outliers as shown by data points outside the maximum value of the dataset."
      ],
      "metadata": {
        "id": "CcYp7bWJO6LV"
      }
    },
    {
      "cell_type": "code",
      "source": [
        "# heatmap\n",
        "# create a var and drop ReAdmis is this was id to be irrelevant\n",
        "corr = df.drop(columns = 'Item_Type').corr()\n",
        "\n",
        "# plot the heatmap\n",
        "plt.figure(figsize = (8,5))\n",
        "sns.heatmap(corr, cmap = 'coolwarm', annot = True, fmt = '.2f');\n",
        "\n",
        "# correlation bet features\n",
        "# correlation table\n",
        "# 0.30 - 0.50 = there is a weak + correlation\n",
        "# 0.51 - 0.70 = there is a moderate + correlation\n",
        "# 0.71 - 0.90 = there is a strong + correlation\n",
        "# 0.91 - 1.00 = there is vstrong + correlation (perfect)"
      ],
      "metadata": {
        "colab": {
          "base_uri": "https://localhost:8080/",
          "height": 507
        },
        "id": "TJSIYEQVq4li",
        "outputId": "9a28de51-3d00-4691-cb0f-a79b16e12677"
      },
      "execution_count": 28,
      "outputs": [
        {
          "output_type": "stream",
          "name": "stderr",
          "text": [
            "<ipython-input-28-032342f55c84>:3: FutureWarning: The default value of numeric_only in DataFrame.corr is deprecated. In a future version, it will default to False. Select only valid columns or specify the value of numeric_only to silence this warning.\n",
            "  corr = df.drop(columns = 'Item_Type').corr()\n"
          ]
        },
        {
          "output_type": "display_data",
          "data": {
            "text/plain": [
              "<Figure size 800x500 with 2 Axes>"
            ],
            "image/png": "[encoded data removed]"
          },
          "metadata": {}
        }
      ]
    },
    {
      "cell_type": "markdown",
      "source": [
        "Correlation observations:\n",
        "\n",
        "There is a moderate positive correlation between Item_MRP and Item_Outlet_Sales (0.57)\n",
        "\n",
        "As the maximum retail price (MRP) goes up, sales also goes up; price and quantity are a function of sales so it is rational that they are positively correlated."
      ],
      "metadata": {
        "id": "Qn7V53E_sB8j"
      }
    },
    {
      "cell_type": "markdown",
      "source": [
        "## Multivariate Exploratory Visualization"
      ],
      "metadata": {
        "id": "I2MsATYcPaKs"
      }
    },
    {
      "cell_type": "code",
      "source": [
        "# Seaborn\n",
        "# Create figure\n",
        "fig, ax = plt.subplots(figsize=(9, 6))\n",
        "\n",
        "# Set the title\n",
        "ax.set_title('Average Sales by Outlet Type', fontsize=14)\n",
        "\n",
        "# Labels and Notch\n",
        "sns.boxplot(data = df,\n",
        "            y = 'Outlet_Type',\n",
        "            x = 'Item_Outlet_Sales',\n",
        "            notch = True,\n",
        "            medianprops=dict(linestyle='-',\n",
        "            linewidth=2,\n",
        "            color='Yellow'));\n",
        "\n",
        "plt.show();"
      ],
      "metadata": {
        "colab": {
          "base_uri": "https://localhost:8080/",
          "height": 565
        },
        "id": "g_bNFGv-HhI9",
        "outputId": "0626752a-26b2-4658-9975-7e3823085c09"
      },
      "execution_count": 29,
      "outputs": [
        {
          "output_type": "display_data",
          "data": {
            "text/plain": [
              "<Figure size 900x600 with 1 Axes>"
            ],
            "image/png": "[encoded data removed]"
          },
          "metadata": {}
        }
      ]
    },
    {
      "cell_type": "markdown",
      "source": [
        "The data suggest that the distribution for all outlet type is positively skewed. The mean is greater than 0, hump is on the left while the tail extends to the right.\n",
        "\n",
        "There are also several outliers as shown by data points outside the maximum value of the dataset.\n",
        "\n",
        "Highest sales came from Supermarket 3 as shown by the range of sales generated from that outlet."
      ],
      "metadata": {
        "id": "QxAIJro8oR-H"
      }
    },
    {
      "cell_type": "code",
      "source": [
        "# Creat variable to group average sales by item type\n",
        "\n",
        "avg_item_sales = df.groupby('Item_Type')['Item_Outlet_Sales'].mean()\n",
        "avg_item_sales"
      ],
      "metadata": {
        "colab": {
          "base_uri": "https://localhost:8080/"
        },
        "id": "LX7O4GMoH76y",
        "outputId": "cecf62a8-a39b-4f00-f1c1-00690223bbcd"
      },
      "execution_count": 30,
      "outputs": [
        {
          "output_type": "execute_result",
          "data": {
            "text/plain": [
              "Item_Type\n",
              "Baking Goods             1952.971207\n",
              "Breads                   2204.132226\n",
              "Breakfast                2111.808651\n",
              "Canned                   2225.194904\n",
              "Dairy                    2232.542597\n",
              "Frozen Foods             2132.867744\n",
              "Fruits and Vegetables    2289.009592\n",
              "Hard Drinks              2139.221622\n",
              "Health and Hygiene       2010.000265\n",
              "Household                2258.784300\n",
              "Meat                     2158.977911\n",
              "Others                   1926.139702\n",
              "Seafood                  2326.065928\n",
              "Snack Foods              2277.321739\n",
              "Soft Drinks              2006.511735\n",
              "Starchy Foods            2374.332773\n",
              "Name: Item_Outlet_Sales, dtype: float64"
            ]
          },
          "metadata": {},
          "execution_count": 30
        }
      ]
    },
    {
      "cell_type": "code",
      "source": [
        "# use the variable to sort values by Item Type\n",
        "avg_item_sales = avg_item_sales.sort_values()\n",
        "\n",
        "# Plot the Figure\n",
        "plt.figure(figsize=(10,5))\n",
        "\n",
        "# Horixontal Bar Chart\n",
        "plt.barh(avg_item_sales.index, avg_item_sales.values)\n",
        "\n",
        "# Title and Labels\n",
        "plt.ylabel('Item_Type', fontsize=11)\n",
        "plt.xlabel('Item_Outlet_Sales', fontsize=11)\n",
        "plt.title(\"Average Outlet Sales by Item Type\", fontsize=14)\n",
        "\n",
        "plt.show();"
      ],
      "metadata": {
        "colab": {
          "base_uri": "https://localhost:8080/",
          "height": 490
        },
        "id": "_Iw4EGYqIWdK",
        "outputId": "08be564b-9240-436c-b63b-0f2cedbc363a"
      },
      "execution_count": 31,
      "outputs": [
        {
          "output_type": "display_data",
          "data": {
            "text/plain": [
              "<Figure size 1000x500 with 1 Axes>"
            ],
            "image/png": "[encoded data removed]"
          },
          "metadata": {}
        }
      ]
    },
    {
      "cell_type": "markdown",
      "source": [
        "The data suggest that among the items being sold, Starchy Foods has the highest sales, followed by Seafood and Fruits and Vegetables.\n",
        "\n",
        "Lowest sales came from Other Items, Baking Goods and Soft Drinks."
      ],
      "metadata": {
        "id": "lNUpC87vIwz5"
      }
    },
    {
      "cell_type": "code",
      "source": [
        "# Creat variable to group average sales by outlet type\n",
        "\n",
        "avg_type_sales = df.groupby('Outlet_Type')['Item_Outlet_Sales'].mean()\n",
        "avg_type_sales"
      ],
      "metadata": {
        "colab": {
          "base_uri": "https://localhost:8080/"
        },
        "id": "nuMoCc3AKdX4",
        "outputId": "f60f1251-7889-4bc8-b8df-0166b1343942"
      },
      "execution_count": 32,
      "outputs": [
        {
          "output_type": "execute_result",
          "data": {
            "text/plain": [
              "Outlet_Type\n",
              "Grocery Store         339.828500\n",
              "Supermarket Type1    2316.181148\n",
              "Supermarket Type2    1995.498739\n",
              "Supermarket Type3    3694.038558\n",
              "Name: Item_Outlet_Sales, dtype: float64"
            ]
          },
          "metadata": {},
          "execution_count": 32
        }
      ]
    },
    {
      "cell_type": "code",
      "source": [
        "# use the variable to sort values by Outlet Type\n",
        "avg_type_sales = avg_type_sales.sort_values()\n",
        "\n",
        "# Plot the Figure\n",
        "plt.figure(figsize=(10,2))\n",
        "\n",
        "# Horixontal Bar Chart\n",
        "plt.barh(avg_type_sales.index, avg_type_sales.values)\n",
        "\n",
        "# Title and Labels\n",
        "plt.ylabel('Outlet_Type', fontsize=11)\n",
        "plt.xlabel('Item_Outlet_Sales', fontsize=11)\n",
        "plt.title(\"Average Sales by Outlet Type\", fontsize=14)\n",
        "\n",
        "plt.show();"
      ],
      "metadata": {
        "colab": {
          "base_uri": "https://localhost:8080/",
          "height": 259
        },
        "id": "aKtppUlfKkxf",
        "outputId": "486f5b92-8b50-4984-9c1c-a7387cb3a605"
      },
      "execution_count": 33,
      "outputs": [
        {
          "output_type": "display_data",
          "data": {
            "text/plain": [
              "<Figure size 1000x200 with 1 Axes>"
            ],
            "image/png": "[encoded data removed]"
          },
          "metadata": {}
        }
      ]
    },
    {
      "cell_type": "markdown",
      "source": [
        "The data suggest that among the four outlet types, Supermarket Type 3 generates the highest sales while the least sales-generating is Grocery Store.\n",
        "\n",
        "It is rational that in terms of wide selection of products, Supermarket is bigger in size and higher foot traffic leads to higher sales; hence, more sales are generated in supermarket compared to grocery store."
      ],
      "metadata": {
        "id": "fVt1gNJQHOZS"
      }
    },
    {
      "cell_type": "code",
      "source": [
        "# Creat variable to group average sales by outlet size\n",
        "\n",
        "avg_outlet_sales = df.groupby('Outlet_Size')['Item_Outlet_Sales'].mean()\n",
        "avg_outlet_sales"
      ],
      "metadata": {
        "colab": {
          "base_uri": "https://localhost:8080/"
        },
        "id": "FsjdAav4JckE",
        "outputId": "c5fb477e-0480-43e0-f9cf-f6ca5b9899ba"
      },
      "execution_count": 34,
      "outputs": [
        {
          "output_type": "execute_result",
          "data": {
            "text/plain": [
              "Outlet_Size\n",
              "High      2298.995256\n",
              "Medium    2283.730470\n",
              "Small     1912.149161\n",
              "Name: Item_Outlet_Sales, dtype: float64"
            ]
          },
          "metadata": {},
          "execution_count": 34
        }
      ]
    },
    {
      "cell_type": "code",
      "source": [
        "# use the variable to sort values by Outlet Size\n",
        "avg_outlet_sales = avg_outlet_sales.sort_values()\n",
        "\n",
        "# Plot the Figure\n",
        "plt.figure(figsize=(10,2))\n",
        "\n",
        "# Horixontal Bar Chart\n",
        "plt.barh(avg_outlet_sales.index, avg_outlet_sales.values)\n",
        "\n",
        "# Title and Labels\n",
        "plt.ylabel('Outlet_Size', fontsize=11)\n",
        "plt.xlabel('Item_Outlet_Sales', fontsize=11)\n",
        "plt.title(\"Average Sales by Outlet Size\", fontsize=14)\n",
        "\n",
        "plt.show();"
      ],
      "metadata": {
        "colab": {
          "base_uri": "https://localhost:8080/",
          "height": 259
        },
        "id": "tGH2-PMbJt9Y",
        "outputId": "b5bfff68-efdb-428c-cfeb-78746ab6ce04"
      },
      "execution_count": 35,
      "outputs": [
        {
          "output_type": "display_data",
          "data": {
            "text/plain": [
              "<Figure size 1000x200 with 1 Axes>"
            ],
            "image/png": "[encoded data removed]"
          },
          "metadata": {}
        }
      ]
    },
    {
      "cell_type": "markdown",
      "source": [
        "The data suggest that higher sales are generated from High and Medium Outlet Size.\n",
        "\n",
        "The data also suggest that size and type of outlets determine potential sales. As shown in previous chart, Supermarket (bigger in terms of size compared to grocery store) generate higher sales."
      ],
      "metadata": {
        "id": "bFBdHnPiWbT2"
      }
    },
    {
      "cell_type": "code",
      "source": [
        "# Creat variable to group average sales by outlet location type\n",
        "\n",
        "avg_loc_sales = df.groupby('Outlet_Location_Type')['Item_Outlet_Sales'].mean()\n",
        "avg_loc_sales"
      ],
      "metadata": {
        "colab": {
          "base_uri": "https://localhost:8080/"
        },
        "id": "rEQT51oXWkHa",
        "outputId": "b4cb9a85-1465-4106-8cad-5ba85618efe4"
      },
      "execution_count": 36,
      "outputs": [
        {
          "output_type": "execute_result",
          "data": {
            "text/plain": [
              "Outlet_Location_Type\n",
              "Tier 1    1876.909159\n",
              "Tier 2    2323.990559\n",
              "Tier 3    2279.627651\n",
              "Name: Item_Outlet_Sales, dtype: float64"
            ]
          },
          "metadata": {},
          "execution_count": 36
        }
      ]
    },
    {
      "cell_type": "code",
      "source": [
        "# use the variable to sort values by Outlet Type\n",
        "avg_loc_sales = avg_loc_sales.sort_values()\n",
        "\n",
        "# Plot the Figure\n",
        "plt.figure(figsize=(10,2))\n",
        "\n",
        "# Horixontal Bar Chart\n",
        "plt.barh(avg_loc_sales.index, avg_loc_sales.values)\n",
        "\n",
        "# Title and Labels\n",
        "plt.ylabel('Outlet_Location_Type', fontsize=11)\n",
        "plt.xlabel('Item_Outlet_Sales', fontsize=11)\n",
        "plt.title(\"Average Sales by Outlet Location Type\", fontsize=14)\n",
        "\n",
        "plt.show();"
      ],
      "metadata": {
        "colab": {
          "base_uri": "https://localhost:8080/",
          "height": 259
        },
        "id": "wPVLhZQjWnvc",
        "outputId": "3d7c58ab-3ee5-4804-9893-603a84602c19"
      },
      "execution_count": 37,
      "outputs": [
        {
          "output_type": "display_data",
          "data": {
            "text/plain": [
              "<Figure size 1000x200 with 1 Axes>"
            ],
            "image/png": "[encoded data removed]"
          },
          "metadata": {}
        }
      ]
    },
    {
      "cell_type": "markdown",
      "source": [
        "The data suggest that more sales are generated from Tier 2 followed by Tier 3 Outlet Location.\n",
        "\n",
        "Among the three outlet location, Tier 1 generated the lowest sales."
      ],
      "metadata": {
        "id": "8tZ1C7zqWjRc"
      }
    }
  ]
}